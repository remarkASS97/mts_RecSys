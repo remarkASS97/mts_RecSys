{
 "cells": [
  {
   "cell_type": "markdown",
   "metadata": {
    "papermill": {
     "duration": 0.048816,
     "end_time": "2020-10-25T11:06:07.810550",
     "exception": false,
     "start_time": "2020-10-25T11:06:07.761734",
     "status": "completed"
    },
    "tags": []
   },
   "source": [
    "# Implicit & LightFM\n",
    "\n",
    "В данном jupyter notebook рассматриваются как использовать implicit и LightFM для построения рекомендаций\n",
    "\n",
    "* [Load data](#load-data)\n",
    "* [Validation](#validation)\n",
    "* [Implicit](#implicit)\n",
    "* [LightFM](#lightfm)\n",
    "* [Links](#links)"
   ]
  },
  {
   "cell_type": "code",
   "execution_count": 1,
   "metadata": {
    "_cell_guid": "b1076dfc-b9ad-4769-8c92-a6c4dae69d19",
    "_uuid": "8f2839f25d086af736a60e9eeb907d3b93b6e0e5",
    "execution": {
     "iopub.execute_input": "2020-10-25T11:06:07.912528Z",
     "iopub.status.busy": "2020-10-25T11:06:07.911959Z",
     "iopub.status.idle": "2020-10-25T11:06:08.072500Z",
     "shell.execute_reply": "2020-10-25T11:06:08.071754Z"
    },
    "papermill": {
     "duration": 0.214254,
     "end_time": "2020-10-25T11:06:08.072609",
     "exception": false,
     "start_time": "2020-10-25T11:06:07.858355",
     "status": "completed"
    },
    "tags": []
   },
   "outputs": [
    {
     "name": "stdout",
     "output_type": "stream",
     "text": [
      "Dataset:\n",
      "/kaggle/input/mts-library/users.csv\n",
      "/kaggle/input/mts-library/items.csv\n",
      "/kaggle/input/mts-library/interactions.csv\n",
      "/kaggle/input/metrics-validation-strategies-and-baselines/interactions_preprocessed.pickle\n",
      "/kaggle/input/metrics-validation-strategies-and-baselines/items_preprocessed.pickle\n",
      "/kaggle/input/metrics-validation-strategies-and-baselines/users_preprocessed.pickle\n",
      "/kaggle/input/metrics-validation-strategies-and-baselines/__notebook__.ipynb\n",
      "/kaggle/input/metrics-validation-strategies-and-baselines/custom.css\n",
      "/kaggle/input/metrics-validation-strategies-and-baselines/__results__.html\n",
      "/kaggle/input/metrics-validation-strategies-and-baselines/__output__.json\n"
     ]
    }
   ],
   "source": [
    "import os\n",
    "import numpy as np \n",
    "import pandas as pd \n",
    "import scipy.sparse as sp\n",
    "from itertools import islice, cycle\n",
    "from more_itertools import pairwise\n",
    "from tqdm.auto import tqdm\n",
    "\n",
    "\n",
    "os.environ['OPENBLAS_NUM_THREADS'] = '1'\n",
    "os.environ['MKL_NUM_THREADS'] = '1'\n",
    "\n",
    "print('Dataset:')\n",
    "for dirname, _, filenames in os.walk('/kaggle/input'):\n",
    "    for filename in filenames:\n",
    "        print(os.path.join(dirname, filename))"
   ]
  },
  {
   "cell_type": "markdown",
   "metadata": {
    "papermill": {
     "duration": 0.072607,
     "end_time": "2020-10-25T11:06:08.220237",
     "exception": false,
     "start_time": "2020-10-25T11:06:08.147630",
     "status": "completed"
    },
    "tags": []
   },
   "source": [
    "<a id=\"load-data\"></a>\n",
    "# Load data\n",
    "\n",
    "Возьмем уже предобработанный данные из [metrics-validation-strategies-and-baselines](https://www.kaggle.com/sharthz23/metrics-validation-strategies-and-baselines/output)"
   ]
  },
  {
   "cell_type": "code",
   "execution_count": 2,
   "metadata": {
    "_cell_guid": "79c7e3d0-c299-4dcb-8224-4455121ee9b0",
    "_uuid": "d629ff2d2480ee46fbb7e2d37f6b5fab8052498a",
    "execution": {
     "iopub.execute_input": "2020-10-25T11:06:08.371879Z",
     "iopub.status.busy": "2020-10-25T11:06:08.371278Z",
     "iopub.status.idle": "2020-10-25T11:06:08.730827Z",
     "shell.execute_reply": "2020-10-25T11:06:08.730337Z"
    },
    "papermill": {
     "duration": 0.437029,
     "end_time": "2020-10-25T11:06:08.730908",
     "exception": false,
     "start_time": "2020-10-25T11:06:08.293879",
     "status": "completed"
    },
    "tags": []
   },
   "outputs": [
    {
     "data": {
      "text/plain": [
       "((1532998, 5), (142888, 3), (59599, 5))"
      ]
     },
     "execution_count": 2,
     "metadata": {},
     "output_type": "execute_result"
    }
   ],
   "source": [
    "df = pd.read_pickle('../input/metrics-validation-strategies-and-baselines/interactions_preprocessed.pickle')\n",
    "df_users = pd.read_pickle('../input/metrics-validation-strategies-and-baselines/users_preprocessed.pickle')\n",
    "df_items = pd.read_pickle('../input/metrics-validation-strategies-and-baselines/items_preprocessed.pickle')\n",
    "\n",
    "df.shape, df_users.shape, df_items.shape"
   ]
  },
  {
   "cell_type": "code",
   "execution_count": 3,
   "metadata": {
    "execution": {
     "iopub.execute_input": "2020-10-25T11:06:08.833963Z",
     "iopub.status.busy": "2020-10-25T11:06:08.833450Z",
     "iopub.status.idle": "2020-10-25T11:06:08.856059Z",
     "shell.execute_reply": "2020-10-25T11:06:08.855659Z"
    },
    "papermill": {
     "duration": 0.075971,
     "end_time": "2020-10-25T11:06:08.856146",
     "exception": false,
     "start_time": "2020-10-25T11:06:08.780175",
     "status": "completed"
    },
    "tags": []
   },
   "outputs": [
    {
     "data": {
      "text/html": [
       "<div>\n",
       "<style scoped>\n",
       "    .dataframe tbody tr th:only-of-type {\n",
       "        vertical-align: middle;\n",
       "    }\n",
       "\n",
       "    .dataframe tbody tr th {\n",
       "        vertical-align: top;\n",
       "    }\n",
       "\n",
       "    .dataframe thead th {\n",
       "        text-align: right;\n",
       "    }\n",
       "</style>\n",
       "<table border=\"1\" class=\"dataframe\">\n",
       "  <thead>\n",
       "    <tr style=\"text-align: right;\">\n",
       "      <th></th>\n",
       "      <th>user_id</th>\n",
       "      <th>item_id</th>\n",
       "      <th>progress</th>\n",
       "      <th>rating</th>\n",
       "      <th>start_date</th>\n",
       "    </tr>\n",
       "  </thead>\n",
       "  <tbody>\n",
       "    <tr>\n",
       "      <th>0</th>\n",
       "      <td>126706</td>\n",
       "      <td>14433</td>\n",
       "      <td>80</td>\n",
       "      <td>NaN</td>\n",
       "      <td>2018-01-01</td>\n",
       "    </tr>\n",
       "    <tr>\n",
       "      <th>1</th>\n",
       "      <td>127290</td>\n",
       "      <td>140952</td>\n",
       "      <td>58</td>\n",
       "      <td>NaN</td>\n",
       "      <td>2018-01-01</td>\n",
       "    </tr>\n",
       "    <tr>\n",
       "      <th>2</th>\n",
       "      <td>66991</td>\n",
       "      <td>198453</td>\n",
       "      <td>89</td>\n",
       "      <td>NaN</td>\n",
       "      <td>2018-01-01</td>\n",
       "    </tr>\n",
       "    <tr>\n",
       "      <th>3</th>\n",
       "      <td>46791</td>\n",
       "      <td>83486</td>\n",
       "      <td>23</td>\n",
       "      <td>5.0</td>\n",
       "      <td>2018-01-01</td>\n",
       "    </tr>\n",
       "    <tr>\n",
       "      <th>4</th>\n",
       "      <td>79313</td>\n",
       "      <td>188770</td>\n",
       "      <td>88</td>\n",
       "      <td>5.0</td>\n",
       "      <td>2018-01-01</td>\n",
       "    </tr>\n",
       "  </tbody>\n",
       "</table>\n",
       "</div>"
      ],
      "text/plain": [
       "   user_id  item_id  progress  rating start_date\n",
       "0   126706    14433        80     NaN 2018-01-01\n",
       "1   127290   140952        58     NaN 2018-01-01\n",
       "2    66991   198453        89     NaN 2018-01-01\n",
       "3    46791    83486        23     5.0 2018-01-01\n",
       "4    79313   188770        88     5.0 2018-01-01"
      ]
     },
     "execution_count": 3,
     "metadata": {},
     "output_type": "execute_result"
    }
   ],
   "source": [
    "df.head()"
   ]
  },
  {
   "cell_type": "code",
   "execution_count": 4,
   "metadata": {
    "execution": {
     "iopub.execute_input": "2020-10-25T11:06:08.963388Z",
     "iopub.status.busy": "2020-10-25T11:06:08.962763Z",
     "iopub.status.idle": "2020-10-25T11:06:09.016464Z",
     "shell.execute_reply": "2020-10-25T11:06:09.016101Z"
    },
    "papermill": {
     "duration": 0.109175,
     "end_time": "2020-10-25T11:06:09.016545",
     "exception": false,
     "start_time": "2020-10-25T11:06:08.907370",
     "status": "completed"
    },
    "tags": []
   },
   "outputs": [
    {
     "data": {
      "text/plain": [
       "151600"
      ]
     },
     "execution_count": 4,
     "metadata": {},
     "output_type": "execute_result"
    }
   ],
   "source": [
    "users_inv_mapping = dict(enumerate(df['user_id'].unique()))\n",
    "users_mapping = {v: k for k, v in users_inv_mapping.items()}\n",
    "len(users_mapping)"
   ]
  },
  {
   "cell_type": "code",
   "execution_count": 5,
   "metadata": {
    "execution": {
     "iopub.execute_input": "2020-10-25T11:06:09.123222Z",
     "iopub.status.busy": "2020-10-25T11:06:09.122802Z",
     "iopub.status.idle": "2020-10-25T11:06:09.158715Z",
     "shell.execute_reply": "2020-10-25T11:06:09.158260Z"
    },
    "papermill": {
     "duration": 0.090848,
     "end_time": "2020-10-25T11:06:09.158808",
     "exception": false,
     "start_time": "2020-10-25T11:06:09.067960",
     "status": "completed"
    },
    "tags": []
   },
   "outputs": [
    {
     "data": {
      "text/plain": [
       "59599"
      ]
     },
     "execution_count": 5,
     "metadata": {},
     "output_type": "execute_result"
    }
   ],
   "source": [
    "items_inv_mapping = dict(enumerate(df['item_id'].unique()))\n",
    "items_mapping = {v: k for k, v in items_inv_mapping.items()}\n",
    "len(items_mapping)"
   ]
  },
  {
   "cell_type": "code",
   "execution_count": 6,
   "metadata": {
    "execution": {
     "iopub.execute_input": "2020-10-25T11:06:09.281173Z",
     "iopub.status.busy": "2020-10-25T11:06:09.267306Z",
     "iopub.status.idle": "2020-10-25T11:06:09.303529Z",
     "shell.execute_reply": "2020-10-25T11:06:09.303058Z"
    },
    "papermill": {
     "duration": 0.093355,
     "end_time": "2020-10-25T11:06:09.303611",
     "exception": false,
     "start_time": "2020-10-25T11:06:09.210256",
     "status": "completed"
    },
    "tags": []
   },
   "outputs": [],
   "source": [
    "df_items['title'] = df_items['title'].str.lower()"
   ]
  },
  {
   "cell_type": "code",
   "execution_count": 7,
   "metadata": {
    "execution": {
     "iopub.execute_input": "2020-10-25T11:06:09.442719Z",
     "iopub.status.busy": "2020-10-25T11:06:09.414111Z",
     "iopub.status.idle": "2020-10-25T11:06:09.448060Z",
     "shell.execute_reply": "2020-10-25T11:06:09.447678Z"
    },
    "papermill": {
     "duration": 0.09309,
     "end_time": "2020-10-25T11:06:09.448133",
     "exception": false,
     "start_time": "2020-10-25T11:06:09.355043",
     "status": "completed"
    },
    "tags": []
   },
   "outputs": [
    {
     "data": {
      "text/plain": [
       "(59599, 'ворон-челобитчик')"
      ]
     },
     "execution_count": 7,
     "metadata": {},
     "output_type": "execute_result"
    }
   ],
   "source": [
    "item_titles = pd.Series(df_items['title'].values, index=df_items['id']).to_dict()\n",
    "len(item_titles), item_titles[128115]"
   ]
  },
  {
   "cell_type": "code",
   "execution_count": 8,
   "metadata": {
    "execution": {
     "iopub.execute_input": "2020-10-25T11:06:09.558673Z",
     "iopub.status.busy": "2020-10-25T11:06:09.558261Z",
     "iopub.status.idle": "2020-10-25T11:06:11.591818Z",
     "shell.execute_reply": "2020-10-25T11:06:11.591356Z"
    },
    "papermill": {
     "duration": 2.093227,
     "end_time": "2020-10-25T11:06:11.591893",
     "exception": false,
     "start_time": "2020-10-25T11:06:09.498666",
     "status": "completed"
    },
    "tags": []
   },
   "outputs": [
    {
     "data": {
      "text/plain": [
       "title\n",
       "# 20 восьмая                                                     [201623]\n",
       "# duo                                                             [72582]\n",
       "# me too. роман                                                  [171172]\n",
       "# партия                                                         [224512]\n",
       "#1917: человек из раньшего времени. библиотека «проекта 1917»    [230768]\n",
       "                                                                   ...   \n",
       "…чума на оба ваши дома!                                          [226481]\n",
       "№ 12, или история одного прекрасного юноши                        [20979]\n",
       "伦巴德人的故事                                                          [119226]\n",
       "地球への旅                                                            [148400]\n",
       "�baby blues�                                                      [98635]\n",
       "Name: id, Length: 57289, dtype: object"
      ]
     },
     "execution_count": 8,
     "metadata": {},
     "output_type": "execute_result"
    }
   ],
   "source": [
    "title_items = df_items.groupby('title')['id'].agg(list)\n",
    "title_items"
   ]
  },
  {
   "cell_type": "code",
   "execution_count": 9,
   "metadata": {
    "execution": {
     "iopub.execute_input": "2020-10-25T11:06:11.713052Z",
     "iopub.status.busy": "2020-10-25T11:06:11.699440Z",
     "iopub.status.idle": "2020-10-25T11:06:11.719530Z",
     "shell.execute_reply": "2020-10-25T11:06:11.720040Z"
    },
    "papermill": {
     "duration": 0.076691,
     "end_time": "2020-10-25T11:06:11.720244",
     "exception": false,
     "start_time": "2020-10-25T11:06:11.643553",
     "status": "completed"
    },
    "tags": []
   },
   "outputs": [
    {
     "data": {
      "text/plain": [
       "1     55708\n",
       "2      1197\n",
       "3       245\n",
       "4        71\n",
       "5        38\n",
       "6        11\n",
       "7         8\n",
       "8         3\n",
       "9         2\n",
       "23        1\n",
       "18        1\n",
       "47        1\n",
       "13        1\n",
       "12        1\n",
       "11        1\n",
       "Name: id, dtype: int64"
      ]
     },
     "execution_count": 9,
     "metadata": {},
     "output_type": "execute_result"
    }
   ],
   "source": [
    "title_count = title_items.map(len)\n",
    "title_count.value_counts()"
   ]
  },
  {
   "cell_type": "code",
   "execution_count": 10,
   "metadata": {
    "execution": {
     "iopub.execute_input": "2020-10-25T11:06:11.882679Z",
     "iopub.status.busy": "2020-10-25T11:06:11.882200Z",
     "iopub.status.idle": "2020-10-25T11:06:11.901637Z",
     "shell.execute_reply": "2020-10-25T11:06:11.901187Z"
    },
    "papermill": {
     "duration": 0.102033,
     "end_time": "2020-10-25T11:06:11.901716",
     "exception": false,
     "start_time": "2020-10-25T11:06:11.799683",
     "status": "completed"
    },
    "tags": []
   },
   "outputs": [
    {
     "data": {
      "text/plain": [
       "title\n",
       "яма                                              [60156, 165785]\n",
       "янки из коннектикута при дворе короля артура      [14759, 56530]\n",
       "японская диета                                   [168986, 74652]\n",
       "яр                                                [168761, 5371]\n",
       "ящик пандоры                                    [236465, 158851]\n",
       "Name: id, dtype: object"
      ]
     },
     "execution_count": 10,
     "metadata": {},
     "output_type": "execute_result"
    }
   ],
   "source": [
    "title_items[title_count > 1].tail()"
   ]
  },
  {
   "cell_type": "code",
   "execution_count": 11,
   "metadata": {
    "execution": {
     "iopub.execute_input": "2020-10-25T11:06:12.031580Z",
     "iopub.status.busy": "2020-10-25T11:06:12.030521Z",
     "iopub.status.idle": "2020-10-25T11:06:12.035401Z",
     "shell.execute_reply": "2020-10-25T11:06:12.034869Z"
    },
    "papermill": {
     "duration": 0.079552,
     "end_time": "2020-10-25T11:06:12.035500",
     "exception": false,
     "start_time": "2020-10-25T11:06:11.955948",
     "status": "completed"
    },
    "tags": []
   },
   "outputs": [
    {
     "data": {
      "text/html": [
       "<div>\n",
       "<style scoped>\n",
       "    .dataframe tbody tr th:only-of-type {\n",
       "        vertical-align: middle;\n",
       "    }\n",
       "\n",
       "    .dataframe tbody tr th {\n",
       "        vertical-align: top;\n",
       "    }\n",
       "\n",
       "    .dataframe thead th {\n",
       "        text-align: right;\n",
       "    }\n",
       "</style>\n",
       "<table border=\"1\" class=\"dataframe\">\n",
       "  <thead>\n",
       "    <tr style=\"text-align: right;\">\n",
       "      <th></th>\n",
       "      <th>id</th>\n",
       "      <th>title</th>\n",
       "      <th>genres</th>\n",
       "      <th>authors</th>\n",
       "      <th>year</th>\n",
       "    </tr>\n",
       "  </thead>\n",
       "  <tbody>\n",
       "    <tr>\n",
       "      <th>40426</th>\n",
       "      <td>236465</td>\n",
       "      <td>ящик пандоры</td>\n",
       "      <td>Любовно-фантастические романы,Научная фантастика</td>\n",
       "      <td>Филипп Хорват</td>\n",
       "      <td>2017</td>\n",
       "    </tr>\n",
       "    <tr>\n",
       "      <th>54854</th>\n",
       "      <td>158851</td>\n",
       "      <td>ящик пандоры</td>\n",
       "      <td>Мистика,Современная зарубежная литература</td>\n",
       "      <td>Бернар Вербер</td>\n",
       "      <td>2018</td>\n",
       "    </tr>\n",
       "  </tbody>\n",
       "</table>\n",
       "</div>"
      ],
      "text/plain": [
       "           id         title                                            genres  \\\n",
       "40426  236465  ящик пандоры  Любовно-фантастические романы,Научная фантастика   \n",
       "54854  158851  ящик пандоры         Мистика,Современная зарубежная литература   \n",
       "\n",
       "             authors  year  \n",
       "40426  Филипп Хорват  2017  \n",
       "54854  Бернар Вербер  2018  "
      ]
     },
     "execution_count": 11,
     "metadata": {},
     "output_type": "execute_result"
    }
   ],
   "source": [
    "df_items[df_items['title'] == 'ящик пандоры']"
   ]
  },
  {
   "cell_type": "code",
   "execution_count": 12,
   "metadata": {
    "execution": {
     "iopub.execute_input": "2020-10-25T11:06:12.201401Z",
     "iopub.status.busy": "2020-10-25T11:06:12.200605Z",
     "iopub.status.idle": "2020-10-25T11:06:12.207522Z",
     "shell.execute_reply": "2020-10-25T11:06:12.207994Z"
    },
    "papermill": {
     "duration": 0.091748,
     "end_time": "2020-10-25T11:06:12.208107",
     "exception": false,
     "start_time": "2020-10-25T11:06:12.116359",
     "status": "completed"
    },
    "tags": []
   },
   "outputs": [
    {
     "data": {
      "text/plain": [
       "title\n",
       "(о переводе)                 [61213, 145263]\n",
       "2084                        [177082, 281410]\n",
       "451 градус по фаренгейту     [44681, 162716]\n",
       "playboy 02-2018               [114405, 8599]\n",
       "playboy 03-2018              [31097, 121747]\n",
       "Name: id, dtype: object"
      ]
     },
     "execution_count": 12,
     "metadata": {},
     "output_type": "execute_result"
    }
   ],
   "source": [
    "title_items[title_count > 1].head()"
   ]
  },
  {
   "cell_type": "code",
   "execution_count": 13,
   "metadata": {
    "execution": {
     "iopub.execute_input": "2020-10-25T11:06:12.386873Z",
     "iopub.status.busy": "2020-10-25T11:06:12.383782Z",
     "iopub.status.idle": "2020-10-25T11:06:12.390645Z",
     "shell.execute_reply": "2020-10-25T11:06:12.390169Z"
    },
    "papermill": {
     "duration": 0.099483,
     "end_time": "2020-10-25T11:06:12.390744",
     "exception": false,
     "start_time": "2020-10-25T11:06:12.291261",
     "status": "completed"
    },
    "tags": []
   },
   "outputs": [
    {
     "data": {
      "text/html": [
       "<div>\n",
       "<style scoped>\n",
       "    .dataframe tbody tr th:only-of-type {\n",
       "        vertical-align: middle;\n",
       "    }\n",
       "\n",
       "    .dataframe tbody tr th {\n",
       "        vertical-align: top;\n",
       "    }\n",
       "\n",
       "    .dataframe thead th {\n",
       "        text-align: right;\n",
       "    }\n",
       "</style>\n",
       "<table border=\"1\" class=\"dataframe\">\n",
       "  <thead>\n",
       "    <tr style=\"text-align: right;\">\n",
       "      <th></th>\n",
       "      <th>id</th>\n",
       "      <th>title</th>\n",
       "      <th>genres</th>\n",
       "      <th>authors</th>\n",
       "      <th>year</th>\n",
       "    </tr>\n",
       "  </thead>\n",
       "  <tbody>\n",
       "    <tr>\n",
       "      <th>19398</th>\n",
       "      <td>44681</td>\n",
       "      <td>451 градус по фаренгейту</td>\n",
       "      <td>Социальная фантастика,Зарубежная фантастика,На...</td>\n",
       "      <td>Рэй Брэдбери</td>\n",
       "      <td>1953</td>\n",
       "    </tr>\n",
       "    <tr>\n",
       "      <th>50150</th>\n",
       "      <td>162716</td>\n",
       "      <td>451 градус по фаренгейту</td>\n",
       "      <td>Социальная фантастика,Зарубежная фантастика,На...</td>\n",
       "      <td>Рэй Брэдбери</td>\n",
       "      <td>1951, 1953, 1967</td>\n",
       "    </tr>\n",
       "  </tbody>\n",
       "</table>\n",
       "</div>"
      ],
      "text/plain": [
       "           id                     title  \\\n",
       "19398   44681  451 градус по фаренгейту   \n",
       "50150  162716  451 градус по фаренгейту   \n",
       "\n",
       "                                                  genres       authors  \\\n",
       "19398  Социальная фантастика,Зарубежная фантастика,На...  Рэй Брэдбери   \n",
       "50150  Социальная фантастика,Зарубежная фантастика,На...  Рэй Брэдбери   \n",
       "\n",
       "                   year  \n",
       "19398              1953  \n",
       "50150  1951, 1953, 1967  "
      ]
     },
     "execution_count": 13,
     "metadata": {},
     "output_type": "execute_result"
    }
   ],
   "source": [
    "df_items[df_items['title'] == '451 градус по фаренгейту']"
   ]
  },
  {
   "cell_type": "code",
   "execution_count": 14,
   "metadata": {
    "execution": {
     "iopub.execute_input": "2020-10-25T11:06:12.556968Z",
     "iopub.status.busy": "2020-10-25T11:06:12.556472Z",
     "iopub.status.idle": "2020-10-25T11:06:12.588377Z",
     "shell.execute_reply": "2020-10-25T11:06:12.587924Z"
    },
    "papermill": {
     "duration": 0.117302,
     "end_time": "2020-10-25T11:06:12.588456",
     "exception": false,
     "start_time": "2020-10-25T11:06:12.471154",
     "status": "completed"
    },
    "tags": []
   },
   "outputs": [
    {
     "data": {
      "text/html": [
       "<div>\n",
       "<style scoped>\n",
       "    .dataframe tbody tr th:only-of-type {\n",
       "        vertical-align: middle;\n",
       "    }\n",
       "\n",
       "    .dataframe tbody tr th {\n",
       "        vertical-align: top;\n",
       "    }\n",
       "\n",
       "    .dataframe thead tr th {\n",
       "        text-align: left;\n",
       "    }\n",
       "\n",
       "    .dataframe thead tr:last-of-type th {\n",
       "        text-align: right;\n",
       "    }\n",
       "</style>\n",
       "<table border=\"1\" class=\"dataframe\">\n",
       "  <thead>\n",
       "    <tr>\n",
       "      <th></th>\n",
       "      <th>progress</th>\n",
       "      <th>rating</th>\n",
       "      <th colspan=\"2\" halign=\"left\">start_date</th>\n",
       "    </tr>\n",
       "    <tr>\n",
       "      <th></th>\n",
       "      <th>size</th>\n",
       "      <th>mean</th>\n",
       "      <th>min</th>\n",
       "      <th>max</th>\n",
       "    </tr>\n",
       "    <tr>\n",
       "      <th>item_id</th>\n",
       "      <th></th>\n",
       "      <th></th>\n",
       "      <th></th>\n",
       "      <th></th>\n",
       "    </tr>\n",
       "  </thead>\n",
       "  <tbody>\n",
       "    <tr>\n",
       "      <th>44681</th>\n",
       "      <td>353</td>\n",
       "      <td>4.56</td>\n",
       "      <td>2018-01-24</td>\n",
       "      <td>2019-12-20</td>\n",
       "    </tr>\n",
       "    <tr>\n",
       "      <th>162716</th>\n",
       "      <td>59</td>\n",
       "      <td>4.80</td>\n",
       "      <td>2018-01-25</td>\n",
       "      <td>2019-12-30</td>\n",
       "    </tr>\n",
       "  </tbody>\n",
       "</table>\n",
       "</div>"
      ],
      "text/plain": [
       "        progress rating start_date           \n",
       "            size   mean        min        max\n",
       "item_id                                      \n",
       "44681        353   4.56 2018-01-24 2019-12-20\n",
       "162716        59   4.80 2018-01-25 2019-12-30"
      ]
     },
     "execution_count": 14,
     "metadata": {},
     "output_type": "execute_result"
    }
   ],
   "source": [
    "df['rating'] = np.array(df['rating'].values, dtype=np.float32)\n",
    "\n",
    "df.loc[df['item_id'].isin([44681, 162716])].groupby('item_id').agg({\n",
    "    'progress': np.size,\n",
    "    'rating': ['mean'],\n",
    "    'start_date': ['min', 'max'],\n",
    "})"
   ]
  },
  {
   "cell_type": "markdown",
   "metadata": {
    "papermill": {
     "duration": 0.054157,
     "end_time": "2020-10-25T11:06:12.697808",
     "exception": false,
     "start_time": "2020-10-25T11:06:12.643651",
     "status": "completed"
    },
    "tags": []
   },
   "source": [
    "<a id=\"validation\"></a>\n",
    "# Validation\n",
    "\n",
    "Для наших данных выбрем 7 последних дней и будем тестировать на них последовательно (1 test fold - 1 день).\n",
    "\n",
    "Но теперь нам нужно учитывать проблему холодного старта. Это основная проблем классических метод над матрицей взаимодействий.\n",
    "Поэтому напишем свой класс для разбиения исходного датафрейма на train/test"
   ]
  },
  {
   "cell_type": "code",
   "execution_count": 15,
   "metadata": {
    "_kg_hide-input": true,
    "execution": {
     "iopub.execute_input": "2020-10-25T11:06:12.844171Z",
     "iopub.status.busy": "2020-10-25T11:06:12.826732Z",
     "iopub.status.idle": "2020-10-25T11:06:12.847547Z",
     "shell.execute_reply": "2020-10-25T11:06:12.847160Z"
    },
    "papermill": {
     "duration": 0.094753,
     "end_time": "2020-10-25T11:06:12.847638",
     "exception": false,
     "start_time": "2020-10-25T11:06:12.752885",
     "status": "completed"
    },
    "tags": []
   },
   "outputs": [],
   "source": [
    "class TimeRangeSplit():\n",
    "    \"\"\"\n",
    "        https://pandas.pydata.org/pandas-docs/stable/reference/api/pandas.date_range.html\n",
    "    \"\"\"\n",
    "    def __init__(self, \n",
    "                 start_date, \n",
    "                 end_date=None, \n",
    "                 freq='D', \n",
    "                 periods=None, \n",
    "                 tz=None, \n",
    "                 normalize=False, \n",
    "                 closed=None, \n",
    "                 train_min_date=None,\n",
    "                 filter_cold_users=True, \n",
    "                 filter_cold_items=True, \n",
    "                 filter_already_seen=True):\n",
    "        \n",
    "        self.start_date = start_date\n",
    "        if end_date is None and periods is None:\n",
    "            raise ValueError(\"Either 'end_date' or 'periods' must be non-zero, not both at the same time.\")\n",
    "\n",
    "        self.end_date = end_date\n",
    "        self.freq = freq\n",
    "        self.periods = periods\n",
    "        self.tz = tz\n",
    "        self.normalize = normalize\n",
    "        self.closed = closed\n",
    "        self.train_min_date = pd.to_datetime(train_min_date, errors='raise')\n",
    "        self.filter_cold_users = filter_cold_users\n",
    "        self.filter_cold_items = filter_cold_items\n",
    "        self.filter_already_seen = filter_already_seen\n",
    "\n",
    "        self.date_range = pd.date_range(\n",
    "            start=start_date, \n",
    "            end=end_date, \n",
    "            freq=freq, \n",
    "            periods=periods, \n",
    "            tz=tz, \n",
    "            normalize=normalize, \n",
    "            closed=closed)\n",
    "\n",
    "        self.max_n_splits = max(0, len(self.date_range) - 1)\n",
    "        if self.max_n_splits == 0:\n",
    "            raise ValueError(\"Provided parametrs set an empty date range.\") \n",
    "\n",
    "    def split(self, \n",
    "              df, \n",
    "              user_column='user_id',\n",
    "              item_column='item_id',\n",
    "              datetime_column='date',\n",
    "              fold_stats=False):\n",
    "        df_datetime = df[datetime_column]\n",
    "        if self.train_min_date is not None:\n",
    "            train_min_mask = df_datetime >= self.train_min_date\n",
    "        else:\n",
    "            train_min_mask = df_datetime.notnull()\n",
    "\n",
    "        date_range = self.date_range[(self.date_range >= df_datetime.min()) & \n",
    "                                     (self.date_range <= df_datetime.max())]\n",
    "\n",
    "        for start, end in pairwise(date_range):\n",
    "            fold_info = {\n",
    "                'Start date': start,\n",
    "                'End date': end\n",
    "            }\n",
    "            train_mask = train_min_mask & (df_datetime < start)\n",
    "            train_idx = df.index[train_mask]\n",
    "            if fold_stats:\n",
    "                fold_info['Train'] = len(train_idx)\n",
    "\n",
    "            test_mask = (df_datetime >= start) & (df_datetime < end)\n",
    "            test_idx = df.index[test_mask]\n",
    "            \n",
    "            if self.filter_cold_users:\n",
    "                new = np.setdiff1d(\n",
    "                    df.loc[test_idx, user_column].unique(), \n",
    "                    df.loc[train_idx, user_column].unique())\n",
    "                new_idx = df.index[test_mask & df[user_column].isin(new)]\n",
    "                test_idx = np.setdiff1d(test_idx, new_idx)\n",
    "                test_mask = df.index.isin(test_idx)\n",
    "                if fold_stats:\n",
    "                    fold_info['New users'] = len(new)\n",
    "                    fold_info['New users interactions'] = len(new_idx)\n",
    "\n",
    "            if self.filter_cold_items:\n",
    "                new = np.setdiff1d(\n",
    "                    df.loc[test_idx, item_column].unique(), \n",
    "                    df.loc[train_idx, item_column].unique())\n",
    "                new_idx = df.index[test_mask & df[item_column].isin(new)]\n",
    "                test_idx = np.setdiff1d(test_idx, new_idx)\n",
    "                test_mask = df.index.isin(test_idx)\n",
    "                if fold_stats:\n",
    "                    fold_info['New items'] = len(new)\n",
    "                    fold_info['New items interactions'] = len(new_idx)\n",
    "\n",
    "            if self.filter_already_seen:\n",
    "                user_item = [user_column, item_column]\n",
    "                train_pairs = df.loc[train_idx, user_item].set_index(user_item).index\n",
    "                test_pairs = df.loc[test_idx, user_item].set_index(user_item).index\n",
    "                intersection = train_pairs.intersection(test_pairs)\n",
    "                test_idx = test_idx[~test_pairs.isin(intersection)]\n",
    "                # test_mask = rd.df.index.isin(test_idx)\n",
    "                if fold_stats:\n",
    "                    fold_info['Known interactions'] = len(intersection)\n",
    "\n",
    "            if fold_stats:\n",
    "                fold_info['Test'] = len(test_idx)\n",
    "\n",
    "            yield (train_idx, test_idx, fold_info)\n",
    "\n",
    "    def get_n_splits(self, df, datetime_column='date'):\n",
    "        df_datetime = df[datetime_column]\n",
    "        if self.train_min_date is not None:\n",
    "            df_datetime = df_datetime[df_datetime >= self.train_min_date]\n",
    "\n",
    "        date_range = self.date_range[(self.date_range >= df_datetime.min()) & \n",
    "                                     (self.date_range <= df_datetime.max())]\n",
    "\n",
    "        return max(0, len(date_range) - 1)"
   ]
  },
  {
   "cell_type": "code",
   "execution_count": 16,
   "metadata": {
    "execution": {
     "iopub.execute_input": "2020-10-25T11:06:12.968530Z",
     "iopub.status.busy": "2020-10-25T11:06:12.967910Z",
     "iopub.status.idle": "2020-10-25T11:06:12.978933Z",
     "shell.execute_reply": "2020-10-25T11:06:12.978511Z"
    },
    "papermill": {
     "duration": 0.07549,
     "end_time": "2020-10-25T11:06:12.979016",
     "exception": false,
     "start_time": "2020-10-25T11:06:12.903526",
     "status": "completed"
    },
    "tags": []
   },
   "outputs": [
    {
     "data": {
      "text/plain": [
       "(Timestamp('2019-12-24 00:00:00'), Timestamp('2019-12-31 00:00:00'))"
      ]
     },
     "execution_count": 16,
     "metadata": {},
     "output_type": "execute_result"
    }
   ],
   "source": [
    "last_date = df['start_date'].max().normalize()\n",
    "folds = 7\n",
    "start_date = last_date - pd.Timedelta(days=folds)\n",
    "start_date, last_date"
   ]
  },
  {
   "cell_type": "code",
   "execution_count": 17,
   "metadata": {
    "execution": {
     "iopub.execute_input": "2020-10-25T11:06:13.096313Z",
     "iopub.status.busy": "2020-10-25T11:06:13.095704Z",
     "iopub.status.idle": "2020-10-25T11:06:13.114976Z",
     "shell.execute_reply": "2020-10-25T11:06:13.114456Z"
    },
    "papermill": {
     "duration": 0.078672,
     "end_time": "2020-10-25T11:06:13.115066",
     "exception": false,
     "start_time": "2020-10-25T11:06:13.036394",
     "status": "completed"
    },
    "tags": []
   },
   "outputs": [
    {
     "data": {
      "text/plain": [
       "(7, 7)"
      ]
     },
     "execution_count": 17,
     "metadata": {},
     "output_type": "execute_result"
    }
   ],
   "source": [
    "cv = TimeRangeSplit(start_date=start_date, periods=folds+1)\n",
    "\n",
    "cv.max_n_splits, cv.get_n_splits(df, datetime_column='start_date')"
   ]
  },
  {
   "cell_type": "code",
   "execution_count": 18,
   "metadata": {
    "execution": {
     "iopub.execute_input": "2020-10-25T11:06:13.283453Z",
     "iopub.status.busy": "2020-10-25T11:06:13.282833Z",
     "iopub.status.idle": "2020-10-25T11:06:13.287386Z",
     "shell.execute_reply": "2020-10-25T11:06:13.286953Z"
    },
    "papermill": {
     "duration": 0.090267,
     "end_time": "2020-10-25T11:06:13.287466",
     "exception": false,
     "start_time": "2020-10-25T11:06:13.197199",
     "status": "completed"
    },
    "tags": []
   },
   "outputs": [
    {
     "data": {
      "text/plain": [
       "DatetimeIndex(['2019-12-24', '2019-12-25', '2019-12-26', '2019-12-27',\n",
       "               '2019-12-28', '2019-12-29', '2019-12-30', '2019-12-31'],\n",
       "              dtype='datetime64[ns]', freq='D')"
      ]
     },
     "execution_count": 18,
     "metadata": {},
     "output_type": "execute_result"
    }
   ],
   "source": [
    "cv.date_range"
   ]
  },
  {
   "cell_type": "code",
   "execution_count": 19,
   "metadata": {
    "execution": {
     "iopub.execute_input": "2020-10-25T11:06:13.405279Z",
     "iopub.status.busy": "2020-10-25T11:06:13.404844Z",
     "iopub.status.idle": "2020-10-25T11:06:28.830522Z",
     "shell.execute_reply": "2020-10-25T11:06:28.830046Z"
    },
    "papermill": {
     "duration": 15.486767,
     "end_time": "2020-10-25T11:06:28.830609",
     "exception": false,
     "start_time": "2020-10-25T11:06:13.343842",
     "status": "completed"
    },
    "tags": []
   },
   "outputs": [],
   "source": [
    "folds_with_stats = list(cv.split(\n",
    "    df, \n",
    "    user_column='user_id',\n",
    "    item_column='item_id',\n",
    "    datetime_column='start_date',\n",
    "    fold_stats=True\n",
    "))\n",
    "\n",
    "folds_info_with_stats = pd.DataFrame([info for _, _, info in folds_with_stats])"
   ]
  },
  {
   "cell_type": "code",
   "execution_count": 20,
   "metadata": {
    "execution": {
     "iopub.execute_input": "2020-10-25T11:06:28.961027Z",
     "iopub.status.busy": "2020-10-25T11:06:28.955384Z",
     "iopub.status.idle": "2020-10-25T11:06:28.965895Z",
     "shell.execute_reply": "2020-10-25T11:06:28.965408Z"
    },
    "papermill": {
     "duration": 0.076088,
     "end_time": "2020-10-25T11:06:28.965974",
     "exception": false,
     "start_time": "2020-10-25T11:06:28.889886",
     "status": "completed"
    },
    "tags": []
   },
   "outputs": [
    {
     "data": {
      "text/html": [
       "<div>\n",
       "<style scoped>\n",
       "    .dataframe tbody tr th:only-of-type {\n",
       "        vertical-align: middle;\n",
       "    }\n",
       "\n",
       "    .dataframe tbody tr th {\n",
       "        vertical-align: top;\n",
       "    }\n",
       "\n",
       "    .dataframe thead th {\n",
       "        text-align: right;\n",
       "    }\n",
       "</style>\n",
       "<table border=\"1\" class=\"dataframe\">\n",
       "  <thead>\n",
       "    <tr style=\"text-align: right;\">\n",
       "      <th></th>\n",
       "      <th>Start date</th>\n",
       "      <th>End date</th>\n",
       "      <th>Train</th>\n",
       "      <th>New users</th>\n",
       "      <th>New users interactions</th>\n",
       "      <th>New items</th>\n",
       "      <th>New items interactions</th>\n",
       "      <th>Known interactions</th>\n",
       "      <th>Test</th>\n",
       "    </tr>\n",
       "  </thead>\n",
       "  <tbody>\n",
       "    <tr>\n",
       "      <th>0</th>\n",
       "      <td>2019-12-24</td>\n",
       "      <td>2019-12-25</td>\n",
       "      <td>1515946</td>\n",
       "      <td>3</td>\n",
       "      <td>3</td>\n",
       "      <td>0</td>\n",
       "      <td>0</td>\n",
       "      <td>0</td>\n",
       "      <td>2045</td>\n",
       "    </tr>\n",
       "    <tr>\n",
       "      <th>1</th>\n",
       "      <td>2019-12-25</td>\n",
       "      <td>2019-12-26</td>\n",
       "      <td>1517994</td>\n",
       "      <td>1</td>\n",
       "      <td>1</td>\n",
       "      <td>0</td>\n",
       "      <td>0</td>\n",
       "      <td>0</td>\n",
       "      <td>2141</td>\n",
       "    </tr>\n",
       "    <tr>\n",
       "      <th>2</th>\n",
       "      <td>2019-12-26</td>\n",
       "      <td>2019-12-27</td>\n",
       "      <td>1520136</td>\n",
       "      <td>0</td>\n",
       "      <td>0</td>\n",
       "      <td>0</td>\n",
       "      <td>0</td>\n",
       "      <td>0</td>\n",
       "      <td>2177</td>\n",
       "    </tr>\n",
       "    <tr>\n",
       "      <th>3</th>\n",
       "      <td>2019-12-27</td>\n",
       "      <td>2019-12-28</td>\n",
       "      <td>1522313</td>\n",
       "      <td>0</td>\n",
       "      <td>0</td>\n",
       "      <td>0</td>\n",
       "      <td>0</td>\n",
       "      <td>0</td>\n",
       "      <td>2110</td>\n",
       "    </tr>\n",
       "    <tr>\n",
       "      <th>4</th>\n",
       "      <td>2019-12-28</td>\n",
       "      <td>2019-12-29</td>\n",
       "      <td>1524423</td>\n",
       "      <td>2</td>\n",
       "      <td>4</td>\n",
       "      <td>0</td>\n",
       "      <td>0</td>\n",
       "      <td>0</td>\n",
       "      <td>2205</td>\n",
       "    </tr>\n",
       "    <tr>\n",
       "      <th>5</th>\n",
       "      <td>2019-12-29</td>\n",
       "      <td>2019-12-30</td>\n",
       "      <td>1526632</td>\n",
       "      <td>4</td>\n",
       "      <td>4</td>\n",
       "      <td>0</td>\n",
       "      <td>0</td>\n",
       "      <td>0</td>\n",
       "      <td>2118</td>\n",
       "    </tr>\n",
       "    <tr>\n",
       "      <th>6</th>\n",
       "      <td>2019-12-30</td>\n",
       "      <td>2019-12-31</td>\n",
       "      <td>1528754</td>\n",
       "      <td>1</td>\n",
       "      <td>1</td>\n",
       "      <td>0</td>\n",
       "      <td>0</td>\n",
       "      <td>0</td>\n",
       "      <td>2168</td>\n",
       "    </tr>\n",
       "  </tbody>\n",
       "</table>\n",
       "</div>"
      ],
      "text/plain": [
       "  Start date   End date    Train  New users  New users interactions  \\\n",
       "0 2019-12-24 2019-12-25  1515946          3                       3   \n",
       "1 2019-12-25 2019-12-26  1517994          1                       1   \n",
       "2 2019-12-26 2019-12-27  1520136          0                       0   \n",
       "3 2019-12-27 2019-12-28  1522313          0                       0   \n",
       "4 2019-12-28 2019-12-29  1524423          2                       4   \n",
       "5 2019-12-29 2019-12-30  1526632          4                       4   \n",
       "6 2019-12-30 2019-12-31  1528754          1                       1   \n",
       "\n",
       "   New items  New items interactions  Known interactions  Test  \n",
       "0          0                       0                   0  2045  \n",
       "1          0                       0                   0  2141  \n",
       "2          0                       0                   0  2177  \n",
       "3          0                       0                   0  2110  \n",
       "4          0                       0                   0  2205  \n",
       "5          0                       0                   0  2118  \n",
       "6          0                       0                   0  2168  "
      ]
     },
     "execution_count": 20,
     "metadata": {},
     "output_type": "execute_result"
    }
   ],
   "source": [
    "folds_info_with_stats"
   ]
  },
  {
   "cell_type": "code",
   "execution_count": 21,
   "metadata": {
    "execution": {
     "iopub.execute_input": "2020-10-25T11:06:29.086665Z",
     "iopub.status.busy": "2020-10-25T11:06:29.085982Z",
     "iopub.status.idle": "2020-10-25T11:06:29.090451Z",
     "shell.execute_reply": "2020-10-25T11:06:29.089760Z"
    },
    "papermill": {
     "duration": 0.067287,
     "end_time": "2020-10-25T11:06:29.090578",
     "exception": false,
     "start_time": "2020-10-25T11:06:29.023291",
     "status": "completed"
    },
    "tags": []
   },
   "outputs": [
    {
     "data": {
      "text/plain": [
       "[(Timestamp('2019-12-24 00:00:00', freq='D'),\n",
       "  Timestamp('2019-12-25 00:00:00', freq='D')),\n",
       " (Timestamp('2019-12-25 00:00:00', freq='D'),\n",
       "  Timestamp('2019-12-26 00:00:00', freq='D')),\n",
       " (Timestamp('2019-12-26 00:00:00', freq='D'),\n",
       "  Timestamp('2019-12-27 00:00:00', freq='D')),\n",
       " (Timestamp('2019-12-27 00:00:00', freq='D'),\n",
       "  Timestamp('2019-12-28 00:00:00', freq='D')),\n",
       " (Timestamp('2019-12-28 00:00:00', freq='D'),\n",
       "  Timestamp('2019-12-29 00:00:00', freq='D')),\n",
       " (Timestamp('2019-12-29 00:00:00', freq='D'),\n",
       "  Timestamp('2019-12-30 00:00:00', freq='D')),\n",
       " (Timestamp('2019-12-30 00:00:00', freq='D'),\n",
       "  Timestamp('2019-12-31 00:00:00', freq='D'))]"
      ]
     },
     "execution_count": 21,
     "metadata": {},
     "output_type": "execute_result"
    }
   ],
   "source": [
    "fold_dates = [(info['Start date'], info['End date']) for _, _, info in folds_with_stats]\n",
    "fold_dates"
   ]
  },
  {
   "cell_type": "code",
   "execution_count": 22,
   "metadata": {
    "execution": {
     "iopub.execute_input": "2020-10-25T11:06:29.225710Z",
     "iopub.status.busy": "2020-10-25T11:06:29.224983Z",
     "iopub.status.idle": "2020-10-25T11:06:29.227558Z",
     "shell.execute_reply": "2020-10-25T11:06:29.227047Z"
    },
    "papermill": {
     "duration": 0.076831,
     "end_time": "2020-10-25T11:06:29.227656",
     "exception": false,
     "start_time": "2020-10-25T11:06:29.150825",
     "status": "completed"
    },
    "tags": []
   },
   "outputs": [],
   "source": [
    "def compute_metrics(df_true, df_pred, top_N):\n",
    "    result = {}\n",
    "    test_recs = df_true.set_index(['user_id', 'item_id']).join(df_pred.set_index(['user_id', 'item_id']))\n",
    "    test_recs = test_recs.sort_values(by=['user_id', 'rank'])\n",
    "\n",
    "    test_recs['users_item_count'] = test_recs.groupby(level='user_id')['rank'].transform(np.size)\n",
    "    test_recs['reciprocal_rank'] = (1 / test_recs['rank']).fillna(0)\n",
    "    test_recs['cumulative_rank'] = test_recs.groupby(level='user_id').cumcount() + 1\n",
    "    test_recs['cumulative_rank'] = test_recs['cumulative_rank'] / test_recs['rank']\n",
    "    \n",
    "    users_count = test_recs.index.get_level_values('user_id').nunique()\n",
    "    for k in range(1, top_N + 1):\n",
    "        hit_k = f'hit@{k}'\n",
    "        test_recs[hit_k] = test_recs['rank'] <= k\n",
    "        result[f'Precision@{k}'] = (test_recs[hit_k] / k).sum() / users_count\n",
    "        result[f'Recall@{k}'] = (test_recs[hit_k] / test_recs['users_item_count']).sum() / users_count\n",
    "\n",
    "    result[f'MAP@{top_N}'] = (test_recs[\"cumulative_rank\"] / test_recs[\"users_item_count\"]).sum() / users_count\n",
    "    result[f'MRR'] = test_recs.groupby(level='user_id')['reciprocal_rank'].max().mean()\n",
    "    return pd.Series(result)"
   ]
  },
  {
   "cell_type": "markdown",
   "metadata": {
    "papermill": {
     "duration": 0.085718,
     "end_time": "2020-10-25T11:06:29.416893",
     "exception": false,
     "start_time": "2020-10-25T11:06:29.331175",
     "status": "completed"
    },
    "tags": []
   },
   "source": [
    "<a id=\"implicit\"></a>\n",
    "# Implicit\n",
    "\n",
    "Библиотека для построения рекомендательных систем на основе датасетов с неявным таргетом.\n",
    "* Репо - https://github.com/benfred/implicit\n",
    "* Документация - https://implicit.readthedocs.io/en/latest/\n",
    "\n",
    "Входные данные - разреженные матрицы (либо csr_matrix, либо coo_matrix) с типом float32/float64"
   ]
  },
  {
   "cell_type": "code",
   "execution_count": 23,
   "metadata": {
    "execution": {
     "iopub.execute_input": "2020-10-25T11:06:29.599372Z",
     "iopub.status.busy": "2020-10-25T11:06:29.598872Z",
     "iopub.status.idle": "2020-10-25T11:06:29.672255Z",
     "shell.execute_reply": "2020-10-25T11:06:29.672625Z"
    },
    "papermill": {
     "duration": 0.163197,
     "end_time": "2020-10-25T11:06:29.672735",
     "exception": false,
     "start_time": "2020-10-25T11:06:29.509538",
     "status": "completed"
    },
    "tags": []
   },
   "outputs": [
    {
     "data": {
      "text/plain": [
       "((1515946, 5), (2045, 5))"
      ]
     },
     "execution_count": 23,
     "metadata": {},
     "output_type": "execute_result"
    }
   ],
   "source": [
    "train_idx, test_idx, info = folds_with_stats[0]\n",
    "\n",
    "train = df.loc[train_idx]\n",
    "test = df.loc[test_idx]\n",
    "train.shape, test.shape"
   ]
  },
  {
   "cell_type": "code",
   "execution_count": 24,
   "metadata": {
    "execution": {
     "iopub.execute_input": "2020-10-25T11:06:29.793732Z",
     "iopub.status.busy": "2020-10-25T11:06:29.793134Z",
     "iopub.status.idle": "2020-10-25T11:06:29.797666Z",
     "shell.execute_reply": "2020-10-25T11:06:29.797303Z"
    },
    "papermill": {
     "duration": 0.066571,
     "end_time": "2020-10-25T11:06:29.797740",
     "exception": false,
     "start_time": "2020-10-25T11:06:29.731169",
     "status": "completed"
    },
    "tags": []
   },
   "outputs": [
    {
     "data": {
      "text/plain": [
       "(1515946, 2045)"
      ]
     },
     "execution_count": 24,
     "metadata": {},
     "output_type": "execute_result"
    }
   ],
   "source": [
    "info['Train'], info['Test']"
   ]
  },
  {
   "cell_type": "code",
   "execution_count": 25,
   "metadata": {
    "execution": {
     "iopub.execute_input": "2020-10-25T11:06:29.922078Z",
     "iopub.status.busy": "2020-10-25T11:06:29.921309Z",
     "iopub.status.idle": "2020-10-25T11:06:29.924119Z",
     "shell.execute_reply": "2020-10-25T11:06:29.923633Z"
    },
    "papermill": {
     "duration": 0.068677,
     "end_time": "2020-10-25T11:06:29.924203",
     "exception": false,
     "start_time": "2020-10-25T11:06:29.855526",
     "status": "completed"
    },
    "tags": []
   },
   "outputs": [],
   "source": [
    "def get_coo_matrix(df, \n",
    "                   user_col='user_id', \n",
    "                   item_col='item_id', \n",
    "                   weight_col=None, \n",
    "                   users_mapping=users_mapping, \n",
    "                   items_mapping=items_mapping):\n",
    "    if weight_col is None:\n",
    "        weights = np.ones(len(df), dtype=np.float32)\n",
    "    else:\n",
    "        weights = df[weight_col].astype(np.float32)\n",
    "\n",
    "    interaction_matrix = sp.coo_matrix((\n",
    "        weights, \n",
    "        (\n",
    "            df[user_col].map(users_mapping.get), \n",
    "            df[item_col].map(items_mapping.get)\n",
    "        )\n",
    "    ))\n",
    "    return interaction_matrix"
   ]
  },
  {
   "cell_type": "code",
   "execution_count": 26,
   "metadata": {
    "execution": {
     "iopub.execute_input": "2020-10-25T11:06:30.049450Z",
     "iopub.status.busy": "2020-10-25T11:06:30.048867Z",
     "iopub.status.idle": "2020-10-25T11:06:33.210119Z",
     "shell.execute_reply": "2020-10-25T11:06:33.210556Z"
    },
    "papermill": {
     "duration": 3.228626,
     "end_time": "2020-10-25T11:06:33.210657",
     "exception": false,
     "start_time": "2020-10-25T11:06:29.982031",
     "status": "completed"
    },
    "tags": []
   },
   "outputs": [
    {
     "data": {
      "text/plain": [
       "<151589x59599 sparse matrix of type '<class 'numpy.float32'>'\n",
       "\twith 1515946 stored elements in Compressed Sparse Row format>"
      ]
     },
     "execution_count": 26,
     "metadata": {},
     "output_type": "execute_result"
    }
   ],
   "source": [
    "train_mat = get_coo_matrix(train).tocsr()\n",
    "train_mat"
   ]
  },
  {
   "cell_type": "markdown",
   "metadata": {
    "papermill": {
     "duration": 0.058631,
     "end_time": "2020-10-25T11:06:33.326299",
     "exception": false,
     "start_time": "2020-10-25T11:06:33.267668",
     "status": "completed"
    },
    "tags": []
   },
   "source": [
    "## Item-to-item модели\n",
    "\n",
    "**Векорное представление для объекта** - весь столбец из матрицы взаимодействий (user_item) матрица\n",
    "\n",
    "**Процесс построения рекомендаций** - поиск похожих объектов (по косинусной близости) для всех объектов, с которыми пользователь уже взаимодействовал и выдача топа из этого списка\n",
    "\n",
    "**Пространство для тюнинга** - взвешние на уровне таблицы, взвешивание элементов матрицы (на уровне моделей), кол-во соседей `K`"
   ]
  },
  {
   "cell_type": "code",
   "execution_count": 27,
   "metadata": {
    "execution": {
     "iopub.execute_input": "2020-10-25T11:06:33.480037Z",
     "iopub.status.busy": "2020-10-25T11:06:33.479562Z",
     "iopub.status.idle": "2020-10-25T11:06:33.568354Z",
     "shell.execute_reply": "2020-10-25T11:06:33.567892Z"
    },
    "papermill": {
     "duration": 0.150203,
     "end_time": "2020-10-25T11:06:33.568447",
     "exception": false,
     "start_time": "2020-10-25T11:06:33.418244",
     "status": "completed"
    },
    "tags": []
   },
   "outputs": [],
   "source": [
    "from implicit.nearest_neighbours import CosineRecommender, BM25Recommender, TFIDFRecommender"
   ]
  },
  {
   "cell_type": "markdown",
   "metadata": {
    "papermill": {
     "duration": 0.058195,
     "end_time": "2020-10-25T11:06:33.684617",
     "exception": false,
     "start_time": "2020-10-25T11:06:33.626422",
     "status": "completed"
    },
    "tags": []
   },
   "source": [
    "Этим модели для Item-to-item подхода ожидают на вход матрицу в ориентации item_user, поэтому в `fit` передаем `train_mat.T`"
   ]
  },
  {
   "cell_type": "code",
   "execution_count": 28,
   "metadata": {
    "execution": {
     "iopub.execute_input": "2020-10-25T11:06:33.803634Z",
     "iopub.status.busy": "2020-10-25T11:06:33.803045Z",
     "iopub.status.idle": "2020-10-25T11:06:35.082761Z",
     "shell.execute_reply": "2020-10-25T11:06:35.073708Z"
    },
    "papermill": {
     "duration": 1.341343,
     "end_time": "2020-10-25T11:06:35.082914",
     "exception": false,
     "start_time": "2020-10-25T11:06:33.741571",
     "status": "completed"
    },
    "tags": []
   },
   "outputs": [
    {
     "data": {
      "application/vnd.jupyter.widget-view+json": {
       "model_id": "678b90f63bd047789c952b2ec34f3290",
       "version_major": 2,
       "version_minor": 0
      },
      "text/plain": [
       "HBox(children=(FloatProgress(value=0.0, max=59599.0), HTML(value='')))"
      ]
     },
     "metadata": {},
     "output_type": "display_data"
    },
    {
     "name": "stdout",
     "output_type": "stream",
     "text": [
      "\n"
     ]
    }
   ],
   "source": [
    "cosine_model = CosineRecommender(K=10)\n",
    "cosine_model.fit(train_mat.T) # "
   ]
  },
  {
   "cell_type": "code",
   "execution_count": 29,
   "metadata": {
    "execution": {
     "iopub.execute_input": "2020-10-25T11:06:35.276542Z",
     "iopub.status.busy": "2020-10-25T11:06:35.275922Z",
     "iopub.status.idle": "2020-10-25T11:06:35.279290Z",
     "shell.execute_reply": "2020-10-25T11:06:35.278337Z"
    },
    "papermill": {
     "duration": 0.071459,
     "end_time": "2020-10-25T11:06:35.279393",
     "exception": false,
     "start_time": "2020-10-25T11:06:35.207934",
     "status": "completed"
    },
    "tags": []
   },
   "outputs": [
    {
     "name": "stdout",
     "output_type": "stream",
     "text": [
      "Рекомендации для пользователя 139942, номер строки - 10346\n"
     ]
    }
   ],
   "source": [
    "top_N = 10\n",
    "user_id = test['user_id'].iloc[0]\n",
    "row_id = users_mapping[user_id]\n",
    "print(f'Рекомендации для пользователя {user_id}, номер строки - {row_id}')"
   ]
  },
  {
   "cell_type": "markdown",
   "metadata": {
    "papermill": {
     "duration": 0.061163,
     "end_time": "2020-10-25T11:06:35.399657",
     "exception": false,
     "start_time": "2020-10-25T11:06:35.338494",
     "status": "completed"
    },
    "tags": []
   },
   "source": [
    "Параметр `K` влияет на максимальную выдачу топа, поэтому `N` для таких моделей желательно указывать меньше `K`"
   ]
  },
  {
   "cell_type": "code",
   "execution_count": 30,
   "metadata": {
    "execution": {
     "iopub.execute_input": "2020-10-25T11:06:35.528887Z",
     "iopub.status.busy": "2020-10-25T11:06:35.528277Z",
     "iopub.status.idle": "2020-10-25T11:06:35.532910Z",
     "shell.execute_reply": "2020-10-25T11:06:35.532346Z"
    },
    "papermill": {
     "duration": 0.0744,
     "end_time": "2020-10-25T11:06:35.533013",
     "exception": false,
     "start_time": "2020-10-25T11:06:35.458613",
     "status": "completed"
    },
    "tags": []
   },
   "outputs": [
    {
     "data": {
      "text/html": [
       "<div>\n",
       "<style scoped>\n",
       "    .dataframe tbody tr th:only-of-type {\n",
       "        vertical-align: middle;\n",
       "    }\n",
       "\n",
       "    .dataframe tbody tr th {\n",
       "        vertical-align: top;\n",
       "    }\n",
       "\n",
       "    .dataframe thead th {\n",
       "        text-align: right;\n",
       "    }\n",
       "</style>\n",
       "<table border=\"1\" class=\"dataframe\">\n",
       "  <thead>\n",
       "    <tr style=\"text-align: right;\">\n",
       "      <th></th>\n",
       "      <th>col_id</th>\n",
       "      <th>similarity</th>\n",
       "    </tr>\n",
       "  </thead>\n",
       "  <tbody>\n",
       "    <tr>\n",
       "      <th>0</th>\n",
       "      <td>4341</td>\n",
       "      <td>0.297014</td>\n",
       "    </tr>\n",
       "    <tr>\n",
       "      <th>1</th>\n",
       "      <td>7353</td>\n",
       "      <td>0.220847</td>\n",
       "    </tr>\n",
       "    <tr>\n",
       "      <th>2</th>\n",
       "      <td>36593</td>\n",
       "      <td>0.215622</td>\n",
       "    </tr>\n",
       "    <tr>\n",
       "      <th>3</th>\n",
       "      <td>3802</td>\n",
       "      <td>0.188025</td>\n",
       "    </tr>\n",
       "    <tr>\n",
       "      <th>4</th>\n",
       "      <td>51215</td>\n",
       "      <td>0.145095</td>\n",
       "    </tr>\n",
       "    <tr>\n",
       "      <th>5</th>\n",
       "      <td>49085</td>\n",
       "      <td>0.128586</td>\n",
       "    </tr>\n",
       "    <tr>\n",
       "      <th>6</th>\n",
       "      <td>37852</td>\n",
       "      <td>0.102340</td>\n",
       "    </tr>\n",
       "    <tr>\n",
       "      <th>7</th>\n",
       "      <td>7873</td>\n",
       "      <td>0.101929</td>\n",
       "    </tr>\n",
       "    <tr>\n",
       "      <th>8</th>\n",
       "      <td>46769</td>\n",
       "      <td>0.100504</td>\n",
       "    </tr>\n",
       "    <tr>\n",
       "      <th>9</th>\n",
       "      <td>56270</td>\n",
       "      <td>0.100504</td>\n",
       "    </tr>\n",
       "  </tbody>\n",
       "</table>\n",
       "</div>"
      ],
      "text/plain": [
       "   col_id  similarity\n",
       "0    4341    0.297014\n",
       "1    7353    0.220847\n",
       "2   36593    0.215622\n",
       "3    3802    0.188025\n",
       "4   51215    0.145095\n",
       "5   49085    0.128586\n",
       "6   37852    0.102340\n",
       "7    7873    0.101929\n",
       "8   46769    0.100504\n",
       "9   56270    0.100504"
      ]
     },
     "execution_count": 30,
     "metadata": {},
     "output_type": "execute_result"
    }
   ],
   "source": [
    "recs = cosine_model.recommend(row_id, train_mat, N=top_N, filter_already_liked_items=True)\n",
    "recs = pd.DataFrame(recs, columns=['col_id', 'similarity'])\n",
    "recs"
   ]
  },
  {
   "cell_type": "code",
   "execution_count": 31,
   "metadata": {
    "execution": {
     "iopub.execute_input": "2020-10-25T11:06:35.723334Z",
     "iopub.status.busy": "2020-10-25T11:06:35.722666Z",
     "iopub.status.idle": "2020-10-25T11:06:35.726839Z",
     "shell.execute_reply": "2020-10-25T11:06:35.726448Z"
    },
    "papermill": {
     "duration": 0.104552,
     "end_time": "2020-10-25T11:06:35.726926",
     "exception": false,
     "start_time": "2020-10-25T11:06:35.622374",
     "status": "completed"
    },
    "tags": []
   },
   "outputs": [
    {
     "data": {
      "text/html": [
       "<div>\n",
       "<style scoped>\n",
       "    .dataframe tbody tr th:only-of-type {\n",
       "        vertical-align: middle;\n",
       "    }\n",
       "\n",
       "    .dataframe tbody tr th {\n",
       "        vertical-align: top;\n",
       "    }\n",
       "\n",
       "    .dataframe thead th {\n",
       "        text-align: right;\n",
       "    }\n",
       "</style>\n",
       "<table border=\"1\" class=\"dataframe\">\n",
       "  <thead>\n",
       "    <tr style=\"text-align: right;\">\n",
       "      <th></th>\n",
       "      <th>col_id</th>\n",
       "      <th>similarity</th>\n",
       "      <th>item_id</th>\n",
       "      <th>title</th>\n",
       "    </tr>\n",
       "  </thead>\n",
       "  <tbody>\n",
       "    <tr>\n",
       "      <th>0</th>\n",
       "      <td>4341</td>\n",
       "      <td>0.297014</td>\n",
       "      <td>193358</td>\n",
       "      <td>#охотник на волков</td>\n",
       "    </tr>\n",
       "    <tr>\n",
       "      <th>1</th>\n",
       "      <td>7353</td>\n",
       "      <td>0.220847</td>\n",
       "      <td>125586</td>\n",
       "      <td>меч предназначения</td>\n",
       "    </tr>\n",
       "    <tr>\n",
       "      <th>2</th>\n",
       "      <td>36593</td>\n",
       "      <td>0.215622</td>\n",
       "      <td>203882</td>\n",
       "      <td>#имя для лис</td>\n",
       "    </tr>\n",
       "    <tr>\n",
       "      <th>3</th>\n",
       "      <td>3802</td>\n",
       "      <td>0.188025</td>\n",
       "      <td>90986</td>\n",
       "      <td>кровь эльфов</td>\n",
       "    </tr>\n",
       "    <tr>\n",
       "      <th>4</th>\n",
       "      <td>51215</td>\n",
       "      <td>0.145095</td>\n",
       "      <td>146180</td>\n",
       "      <td>крещение руси</td>\n",
       "    </tr>\n",
       "    <tr>\n",
       "      <th>5</th>\n",
       "      <td>49085</td>\n",
       "      <td>0.128586</td>\n",
       "      <td>264849</td>\n",
       "      <td>сплав закона</td>\n",
       "    </tr>\n",
       "    <tr>\n",
       "      <th>6</th>\n",
       "      <td>37852</td>\n",
       "      <td>0.102340</td>\n",
       "      <td>238155</td>\n",
       "      <td>владычица озера</td>\n",
       "    </tr>\n",
       "    <tr>\n",
       "      <th>7</th>\n",
       "      <td>7873</td>\n",
       "      <td>0.101929</td>\n",
       "      <td>7094</td>\n",
       "      <td>крещение огнем</td>\n",
       "    </tr>\n",
       "    <tr>\n",
       "      <th>8</th>\n",
       "      <td>46769</td>\n",
       "      <td>0.100504</td>\n",
       "      <td>240226</td>\n",
       "      <td>отпущение без грехов</td>\n",
       "    </tr>\n",
       "    <tr>\n",
       "      <th>9</th>\n",
       "      <td>56270</td>\n",
       "      <td>0.100504</td>\n",
       "      <td>1728</td>\n",
       "      <td>«злой город»</td>\n",
       "    </tr>\n",
       "  </tbody>\n",
       "</table>\n",
       "</div>"
      ],
      "text/plain": [
       "   col_id  similarity  item_id                 title\n",
       "0    4341    0.297014   193358    #охотник на волков\n",
       "1    7353    0.220847   125586    меч предназначения\n",
       "2   36593    0.215622   203882          #имя для лис\n",
       "3    3802    0.188025    90986          кровь эльфов\n",
       "4   51215    0.145095   146180         крещение руси\n",
       "5   49085    0.128586   264849          сплав закона\n",
       "6   37852    0.102340   238155       владычица озера\n",
       "7    7873    0.101929     7094        крещение огнем\n",
       "8   46769    0.100504   240226  отпущение без грехов\n",
       "9   56270    0.100504     1728          «злой город»"
      ]
     },
     "execution_count": 31,
     "metadata": {},
     "output_type": "execute_result"
    }
   ],
   "source": [
    "recs['item_id'] = recs['col_id'].map(items_inv_mapping.get)\n",
    "recs['title'] = recs['item_id'].map(item_titles.get)\n",
    "recs"
   ]
  },
  {
   "cell_type": "code",
   "execution_count": 32,
   "metadata": {
    "execution": {
     "iopub.execute_input": "2020-10-25T11:06:35.851181Z",
     "iopub.status.busy": "2020-10-25T11:06:35.850625Z",
     "iopub.status.idle": "2020-10-25T11:06:35.853175Z",
     "shell.execute_reply": "2020-10-25T11:06:35.852816Z"
    },
    "papermill": {
     "duration": 0.066046,
     "end_time": "2020-10-25T11:06:35.853249",
     "exception": false,
     "start_time": "2020-10-25T11:06:35.787203",
     "status": "completed"
    },
    "tags": []
   },
   "outputs": [],
   "source": [
    "def generate_implicit_recs_mapper(model, train_matrix, N, user_mapping, item_inv_mapping):\n",
    "    def _recs_mapper(user):\n",
    "        user_id = user_mapping[user]\n",
    "        recs = model.recommend(user_id, \n",
    "                               train_matrix, \n",
    "                               N=N, \n",
    "                               filter_already_liked_items=True)\n",
    "        return [item_inv_mapping[item] for item, _ in recs]\n",
    "    return _recs_mapper"
   ]
  },
  {
   "cell_type": "code",
   "execution_count": 33,
   "metadata": {
    "execution": {
     "iopub.execute_input": "2020-10-25T11:06:35.985206Z",
     "iopub.status.busy": "2020-10-25T11:06:35.984659Z",
     "iopub.status.idle": "2020-10-25T11:06:35.990161Z",
     "shell.execute_reply": "2020-10-25T11:06:35.989293Z"
    },
    "papermill": {
     "duration": 0.076208,
     "end_time": "2020-10-25T11:06:35.990380",
     "exception": false,
     "start_time": "2020-10-25T11:06:35.914172",
     "status": "completed"
    },
    "tags": []
   },
   "outputs": [
    {
     "data": {
      "text/plain": [
       "<function __main__.generate_implicit_recs_mapper.<locals>._recs_mapper(user)>"
      ]
     },
     "execution_count": 33,
     "metadata": {},
     "output_type": "execute_result"
    }
   ],
   "source": [
    "mapper = generate_implicit_recs_mapper(cosine_model, train_mat, top_N, users_mapping, items_inv_mapping)\n",
    "mapper"
   ]
  },
  {
   "cell_type": "code",
   "execution_count": 34,
   "metadata": {
    "execution": {
     "iopub.execute_input": "2020-10-25T11:06:36.127061Z",
     "iopub.status.busy": "2020-10-25T11:06:36.124238Z",
     "iopub.status.idle": "2020-10-25T11:06:36.230226Z",
     "shell.execute_reply": "2020-10-25T11:06:36.229850Z"
    },
    "papermill": {
     "duration": 0.176311,
     "end_time": "2020-10-25T11:06:36.230315",
     "exception": false,
     "start_time": "2020-10-25T11:06:36.054004",
     "status": "completed"
    },
    "tags": []
   },
   "outputs": [
    {
     "name": "stdout",
     "output_type": "stream",
     "text": [
      "CPU times: user 2 µs, sys: 0 ns, total: 2 µs\n",
      "Wall time: 6.2 µs\n"
     ]
    },
    {
     "data": {
      "text/html": [
       "<div>\n",
       "<style scoped>\n",
       "    .dataframe tbody tr th:only-of-type {\n",
       "        vertical-align: middle;\n",
       "    }\n",
       "\n",
       "    .dataframe tbody tr th {\n",
       "        vertical-align: top;\n",
       "    }\n",
       "\n",
       "    .dataframe thead th {\n",
       "        text-align: right;\n",
       "    }\n",
       "</style>\n",
       "<table border=\"1\" class=\"dataframe\">\n",
       "  <thead>\n",
       "    <tr style=\"text-align: right;\">\n",
       "      <th></th>\n",
       "      <th>user_id</th>\n",
       "      <th>item_id</th>\n",
       "    </tr>\n",
       "  </thead>\n",
       "  <tbody>\n",
       "    <tr>\n",
       "      <th>0</th>\n",
       "      <td>139942</td>\n",
       "      <td>[193358, 125586, 203882, 90986, 146180, 264849...</td>\n",
       "    </tr>\n",
       "    <tr>\n",
       "      <th>1</th>\n",
       "      <td>136607</td>\n",
       "      <td>[250158, 121182, 141120, 242513, 287501, 18072...</td>\n",
       "    </tr>\n",
       "    <tr>\n",
       "      <th>2</th>\n",
       "      <td>142287</td>\n",
       "      <td>[290518, 118497, 98037, 229832, 84366, 257330,...</td>\n",
       "    </tr>\n",
       "    <tr>\n",
       "      <th>3</th>\n",
       "      <td>114933</td>\n",
       "      <td>[136034, 251645, 96466, 152566, 208621, 109493...</td>\n",
       "    </tr>\n",
       "    <tr>\n",
       "      <th>4</th>\n",
       "      <td>32926</td>\n",
       "      <td>[121606, 201300, 145840, 113767, 311587, 28831...</td>\n",
       "    </tr>\n",
       "  </tbody>\n",
       "</table>\n",
       "</div>"
      ],
      "text/plain": [
       "   user_id                                            item_id\n",
       "0   139942  [193358, 125586, 203882, 90986, 146180, 264849...\n",
       "1   136607  [250158, 121182, 141120, 242513, 287501, 18072...\n",
       "2   142287  [290518, 118497, 98037, 229832, 84366, 257330,...\n",
       "3   114933  [136034, 251645, 96466, 152566, 208621, 109493...\n",
       "4    32926  [121606, 201300, 145840, 113767, 311587, 28831..."
      ]
     },
     "execution_count": 34,
     "metadata": {},
     "output_type": "execute_result"
    }
   ],
   "source": [
    "%time\n",
    "recs = pd.DataFrame({\n",
    "    'user_id': test['user_id'].unique()\n",
    "})\n",
    "recs['item_id'] = recs['user_id'].map(mapper)\n",
    "recs.head()"
   ]
  },
  {
   "cell_type": "code",
   "execution_count": 35,
   "metadata": {
    "execution": {
     "iopub.execute_input": "2020-10-25T11:06:36.369928Z",
     "iopub.status.busy": "2020-10-25T11:06:36.366214Z",
     "iopub.status.idle": "2020-10-25T11:06:36.384430Z",
     "shell.execute_reply": "2020-10-25T11:06:36.383963Z"
    },
    "papermill": {
     "duration": 0.092224,
     "end_time": "2020-10-25T11:06:36.384519",
     "exception": false,
     "start_time": "2020-10-25T11:06:36.292295",
     "status": "completed"
    },
    "tags": []
   },
   "outputs": [
    {
     "data": {
      "text/html": [
       "<div>\n",
       "<style scoped>\n",
       "    .dataframe tbody tr th:only-of-type {\n",
       "        vertical-align: middle;\n",
       "    }\n",
       "\n",
       "    .dataframe tbody tr th {\n",
       "        vertical-align: top;\n",
       "    }\n",
       "\n",
       "    .dataframe thead th {\n",
       "        text-align: right;\n",
       "    }\n",
       "</style>\n",
       "<table border=\"1\" class=\"dataframe\">\n",
       "  <thead>\n",
       "    <tr style=\"text-align: right;\">\n",
       "      <th></th>\n",
       "      <th>user_id</th>\n",
       "      <th>item_id</th>\n",
       "      <th>rank</th>\n",
       "    </tr>\n",
       "  </thead>\n",
       "  <tbody>\n",
       "    <tr>\n",
       "      <th>0</th>\n",
       "      <td>139942</td>\n",
       "      <td>193358</td>\n",
       "      <td>1</td>\n",
       "    </tr>\n",
       "    <tr>\n",
       "      <th>0</th>\n",
       "      <td>139942</td>\n",
       "      <td>125586</td>\n",
       "      <td>2</td>\n",
       "    </tr>\n",
       "    <tr>\n",
       "      <th>0</th>\n",
       "      <td>139942</td>\n",
       "      <td>203882</td>\n",
       "      <td>3</td>\n",
       "    </tr>\n",
       "    <tr>\n",
       "      <th>0</th>\n",
       "      <td>139942</td>\n",
       "      <td>90986</td>\n",
       "      <td>4</td>\n",
       "    </tr>\n",
       "    <tr>\n",
       "      <th>0</th>\n",
       "      <td>139942</td>\n",
       "      <td>146180</td>\n",
       "      <td>5</td>\n",
       "    </tr>\n",
       "    <tr>\n",
       "      <th>0</th>\n",
       "      <td>139942</td>\n",
       "      <td>264849</td>\n",
       "      <td>6</td>\n",
       "    </tr>\n",
       "    <tr>\n",
       "      <th>0</th>\n",
       "      <td>139942</td>\n",
       "      <td>238155</td>\n",
       "      <td>7</td>\n",
       "    </tr>\n",
       "    <tr>\n",
       "      <th>0</th>\n",
       "      <td>139942</td>\n",
       "      <td>7094</td>\n",
       "      <td>8</td>\n",
       "    </tr>\n",
       "    <tr>\n",
       "      <th>0</th>\n",
       "      <td>139942</td>\n",
       "      <td>240226</td>\n",
       "      <td>9</td>\n",
       "    </tr>\n",
       "    <tr>\n",
       "      <th>0</th>\n",
       "      <td>139942</td>\n",
       "      <td>1728</td>\n",
       "      <td>10</td>\n",
       "    </tr>\n",
       "    <tr>\n",
       "      <th>1</th>\n",
       "      <td>136607</td>\n",
       "      <td>250158</td>\n",
       "      <td>1</td>\n",
       "    </tr>\n",
       "    <tr>\n",
       "      <th>1</th>\n",
       "      <td>136607</td>\n",
       "      <td>121182</td>\n",
       "      <td>2</td>\n",
       "    </tr>\n",
       "  </tbody>\n",
       "</table>\n",
       "</div>"
      ],
      "text/plain": [
       "   user_id item_id  rank\n",
       "0   139942  193358     1\n",
       "0   139942  125586     2\n",
       "0   139942  203882     3\n",
       "0   139942   90986     4\n",
       "0   139942  146180     5\n",
       "0   139942  264849     6\n",
       "0   139942  238155     7\n",
       "0   139942    7094     8\n",
       "0   139942  240226     9\n",
       "0   139942    1728    10\n",
       "1   136607  250158     1\n",
       "1   136607  121182     2"
      ]
     },
     "execution_count": 35,
     "metadata": {},
     "output_type": "execute_result"
    }
   ],
   "source": [
    "recs = recs.explode('item_id')\n",
    "recs['rank'] = recs.groupby('user_id').cumcount() + 1\n",
    "recs.head(top_N + 2)"
   ]
  },
  {
   "cell_type": "code",
   "execution_count": 36,
   "metadata": {
    "execution": {
     "iopub.execute_input": "2020-10-25T11:06:36.513665Z",
     "iopub.status.busy": "2020-10-25T11:06:36.513046Z",
     "iopub.status.idle": "2020-10-25T11:06:37.015355Z",
     "shell.execute_reply": "2020-10-25T11:06:37.014800Z"
    },
    "papermill": {
     "duration": 0.569275,
     "end_time": "2020-10-25T11:06:37.015457",
     "exception": false,
     "start_time": "2020-10-25T11:06:36.446182",
     "status": "completed"
    },
    "tags": []
   },
   "outputs": [
    {
     "data": {
      "text/plain": [
       "Precision@1     0.011628\n",
       "Recall@1        0.010200\n",
       "Precision@2     0.010098\n",
       "Recall@2        0.018054\n",
       "Precision@3     0.009384\n",
       "Recall@3        0.024057\n",
       "Precision@4     0.007956\n",
       "Recall@4        0.026811\n",
       "Precision@5     0.007222\n",
       "Recall@5        0.030075\n",
       "Precision@6     0.006222\n",
       "Recall@6        0.031299\n",
       "Precision@7     0.005595\n",
       "Recall@7        0.032421\n",
       "Precision@8     0.005661\n",
       "Recall@8        0.036589\n",
       "Precision@9     0.005168\n",
       "Recall@9        0.037099\n",
       "Precision@10    0.004896\n",
       "Recall@10       0.039139\n",
       "MAP@10          0.018753\n",
       "MRR             0.021653\n",
       "dtype: float64"
      ]
     },
     "execution_count": 36,
     "metadata": {},
     "output_type": "execute_result"
    }
   ],
   "source": [
    "metrics = compute_metrics(test, recs, top_N)\n",
    "metrics"
   ]
  },
  {
   "cell_type": "markdown",
   "metadata": {
    "papermill": {
     "duration": 0.063089,
     "end_time": "2020-10-25T11:06:37.148460",
     "exception": false,
     "start_time": "2020-10-25T11:06:37.085371",
     "status": "completed"
    },
    "tags": []
   },
   "source": [
    "Как видно, на матрице, заполненной единицами, CosineRecommender с K=10 уже дает метрики немного лучше, чем просто учет популярного"
   ]
  },
  {
   "cell_type": "code",
   "execution_count": 37,
   "metadata": {
    "_kg_hide-output": true,
    "execution": {
     "iopub.execute_input": "2020-10-25T11:06:37.285266Z",
     "iopub.status.busy": "2020-10-25T11:06:37.284352Z",
     "iopub.status.idle": "2020-10-25T11:07:03.487448Z",
     "shell.execute_reply": "2020-10-25T11:07:03.487962Z"
    },
    "papermill": {
     "duration": 26.274367,
     "end_time": "2020-10-25T11:07:03.488107",
     "exception": false,
     "start_time": "2020-10-25T11:06:37.213740",
     "status": "completed"
    },
    "tags": []
   },
   "outputs": [
    {
     "name": "stdout",
     "output_type": "stream",
     "text": [
      "test range - from 2019-12-24 00:00:00 to 2019-12-25 00:00:00\n",
      "train shape - (1515946, 5), test shape - (2045, 5)\n"
     ]
    },
    {
     "data": {
      "application/vnd.jupyter.widget-view+json": {
       "model_id": "834d0afedccb434398abc50f66d93980",
       "version_major": 2,
       "version_minor": 0
      },
      "text/plain": [
       "HBox(children=(FloatProgress(value=0.0, max=59599.0), HTML(value='')))"
      ]
     },
     "metadata": {},
     "output_type": "display_data"
    },
    {
     "name": "stdout",
     "output_type": "stream",
     "text": [
      "\n",
      "test range - from 2019-12-25 00:00:00 to 2019-12-26 00:00:00\n",
      "train shape - (1517994, 5), test shape - (2141, 5)\n"
     ]
    },
    {
     "data": {
      "application/vnd.jupyter.widget-view+json": {
       "model_id": "37b4eb808bf74508ba7f55a6db57a7c8",
       "version_major": 2,
       "version_minor": 0
      },
      "text/plain": [
       "HBox(children=(FloatProgress(value=0.0, max=59599.0), HTML(value='')))"
      ]
     },
     "metadata": {},
     "output_type": "display_data"
    },
    {
     "name": "stdout",
     "output_type": "stream",
     "text": [
      "\n",
      "test range - from 2019-12-26 00:00:00 to 2019-12-27 00:00:00\n",
      "train shape - (1520136, 5), test shape - (2177, 5)\n"
     ]
    },
    {
     "data": {
      "application/vnd.jupyter.widget-view+json": {
       "model_id": "cdd9da1db66b44c0bbd6a063e8a50408",
       "version_major": 2,
       "version_minor": 0
      },
      "text/plain": [
       "HBox(children=(FloatProgress(value=0.0, max=59599.0), HTML(value='')))"
      ]
     },
     "metadata": {},
     "output_type": "display_data"
    },
    {
     "name": "stdout",
     "output_type": "stream",
     "text": [
      "\n",
      "test range - from 2019-12-27 00:00:00 to 2019-12-28 00:00:00\n",
      "train shape - (1522313, 5), test shape - (2110, 5)\n"
     ]
    },
    {
     "data": {
      "application/vnd.jupyter.widget-view+json": {
       "model_id": "9ef48cb1c8834747bfd98cb47c2c8d52",
       "version_major": 2,
       "version_minor": 0
      },
      "text/plain": [
       "HBox(children=(FloatProgress(value=0.0, max=59599.0), HTML(value='')))"
      ]
     },
     "metadata": {},
     "output_type": "display_data"
    },
    {
     "name": "stdout",
     "output_type": "stream",
     "text": [
      "\n",
      "test range - from 2019-12-28 00:00:00 to 2019-12-29 00:00:00\n",
      "train shape - (1524423, 5), test shape - (2205, 5)\n"
     ]
    },
    {
     "data": {
      "application/vnd.jupyter.widget-view+json": {
       "model_id": "6666746eef02427593d855756c8d544c",
       "version_major": 2,
       "version_minor": 0
      },
      "text/plain": [
       "HBox(children=(FloatProgress(value=0.0, max=59599.0), HTML(value='')))"
      ]
     },
     "metadata": {},
     "output_type": "display_data"
    },
    {
     "name": "stdout",
     "output_type": "stream",
     "text": [
      "\n",
      "test range - from 2019-12-29 00:00:00 to 2019-12-30 00:00:00\n",
      "train shape - (1526632, 5), test shape - (2118, 5)\n"
     ]
    },
    {
     "data": {
      "application/vnd.jupyter.widget-view+json": {
       "model_id": "c63ab4201ced4b5b91f5c9b09aad54b2",
       "version_major": 2,
       "version_minor": 0
      },
      "text/plain": [
       "HBox(children=(FloatProgress(value=0.0, max=59599.0), HTML(value='')))"
      ]
     },
     "metadata": {},
     "output_type": "display_data"
    },
    {
     "name": "stdout",
     "output_type": "stream",
     "text": [
      "\n",
      "test range - from 2019-12-30 00:00:00 to 2019-12-31 00:00:00\n",
      "train shape - (1528754, 5), test shape - (2168, 5)\n"
     ]
    },
    {
     "data": {
      "application/vnd.jupyter.widget-view+json": {
       "model_id": "8cb64aa43063435a933f8e8b721b5853",
       "version_major": 2,
       "version_minor": 0
      },
      "text/plain": [
       "HBox(children=(FloatProgress(value=0.0, max=59599.0), HTML(value='')))"
      ]
     },
     "metadata": {},
     "output_type": "display_data"
    },
    {
     "name": "stdout",
     "output_type": "stream",
     "text": [
      "\n",
      "CPU times: user 41.6 s, sys: 3.67 s, total: 45.3 s\n",
      "Wall time: 26.2 s\n"
     ]
    }
   ],
   "source": [
    "%%time\n",
    "validation_results = pd.DataFrame()\n",
    "\n",
    "for train_idx, test_idx, info in folds_with_stats:\n",
    "    print(f\"test range - from {info['Start date']} to {info['End date']}\")\n",
    "    train = df.loc[train_idx]\n",
    "    test = df.loc[test_idx]\n",
    "    print(f'train shape - {train.shape}, test shape - {test.shape}')\n",
    "    \n",
    "    train_mat = get_coo_matrix(train).tocsr()\n",
    "    \n",
    "    cosine_model = CosineRecommender(K=10)\n",
    "    cosine_model.fit(train_mat.T) # \n",
    "    \n",
    "    mapper = generate_implicit_recs_mapper(cosine_model, train_mat, top_N, users_mapping, items_inv_mapping)\n",
    "    \n",
    "    recs = pd.DataFrame({\n",
    "        'user_id': test['user_id'].unique()\n",
    "    })\n",
    "    recs['item_id'] = recs['user_id'].map(mapper)\n",
    "    recs = recs.explode('item_id')\n",
    "    recs['rank'] = recs.groupby('user_id').cumcount() + 1\n",
    "    fold_result = compute_metrics(test, recs, top_N)\n",
    "    fold_result.at['Date'] = info['Start date']\n",
    "    fold_result.at['argv'] = 'K=10'\n",
    "    fold_result.at['Model'] = 'cosine model'\n",
    "    \n",
    "    validation_results = validation_results.append(fold_result, ignore_index=True)"
   ]
  },
  {
   "cell_type": "code",
   "execution_count": 38,
   "metadata": {
    "execution": {
     "iopub.execute_input": "2020-10-25T11:07:03.716896Z",
     "iopub.status.busy": "2020-10-25T11:07:03.708297Z",
     "iopub.status.idle": "2020-10-25T11:07:03.720689Z",
     "shell.execute_reply": "2020-10-25T11:07:03.720253Z"
    },
    "papermill": {
     "duration": 0.129409,
     "end_time": "2020-10-25T11:07:03.720786",
     "exception": false,
     "start_time": "2020-10-25T11:07:03.591377",
     "status": "completed"
    },
    "tags": []
   },
   "outputs": [
    {
     "data": {
      "text/html": [
       "<div>\n",
       "<style scoped>\n",
       "    .dataframe tbody tr th:only-of-type {\n",
       "        vertical-align: middle;\n",
       "    }\n",
       "\n",
       "    .dataframe tbody tr th {\n",
       "        vertical-align: top;\n",
       "    }\n",
       "\n",
       "    .dataframe thead th {\n",
       "        text-align: right;\n",
       "    }\n",
       "</style>\n",
       "<table border=\"1\" class=\"dataframe\">\n",
       "  <thead>\n",
       "    <tr style=\"text-align: right;\">\n",
       "      <th></th>\n",
       "      <th>Date</th>\n",
       "      <th>MAP@10</th>\n",
       "      <th>MRR</th>\n",
       "      <th>Model</th>\n",
       "      <th>Precision@1</th>\n",
       "      <th>Precision@10</th>\n",
       "      <th>Precision@2</th>\n",
       "      <th>Precision@3</th>\n",
       "      <th>Precision@4</th>\n",
       "      <th>Precision@5</th>\n",
       "      <th>...</th>\n",
       "      <th>Recall@10</th>\n",
       "      <th>Recall@2</th>\n",
       "      <th>Recall@3</th>\n",
       "      <th>Recall@4</th>\n",
       "      <th>Recall@5</th>\n",
       "      <th>Recall@6</th>\n",
       "      <th>Recall@7</th>\n",
       "      <th>Recall@8</th>\n",
       "      <th>Recall@9</th>\n",
       "      <th>argv</th>\n",
       "    </tr>\n",
       "  </thead>\n",
       "  <tbody>\n",
       "    <tr>\n",
       "      <th>0</th>\n",
       "      <td>2019-12-24</td>\n",
       "      <td>0.018753</td>\n",
       "      <td>0.021653</td>\n",
       "      <td>cosine model</td>\n",
       "      <td>0.011628</td>\n",
       "      <td>0.004896</td>\n",
       "      <td>0.010098</td>\n",
       "      <td>0.009384</td>\n",
       "      <td>0.007956</td>\n",
       "      <td>0.007222</td>\n",
       "      <td>...</td>\n",
       "      <td>0.039139</td>\n",
       "      <td>0.018054</td>\n",
       "      <td>0.024057</td>\n",
       "      <td>0.026811</td>\n",
       "      <td>0.030075</td>\n",
       "      <td>0.031299</td>\n",
       "      <td>0.032421</td>\n",
       "      <td>0.036589</td>\n",
       "      <td>0.037099</td>\n",
       "      <td>K=10</td>\n",
       "    </tr>\n",
       "    <tr>\n",
       "      <th>1</th>\n",
       "      <td>2019-12-25</td>\n",
       "      <td>0.014539</td>\n",
       "      <td>0.016503</td>\n",
       "      <td>cosine model</td>\n",
       "      <td>0.009009</td>\n",
       "      <td>0.004110</td>\n",
       "      <td>0.008727</td>\n",
       "      <td>0.007132</td>\n",
       "      <td>0.005912</td>\n",
       "      <td>0.005405</td>\n",
       "      <td>...</td>\n",
       "      <td>0.033936</td>\n",
       "      <td>0.013462</td>\n",
       "      <td>0.016570</td>\n",
       "      <td>0.018541</td>\n",
       "      <td>0.021638</td>\n",
       "      <td>0.024172</td>\n",
       "      <td>0.027742</td>\n",
       "      <td>0.031121</td>\n",
       "      <td>0.032528</td>\n",
       "      <td>K=10</td>\n",
       "    </tr>\n",
       "    <tr>\n",
       "      <th>2</th>\n",
       "      <td>2019-12-26</td>\n",
       "      <td>0.011097</td>\n",
       "      <td>0.012303</td>\n",
       "      <td>cosine model</td>\n",
       "      <td>0.006959</td>\n",
       "      <td>0.002944</td>\n",
       "      <td>0.006692</td>\n",
       "      <td>0.004996</td>\n",
       "      <td>0.004416</td>\n",
       "      <td>0.004283</td>\n",
       "      <td>...</td>\n",
       "      <td>0.023708</td>\n",
       "      <td>0.010974</td>\n",
       "      <td>0.012134</td>\n",
       "      <td>0.013638</td>\n",
       "      <td>0.016672</td>\n",
       "      <td>0.018622</td>\n",
       "      <td>0.019693</td>\n",
       "      <td>0.022102</td>\n",
       "      <td>0.023172</td>\n",
       "      <td>K=10</td>\n",
       "    </tr>\n",
       "    <tr>\n",
       "      <th>3</th>\n",
       "      <td>2019-12-27</td>\n",
       "      <td>0.013305</td>\n",
       "      <td>0.014925</td>\n",
       "      <td>cosine model</td>\n",
       "      <td>0.009945</td>\n",
       "      <td>0.002873</td>\n",
       "      <td>0.007182</td>\n",
       "      <td>0.006262</td>\n",
       "      <td>0.005387</td>\n",
       "      <td>0.004530</td>\n",
       "      <td>...</td>\n",
       "      <td>0.023812</td>\n",
       "      <td>0.012560</td>\n",
       "      <td>0.015893</td>\n",
       "      <td>0.017937</td>\n",
       "      <td>0.018232</td>\n",
       "      <td>0.020442</td>\n",
       "      <td>0.020994</td>\n",
       "      <td>0.021602</td>\n",
       "      <td>0.022707</td>\n",
       "      <td>K=10</td>\n",
       "    </tr>\n",
       "    <tr>\n",
       "      <th>4</th>\n",
       "      <td>2019-12-28</td>\n",
       "      <td>0.010155</td>\n",
       "      <td>0.011132</td>\n",
       "      <td>cosine model</td>\n",
       "      <td>0.006051</td>\n",
       "      <td>0.002915</td>\n",
       "      <td>0.005226</td>\n",
       "      <td>0.003850</td>\n",
       "      <td>0.003850</td>\n",
       "      <td>0.003300</td>\n",
       "      <td>...</td>\n",
       "      <td>0.023710</td>\n",
       "      <td>0.009213</td>\n",
       "      <td>0.010314</td>\n",
       "      <td>0.013751</td>\n",
       "      <td>0.014439</td>\n",
       "      <td>0.016806</td>\n",
       "      <td>0.018181</td>\n",
       "      <td>0.019556</td>\n",
       "      <td>0.021756</td>\n",
       "      <td>K=10</td>\n",
       "    </tr>\n",
       "    <tr>\n",
       "      <th>5</th>\n",
       "      <td>2019-12-29</td>\n",
       "      <td>0.014726</td>\n",
       "      <td>0.016824</td>\n",
       "      <td>cosine model</td>\n",
       "      <td>0.009737</td>\n",
       "      <td>0.003952</td>\n",
       "      <td>0.007732</td>\n",
       "      <td>0.006873</td>\n",
       "      <td>0.005871</td>\n",
       "      <td>0.005155</td>\n",
       "      <td>...</td>\n",
       "      <td>0.031819</td>\n",
       "      <td>0.012791</td>\n",
       "      <td>0.016705</td>\n",
       "      <td>0.018423</td>\n",
       "      <td>0.020332</td>\n",
       "      <td>0.023260</td>\n",
       "      <td>0.025837</td>\n",
       "      <td>0.027460</td>\n",
       "      <td>0.028096</td>\n",
       "      <td>K=10</td>\n",
       "    </tr>\n",
       "    <tr>\n",
       "      <th>6</th>\n",
       "      <td>2019-12-30</td>\n",
       "      <td>0.013807</td>\n",
       "      <td>0.014917</td>\n",
       "      <td>cosine model</td>\n",
       "      <td>0.010259</td>\n",
       "      <td>0.003240</td>\n",
       "      <td>0.006479</td>\n",
       "      <td>0.005220</td>\n",
       "      <td>0.004860</td>\n",
       "      <td>0.004320</td>\n",
       "      <td>...</td>\n",
       "      <td>0.028123</td>\n",
       "      <td>0.011519</td>\n",
       "      <td>0.013949</td>\n",
       "      <td>0.016964</td>\n",
       "      <td>0.018853</td>\n",
       "      <td>0.022093</td>\n",
       "      <td>0.023083</td>\n",
       "      <td>0.023893</td>\n",
       "      <td>0.026773</td>\n",
       "      <td>K=10</td>\n",
       "    </tr>\n",
       "  </tbody>\n",
       "</table>\n",
       "<p>7 rows × 25 columns</p>\n",
       "</div>"
      ],
      "text/plain": [
       "        Date    MAP@10       MRR         Model  Precision@1  Precision@10  \\\n",
       "0 2019-12-24  0.018753  0.021653  cosine model     0.011628      0.004896   \n",
       "1 2019-12-25  0.014539  0.016503  cosine model     0.009009      0.004110   \n",
       "2 2019-12-26  0.011097  0.012303  cosine model     0.006959      0.002944   \n",
       "3 2019-12-27  0.013305  0.014925  cosine model     0.009945      0.002873   \n",
       "4 2019-12-28  0.010155  0.011132  cosine model     0.006051      0.002915   \n",
       "5 2019-12-29  0.014726  0.016824  cosine model     0.009737      0.003952   \n",
       "6 2019-12-30  0.013807  0.014917  cosine model     0.010259      0.003240   \n",
       "\n",
       "   Precision@2  Precision@3  Precision@4  Precision@5  ...  Recall@10  \\\n",
       "0     0.010098     0.009384     0.007956     0.007222  ...   0.039139   \n",
       "1     0.008727     0.007132     0.005912     0.005405  ...   0.033936   \n",
       "2     0.006692     0.004996     0.004416     0.004283  ...   0.023708   \n",
       "3     0.007182     0.006262     0.005387     0.004530  ...   0.023812   \n",
       "4     0.005226     0.003850     0.003850     0.003300  ...   0.023710   \n",
       "5     0.007732     0.006873     0.005871     0.005155  ...   0.031819   \n",
       "6     0.006479     0.005220     0.004860     0.004320  ...   0.028123   \n",
       "\n",
       "   Recall@2  Recall@3  Recall@4  Recall@5  Recall@6  Recall@7  Recall@8  \\\n",
       "0  0.018054  0.024057  0.026811  0.030075  0.031299  0.032421  0.036589   \n",
       "1  0.013462  0.016570  0.018541  0.021638  0.024172  0.027742  0.031121   \n",
       "2  0.010974  0.012134  0.013638  0.016672  0.018622  0.019693  0.022102   \n",
       "3  0.012560  0.015893  0.017937  0.018232  0.020442  0.020994  0.021602   \n",
       "4  0.009213  0.010314  0.013751  0.014439  0.016806  0.018181  0.019556   \n",
       "5  0.012791  0.016705  0.018423  0.020332  0.023260  0.025837  0.027460   \n",
       "6  0.011519  0.013949  0.016964  0.018853  0.022093  0.023083  0.023893   \n",
       "\n",
       "   Recall@9  argv  \n",
       "0  0.037099  K=10  \n",
       "1  0.032528  K=10  \n",
       "2  0.023172  K=10  \n",
       "3  0.022707  K=10  \n",
       "4  0.021756  K=10  \n",
       "5  0.028096  K=10  \n",
       "6  0.026773  K=10  \n",
       "\n",
       "[7 rows x 25 columns]"
      ]
     },
     "execution_count": 38,
     "metadata": {},
     "output_type": "execute_result"
    }
   ],
   "source": [
    "validation_results"
   ]
  },
  {
   "cell_type": "code",
   "execution_count": 39,
   "metadata": {
    "execution": {
     "iopub.execute_input": "2020-10-25T11:07:03.871400Z",
     "iopub.status.busy": "2020-10-25T11:07:03.870585Z",
     "iopub.status.idle": "2020-10-25T11:07:03.874019Z",
     "shell.execute_reply": "2020-10-25T11:07:03.873504Z"
    },
    "papermill": {
     "duration": 0.083822,
     "end_time": "2020-10-25T11:07:03.874113",
     "exception": false,
     "start_time": "2020-10-25T11:07:03.790291",
     "status": "completed"
    },
    "tags": []
   },
   "outputs": [
    {
     "data": {
      "text/html": [
       "<div>\n",
       "<style scoped>\n",
       "    .dataframe tbody tr th:only-of-type {\n",
       "        vertical-align: middle;\n",
       "    }\n",
       "\n",
       "    .dataframe tbody tr th {\n",
       "        vertical-align: top;\n",
       "    }\n",
       "\n",
       "    .dataframe thead th {\n",
       "        text-align: right;\n",
       "    }\n",
       "</style>\n",
       "<table border=\"1\" class=\"dataframe\">\n",
       "  <thead>\n",
       "    <tr style=\"text-align: right;\">\n",
       "      <th></th>\n",
       "      <th>MRR</th>\n",
       "      <th>MAP@10</th>\n",
       "      <th>Recall@10</th>\n",
       "    </tr>\n",
       "  </thead>\n",
       "  <tbody>\n",
       "    <tr>\n",
       "      <th>mean</th>\n",
       "      <td>0.015466</td>\n",
       "      <td>0.013769</td>\n",
       "      <td>0.029178</td>\n",
       "    </tr>\n",
       "    <tr>\n",
       "      <th>std</th>\n",
       "      <td>0.003430</td>\n",
       "      <td>0.002792</td>\n",
       "      <td>0.006035</td>\n",
       "    </tr>\n",
       "    <tr>\n",
       "      <th>min</th>\n",
       "      <td>0.011132</td>\n",
       "      <td>0.010155</td>\n",
       "      <td>0.023708</td>\n",
       "    </tr>\n",
       "    <tr>\n",
       "      <th>max</th>\n",
       "      <td>0.021653</td>\n",
       "      <td>0.018753</td>\n",
       "      <td>0.039139</td>\n",
       "    </tr>\n",
       "  </tbody>\n",
       "</table>\n",
       "</div>"
      ],
      "text/plain": [
       "           MRR    MAP@10  Recall@10\n",
       "mean  0.015466  0.013769   0.029178\n",
       "std   0.003430  0.002792   0.006035\n",
       "min   0.011132  0.010155   0.023708\n",
       "max   0.021653  0.018753   0.039139"
      ]
     },
     "execution_count": 39,
     "metadata": {},
     "output_type": "execute_result"
    }
   ],
   "source": [
    "validation_results.agg({\n",
    "    'MRR': ['mean', 'std', 'min', 'max'],\n",
    "    'MAP@10': ['mean', 'std', 'min', 'max'],\n",
    "    'Recall@10': ['mean', 'std', 'min', 'max'],\n",
    "})"
   ]
  },
  {
   "cell_type": "code",
   "execution_count": 40,
   "metadata": {
    "_kg_hide-output": true,
    "execution": {
     "iopub.execute_input": "2020-10-25T11:07:04.092333Z",
     "iopub.status.busy": "2020-10-25T11:07:04.091534Z",
     "iopub.status.idle": "2020-10-25T11:07:59.045664Z",
     "shell.execute_reply": "2020-10-25T11:07:59.045033Z"
    },
    "papermill": {
     "duration": 55.066205,
     "end_time": "2020-10-25T11:07:59.045783",
     "exception": false,
     "start_time": "2020-10-25T11:07:03.979578",
     "status": "completed"
    },
    "tags": []
   },
   "outputs": [
    {
     "name": "stdout",
     "output_type": "stream",
     "text": [
      "test range - from 2019-12-24 00:00:00 to 2019-12-25 00:00:00\n",
      "train shape - (1515946, 5), test shape - (2045, 5)\n",
      "test range - from 2019-12-25 00:00:00 to 2019-12-26 00:00:00\n",
      "train shape - (1517994, 5), test shape - (2141, 5)\n",
      "test range - from 2019-12-26 00:00:00 to 2019-12-27 00:00:00\n",
      "train shape - (1520136, 5), test shape - (2177, 5)\n",
      "test range - from 2019-12-27 00:00:00 to 2019-12-28 00:00:00\n",
      "train shape - (1522313, 5), test shape - (2110, 5)\n",
      "test range - from 2019-12-28 00:00:00 to 2019-12-29 00:00:00\n",
      "train shape - (1524423, 5), test shape - (2205, 5)\n",
      "test range - from 2019-12-29 00:00:00 to 2019-12-30 00:00:00\n",
      "train shape - (1526632, 5), test shape - (2118, 5)\n",
      "test range - from 2019-12-30 00:00:00 to 2019-12-31 00:00:00\n",
      "train shape - (1528754, 5), test shape - (2168, 5)\n",
      "test range - from 2019-12-24 00:00:00 to 2019-12-25 00:00:00\n",
      "train shape - (1515946, 5), test shape - (2045, 5)\n",
      "test range - from 2019-12-25 00:00:00 to 2019-12-26 00:00:00\n",
      "train shape - (1517994, 5), test shape - (2141, 5)\n",
      "test range - from 2019-12-26 00:00:00 to 2019-12-27 00:00:00\n",
      "train shape - (1520136, 5), test shape - (2177, 5)\n",
      "test range - from 2019-12-27 00:00:00 to 2019-12-28 00:00:00\n",
      "train shape - (1522313, 5), test shape - (2110, 5)\n",
      "test range - from 2019-12-28 00:00:00 to 2019-12-29 00:00:00\n",
      "train shape - (1524423, 5), test shape - (2205, 5)\n",
      "test range - from 2019-12-29 00:00:00 to 2019-12-30 00:00:00\n",
      "train shape - (1526632, 5), test shape - (2118, 5)\n",
      "test range - from 2019-12-30 00:00:00 to 2019-12-31 00:00:00\n",
      "train shape - (1528754, 5), test shape - (2168, 5)\n"
     ]
    }
   ],
   "source": [
    "for model_class in [BM25Recommender, TFIDFRecommender]:\n",
    "    for train_idx, test_idx, info in folds_with_stats:\n",
    "        print(f\"test range - from {info['Start date']} to {info['End date']}\")\n",
    "        train = df.loc[train_idx]\n",
    "        test = df.loc[test_idx]\n",
    "        print(f'train shape - {train.shape}, test shape - {test.shape}')\n",
    "        \n",
    "        train_mat = get_coo_matrix(train).tocsr()\n",
    "        \n",
    "        model = model_class(K=10)\n",
    "        model.fit(train_mat.T, show_progress=False) \n",
    "\n",
    "        mapper = generate_implicit_recs_mapper(model, train_mat, top_N, users_mapping, items_inv_mapping)\n",
    "\n",
    "        recs = pd.DataFrame({\n",
    "            'user_id': test['user_id'].unique()\n",
    "        })\n",
    "        recs['item_id'] = recs['user_id'].map(mapper)\n",
    "        recs = recs.explode('item_id')\n",
    "        recs['rank'] = recs.groupby('user_id').cumcount() + 1\n",
    "        fold_result = compute_metrics(test, recs, top_N)\n",
    "        fold_result.at['Date'] = info['Start date']\n",
    "        fold_result.at['argv'] = 'K=10'\n",
    "        fold_result.at['Model'] = model.__class__.__name__\n",
    "\n",
    "        validation_results = validation_results.append(fold_result, ignore_index=True)"
   ]
  },
  {
   "cell_type": "code",
   "execution_count": 41,
   "metadata": {
    "execution": {
     "iopub.execute_input": "2020-10-25T11:07:59.280138Z",
     "iopub.status.busy": "2020-10-25T11:07:59.279512Z",
     "iopub.status.idle": "2020-10-25T11:07:59.299174Z",
     "shell.execute_reply": "2020-10-25T11:07:59.298560Z"
    },
    "papermill": {
     "duration": 0.142781,
     "end_time": "2020-10-25T11:07:59.299287",
     "exception": false,
     "start_time": "2020-10-25T11:07:59.156506",
     "status": "completed"
    },
    "tags": []
   },
   "outputs": [
    {
     "data": {
      "text/html": [
       "<div>\n",
       "<style scoped>\n",
       "    .dataframe tbody tr th:only-of-type {\n",
       "        vertical-align: middle;\n",
       "    }\n",
       "\n",
       "    .dataframe tbody tr th {\n",
       "        vertical-align: top;\n",
       "    }\n",
       "\n",
       "    .dataframe thead th {\n",
       "        text-align: right;\n",
       "    }\n",
       "</style>\n",
       "<table border=\"1\" class=\"dataframe\">\n",
       "  <thead>\n",
       "    <tr style=\"text-align: right;\">\n",
       "      <th></th>\n",
       "      <th>Date</th>\n",
       "      <th>MAP@10</th>\n",
       "      <th>MRR</th>\n",
       "      <th>Model</th>\n",
       "      <th>Precision@1</th>\n",
       "      <th>Precision@10</th>\n",
       "      <th>Precision@2</th>\n",
       "      <th>Precision@3</th>\n",
       "      <th>Precision@4</th>\n",
       "      <th>Precision@5</th>\n",
       "      <th>...</th>\n",
       "      <th>Recall@10</th>\n",
       "      <th>Recall@2</th>\n",
       "      <th>Recall@3</th>\n",
       "      <th>Recall@4</th>\n",
       "      <th>Recall@5</th>\n",
       "      <th>Recall@6</th>\n",
       "      <th>Recall@7</th>\n",
       "      <th>Recall@8</th>\n",
       "      <th>Recall@9</th>\n",
       "      <th>argv</th>\n",
       "    </tr>\n",
       "  </thead>\n",
       "  <tbody>\n",
       "    <tr>\n",
       "      <th>0</th>\n",
       "      <td>2019-12-24</td>\n",
       "      <td>0.018753</td>\n",
       "      <td>0.021653</td>\n",
       "      <td>cosine model</td>\n",
       "      <td>0.011628</td>\n",
       "      <td>0.004896</td>\n",
       "      <td>0.010098</td>\n",
       "      <td>0.009384</td>\n",
       "      <td>0.007956</td>\n",
       "      <td>0.007222</td>\n",
       "      <td>...</td>\n",
       "      <td>0.039139</td>\n",
       "      <td>0.018054</td>\n",
       "      <td>0.024057</td>\n",
       "      <td>0.026811</td>\n",
       "      <td>0.030075</td>\n",
       "      <td>0.031299</td>\n",
       "      <td>0.032421</td>\n",
       "      <td>0.036589</td>\n",
       "      <td>0.037099</td>\n",
       "      <td>K=10</td>\n",
       "    </tr>\n",
       "    <tr>\n",
       "      <th>1</th>\n",
       "      <td>2019-12-25</td>\n",
       "      <td>0.014539</td>\n",
       "      <td>0.016503</td>\n",
       "      <td>cosine model</td>\n",
       "      <td>0.009009</td>\n",
       "      <td>0.004110</td>\n",
       "      <td>0.008727</td>\n",
       "      <td>0.007132</td>\n",
       "      <td>0.005912</td>\n",
       "      <td>0.005405</td>\n",
       "      <td>...</td>\n",
       "      <td>0.033936</td>\n",
       "      <td>0.013462</td>\n",
       "      <td>0.016570</td>\n",
       "      <td>0.018541</td>\n",
       "      <td>0.021638</td>\n",
       "      <td>0.024172</td>\n",
       "      <td>0.027742</td>\n",
       "      <td>0.031121</td>\n",
       "      <td>0.032528</td>\n",
       "      <td>K=10</td>\n",
       "    </tr>\n",
       "    <tr>\n",
       "      <th>2</th>\n",
       "      <td>2019-12-26</td>\n",
       "      <td>0.011097</td>\n",
       "      <td>0.012303</td>\n",
       "      <td>cosine model</td>\n",
       "      <td>0.006959</td>\n",
       "      <td>0.002944</td>\n",
       "      <td>0.006692</td>\n",
       "      <td>0.004996</td>\n",
       "      <td>0.004416</td>\n",
       "      <td>0.004283</td>\n",
       "      <td>...</td>\n",
       "      <td>0.023708</td>\n",
       "      <td>0.010974</td>\n",
       "      <td>0.012134</td>\n",
       "      <td>0.013638</td>\n",
       "      <td>0.016672</td>\n",
       "      <td>0.018622</td>\n",
       "      <td>0.019693</td>\n",
       "      <td>0.022102</td>\n",
       "      <td>0.023172</td>\n",
       "      <td>K=10</td>\n",
       "    </tr>\n",
       "    <tr>\n",
       "      <th>3</th>\n",
       "      <td>2019-12-27</td>\n",
       "      <td>0.013305</td>\n",
       "      <td>0.014925</td>\n",
       "      <td>cosine model</td>\n",
       "      <td>0.009945</td>\n",
       "      <td>0.002873</td>\n",
       "      <td>0.007182</td>\n",
       "      <td>0.006262</td>\n",
       "      <td>0.005387</td>\n",
       "      <td>0.004530</td>\n",
       "      <td>...</td>\n",
       "      <td>0.023812</td>\n",
       "      <td>0.012560</td>\n",
       "      <td>0.015893</td>\n",
       "      <td>0.017937</td>\n",
       "      <td>0.018232</td>\n",
       "      <td>0.020442</td>\n",
       "      <td>0.020994</td>\n",
       "      <td>0.021602</td>\n",
       "      <td>0.022707</td>\n",
       "      <td>K=10</td>\n",
       "    </tr>\n",
       "    <tr>\n",
       "      <th>4</th>\n",
       "      <td>2019-12-28</td>\n",
       "      <td>0.010155</td>\n",
       "      <td>0.011132</td>\n",
       "      <td>cosine model</td>\n",
       "      <td>0.006051</td>\n",
       "      <td>0.002915</td>\n",
       "      <td>0.005226</td>\n",
       "      <td>0.003850</td>\n",
       "      <td>0.003850</td>\n",
       "      <td>0.003300</td>\n",
       "      <td>...</td>\n",
       "      <td>0.023710</td>\n",
       "      <td>0.009213</td>\n",
       "      <td>0.010314</td>\n",
       "      <td>0.013751</td>\n",
       "      <td>0.014439</td>\n",
       "      <td>0.016806</td>\n",
       "      <td>0.018181</td>\n",
       "      <td>0.019556</td>\n",
       "      <td>0.021756</td>\n",
       "      <td>K=10</td>\n",
       "    </tr>\n",
       "    <tr>\n",
       "      <th>5</th>\n",
       "      <td>2019-12-29</td>\n",
       "      <td>0.014726</td>\n",
       "      <td>0.016824</td>\n",
       "      <td>cosine model</td>\n",
       "      <td>0.009737</td>\n",
       "      <td>0.003952</td>\n",
       "      <td>0.007732</td>\n",
       "      <td>0.006873</td>\n",
       "      <td>0.005871</td>\n",
       "      <td>0.005155</td>\n",
       "      <td>...</td>\n",
       "      <td>0.031819</td>\n",
       "      <td>0.012791</td>\n",
       "      <td>0.016705</td>\n",
       "      <td>0.018423</td>\n",
       "      <td>0.020332</td>\n",
       "      <td>0.023260</td>\n",
       "      <td>0.025837</td>\n",
       "      <td>0.027460</td>\n",
       "      <td>0.028096</td>\n",
       "      <td>K=10</td>\n",
       "    </tr>\n",
       "    <tr>\n",
       "      <th>6</th>\n",
       "      <td>2019-12-30</td>\n",
       "      <td>0.013807</td>\n",
       "      <td>0.014917</td>\n",
       "      <td>cosine model</td>\n",
       "      <td>0.010259</td>\n",
       "      <td>0.003240</td>\n",
       "      <td>0.006479</td>\n",
       "      <td>0.005220</td>\n",
       "      <td>0.004860</td>\n",
       "      <td>0.004320</td>\n",
       "      <td>...</td>\n",
       "      <td>0.028123</td>\n",
       "      <td>0.011519</td>\n",
       "      <td>0.013949</td>\n",
       "      <td>0.016964</td>\n",
       "      <td>0.018853</td>\n",
       "      <td>0.022093</td>\n",
       "      <td>0.023083</td>\n",
       "      <td>0.023893</td>\n",
       "      <td>0.026773</td>\n",
       "      <td>K=10</td>\n",
       "    </tr>\n",
       "    <tr>\n",
       "      <th>7</th>\n",
       "      <td>2019-12-24</td>\n",
       "      <td>0.018977</td>\n",
       "      <td>0.022296</td>\n",
       "      <td>BM25Recommender</td>\n",
       "      <td>0.014076</td>\n",
       "      <td>0.004774</td>\n",
       "      <td>0.010098</td>\n",
       "      <td>0.009384</td>\n",
       "      <td>0.007803</td>\n",
       "      <td>0.007222</td>\n",
       "      <td>...</td>\n",
       "      <td>0.037113</td>\n",
       "      <td>0.017136</td>\n",
       "      <td>0.023460</td>\n",
       "      <td>0.025806</td>\n",
       "      <td>0.029682</td>\n",
       "      <td>0.031620</td>\n",
       "      <td>0.032538</td>\n",
       "      <td>0.032931</td>\n",
       "      <td>0.035379</td>\n",
       "      <td>K=10</td>\n",
       "    </tr>\n",
       "    <tr>\n",
       "      <th>8</th>\n",
       "      <td>2019-12-25</td>\n",
       "      <td>0.014419</td>\n",
       "      <td>0.015624</td>\n",
       "      <td>BM25Recommender</td>\n",
       "      <td>0.009009</td>\n",
       "      <td>0.003716</td>\n",
       "      <td>0.007038</td>\n",
       "      <td>0.006569</td>\n",
       "      <td>0.006334</td>\n",
       "      <td>0.005518</td>\n",
       "      <td>...</td>\n",
       "      <td>0.031151</td>\n",
       "      <td>0.011761</td>\n",
       "      <td>0.016277</td>\n",
       "      <td>0.020031</td>\n",
       "      <td>0.022283</td>\n",
       "      <td>0.023972</td>\n",
       "      <td>0.026788</td>\n",
       "      <td>0.027914</td>\n",
       "      <td>0.028899</td>\n",
       "      <td>K=10</td>\n",
       "    </tr>\n",
       "    <tr>\n",
       "      <th>9</th>\n",
       "      <td>2019-12-26</td>\n",
       "      <td>0.013319</td>\n",
       "      <td>0.015631</td>\n",
       "      <td>BM25Recommender</td>\n",
       "      <td>0.009101</td>\n",
       "      <td>0.003480</td>\n",
       "      <td>0.008833</td>\n",
       "      <td>0.006602</td>\n",
       "      <td>0.005621</td>\n",
       "      <td>0.005032</td>\n",
       "      <td>...</td>\n",
       "      <td>0.028067</td>\n",
       "      <td>0.013804</td>\n",
       "      <td>0.015499</td>\n",
       "      <td>0.017105</td>\n",
       "      <td>0.019514</td>\n",
       "      <td>0.022191</td>\n",
       "      <td>0.023338</td>\n",
       "      <td>0.024676</td>\n",
       "      <td>0.025925</td>\n",
       "      <td>K=10</td>\n",
       "    </tr>\n",
       "    <tr>\n",
       "      <th>10</th>\n",
       "      <td>2019-12-27</td>\n",
       "      <td>0.014282</td>\n",
       "      <td>0.015349</td>\n",
       "      <td>BM25Recommender</td>\n",
       "      <td>0.010497</td>\n",
       "      <td>0.003149</td>\n",
       "      <td>0.007182</td>\n",
       "      <td>0.005893</td>\n",
       "      <td>0.004834</td>\n",
       "      <td>0.004530</td>\n",
       "      <td>...</td>\n",
       "      <td>0.026525</td>\n",
       "      <td>0.013278</td>\n",
       "      <td>0.016151</td>\n",
       "      <td>0.017366</td>\n",
       "      <td>0.019853</td>\n",
       "      <td>0.021621</td>\n",
       "      <td>0.022284</td>\n",
       "      <td>0.024020</td>\n",
       "      <td>0.025235</td>\n",
       "      <td>K=10</td>\n",
       "    </tr>\n",
       "    <tr>\n",
       "      <th>11</th>\n",
       "      <td>2019-12-28</td>\n",
       "      <td>0.009243</td>\n",
       "      <td>0.010862</td>\n",
       "      <td>BM25Recommender</td>\n",
       "      <td>0.004950</td>\n",
       "      <td>0.003080</td>\n",
       "      <td>0.004675</td>\n",
       "      <td>0.003667</td>\n",
       "      <td>0.004263</td>\n",
       "      <td>0.004070</td>\n",
       "      <td>...</td>\n",
       "      <td>0.024603</td>\n",
       "      <td>0.007838</td>\n",
       "      <td>0.008692</td>\n",
       "      <td>0.014330</td>\n",
       "      <td>0.016256</td>\n",
       "      <td>0.016994</td>\n",
       "      <td>0.018644</td>\n",
       "      <td>0.019882</td>\n",
       "      <td>0.022082</td>\n",
       "      <td>K=10</td>\n",
       "    </tr>\n",
       "    <tr>\n",
       "      <th>12</th>\n",
       "      <td>2019-12-29</td>\n",
       "      <td>0.014368</td>\n",
       "      <td>0.016533</td>\n",
       "      <td>BM25Recommender</td>\n",
       "      <td>0.009737</td>\n",
       "      <td>0.003837</td>\n",
       "      <td>0.007732</td>\n",
       "      <td>0.006491</td>\n",
       "      <td>0.005298</td>\n",
       "      <td>0.005155</td>\n",
       "      <td>...</td>\n",
       "      <td>0.031087</td>\n",
       "      <td>0.013268</td>\n",
       "      <td>0.015655</td>\n",
       "      <td>0.017087</td>\n",
       "      <td>0.020905</td>\n",
       "      <td>0.024437</td>\n",
       "      <td>0.025869</td>\n",
       "      <td>0.027873</td>\n",
       "      <td>0.030451</td>\n",
       "      <td>K=10</td>\n",
       "    </tr>\n",
       "    <tr>\n",
       "      <th>13</th>\n",
       "      <td>2019-12-30</td>\n",
       "      <td>0.012747</td>\n",
       "      <td>0.014018</td>\n",
       "      <td>BM25Recommender</td>\n",
       "      <td>0.008639</td>\n",
       "      <td>0.003078</td>\n",
       "      <td>0.007019</td>\n",
       "      <td>0.005580</td>\n",
       "      <td>0.004590</td>\n",
       "      <td>0.004104</td>\n",
       "      <td>...</td>\n",
       "      <td>0.026368</td>\n",
       "      <td>0.012329</td>\n",
       "      <td>0.015029</td>\n",
       "      <td>0.016019</td>\n",
       "      <td>0.017774</td>\n",
       "      <td>0.019663</td>\n",
       "      <td>0.020743</td>\n",
       "      <td>0.024973</td>\n",
       "      <td>0.026188</td>\n",
       "      <td>K=10</td>\n",
       "    </tr>\n",
       "    <tr>\n",
       "      <th>14</th>\n",
       "      <td>2019-12-24</td>\n",
       "      <td>0.020040</td>\n",
       "      <td>0.023071</td>\n",
       "      <td>TFIDFRecommender</td>\n",
       "      <td>0.014688</td>\n",
       "      <td>0.004712</td>\n",
       "      <td>0.011016</td>\n",
       "      <td>0.009384</td>\n",
       "      <td>0.007650</td>\n",
       "      <td>0.006487</td>\n",
       "      <td>...</td>\n",
       "      <td>0.037929</td>\n",
       "      <td>0.019278</td>\n",
       "      <td>0.024990</td>\n",
       "      <td>0.026418</td>\n",
       "      <td>0.027948</td>\n",
       "      <td>0.030906</td>\n",
       "      <td>0.031809</td>\n",
       "      <td>0.036501</td>\n",
       "      <td>0.037317</td>\n",
       "      <td>K=10</td>\n",
       "    </tr>\n",
       "    <tr>\n",
       "      <th>15</th>\n",
       "      <td>2019-12-25</td>\n",
       "      <td>0.014742</td>\n",
       "      <td>0.016553</td>\n",
       "      <td>TFIDFRecommender</td>\n",
       "      <td>0.009572</td>\n",
       "      <td>0.003941</td>\n",
       "      <td>0.008164</td>\n",
       "      <td>0.007132</td>\n",
       "      <td>0.006053</td>\n",
       "      <td>0.005405</td>\n",
       "      <td>...</td>\n",
       "      <td>0.032470</td>\n",
       "      <td>0.013056</td>\n",
       "      <td>0.017122</td>\n",
       "      <td>0.019656</td>\n",
       "      <td>0.022471</td>\n",
       "      <td>0.023648</td>\n",
       "      <td>0.025337</td>\n",
       "      <td>0.027590</td>\n",
       "      <td>0.031250</td>\n",
       "      <td>K=10</td>\n",
       "    </tr>\n",
       "    <tr>\n",
       "      <th>16</th>\n",
       "      <td>2019-12-26</td>\n",
       "      <td>0.011135</td>\n",
       "      <td>0.012880</td>\n",
       "      <td>TFIDFRecommender</td>\n",
       "      <td>0.006959</td>\n",
       "      <td>0.002998</td>\n",
       "      <td>0.006959</td>\n",
       "      <td>0.005889</td>\n",
       "      <td>0.004952</td>\n",
       "      <td>0.004604</td>\n",
       "      <td>...</td>\n",
       "      <td>0.023529</td>\n",
       "      <td>0.011140</td>\n",
       "      <td>0.014441</td>\n",
       "      <td>0.015780</td>\n",
       "      <td>0.017551</td>\n",
       "      <td>0.019425</td>\n",
       "      <td>0.021299</td>\n",
       "      <td>0.022369</td>\n",
       "      <td>0.022994</td>\n",
       "      <td>K=10</td>\n",
       "    </tr>\n",
       "    <tr>\n",
       "      <th>17</th>\n",
       "      <td>2019-12-27</td>\n",
       "      <td>0.013549</td>\n",
       "      <td>0.015054</td>\n",
       "      <td>TFIDFRecommender</td>\n",
       "      <td>0.009945</td>\n",
       "      <td>0.003039</td>\n",
       "      <td>0.007459</td>\n",
       "      <td>0.006077</td>\n",
       "      <td>0.005387</td>\n",
       "      <td>0.004420</td>\n",
       "      <td>...</td>\n",
       "      <td>0.025028</td>\n",
       "      <td>0.013554</td>\n",
       "      <td>0.015617</td>\n",
       "      <td>0.017569</td>\n",
       "      <td>0.018122</td>\n",
       "      <td>0.019227</td>\n",
       "      <td>0.020994</td>\n",
       "      <td>0.021547</td>\n",
       "      <td>0.023260</td>\n",
       "      <td>K=10</td>\n",
       "    </tr>\n",
       "    <tr>\n",
       "      <th>18</th>\n",
       "      <td>2019-12-28</td>\n",
       "      <td>0.010224</td>\n",
       "      <td>0.011226</td>\n",
       "      <td>TFIDFRecommender</td>\n",
       "      <td>0.005501</td>\n",
       "      <td>0.003190</td>\n",
       "      <td>0.004400</td>\n",
       "      <td>0.004584</td>\n",
       "      <td>0.004813</td>\n",
       "      <td>0.004290</td>\n",
       "      <td>...</td>\n",
       "      <td>0.024889</td>\n",
       "      <td>0.007838</td>\n",
       "      <td>0.011551</td>\n",
       "      <td>0.016227</td>\n",
       "      <td>0.017602</td>\n",
       "      <td>0.019939</td>\n",
       "      <td>0.020765</td>\n",
       "      <td>0.021344</td>\n",
       "      <td>0.022551</td>\n",
       "      <td>K=10</td>\n",
       "    </tr>\n",
       "    <tr>\n",
       "      <th>19</th>\n",
       "      <td>2019-12-29</td>\n",
       "      <td>0.015167</td>\n",
       "      <td>0.017401</td>\n",
       "      <td>TFIDFRecommender</td>\n",
       "      <td>0.009737</td>\n",
       "      <td>0.004124</td>\n",
       "      <td>0.008305</td>\n",
       "      <td>0.007064</td>\n",
       "      <td>0.006443</td>\n",
       "      <td>0.005727</td>\n",
       "      <td>...</td>\n",
       "      <td>0.032837</td>\n",
       "      <td>0.013746</td>\n",
       "      <td>0.017087</td>\n",
       "      <td>0.021287</td>\n",
       "      <td>0.022910</td>\n",
       "      <td>0.024405</td>\n",
       "      <td>0.025900</td>\n",
       "      <td>0.027619</td>\n",
       "      <td>0.029910</td>\n",
       "      <td>K=10</td>\n",
       "    </tr>\n",
       "    <tr>\n",
       "      <th>20</th>\n",
       "      <td>2019-12-30</td>\n",
       "      <td>0.013535</td>\n",
       "      <td>0.014725</td>\n",
       "      <td>TFIDFRecommender</td>\n",
       "      <td>0.009179</td>\n",
       "      <td>0.003348</td>\n",
       "      <td>0.006749</td>\n",
       "      <td>0.005580</td>\n",
       "      <td>0.004860</td>\n",
       "      <td>0.004536</td>\n",
       "      <td>...</td>\n",
       "      <td>0.028258</td>\n",
       "      <td>0.012059</td>\n",
       "      <td>0.015029</td>\n",
       "      <td>0.017369</td>\n",
       "      <td>0.019933</td>\n",
       "      <td>0.022093</td>\n",
       "      <td>0.023623</td>\n",
       "      <td>0.024703</td>\n",
       "      <td>0.026503</td>\n",
       "      <td>K=10</td>\n",
       "    </tr>\n",
       "  </tbody>\n",
       "</table>\n",
       "<p>21 rows × 25 columns</p>\n",
       "</div>"
      ],
      "text/plain": [
       "         Date    MAP@10       MRR             Model  Precision@1  \\\n",
       "0  2019-12-24  0.018753  0.021653      cosine model     0.011628   \n",
       "1  2019-12-25  0.014539  0.016503      cosine model     0.009009   \n",
       "2  2019-12-26  0.011097  0.012303      cosine model     0.006959   \n",
       "3  2019-12-27  0.013305  0.014925      cosine model     0.009945   \n",
       "4  2019-12-28  0.010155  0.011132      cosine model     0.006051   \n",
       "5  2019-12-29  0.014726  0.016824      cosine model     0.009737   \n",
       "6  2019-12-30  0.013807  0.014917      cosine model     0.010259   \n",
       "7  2019-12-24  0.018977  0.022296   BM25Recommender     0.014076   \n",
       "8  2019-12-25  0.014419  0.015624   BM25Recommender     0.009009   \n",
       "9  2019-12-26  0.013319  0.015631   BM25Recommender     0.009101   \n",
       "10 2019-12-27  0.014282  0.015349   BM25Recommender     0.010497   \n",
       "11 2019-12-28  0.009243  0.010862   BM25Recommender     0.004950   \n",
       "12 2019-12-29  0.014368  0.016533   BM25Recommender     0.009737   \n",
       "13 2019-12-30  0.012747  0.014018   BM25Recommender     0.008639   \n",
       "14 2019-12-24  0.020040  0.023071  TFIDFRecommender     0.014688   \n",
       "15 2019-12-25  0.014742  0.016553  TFIDFRecommender     0.009572   \n",
       "16 2019-12-26  0.011135  0.012880  TFIDFRecommender     0.006959   \n",
       "17 2019-12-27  0.013549  0.015054  TFIDFRecommender     0.009945   \n",
       "18 2019-12-28  0.010224  0.011226  TFIDFRecommender     0.005501   \n",
       "19 2019-12-29  0.015167  0.017401  TFIDFRecommender     0.009737   \n",
       "20 2019-12-30  0.013535  0.014725  TFIDFRecommender     0.009179   \n",
       "\n",
       "    Precision@10  Precision@2  Precision@3  Precision@4  Precision@5  ...  \\\n",
       "0       0.004896     0.010098     0.009384     0.007956     0.007222  ...   \n",
       "1       0.004110     0.008727     0.007132     0.005912     0.005405  ...   \n",
       "2       0.002944     0.006692     0.004996     0.004416     0.004283  ...   \n",
       "3       0.002873     0.007182     0.006262     0.005387     0.004530  ...   \n",
       "4       0.002915     0.005226     0.003850     0.003850     0.003300  ...   \n",
       "5       0.003952     0.007732     0.006873     0.005871     0.005155  ...   \n",
       "6       0.003240     0.006479     0.005220     0.004860     0.004320  ...   \n",
       "7       0.004774     0.010098     0.009384     0.007803     0.007222  ...   \n",
       "8       0.003716     0.007038     0.006569     0.006334     0.005518  ...   \n",
       "9       0.003480     0.008833     0.006602     0.005621     0.005032  ...   \n",
       "10      0.003149     0.007182     0.005893     0.004834     0.004530  ...   \n",
       "11      0.003080     0.004675     0.003667     0.004263     0.004070  ...   \n",
       "12      0.003837     0.007732     0.006491     0.005298     0.005155  ...   \n",
       "13      0.003078     0.007019     0.005580     0.004590     0.004104  ...   \n",
       "14      0.004712     0.011016     0.009384     0.007650     0.006487  ...   \n",
       "15      0.003941     0.008164     0.007132     0.006053     0.005405  ...   \n",
       "16      0.002998     0.006959     0.005889     0.004952     0.004604  ...   \n",
       "17      0.003039     0.007459     0.006077     0.005387     0.004420  ...   \n",
       "18      0.003190     0.004400     0.004584     0.004813     0.004290  ...   \n",
       "19      0.004124     0.008305     0.007064     0.006443     0.005727  ...   \n",
       "20      0.003348     0.006749     0.005580     0.004860     0.004536  ...   \n",
       "\n",
       "    Recall@10  Recall@2  Recall@3  Recall@4  Recall@5  Recall@6  Recall@7  \\\n",
       "0    0.039139  0.018054  0.024057  0.026811  0.030075  0.031299  0.032421   \n",
       "1    0.033936  0.013462  0.016570  0.018541  0.021638  0.024172  0.027742   \n",
       "2    0.023708  0.010974  0.012134  0.013638  0.016672  0.018622  0.019693   \n",
       "3    0.023812  0.012560  0.015893  0.017937  0.018232  0.020442  0.020994   \n",
       "4    0.023710  0.009213  0.010314  0.013751  0.014439  0.016806  0.018181   \n",
       "5    0.031819  0.012791  0.016705  0.018423  0.020332  0.023260  0.025837   \n",
       "6    0.028123  0.011519  0.013949  0.016964  0.018853  0.022093  0.023083   \n",
       "7    0.037113  0.017136  0.023460  0.025806  0.029682  0.031620  0.032538   \n",
       "8    0.031151  0.011761  0.016277  0.020031  0.022283  0.023972  0.026788   \n",
       "9    0.028067  0.013804  0.015499  0.017105  0.019514  0.022191  0.023338   \n",
       "10   0.026525  0.013278  0.016151  0.017366  0.019853  0.021621  0.022284   \n",
       "11   0.024603  0.007838  0.008692  0.014330  0.016256  0.016994  0.018644   \n",
       "12   0.031087  0.013268  0.015655  0.017087  0.020905  0.024437  0.025869   \n",
       "13   0.026368  0.012329  0.015029  0.016019  0.017774  0.019663  0.020743   \n",
       "14   0.037929  0.019278  0.024990  0.026418  0.027948  0.030906  0.031809   \n",
       "15   0.032470  0.013056  0.017122  0.019656  0.022471  0.023648  0.025337   \n",
       "16   0.023529  0.011140  0.014441  0.015780  0.017551  0.019425  0.021299   \n",
       "17   0.025028  0.013554  0.015617  0.017569  0.018122  0.019227  0.020994   \n",
       "18   0.024889  0.007838  0.011551  0.016227  0.017602  0.019939  0.020765   \n",
       "19   0.032837  0.013746  0.017087  0.021287  0.022910  0.024405  0.025900   \n",
       "20   0.028258  0.012059  0.015029  0.017369  0.019933  0.022093  0.023623   \n",
       "\n",
       "    Recall@8  Recall@9  argv  \n",
       "0   0.036589  0.037099  K=10  \n",
       "1   0.031121  0.032528  K=10  \n",
       "2   0.022102  0.023172  K=10  \n",
       "3   0.021602  0.022707  K=10  \n",
       "4   0.019556  0.021756  K=10  \n",
       "5   0.027460  0.028096  K=10  \n",
       "6   0.023893  0.026773  K=10  \n",
       "7   0.032931  0.035379  K=10  \n",
       "8   0.027914  0.028899  K=10  \n",
       "9   0.024676  0.025925  K=10  \n",
       "10  0.024020  0.025235  K=10  \n",
       "11  0.019882  0.022082  K=10  \n",
       "12  0.027873  0.030451  K=10  \n",
       "13  0.024973  0.026188  K=10  \n",
       "14  0.036501  0.037317  K=10  \n",
       "15  0.027590  0.031250  K=10  \n",
       "16  0.022369  0.022994  K=10  \n",
       "17  0.021547  0.023260  K=10  \n",
       "18  0.021344  0.022551  K=10  \n",
       "19  0.027619  0.029910  K=10  \n",
       "20  0.024703  0.026503  K=10  \n",
       "\n",
       "[21 rows x 25 columns]"
      ]
     },
     "execution_count": 41,
     "metadata": {},
     "output_type": "execute_result"
    }
   ],
   "source": [
    "validation_results"
   ]
  },
  {
   "cell_type": "code",
   "execution_count": 42,
   "metadata": {
    "execution": {
     "iopub.execute_input": "2020-10-25T11:07:59.541248Z",
     "iopub.status.busy": "2020-10-25T11:07:59.539628Z",
     "iopub.status.idle": "2020-10-25T11:07:59.555786Z",
     "shell.execute_reply": "2020-10-25T11:07:59.556120Z"
    },
    "papermill": {
     "duration": 0.144047,
     "end_time": "2020-10-25T11:07:59.556226",
     "exception": false,
     "start_time": "2020-10-25T11:07:59.412179",
     "status": "completed"
    },
    "tags": []
   },
   "outputs": [
    {
     "data": {
      "text/html": [
       "<div>\n",
       "<style scoped>\n",
       "    .dataframe tbody tr th:only-of-type {\n",
       "        vertical-align: middle;\n",
       "    }\n",
       "\n",
       "    .dataframe tbody tr th {\n",
       "        vertical-align: top;\n",
       "    }\n",
       "\n",
       "    .dataframe thead tr th {\n",
       "        text-align: left;\n",
       "    }\n",
       "\n",
       "    .dataframe thead tr:last-of-type th {\n",
       "        text-align: right;\n",
       "    }\n",
       "</style>\n",
       "<table border=\"1\" class=\"dataframe\">\n",
       "  <thead>\n",
       "    <tr>\n",
       "      <th></th>\n",
       "      <th></th>\n",
       "      <th colspan=\"4\" halign=\"left\">MRR</th>\n",
       "      <th colspan=\"4\" halign=\"left\">MAP@10</th>\n",
       "      <th colspan=\"4\" halign=\"left\">Recall@10</th>\n",
       "    </tr>\n",
       "    <tr>\n",
       "      <th></th>\n",
       "      <th></th>\n",
       "      <th>mean</th>\n",
       "      <th>std</th>\n",
       "      <th>min</th>\n",
       "      <th>max</th>\n",
       "      <th>mean</th>\n",
       "      <th>std</th>\n",
       "      <th>min</th>\n",
       "      <th>max</th>\n",
       "      <th>mean</th>\n",
       "      <th>std</th>\n",
       "      <th>min</th>\n",
       "      <th>max</th>\n",
       "    </tr>\n",
       "    <tr>\n",
       "      <th>Model</th>\n",
       "      <th>argv</th>\n",
       "      <th></th>\n",
       "      <th></th>\n",
       "      <th></th>\n",
       "      <th></th>\n",
       "      <th></th>\n",
       "      <th></th>\n",
       "      <th></th>\n",
       "      <th></th>\n",
       "      <th></th>\n",
       "      <th></th>\n",
       "      <th></th>\n",
       "      <th></th>\n",
       "    </tr>\n",
       "  </thead>\n",
       "  <tbody>\n",
       "    <tr>\n",
       "      <th>BM25Recommender</th>\n",
       "      <th>K=10</th>\n",
       "      <td>0.015759</td>\n",
       "      <td>0.003429</td>\n",
       "      <td>0.010862</td>\n",
       "      <td>0.022296</td>\n",
       "      <td>0.013908</td>\n",
       "      <td>0.002880</td>\n",
       "      <td>0.009243</td>\n",
       "      <td>0.018977</td>\n",
       "      <td>0.029273</td>\n",
       "      <td>0.004234</td>\n",
       "      <td>0.024603</td>\n",
       "      <td>0.037113</td>\n",
       "    </tr>\n",
       "    <tr>\n",
       "      <th>TFIDFRecommender</th>\n",
       "      <th>K=10</th>\n",
       "      <td>0.015844</td>\n",
       "      <td>0.003811</td>\n",
       "      <td>0.011226</td>\n",
       "      <td>0.023071</td>\n",
       "      <td>0.014056</td>\n",
       "      <td>0.003195</td>\n",
       "      <td>0.010224</td>\n",
       "      <td>0.020040</td>\n",
       "      <td>0.029277</td>\n",
       "      <td>0.005309</td>\n",
       "      <td>0.023529</td>\n",
       "      <td>0.037929</td>\n",
       "    </tr>\n",
       "    <tr>\n",
       "      <th>cosine model</th>\n",
       "      <th>K=10</th>\n",
       "      <td>0.015466</td>\n",
       "      <td>0.003430</td>\n",
       "      <td>0.011132</td>\n",
       "      <td>0.021653</td>\n",
       "      <td>0.013769</td>\n",
       "      <td>0.002792</td>\n",
       "      <td>0.010155</td>\n",
       "      <td>0.018753</td>\n",
       "      <td>0.029178</td>\n",
       "      <td>0.006035</td>\n",
       "      <td>0.023708</td>\n",
       "      <td>0.039139</td>\n",
       "    </tr>\n",
       "  </tbody>\n",
       "</table>\n",
       "</div>"
      ],
      "text/plain": [
       "                            MRR                                  MAP@10  \\\n",
       "                           mean       std       min       max      mean   \n",
       "Model            argv                                                     \n",
       "BM25Recommender  K=10  0.015759  0.003429  0.010862  0.022296  0.013908   \n",
       "TFIDFRecommender K=10  0.015844  0.003811  0.011226  0.023071  0.014056   \n",
       "cosine model     K=10  0.015466  0.003430  0.011132  0.021653  0.013769   \n",
       "\n",
       "                                                    Recall@10            \\\n",
       "                            std       min       max      mean       std   \n",
       "Model            argv                                                     \n",
       "BM25Recommender  K=10  0.002880  0.009243  0.018977  0.029273  0.004234   \n",
       "TFIDFRecommender K=10  0.003195  0.010224  0.020040  0.029277  0.005309   \n",
       "cosine model     K=10  0.002792  0.010155  0.018753  0.029178  0.006035   \n",
       "\n",
       "                                           \n",
       "                            min       max  \n",
       "Model            argv                      \n",
       "BM25Recommender  K=10  0.024603  0.037113  \n",
       "TFIDFRecommender K=10  0.023529  0.037929  \n",
       "cosine model     K=10  0.023708  0.039139  "
      ]
     },
     "execution_count": 42,
     "metadata": {},
     "output_type": "execute_result"
    }
   ],
   "source": [
    "validation_results.groupby(['Model', 'argv']).agg({\n",
    "    'MRR': ['mean', 'std', 'min', 'max'],\n",
    "    'MAP@10': ['mean', 'std', 'min', 'max'],\n",
    "    'Recall@10': ['mean', 'std', 'min', 'max'],\n",
    "})"
   ]
  },
  {
   "cell_type": "code",
   "execution_count": 43,
   "metadata": {
    "execution": {
     "iopub.execute_input": "2020-10-25T11:07:59.707959Z",
     "iopub.status.busy": "2020-10-25T11:07:59.707378Z",
     "iopub.status.idle": "2020-10-25T11:07:59.711432Z",
     "shell.execute_reply": "2020-10-25T11:07:59.710956Z"
    },
    "papermill": {
     "duration": 0.081643,
     "end_time": "2020-10-25T11:07:59.711527",
     "exception": false,
     "start_time": "2020-10-25T11:07:59.629884",
     "status": "completed"
    },
    "tags": []
   },
   "outputs": [
    {
     "data": {
      "text/plain": [
       "<implicit.nearest_neighbours.TFIDFRecommender at 0x7f6984682a50>"
      ]
     },
     "execution_count": 43,
     "metadata": {},
     "output_type": "execute_result"
    }
   ],
   "source": [
    "model"
   ]
  },
  {
   "cell_type": "code",
   "execution_count": 44,
   "metadata": {
    "execution": {
     "iopub.execute_input": "2020-10-25T11:07:59.865018Z",
     "iopub.status.busy": "2020-10-25T11:07:59.864131Z",
     "iopub.status.idle": "2020-10-25T11:07:59.867818Z",
     "shell.execute_reply": "2020-10-25T11:07:59.867390Z"
    },
    "papermill": {
     "duration": 0.082066,
     "end_time": "2020-10-25T11:07:59.867909",
     "exception": false,
     "start_time": "2020-10-25T11:07:59.785843",
     "status": "completed"
    },
    "tags": []
   },
   "outputs": [
    {
     "data": {
      "text/plain": [
       "<59599x59599 sparse matrix of type '<class 'numpy.float64'>'\n",
       "\twith 595990 stored elements in Compressed Sparse Row format>"
      ]
     },
     "execution_count": 44,
     "metadata": {},
     "output_type": "execute_result"
    }
   ],
   "source": [
    "model.similarity"
   ]
  },
  {
   "cell_type": "code",
   "execution_count": 45,
   "metadata": {
    "execution": {
     "iopub.execute_input": "2020-10-25T11:08:00.022183Z",
     "iopub.status.busy": "2020-10-25T11:08:00.021692Z",
     "iopub.status.idle": "2020-10-25T11:08:00.027009Z",
     "shell.execute_reply": "2020-10-25T11:08:00.026489Z"
    },
    "papermill": {
     "duration": 0.085054,
     "end_time": "2020-10-25T11:08:00.027093",
     "exception": false,
     "start_time": "2020-10-25T11:07:59.942039",
     "status": "completed"
    },
    "tags": []
   },
   "outputs": [
    {
     "data": {
      "text/plain": [
       "[(7789, 0.9999999999999997),\n",
       " (2354, 0.08739371081396644),\n",
       " (2369, 0.08324974641072473),\n",
       " (26607, 0.08070989029073747),\n",
       " (51053, 0.07998056290930719),\n",
       " (57349, 0.07708399087660989),\n",
       " (38100, 0.07580568971259077),\n",
       " (35713, 0.07271956924786306),\n",
       " (39208, 0.07009032705635235),\n",
       " (46434, 0.06839100852746778)]"
      ]
     },
     "execution_count": 45,
     "metadata": {},
     "output_type": "execute_result"
    }
   ],
   "source": [
    "model.similar_items(7789, N=10)"
   ]
  },
  {
   "cell_type": "code",
   "execution_count": 46,
   "metadata": {
    "execution": {
     "iopub.execute_input": "2020-10-25T11:08:00.189380Z",
     "iopub.status.busy": "2020-10-25T11:08:00.188691Z",
     "iopub.status.idle": "2020-10-25T11:08:00.191700Z",
     "shell.execute_reply": "2020-10-25T11:08:00.191282Z"
    },
    "papermill": {
     "duration": 0.087859,
     "end_time": "2020-10-25T11:08:00.191797",
     "exception": false,
     "start_time": "2020-10-25T11:08:00.103938",
     "status": "completed"
    },
    "tags": []
   },
   "outputs": [],
   "source": [
    "def get_similar_books(title, model, N=10, idx=0, \n",
    "                      title_items=title_items, item_titles=item_titles, items_mapping=items_mapping, items_inv_mapping=items_inv_mapping):\n",
    "    item_ids = title_items.at[title]\n",
    "    if len(item_ids) == 1:\n",
    "        item_id = item_ids[0]\n",
    "    else:\n",
    "        item_id = item_ids[idx]\n",
    "    \n",
    "    col_id = items_mapping[item_id]\n",
    "    similar = model.similar_items(col_id, N=N)\n",
    "    similar = pd.DataFrame(similar, columns=['col_id', 'similarity'])\n",
    "    similar['item_id'] = similar['col_id'].map(items_inv_mapping.get)\n",
    "    similar['title'] = similar['item_id'].map(item_titles.get)\n",
    "    return similar"
   ]
  },
  {
   "cell_type": "code",
   "execution_count": 47,
   "metadata": {
    "execution": {
     "iopub.execute_input": "2020-10-25T11:08:00.361337Z",
     "iopub.status.busy": "2020-10-25T11:08:00.360667Z",
     "iopub.status.idle": "2020-10-25T11:08:00.365508Z",
     "shell.execute_reply": "2020-10-25T11:08:00.365041Z"
    },
    "papermill": {
     "duration": 0.096288,
     "end_time": "2020-10-25T11:08:00.365588",
     "exception": false,
     "start_time": "2020-10-25T11:08:00.269300",
     "status": "completed"
    },
    "tags": []
   },
   "outputs": [
    {
     "data": {
      "text/html": [
       "<div>\n",
       "<style scoped>\n",
       "    .dataframe tbody tr th:only-of-type {\n",
       "        vertical-align: middle;\n",
       "    }\n",
       "\n",
       "    .dataframe tbody tr th {\n",
       "        vertical-align: top;\n",
       "    }\n",
       "\n",
       "    .dataframe thead th {\n",
       "        text-align: right;\n",
       "    }\n",
       "</style>\n",
       "<table border=\"1\" class=\"dataframe\">\n",
       "  <thead>\n",
       "    <tr style=\"text-align: right;\">\n",
       "      <th></th>\n",
       "      <th>col_id</th>\n",
       "      <th>similarity</th>\n",
       "      <th>item_id</th>\n",
       "      <th>title</th>\n",
       "    </tr>\n",
       "  </thead>\n",
       "  <tbody>\n",
       "    <tr>\n",
       "      <th>0</th>\n",
       "      <td>1466</td>\n",
       "      <td>1.000000</td>\n",
       "      <td>60193</td>\n",
       "      <td>мастер и маргарита</td>\n",
       "    </tr>\n",
       "    <tr>\n",
       "      <th>1</th>\n",
       "      <td>4441</td>\n",
       "      <td>0.085901</td>\n",
       "      <td>252228</td>\n",
       "      <td>мастер и маргарита (иллюстрированное издание)</td>\n",
       "    </tr>\n",
       "    <tr>\n",
       "      <th>2</th>\n",
       "      <td>11689</td>\n",
       "      <td>0.057461</td>\n",
       "      <td>283431</td>\n",
       "      <td>мастер и маргарита краткий пересказ произведен...</td>\n",
       "    </tr>\n",
       "    <tr>\n",
       "      <th>3</th>\n",
       "      <td>3874</td>\n",
       "      <td>0.038287</td>\n",
       "      <td>106146</td>\n",
       "      <td>без имени</td>\n",
       "    </tr>\n",
       "    <tr>\n",
       "      <th>4</th>\n",
       "      <td>28450</td>\n",
       "      <td>0.034565</td>\n",
       "      <td>129959</td>\n",
       "      <td>белая гвардия. мастер и маргарита (иллюстриров...</td>\n",
       "    </tr>\n",
       "    <tr>\n",
       "      <th>5</th>\n",
       "      <td>42072</td>\n",
       "      <td>0.033712</td>\n",
       "      <td>229856</td>\n",
       "      <td>булгаков и «маргарита», или история несчастной...</td>\n",
       "    </tr>\n",
       "    <tr>\n",
       "      <th>6</th>\n",
       "      <td>47663</td>\n",
       "      <td>0.033223</td>\n",
       "      <td>284757</td>\n",
       "      <td>стори 11-2015</td>\n",
       "    </tr>\n",
       "    <tr>\n",
       "      <th>7</th>\n",
       "      <td>8220</td>\n",
       "      <td>0.032520</td>\n",
       "      <td>214968</td>\n",
       "      <td>драгоценная плоть</td>\n",
       "    </tr>\n",
       "    <tr>\n",
       "      <th>8</th>\n",
       "      <td>58432</td>\n",
       "      <td>0.031764</td>\n",
       "      <td>303726</td>\n",
       "      <td>ничего не возьму с собой</td>\n",
       "    </tr>\n",
       "    <tr>\n",
       "      <th>9</th>\n",
       "      <td>53017</td>\n",
       "      <td>0.031390</td>\n",
       "      <td>9282</td>\n",
       "      <td>идущий на север. долина башен</td>\n",
       "    </tr>\n",
       "  </tbody>\n",
       "</table>\n",
       "</div>"
      ],
      "text/plain": [
       "   col_id  similarity  item_id  \\\n",
       "0    1466    1.000000    60193   \n",
       "1    4441    0.085901   252228   \n",
       "2   11689    0.057461   283431   \n",
       "3    3874    0.038287   106146   \n",
       "4   28450    0.034565   129959   \n",
       "5   42072    0.033712   229856   \n",
       "6   47663    0.033223   284757   \n",
       "7    8220    0.032520   214968   \n",
       "8   58432    0.031764   303726   \n",
       "9   53017    0.031390     9282   \n",
       "\n",
       "                                               title  \n",
       "0                                 мастер и маргарита  \n",
       "1      мастер и маргарита (иллюстрированное издание)  \n",
       "2  мастер и маргарита краткий пересказ произведен...  \n",
       "3                                          без имени  \n",
       "4  белая гвардия. мастер и маргарита (иллюстриров...  \n",
       "5  булгаков и «маргарита», или история несчастной...  \n",
       "6                                      стори 11-2015  \n",
       "7                                  драгоценная плоть  \n",
       "8                           ничего не возьму с собой  \n",
       "9                      идущий на север. долина башен  "
      ]
     },
     "execution_count": 47,
     "metadata": {},
     "output_type": "execute_result"
    }
   ],
   "source": [
    "get_similar_books('мастер и маргарита', model)"
   ]
  },
  {
   "cell_type": "code",
   "execution_count": 48,
   "metadata": {
    "execution": {
     "iopub.execute_input": "2020-10-25T11:08:00.530801Z",
     "iopub.status.busy": "2020-10-25T11:08:00.530123Z",
     "iopub.status.idle": "2020-10-25T11:08:00.534358Z",
     "shell.execute_reply": "2020-10-25T11:08:00.534704Z"
    },
    "papermill": {
     "duration": 0.091887,
     "end_time": "2020-10-25T11:08:00.534838",
     "exception": false,
     "start_time": "2020-10-25T11:08:00.442951",
     "status": "completed"
    },
    "tags": []
   },
   "outputs": [
    {
     "data": {
      "text/html": [
       "<div>\n",
       "<style scoped>\n",
       "    .dataframe tbody tr th:only-of-type {\n",
       "        vertical-align: middle;\n",
       "    }\n",
       "\n",
       "    .dataframe tbody tr th {\n",
       "        vertical-align: top;\n",
       "    }\n",
       "\n",
       "    .dataframe thead th {\n",
       "        text-align: right;\n",
       "    }\n",
       "</style>\n",
       "<table border=\"1\" class=\"dataframe\">\n",
       "  <thead>\n",
       "    <tr style=\"text-align: right;\">\n",
       "      <th></th>\n",
       "      <th>col_id</th>\n",
       "      <th>similarity</th>\n",
       "      <th>item_id</th>\n",
       "      <th>title</th>\n",
       "    </tr>\n",
       "  </thead>\n",
       "  <tbody>\n",
       "    <tr>\n",
       "      <th>0</th>\n",
       "      <td>23397</td>\n",
       "      <td>1.000000</td>\n",
       "      <td>235407</td>\n",
       "      <td>пикник на обочине</td>\n",
       "    </tr>\n",
       "    <tr>\n",
       "      <th>1</th>\n",
       "      <td>8237</td>\n",
       "      <td>0.081634</td>\n",
       "      <td>208935</td>\n",
       "      <td>понедельник начинается в субботу</td>\n",
       "    </tr>\n",
       "    <tr>\n",
       "      <th>2</th>\n",
       "      <td>13604</td>\n",
       "      <td>0.075878</td>\n",
       "      <td>86572</td>\n",
       "      <td>град обреченный</td>\n",
       "    </tr>\n",
       "    <tr>\n",
       "      <th>3</th>\n",
       "      <td>46038</td>\n",
       "      <td>0.053919</td>\n",
       "      <td>85633</td>\n",
       "      <td>жук в муравейнике</td>\n",
       "    </tr>\n",
       "    <tr>\n",
       "      <th>4</th>\n",
       "      <td>9537</td>\n",
       "      <td>0.048289</td>\n",
       "      <td>128823</td>\n",
       "      <td>обитаемый остров</td>\n",
       "    </tr>\n",
       "    <tr>\n",
       "      <th>5</th>\n",
       "      <td>11830</td>\n",
       "      <td>0.046667</td>\n",
       "      <td>85653</td>\n",
       "      <td>волны гасят ветер</td>\n",
       "    </tr>\n",
       "    <tr>\n",
       "      <th>6</th>\n",
       "      <td>23062</td>\n",
       "      <td>0.043113</td>\n",
       "      <td>138608</td>\n",
       "      <td>сталкер</td>\n",
       "    </tr>\n",
       "    <tr>\n",
       "      <th>7</th>\n",
       "      <td>40889</td>\n",
       "      <td>0.038316</td>\n",
       "      <td>287365</td>\n",
       "      <td>большой прикол. анекдоты 31-2016</td>\n",
       "    </tr>\n",
       "    <tr>\n",
       "      <th>8</th>\n",
       "      <td>39976</td>\n",
       "      <td>0.035602</td>\n",
       "      <td>94631</td>\n",
       "      <td>трудно быть богом</td>\n",
       "    </tr>\n",
       "    <tr>\n",
       "      <th>9</th>\n",
       "      <td>1992</td>\n",
       "      <td>0.031722</td>\n",
       "      <td>35265</td>\n",
       "      <td>записки юного врача</td>\n",
       "    </tr>\n",
       "  </tbody>\n",
       "</table>\n",
       "</div>"
      ],
      "text/plain": [
       "   col_id  similarity  item_id                             title\n",
       "0   23397    1.000000   235407                 пикник на обочине\n",
       "1    8237    0.081634   208935  понедельник начинается в субботу\n",
       "2   13604    0.075878    86572                   град обреченный\n",
       "3   46038    0.053919    85633                 жук в муравейнике\n",
       "4    9537    0.048289   128823                  обитаемый остров\n",
       "5   11830    0.046667    85653                 волны гасят ветер\n",
       "6   23062    0.043113   138608                           сталкер\n",
       "7   40889    0.038316   287365  большой прикол. анекдоты 31-2016\n",
       "8   39976    0.035602    94631                 трудно быть богом\n",
       "9    1992    0.031722    35265               записки юного врача"
      ]
     },
     "execution_count": 48,
     "metadata": {},
     "output_type": "execute_result"
    }
   ],
   "source": [
    "get_similar_books('пикник на обочине', model)"
   ]
  },
  {
   "cell_type": "markdown",
   "metadata": {
    "papermill": {
     "duration": 0.076024,
     "end_time": "2020-10-25T11:08:00.687759",
     "exception": false,
     "start_time": "2020-10-25T11:08:00.611735",
     "status": "completed"
    },
    "tags": []
   },
   "source": [
    "## AlternatingLeastSquares\n",
    "\n",
    "**Векорное представление** - на основе разложения матрицы взамиодействий (с весами) в произведение двух матриц. \n",
    "Одна матрица размерности `[users x factors]` содержит векторные представления всех пользователей,\n",
    "другая матрица `[items x factors]` для объектов\n",
    "\n",
    "**Процесс построения рекомендаций** - для конкретного пользователя ищутся такие объекты, что скалярное произведение их векторов максимально.\n",
    "\n",
    "**Пространство для тюнинга** \n",
    "* взвешивание на уровне таблицы\n",
    "* `factors` - размерность итоговых векторов (обычно степени 2-ки, от 16 до 256)\n",
    "* `iterations` - кол-во итераций (от 10 до 100)\n",
    "* `regularization` - регуляризация векторов (степени 10-ки, от 0.0001 до 1)\n",
    "\n",
    "Есть возможность использовать GPU через `use_gpu=True` и ApproximateNearestNeighbors (на уровне модели)"
   ]
  },
  {
   "cell_type": "code",
   "execution_count": 49,
   "metadata": {
    "execution": {
     "iopub.execute_input": "2020-10-25T11:08:00.845294Z",
     "iopub.status.busy": "2020-10-25T11:08:00.844699Z",
     "iopub.status.idle": "2020-10-25T11:08:00.847812Z",
     "shell.execute_reply": "2020-10-25T11:08:00.848185Z"
    },
    "papermill": {
     "duration": 0.084058,
     "end_time": "2020-10-25T11:08:00.848279",
     "exception": false,
     "start_time": "2020-10-25T11:08:00.764221",
     "status": "completed"
    },
    "tags": []
   },
   "outputs": [],
   "source": [
    "from implicit.als import AlternatingLeastSquares"
   ]
  },
  {
   "cell_type": "code",
   "execution_count": 50,
   "metadata": {
    "_kg_hide-output": true,
    "execution": {
     "iopub.execute_input": "2020-10-25T11:08:01.014917Z",
     "iopub.status.busy": "2020-10-25T11:08:01.014429Z",
     "iopub.status.idle": "2020-10-25T11:10:13.560156Z",
     "shell.execute_reply": "2020-10-25T11:10:13.559654Z"
    },
    "papermill": {
     "duration": 132.635487,
     "end_time": "2020-10-25T11:10:13.560241",
     "exception": false,
     "start_time": "2020-10-25T11:08:00.924754",
     "status": "completed"
    },
    "tags": []
   },
   "outputs": [
    {
     "name": "stdout",
     "output_type": "stream",
     "text": [
      "test range - from 2019-12-24 00:00:00 to 2019-12-25 00:00:00\n",
      "train shape - (1515946, 5), test shape - (2045, 5)\n"
     ]
    },
    {
     "data": {
      "application/vnd.jupyter.widget-view+json": {
       "model_id": "f7b537086f8445e38696f3386062e2c9",
       "version_major": 2,
       "version_minor": 0
      },
      "text/plain": [
       "HBox(children=(FloatProgress(value=0.0, max=30.0), HTML(value='')))"
      ]
     },
     "metadata": {},
     "output_type": "display_data"
    },
    {
     "name": "stdout",
     "output_type": "stream",
     "text": [
      "\n",
      "test range - from 2019-12-25 00:00:00 to 2019-12-26 00:00:00\n",
      "train shape - (1517994, 5), test shape - (2141, 5)\n"
     ]
    },
    {
     "data": {
      "application/vnd.jupyter.widget-view+json": {
       "model_id": "10725e9cde6d409d820a79d7f6c8b002",
       "version_major": 2,
       "version_minor": 0
      },
      "text/plain": [
       "HBox(children=(FloatProgress(value=0.0, max=30.0), HTML(value='')))"
      ]
     },
     "metadata": {},
     "output_type": "display_data"
    },
    {
     "name": "stdout",
     "output_type": "stream",
     "text": [
      "\n",
      "test range - from 2019-12-26 00:00:00 to 2019-12-27 00:00:00\n",
      "train shape - (1520136, 5), test shape - (2177, 5)\n"
     ]
    },
    {
     "data": {
      "application/vnd.jupyter.widget-view+json": {
       "model_id": "d2d7e9889fe7403c8680ca3fc19b4770",
       "version_major": 2,
       "version_minor": 0
      },
      "text/plain": [
       "HBox(children=(FloatProgress(value=0.0, max=30.0), HTML(value='')))"
      ]
     },
     "metadata": {},
     "output_type": "display_data"
    },
    {
     "name": "stdout",
     "output_type": "stream",
     "text": [
      "\n",
      "test range - from 2019-12-27 00:00:00 to 2019-12-28 00:00:00\n",
      "train shape - (1522313, 5), test shape - (2110, 5)\n"
     ]
    },
    {
     "data": {
      "application/vnd.jupyter.widget-view+json": {
       "model_id": "34cfa1f86a014b9887c23902db0ca80d",
       "version_major": 2,
       "version_minor": 0
      },
      "text/plain": [
       "HBox(children=(FloatProgress(value=0.0, max=30.0), HTML(value='')))"
      ]
     },
     "metadata": {},
     "output_type": "display_data"
    },
    {
     "name": "stdout",
     "output_type": "stream",
     "text": [
      "\n",
      "test range - from 2019-12-28 00:00:00 to 2019-12-29 00:00:00\n",
      "train shape - (1524423, 5), test shape - (2205, 5)\n"
     ]
    },
    {
     "data": {
      "application/vnd.jupyter.widget-view+json": {
       "model_id": "96a6c9de7a4348a8b1d5767b5d00c6e2",
       "version_major": 2,
       "version_minor": 0
      },
      "text/plain": [
       "HBox(children=(FloatProgress(value=0.0, max=30.0), HTML(value='')))"
      ]
     },
     "metadata": {},
     "output_type": "display_data"
    },
    {
     "name": "stdout",
     "output_type": "stream",
     "text": [
      "\n",
      "test range - from 2019-12-29 00:00:00 to 2019-12-30 00:00:00\n",
      "train shape - (1526632, 5), test shape - (2118, 5)\n"
     ]
    },
    {
     "data": {
      "application/vnd.jupyter.widget-view+json": {
       "model_id": "f6237172a1fd4597a4dcdee29c720b5a",
       "version_major": 2,
       "version_minor": 0
      },
      "text/plain": [
       "HBox(children=(FloatProgress(value=0.0, max=30.0), HTML(value='')))"
      ]
     },
     "metadata": {},
     "output_type": "display_data"
    },
    {
     "name": "stdout",
     "output_type": "stream",
     "text": [
      "\n",
      "test range - from 2019-12-30 00:00:00 to 2019-12-31 00:00:00\n",
      "train shape - (1528754, 5), test shape - (2168, 5)\n"
     ]
    },
    {
     "data": {
      "application/vnd.jupyter.widget-view+json": {
       "model_id": "ed9ad9c22d434119a5c9ac771ba2c2a8",
       "version_major": 2,
       "version_minor": 0
      },
      "text/plain": [
       "HBox(children=(FloatProgress(value=0.0, max=30.0), HTML(value='')))"
      ]
     },
     "metadata": {},
     "output_type": "display_data"
    },
    {
     "name": "stdout",
     "output_type": "stream",
     "text": [
      "\n"
     ]
    }
   ],
   "source": [
    "for train_idx, test_idx, info in folds_with_stats:\n",
    "    print(f\"test range - from {info['Start date']} to {info['End date']}\")\n",
    "    train = df.loc[train_idx]\n",
    "    test = df.loc[test_idx]\n",
    "    print(f'train shape - {train.shape}, test shape - {test.shape}')\n",
    "    \n",
    "    train_mat = get_coo_matrix(train).tocsr()\n",
    "    \n",
    "    als_model = AlternatingLeastSquares(factors=32, iterations=30, num_threads=4)\n",
    "    als_model.fit(train_mat.T) \n",
    "    \n",
    "    mapper = generate_implicit_recs_mapper(als_model, train_mat, top_N, users_mapping, items_inv_mapping)\n",
    "    \n",
    "    recs = pd.DataFrame({\n",
    "        'user_id': test['user_id'].unique()\n",
    "    })\n",
    "    recs['item_id'] = recs['user_id'].map(mapper)\n",
    "    recs = recs.explode('item_id')\n",
    "    recs['rank'] = recs.groupby('user_id').cumcount() + 1\n",
    "    metrics = compute_metrics(test, recs, top_N)\n",
    "    \n",
    "    fold_result = pd.Series(metrics)\n",
    "    fold_result.at['Date'] = info['Start date']\n",
    "    fold_result.at['argv'] = 'factors=32 iterations=30'\n",
    "    fold_result.at['Model'] = als_model.__class__.__name__\n",
    "    \n",
    "    validation_results = validation_results.append(fold_result, ignore_index=True)"
   ]
  },
  {
   "cell_type": "code",
   "execution_count": 51,
   "metadata": {
    "execution": {
     "iopub.execute_input": "2020-10-25T11:10:13.752457Z",
     "iopub.status.busy": "2020-10-25T11:10:13.745512Z",
     "iopub.status.idle": "2020-10-25T11:10:13.756477Z",
     "shell.execute_reply": "2020-10-25T11:10:13.756965Z"
    },
    "papermill": {
     "duration": 0.113834,
     "end_time": "2020-10-25T11:10:13.757107",
     "exception": false,
     "start_time": "2020-10-25T11:10:13.643273",
     "status": "completed"
    },
    "tags": []
   },
   "outputs": [
    {
     "data": {
      "text/html": [
       "<div>\n",
       "<style scoped>\n",
       "    .dataframe tbody tr th:only-of-type {\n",
       "        vertical-align: middle;\n",
       "    }\n",
       "\n",
       "    .dataframe tbody tr th {\n",
       "        vertical-align: top;\n",
       "    }\n",
       "\n",
       "    .dataframe thead tr th {\n",
       "        text-align: left;\n",
       "    }\n",
       "\n",
       "    .dataframe thead tr:last-of-type th {\n",
       "        text-align: right;\n",
       "    }\n",
       "</style>\n",
       "<table border=\"1\" class=\"dataframe\">\n",
       "  <thead>\n",
       "    <tr>\n",
       "      <th></th>\n",
       "      <th></th>\n",
       "      <th colspan=\"4\" halign=\"left\">MRR</th>\n",
       "      <th colspan=\"4\" halign=\"left\">MAP@10</th>\n",
       "      <th colspan=\"4\" halign=\"left\">Recall@10</th>\n",
       "    </tr>\n",
       "    <tr>\n",
       "      <th></th>\n",
       "      <th></th>\n",
       "      <th>mean</th>\n",
       "      <th>std</th>\n",
       "      <th>min</th>\n",
       "      <th>max</th>\n",
       "      <th>mean</th>\n",
       "      <th>std</th>\n",
       "      <th>min</th>\n",
       "      <th>max</th>\n",
       "      <th>mean</th>\n",
       "      <th>std</th>\n",
       "      <th>min</th>\n",
       "      <th>max</th>\n",
       "    </tr>\n",
       "    <tr>\n",
       "      <th>Model</th>\n",
       "      <th>argv</th>\n",
       "      <th></th>\n",
       "      <th></th>\n",
       "      <th></th>\n",
       "      <th></th>\n",
       "      <th></th>\n",
       "      <th></th>\n",
       "      <th></th>\n",
       "      <th></th>\n",
       "      <th></th>\n",
       "      <th></th>\n",
       "      <th></th>\n",
       "      <th></th>\n",
       "    </tr>\n",
       "  </thead>\n",
       "  <tbody>\n",
       "    <tr>\n",
       "      <th>AlternatingLeastSquares</th>\n",
       "      <th>factors=32 iterations=30</th>\n",
       "      <td>0.005206</td>\n",
       "      <td>0.001122</td>\n",
       "      <td>0.003465</td>\n",
       "      <td>0.007109</td>\n",
       "      <td>0.004277</td>\n",
       "      <td>0.001080</td>\n",
       "      <td>0.002888</td>\n",
       "      <td>0.005930</td>\n",
       "      <td>0.011298</td>\n",
       "      <td>0.001814</td>\n",
       "      <td>0.009069</td>\n",
       "      <td>0.014591</td>\n",
       "    </tr>\n",
       "    <tr>\n",
       "      <th>BM25Recommender</th>\n",
       "      <th>K=10</th>\n",
       "      <td>0.015759</td>\n",
       "      <td>0.003429</td>\n",
       "      <td>0.010862</td>\n",
       "      <td>0.022296</td>\n",
       "      <td>0.013908</td>\n",
       "      <td>0.002880</td>\n",
       "      <td>0.009243</td>\n",
       "      <td>0.018977</td>\n",
       "      <td>0.029273</td>\n",
       "      <td>0.004234</td>\n",
       "      <td>0.024603</td>\n",
       "      <td>0.037113</td>\n",
       "    </tr>\n",
       "    <tr>\n",
       "      <th>TFIDFRecommender</th>\n",
       "      <th>K=10</th>\n",
       "      <td>0.015844</td>\n",
       "      <td>0.003811</td>\n",
       "      <td>0.011226</td>\n",
       "      <td>0.023071</td>\n",
       "      <td>0.014056</td>\n",
       "      <td>0.003195</td>\n",
       "      <td>0.010224</td>\n",
       "      <td>0.020040</td>\n",
       "      <td>0.029277</td>\n",
       "      <td>0.005309</td>\n",
       "      <td>0.023529</td>\n",
       "      <td>0.037929</td>\n",
       "    </tr>\n",
       "    <tr>\n",
       "      <th>cosine model</th>\n",
       "      <th>K=10</th>\n",
       "      <td>0.015466</td>\n",
       "      <td>0.003430</td>\n",
       "      <td>0.011132</td>\n",
       "      <td>0.021653</td>\n",
       "      <td>0.013769</td>\n",
       "      <td>0.002792</td>\n",
       "      <td>0.010155</td>\n",
       "      <td>0.018753</td>\n",
       "      <td>0.029178</td>\n",
       "      <td>0.006035</td>\n",
       "      <td>0.023708</td>\n",
       "      <td>0.039139</td>\n",
       "    </tr>\n",
       "  </tbody>\n",
       "</table>\n",
       "</div>"
      ],
      "text/plain": [
       "                                                       MRR            \\\n",
       "                                                      mean       std   \n",
       "Model                   argv                                           \n",
       "AlternatingLeastSquares factors=32 iterations=30  0.005206  0.001122   \n",
       "BM25Recommender         K=10                      0.015759  0.003429   \n",
       "TFIDFRecommender        K=10                      0.015844  0.003811   \n",
       "cosine model            K=10                      0.015466  0.003430   \n",
       "\n",
       "                                                                      \\\n",
       "                                                       min       max   \n",
       "Model                   argv                                           \n",
       "AlternatingLeastSquares factors=32 iterations=30  0.003465  0.007109   \n",
       "BM25Recommender         K=10                      0.010862  0.022296   \n",
       "TFIDFRecommender        K=10                      0.011226  0.023071   \n",
       "cosine model            K=10                      0.011132  0.021653   \n",
       "\n",
       "                                                    MAP@10            \\\n",
       "                                                      mean       std   \n",
       "Model                   argv                                           \n",
       "AlternatingLeastSquares factors=32 iterations=30  0.004277  0.001080   \n",
       "BM25Recommender         K=10                      0.013908  0.002880   \n",
       "TFIDFRecommender        K=10                      0.014056  0.003195   \n",
       "cosine model            K=10                      0.013769  0.002792   \n",
       "\n",
       "                                                                      \\\n",
       "                                                       min       max   \n",
       "Model                   argv                                           \n",
       "AlternatingLeastSquares factors=32 iterations=30  0.002888  0.005930   \n",
       "BM25Recommender         K=10                      0.009243  0.018977   \n",
       "TFIDFRecommender        K=10                      0.010224  0.020040   \n",
       "cosine model            K=10                      0.010155  0.018753   \n",
       "\n",
       "                                                 Recall@10            \\\n",
       "                                                      mean       std   \n",
       "Model                   argv                                           \n",
       "AlternatingLeastSquares factors=32 iterations=30  0.011298  0.001814   \n",
       "BM25Recommender         K=10                      0.029273  0.004234   \n",
       "TFIDFRecommender        K=10                      0.029277  0.005309   \n",
       "cosine model            K=10                      0.029178  0.006035   \n",
       "\n",
       "                                                                      \n",
       "                                                       min       max  \n",
       "Model                   argv                                          \n",
       "AlternatingLeastSquares factors=32 iterations=30  0.009069  0.014591  \n",
       "BM25Recommender         K=10                      0.024603  0.037113  \n",
       "TFIDFRecommender        K=10                      0.023529  0.037929  \n",
       "cosine model            K=10                      0.023708  0.039139  "
      ]
     },
     "execution_count": 51,
     "metadata": {},
     "output_type": "execute_result"
    }
   ],
   "source": [
    "validation_results.groupby(['Model', 'argv']).agg({\n",
    "    'MRR': ['mean', 'std', 'min', 'max'],\n",
    "    'MAP@10': ['mean', 'std', 'min', 'max'],\n",
    "    'Recall@10': ['mean', 'std', 'min', 'max'],\n",
    "})"
   ]
  },
  {
   "cell_type": "code",
   "execution_count": 52,
   "metadata": {
    "execution": {
     "iopub.execute_input": "2020-10-25T11:10:14.008154Z",
     "iopub.status.busy": "2020-10-25T11:10:14.007247Z",
     "iopub.status.idle": "2020-10-25T11:10:14.011250Z",
     "shell.execute_reply": "2020-10-25T11:10:14.011610Z"
    },
    "papermill": {
     "duration": 0.131779,
     "end_time": "2020-10-25T11:10:14.011728",
     "exception": false,
     "start_time": "2020-10-25T11:10:13.879949",
     "status": "completed"
    },
    "tags": []
   },
   "outputs": [
    {
     "data": {
      "text/plain": [
       "((151599, 32), (59599, 32))"
      ]
     },
     "execution_count": 52,
     "metadata": {},
     "output_type": "execute_result"
    }
   ],
   "source": [
    "als_model.user_factors.shape, als_model.item_factors.shape"
   ]
  },
  {
   "cell_type": "code",
   "execution_count": 53,
   "metadata": {
    "execution": {
     "iopub.execute_input": "2020-10-25T11:10:14.183440Z",
     "iopub.status.busy": "2020-10-25T11:10:14.182994Z",
     "iopub.status.idle": "2020-10-25T11:10:14.197638Z",
     "shell.execute_reply": "2020-10-25T11:10:14.197185Z"
    },
    "papermill": {
     "duration": 0.101114,
     "end_time": "2020-10-25T11:10:14.197722",
     "exception": false,
     "start_time": "2020-10-25T11:10:14.096608",
     "status": "completed"
    },
    "tags": []
   },
   "outputs": [
    {
     "data": {
      "text/html": [
       "<div>\n",
       "<style scoped>\n",
       "    .dataframe tbody tr th:only-of-type {\n",
       "        vertical-align: middle;\n",
       "    }\n",
       "\n",
       "    .dataframe tbody tr th {\n",
       "        vertical-align: top;\n",
       "    }\n",
       "\n",
       "    .dataframe thead th {\n",
       "        text-align: right;\n",
       "    }\n",
       "</style>\n",
       "<table border=\"1\" class=\"dataframe\">\n",
       "  <thead>\n",
       "    <tr style=\"text-align: right;\">\n",
       "      <th></th>\n",
       "      <th>col_id</th>\n",
       "      <th>similarity</th>\n",
       "      <th>item_id</th>\n",
       "      <th>title</th>\n",
       "    </tr>\n",
       "  </thead>\n",
       "  <tbody>\n",
       "    <tr>\n",
       "      <th>0</th>\n",
       "      <td>1466</td>\n",
       "      <td>1.000000</td>\n",
       "      <td>60193</td>\n",
       "      <td>мастер и маргарита</td>\n",
       "    </tr>\n",
       "    <tr>\n",
       "      <th>1</th>\n",
       "      <td>20491</td>\n",
       "      <td>0.965694</td>\n",
       "      <td>122087</td>\n",
       "      <td>граф монте-кристо</td>\n",
       "    </tr>\n",
       "    <tr>\n",
       "      <th>2</th>\n",
       "      <td>9833</td>\n",
       "      <td>0.962352</td>\n",
       "      <td>292402</td>\n",
       "      <td>тарас бульба</td>\n",
       "    </tr>\n",
       "    <tr>\n",
       "      <th>3</th>\n",
       "      <td>2740</td>\n",
       "      <td>0.961435</td>\n",
       "      <td>126875</td>\n",
       "      <td>идиот</td>\n",
       "    </tr>\n",
       "    <tr>\n",
       "      <th>4</th>\n",
       "      <td>12794</td>\n",
       "      <td>0.958931</td>\n",
       "      <td>253765</td>\n",
       "      <td>война и мир. том 1</td>\n",
       "    </tr>\n",
       "    <tr>\n",
       "      <th>5</th>\n",
       "      <td>736</td>\n",
       "      <td>0.958333</td>\n",
       "      <td>82566</td>\n",
       "      <td>превращение</td>\n",
       "    </tr>\n",
       "    <tr>\n",
       "      <th>6</th>\n",
       "      <td>4441</td>\n",
       "      <td>0.958249</td>\n",
       "      <td>252228</td>\n",
       "      <td>мастер и маргарита (иллюстрированное издание)</td>\n",
       "    </tr>\n",
       "    <tr>\n",
       "      <th>7</th>\n",
       "      <td>26581</td>\n",
       "      <td>0.957401</td>\n",
       "      <td>183142</td>\n",
       "      <td>собачье сердце</td>\n",
       "    </tr>\n",
       "    <tr>\n",
       "      <th>8</th>\n",
       "      <td>1934</td>\n",
       "      <td>0.952757</td>\n",
       "      <td>218707</td>\n",
       "      <td>маленький принц</td>\n",
       "    </tr>\n",
       "    <tr>\n",
       "      <th>9</th>\n",
       "      <td>12460</td>\n",
       "      <td>0.950674</td>\n",
       "      <td>200356</td>\n",
       "      <td>игрок</td>\n",
       "    </tr>\n",
       "  </tbody>\n",
       "</table>\n",
       "</div>"
      ],
      "text/plain": [
       "   col_id  similarity  item_id                                          title\n",
       "0    1466    1.000000    60193                             мастер и маргарита\n",
       "1   20491    0.965694   122087                              граф монте-кристо\n",
       "2    9833    0.962352   292402                                   тарас бульба\n",
       "3    2740    0.961435   126875                                          идиот\n",
       "4   12794    0.958931   253765                             война и мир. том 1\n",
       "5     736    0.958333    82566                                    превращение\n",
       "6    4441    0.958249   252228  мастер и маргарита (иллюстрированное издание)\n",
       "7   26581    0.957401   183142                                 собачье сердце\n",
       "8    1934    0.952757   218707                                маленький принц\n",
       "9   12460    0.950674   200356                                          игрок"
      ]
     },
     "execution_count": 53,
     "metadata": {},
     "output_type": "execute_result"
    }
   ],
   "source": [
    "get_similar_books('мастер и маргарита', als_model)"
   ]
  },
  {
   "cell_type": "code",
   "execution_count": 54,
   "metadata": {
    "execution": {
     "iopub.execute_input": "2020-10-25T11:10:14.369972Z",
     "iopub.status.busy": "2020-10-25T11:10:14.369249Z",
     "iopub.status.idle": "2020-10-25T11:10:14.382216Z",
     "shell.execute_reply": "2020-10-25T11:10:14.381845Z"
    },
    "papermill": {
     "duration": 0.10147,
     "end_time": "2020-10-25T11:10:14.382298",
     "exception": false,
     "start_time": "2020-10-25T11:10:14.280828",
     "status": "completed"
    },
    "tags": []
   },
   "outputs": [
    {
     "data": {
      "text/html": [
       "<div>\n",
       "<style scoped>\n",
       "    .dataframe tbody tr th:only-of-type {\n",
       "        vertical-align: middle;\n",
       "    }\n",
       "\n",
       "    .dataframe tbody tr th {\n",
       "        vertical-align: top;\n",
       "    }\n",
       "\n",
       "    .dataframe thead th {\n",
       "        text-align: right;\n",
       "    }\n",
       "</style>\n",
       "<table border=\"1\" class=\"dataframe\">\n",
       "  <thead>\n",
       "    <tr style=\"text-align: right;\">\n",
       "      <th></th>\n",
       "      <th>col_id</th>\n",
       "      <th>similarity</th>\n",
       "      <th>item_id</th>\n",
       "      <th>title</th>\n",
       "    </tr>\n",
       "  </thead>\n",
       "  <tbody>\n",
       "    <tr>\n",
       "      <th>0</th>\n",
       "      <td>23397</td>\n",
       "      <td>1.000000</td>\n",
       "      <td>235407</td>\n",
       "      <td>пикник на обочине</td>\n",
       "    </tr>\n",
       "    <tr>\n",
       "      <th>1</th>\n",
       "      <td>30137</td>\n",
       "      <td>0.934646</td>\n",
       "      <td>186043</td>\n",
       "      <td>вечера на хуторе близ диканьки</td>\n",
       "    </tr>\n",
       "    <tr>\n",
       "      <th>2</th>\n",
       "      <td>39976</td>\n",
       "      <td>0.932771</td>\n",
       "      <td>94631</td>\n",
       "      <td>трудно быть богом</td>\n",
       "    </tr>\n",
       "    <tr>\n",
       "      <th>3</th>\n",
       "      <td>13530</td>\n",
       "      <td>0.930742</td>\n",
       "      <td>13395</td>\n",
       "      <td>террор</td>\n",
       "    </tr>\n",
       "    <tr>\n",
       "      <th>4</th>\n",
       "      <td>2772</td>\n",
       "      <td>0.923324</td>\n",
       "      <td>139440</td>\n",
       "      <td>аврора</td>\n",
       "    </tr>\n",
       "    <tr>\n",
       "      <th>5</th>\n",
       "      <td>1925</td>\n",
       "      <td>0.921072</td>\n",
       "      <td>78340</td>\n",
       "      <td>большая телега</td>\n",
       "    </tr>\n",
       "    <tr>\n",
       "      <th>6</th>\n",
       "      <td>8237</td>\n",
       "      <td>0.919252</td>\n",
       "      <td>208935</td>\n",
       "      <td>понедельник начинается в субботу</td>\n",
       "    </tr>\n",
       "    <tr>\n",
       "      <th>7</th>\n",
       "      <td>2797</td>\n",
       "      <td>0.917212</td>\n",
       "      <td>107656</td>\n",
       "      <td>пять недель на воздушном шаре</td>\n",
       "    </tr>\n",
       "    <tr>\n",
       "      <th>8</th>\n",
       "      <td>5720</td>\n",
       "      <td>0.916713</td>\n",
       "      <td>159436</td>\n",
       "      <td>роковые яйца</td>\n",
       "    </tr>\n",
       "    <tr>\n",
       "      <th>9</th>\n",
       "      <td>4909</td>\n",
       "      <td>0.916253</td>\n",
       "      <td>151190</td>\n",
       "      <td>история государства российского. том 2. от вел...</td>\n",
       "    </tr>\n",
       "  </tbody>\n",
       "</table>\n",
       "</div>"
      ],
      "text/plain": [
       "   col_id  similarity  item_id  \\\n",
       "0   23397    1.000000   235407   \n",
       "1   30137    0.934646   186043   \n",
       "2   39976    0.932771    94631   \n",
       "3   13530    0.930742    13395   \n",
       "4    2772    0.923324   139440   \n",
       "5    1925    0.921072    78340   \n",
       "6    8237    0.919252   208935   \n",
       "7    2797    0.917212   107656   \n",
       "8    5720    0.916713   159436   \n",
       "9    4909    0.916253   151190   \n",
       "\n",
       "                                               title  \n",
       "0                                  пикник на обочине  \n",
       "1                     вечера на хуторе близ диканьки  \n",
       "2                                  трудно быть богом  \n",
       "3                                             террор  \n",
       "4                                             аврора  \n",
       "5                                     большая телега  \n",
       "6                   понедельник начинается в субботу  \n",
       "7                      пять недель на воздушном шаре  \n",
       "8                                       роковые яйца  \n",
       "9  история государства российского. том 2. от вел...  "
      ]
     },
     "execution_count": 54,
     "metadata": {},
     "output_type": "execute_result"
    }
   ],
   "source": [
    "get_similar_books('пикник на обочине', als_model)"
   ]
  },
  {
   "cell_type": "code",
   "execution_count": 55,
   "metadata": {
    "execution": {
     "iopub.execute_input": "2020-10-25T11:10:14.556244Z",
     "iopub.status.busy": "2020-10-25T11:10:14.555470Z",
     "iopub.status.idle": "2020-10-25T11:10:14.567929Z",
     "shell.execute_reply": "2020-10-25T11:10:14.567473Z"
    },
    "papermill": {
     "duration": 0.101163,
     "end_time": "2020-10-25T11:10:14.568008",
     "exception": false,
     "start_time": "2020-10-25T11:10:14.466845",
     "status": "completed"
    },
    "tags": []
   },
   "outputs": [
    {
     "data": {
      "text/plain": [
       "[(0, 1.0),\n",
       " (50230, 0.977332),\n",
       " (132029, 0.9770293),\n",
       " (31360, 0.97594684),\n",
       " (58022, 0.97385883)]"
      ]
     },
     "execution_count": 55,
     "metadata": {},
     "output_type": "execute_result"
    }
   ],
   "source": [
    "similar_users = als_model.similar_users(0, N=5)\n",
    "similar_users"
   ]
  },
  {
   "cell_type": "code",
   "execution_count": 56,
   "metadata": {
    "execution": {
     "iopub.execute_input": "2020-10-25T11:10:14.744462Z",
     "iopub.status.busy": "2020-10-25T11:10:14.743839Z",
     "iopub.status.idle": "2020-10-25T11:10:14.765381Z",
     "shell.execute_reply": "2020-10-25T11:10:14.765965Z"
    },
    "papermill": {
     "duration": 0.112052,
     "end_time": "2020-10-25T11:10:14.766090",
     "exception": false,
     "start_time": "2020-10-25T11:10:14.654038",
     "status": "completed"
    },
    "tags": []
   },
   "outputs": [
    {
     "name": "stdout",
     "output_type": "stream",
     "text": [
      "User ID - 138614 (1.0000)\n",
      "   осторожно, триггеры (сборник)\n",
      "           тайна «железной дамы»\n",
      "           ваз. ремонт двигателя\n",
      " мата хари. танец любви и смерти\n",
      "               бегущая по волнам\n",
      "               королевский квест\n",
      "            коготь велоцираптора\n",
      "User ID - 133127 (0.9491)\n",
      "                 создание интернет-магазина\n",
      "     таинственный дом в туманном поднебесье\n",
      " коммерсантъ (понедельник-пятница) 165-2019\n",
      "                          бегущая по волнам\n",
      "                   почти умер, чтобы выжить\n",
      "                  сказка, повесть и рассказ\n",
      "                   дыра. путь на ту сторону\n",
      "                          дневник марафонца\n",
      "   лайфхаки по управлению личными финансами\n",
      "User ID - 144984 (0.9202)\n",
      "        роза для палача\n",
      "        дама с собачкой\n",
      "             палата № 6\n",
      "           черная весна\n",
      "               машенька\n",
      "                о любви\n",
      "                  гроза\n",
      "                     мы\n",
      "   все мои враги мертвы\n",
      " валлия. обретение дара\n",
      "            остров крым\n",
      "User ID - 108720 (0.9165)\n",
      "      медвежонок паддингтон на карнавале\n",
      "                     секрет рыжей ведьмы\n",
      "                               дети лета\n",
      "                         цвет волшебства\n",
      " ричард длинные руки. демон огня и стали\n",
      "                            вишневый сад\n",
      "User ID - 133926 (0.9142)\n",
      "                японские заметки\n",
      "    мужчины: секретные материалы\n",
      "                         о любви\n",
      "                      палата № 6\n",
      " путь шамана. шахматы кармадонта\n"
     ]
    }
   ],
   "source": [
    "similar_users = als_model.similar_users(144, N=5)\n",
    "for (uid, sim) in similar_users:\n",
    "    user_id = users_inv_mapping[uid]\n",
    "    print(f'User ID - {user_id} ({sim:.4f})')\n",
    "    user_mask = train['user_id'] == user_id\n",
    "    user_items = train.loc[user_mask, 'item_id'].map(item_titles.get)\n",
    "    print(user_items.to_string(index=False))"
   ]
  },
  {
   "cell_type": "markdown",
   "metadata": {
    "papermill": {
     "duration": 0.128867,
     "end_time": "2020-10-25T11:10:15.030618",
     "exception": false,
     "start_time": "2020-10-25T11:10:14.901751",
     "status": "completed"
    },
    "tags": []
   },
   "source": [
    "<a id=\"lightfm\"></a>\n",
    "# LightFM\n",
    "\n",
    "Библиотека для построения рекомендательных систем с помощью матричных разложений и фичей\n",
    "* Репо - https://github.com/lyst/lightfm\n",
    "* Документация - https://making.lyst.com/lightfm/docs/home.html\n",
    "\n",
    "Входные данные - разреженные матрицы (либо csr_matrix, либо coo_matrix)\n",
    "Модель одна, варируются только loss functions. Также есть вспомогательный класс lightfm.data.Dataset для построения как матрицы взаимодействий, так и матриц фичей"
   ]
  },
  {
   "attachments": {
    "image.png": {
     "image/png": "[encoded data removed]"
    }
   },
   "cell_type": "markdown",
   "metadata": {
    "papermill": {
     "duration": 0.127898,
     "end_time": "2020-10-25T11:10:15.292217",
     "exception": false,
     "start_time": "2020-10-25T11:10:15.164319",
     "status": "completed"
    },
    "tags": []
   },
   "source": [
    "**Основая идея** - построить векторные представления для каждой фичи по пользователю и объекту. Если фичей нет, то просто используем индикаторные фичи (единичная матрица по пользователям и объектам соответственно)\n",
    "![image.png](attachment:image.png)\n",
    "[image source](https://sites.northwestern.edu/msia/2019/04/24/personalized-restaurant-recommender-system-using-hybrid-approach/#:~:text=LightFM%20incorporates%20matrix%20factorization%20model,retain%20the%20original%20interaction%20matrix.&text=The%20latent%20embeddings%20could%20capture,items%2C%20which%20represent%20their%20tastes.)"
   ]
  },
  {
   "attachments": {},
   "cell_type": "markdown",
   "metadata": {
    "papermill": {
     "duration": 0.126983,
     "end_time": "2020-10-25T11:10:15.547529",
     "exception": false,
     "start_time": "2020-10-25T11:10:15.420546",
     "status": "completed"
    },
    "tags": []
   },
   "source": [
    "**Векорное представление** - векторы для пользователя и объекта получают суммирование векторов их фичей.\n",
    "\n",
    "**Процесс построения рекомендаций** - для конкретного пользователя ищутся такие объекты, что скалярное произведение их векторов максимально.\n",
    "\n",
    "**Пространство для тюнинга** \n",
    "* взвешивание на уровне таблицы\n",
    "* `loss` - обучение функции ранжирования.\n",
    "    * `logistic`\n",
    "    * `bpr`\n",
    "    * `warp`\n",
    "    * `warp-kos`\n",
    "* `no_components` - размерность итоговых векторов (обычно степени 2-ки, от 16 до 256)\n",
    "* `learning_rate` - \"скорость\" обучения\n",
    "* `item_alpha`/`user_alpha` - регуляризация (степени 10-ки, от 0.0001 до 1)"
   ]
  },
  {
   "cell_type": "code",
   "execution_count": 57,
   "metadata": {
    "execution": {
     "iopub.execute_input": "2020-10-25T11:10:15.806536Z",
     "iopub.status.busy": "2020-10-25T11:10:15.806031Z",
     "iopub.status.idle": "2020-10-25T11:10:16.354621Z",
     "shell.execute_reply": "2020-10-25T11:10:16.354994Z"
    },
    "papermill": {
     "duration": 0.679955,
     "end_time": "2020-10-25T11:10:16.355104",
     "exception": false,
     "start_time": "2020-10-25T11:10:15.675149",
     "status": "completed"
    },
    "tags": []
   },
   "outputs": [],
   "source": [
    "from lightfm.data import Dataset\n",
    "from lightfm import LightFM"
   ]
  },
  {
   "cell_type": "code",
   "execution_count": 58,
   "metadata": {
    "execution": {
     "iopub.execute_input": "2020-10-25T11:10:16.532480Z",
     "iopub.status.busy": "2020-10-25T11:10:16.532016Z",
     "iopub.status.idle": "2020-10-25T11:10:16.534388Z",
     "shell.execute_reply": "2020-10-25T11:10:16.534006Z"
    },
    "papermill": {
     "duration": 0.094221,
     "end_time": "2020-10-25T11:10:16.534471",
     "exception": false,
     "start_time": "2020-10-25T11:10:16.440250",
     "status": "completed"
    },
    "tags": []
   },
   "outputs": [],
   "source": [
    "dataset = Dataset()"
   ]
  },
  {
   "cell_type": "code",
   "execution_count": 59,
   "metadata": {
    "execution": {
     "iopub.execute_input": "2020-10-25T11:10:16.713519Z",
     "iopub.status.busy": "2020-10-25T11:10:16.713094Z",
     "iopub.status.idle": "2020-10-25T11:10:16.935336Z",
     "shell.execute_reply": "2020-10-25T11:10:16.935686Z"
    },
    "papermill": {
     "duration": 0.314023,
     "end_time": "2020-10-25T11:10:16.935821",
     "exception": false,
     "start_time": "2020-10-25T11:10:16.621798",
     "status": "completed"
    },
    "tags": []
   },
   "outputs": [],
   "source": [
    "dataset.fit(df['user_id'].unique(), df['item_id'].unique())"
   ]
  },
  {
   "cell_type": "code",
   "execution_count": 60,
   "metadata": {
    "execution": {
     "iopub.execute_input": "2020-10-25T11:10:17.137316Z",
     "iopub.status.busy": "2020-10-25T11:10:17.136882Z",
     "iopub.status.idle": "2020-10-25T11:10:17.143661Z",
     "shell.execute_reply": "2020-10-25T11:10:17.143297Z"
    },
    "papermill": {
     "duration": 0.099613,
     "end_time": "2020-10-25T11:10:17.143741",
     "exception": false,
     "start_time": "2020-10-25T11:10:17.044128",
     "status": "completed"
    },
    "tags": []
   },
   "outputs": [
    {
     "data": {
      "text/plain": [
       "['45_54', '18_24', '65_inf', '35_44', '55_64', '25_34', 'age_unknown']\n",
       "Categories (7, object): ['45_54', '18_24', '65_inf', '35_44', '55_64', '25_34', 'age_unknown']"
      ]
     },
     "execution_count": 60,
     "metadata": {},
     "output_type": "execute_result"
    }
   ],
   "source": [
    "df_users['age'] = df_users['age'].cat.add_categories('age_unknown')\n",
    "df_users['age'] = df_users['age'].fillna('age_unknown')\n",
    "age_features = df_users['age'].unique()\n",
    "age_features"
   ]
  },
  {
   "cell_type": "code",
   "execution_count": 61,
   "metadata": {
    "execution": {
     "iopub.execute_input": "2020-10-25T11:10:17.374196Z",
     "iopub.status.busy": "2020-10-25T11:10:17.319144Z",
     "iopub.status.idle": "2020-10-25T11:10:17.406614Z",
     "shell.execute_reply": "2020-10-25T11:10:17.406175Z"
    },
    "papermill": {
     "duration": 0.177147,
     "end_time": "2020-10-25T11:10:17.406694",
     "exception": false,
     "start_time": "2020-10-25T11:10:17.229547",
     "status": "completed"
    },
    "tags": []
   },
   "outputs": [
    {
     "data": {
      "text/plain": [
       "array(['nan', '0.0', '1.0'], dtype=object)"
      ]
     },
     "execution_count": 61,
     "metadata": {},
     "output_type": "execute_result"
    }
   ],
   "source": [
    "df_users['sex'] = np.array(df_users['sex'].astype(str))\n",
    "df_users['sex'] = df_users['sex'].fillna('age_unknown')\n",
    "sex_features = df_users['sex'].unique()\n",
    "sex_features"
   ]
  },
  {
   "cell_type": "code",
   "execution_count": 62,
   "metadata": {
    "execution": {
     "iopub.execute_input": "2020-10-25T11:10:17.581590Z",
     "iopub.status.busy": "2020-10-25T11:10:17.581009Z",
     "iopub.status.idle": "2020-10-25T11:10:17.585815Z",
     "shell.execute_reply": "2020-10-25T11:10:17.585304Z"
    },
    "papermill": {
     "duration": 0.094325,
     "end_time": "2020-10-25T11:10:17.585918",
     "exception": false,
     "start_time": "2020-10-25T11:10:17.491593",
     "status": "completed"
    },
    "tags": []
   },
   "outputs": [
    {
     "data": {
      "text/plain": [
       "array(['45_54', '18_24', '65_inf', '35_44', '55_64', '25_34',\n",
       "       'age_unknown', 'nan', '0.0', '1.0'], dtype=object)"
      ]
     },
     "execution_count": 62,
     "metadata": {},
     "output_type": "execute_result"
    }
   ],
   "source": [
    "users_features = np.append(age_features, sex_features)\n",
    "users_features"
   ]
  },
  {
   "cell_type": "code",
   "execution_count": 63,
   "metadata": {
    "execution": {
     "iopub.execute_input": "2020-10-25T11:10:17.850276Z",
     "iopub.status.busy": "2020-10-25T11:10:17.849810Z",
     "iopub.status.idle": "2020-10-25T11:10:17.851480Z",
     "shell.execute_reply": "2020-10-25T11:10:17.851834Z"
    },
    "papermill": {
     "duration": 0.135617,
     "end_time": "2020-10-25T11:10:17.851952",
     "exception": false,
     "start_time": "2020-10-25T11:10:17.716335",
     "status": "completed"
    },
    "tags": []
   },
   "outputs": [],
   "source": [
    "dataset.fit_partial(user_features=users_features)"
   ]
  },
  {
   "cell_type": "code",
   "execution_count": 64,
   "metadata": {
    "execution": {
     "iopub.execute_input": "2020-10-25T11:10:18.041787Z",
     "iopub.status.busy": "2020-10-25T11:10:18.041328Z",
     "iopub.status.idle": "2020-10-25T11:10:18.162125Z",
     "shell.execute_reply": "2020-10-25T11:10:18.161720Z"
    },
    "papermill": {
     "duration": 0.222058,
     "end_time": "2020-10-25T11:10:18.162209",
     "exception": false,
     "start_time": "2020-10-25T11:10:17.940151",
     "status": "completed"
    },
    "tags": []
   },
   "outputs": [
    {
     "data": {
      "text/plain": [
       "641"
      ]
     },
     "execution_count": 64,
     "metadata": {},
     "output_type": "execute_result"
    }
   ],
   "source": [
    "df_items['genres'] = df_items['genres'].cat.add_categories('genre_unknown')\n",
    "df_items['genres'] = df_items['genres'].fillna('genre_unknown')\n",
    "genres = list(df_items['genres'].str.split(',').explode().unique())\n",
    "len(genres)"
   ]
  },
  {
   "cell_type": "code",
   "execution_count": 65,
   "metadata": {
    "execution": {
     "iopub.execute_input": "2020-10-25T11:10:18.339148Z",
     "iopub.status.busy": "2020-10-25T11:10:18.338350Z",
     "iopub.status.idle": "2020-10-25T11:10:18.341195Z",
     "shell.execute_reply": "2020-10-25T11:10:18.340667Z"
    },
    "papermill": {
     "duration": 0.093141,
     "end_time": "2020-10-25T11:10:18.341302",
     "exception": false,
     "start_time": "2020-10-25T11:10:18.248161",
     "status": "completed"
    },
    "tags": []
   },
   "outputs": [],
   "source": [
    "dataset.fit_partial(item_features=genres)"
   ]
  },
  {
   "cell_type": "code",
   "execution_count": 66,
   "metadata": {
    "execution": {
     "iopub.execute_input": "2020-10-25T11:10:18.603813Z",
     "iopub.status.busy": "2020-10-25T11:10:18.603366Z",
     "iopub.status.idle": "2020-10-25T11:10:18.606315Z",
     "shell.execute_reply": "2020-10-25T11:10:18.606683Z"
    },
    "papermill": {
     "duration": 0.135982,
     "end_time": "2020-10-25T11:10:18.606804",
     "exception": false,
     "start_time": "2020-10-25T11:10:18.470822",
     "status": "completed"
    },
    "tags": []
   },
   "outputs": [
    {
     "data": {
      "text/plain": [
       "(151600, 59599)"
      ]
     },
     "execution_count": 66,
     "metadata": {},
     "output_type": "execute_result"
    }
   ],
   "source": [
    "num_users, num_items = dataset.interactions_shape()\n",
    "num_users, num_items"
   ]
  },
  {
   "cell_type": "code",
   "execution_count": 67,
   "metadata": {
    "execution": {
     "iopub.execute_input": "2020-10-25T11:10:18.788044Z",
     "iopub.status.busy": "2020-10-25T11:10:18.787389Z",
     "iopub.status.idle": "2020-10-25T11:10:18.792584Z",
     "shell.execute_reply": "2020-10-25T11:10:18.792217Z"
    },
    "papermill": {
     "duration": 0.098808,
     "end_time": "2020-10-25T11:10:18.792656",
     "exception": false,
     "start_time": "2020-10-25T11:10:18.693848",
     "status": "completed"
    },
    "tags": []
   },
   "outputs": [
    {
     "name": "stdout",
     "output_type": "stream",
     "text": [
      "users_mapping len -  151600\n",
      "user_features_mapping len -  151610\n",
      "items_mapping len -  59599\n",
      "Users item_features_mapping len -  60240\n"
     ]
    }
   ],
   "source": [
    "lightfm_mapping = dataset.mapping()\n",
    "lightfm_mapping = {\n",
    "    'users_mapping': lightfm_mapping[0],\n",
    "    'user_features_mapping': lightfm_mapping[1],\n",
    "    'items_mapping': lightfm_mapping[2],\n",
    "    'item_features_mapping': lightfm_mapping[3],\n",
    "}\n",
    "print('users_mapping len - ', len(lightfm_mapping['users_mapping']))\n",
    "print('user_features_mapping len - ', len(lightfm_mapping['user_features_mapping']))\n",
    "print('items_mapping len - ', len(lightfm_mapping['items_mapping']))\n",
    "print('Users item_features_mapping len - ', len(lightfm_mapping['item_features_mapping']))"
   ]
  },
  {
   "cell_type": "code",
   "execution_count": 68,
   "metadata": {
    "execution": {
     "iopub.execute_input": "2020-10-25T11:10:18.982889Z",
     "iopub.status.busy": "2020-10-25T11:10:18.972487Z",
     "iopub.status.idle": "2020-10-25T11:10:18.988249Z",
     "shell.execute_reply": "2020-10-25T11:10:18.987903Z"
    },
    "papermill": {
     "duration": 0.109637,
     "end_time": "2020-10-25T11:10:18.988322",
     "exception": false,
     "start_time": "2020-10-25T11:10:18.878685",
     "status": "completed"
    },
    "tags": []
   },
   "outputs": [],
   "source": [
    "lightfm_mapping['users_inv_mapping'] = {v: k for k, v in lightfm_mapping['users_mapping'].items()}\n",
    "lightfm_mapping['items_inv_mapping'] = {v: k for k, v in lightfm_mapping['items_mapping'].items()}"
   ]
  },
  {
   "cell_type": "code",
   "execution_count": 69,
   "metadata": {
    "execution": {
     "iopub.execute_input": "2020-10-25T11:10:19.170822Z",
     "iopub.status.busy": "2020-10-25T11:10:19.170168Z",
     "iopub.status.idle": "2020-10-25T11:10:19.174309Z",
     "shell.execute_reply": "2020-10-25T11:10:19.173803Z"
    },
    "papermill": {
     "duration": 0.096457,
     "end_time": "2020-10-25T11:10:19.174419",
     "exception": false,
     "start_time": "2020-10-25T11:10:19.077962",
     "status": "completed"
    },
    "tags": []
   },
   "outputs": [
    {
     "name": "stdout",
     "output_type": "stream",
     "text": [
      "Num user features: 10 -> 151610\n",
      "num item features: 641 -> 60240.\n"
     ]
    }
   ],
   "source": [
    "num_user_features = dataset.user_features_shape()\n",
    "num_show_features = dataset.item_features_shape()\n",
    "print('Num user features: {} -> {}\\nnum item features: {} -> {}.'.format(\n",
    "    num_user_features[1] - num_users, num_user_features[1], \n",
    "    num_show_features[1] - num_items, num_show_features[1]))"
   ]
  },
  {
   "cell_type": "markdown",
   "metadata": {
    "papermill": {
     "duration": 0.08855,
     "end_time": "2020-10-25T11:10:19.352948",
     "exception": false,
     "start_time": "2020-10-25T11:10:19.264398",
     "status": "completed"
    },
    "tags": []
   },
   "source": [
    "Как собрать теперь наши матрицы. \n",
    "* Для интеракций нужен итератор на \n",
    "    * `[(user_id1, item_id1), (user_id2, item_id2), ...]`  \n",
    "    * `[(user_id1, item_id1, weight), (user_id2, item_id2, weight), ...]`\n",
    "* Для фичей нужен итератор на \n",
    "    * `[(id, [feature1, feature2, ...]), (id, [feature1, feature2, ...]), ...]`  \n",
    "    * `[(id, {feature1: weight}), (id, {feature1: weight}), ...]`"
   ]
  },
  {
   "cell_type": "code",
   "execution_count": 70,
   "metadata": {
    "execution": {
     "iopub.execute_input": "2020-10-25T11:10:19.534934Z",
     "iopub.status.busy": "2020-10-25T11:10:19.534261Z",
     "iopub.status.idle": "2020-10-25T11:10:19.537142Z",
     "shell.execute_reply": "2020-10-25T11:10:19.536550Z"
    },
    "papermill": {
     "duration": 0.095945,
     "end_time": "2020-10-25T11:10:19.537249",
     "exception": false,
     "start_time": "2020-10-25T11:10:19.441304",
     "status": "completed"
    },
    "tags": []
   },
   "outputs": [],
   "source": [
    "def df_to_tuple_iterator(df):\n",
    "    return zip(*df.values.T)\n",
    "\n",
    "def concat_last_to_list(t):\n",
    "    return (t[0], list(t[1:])[0])\n",
    "\n",
    "def df_to_tuple_list_iterator(df):\n",
    "    return map(concat_last_to_list, zip(*df.values.T))"
   ]
  },
  {
   "cell_type": "code",
   "execution_count": 71,
   "metadata": {
    "execution": {
     "iopub.execute_input": "2020-10-25T11:10:19.808074Z",
     "iopub.status.busy": "2020-10-25T11:10:19.807348Z",
     "iopub.status.idle": "2020-10-25T11:10:19.877657Z",
     "shell.execute_reply": "2020-10-25T11:10:19.877259Z"
    },
    "papermill": {
     "duration": 0.207336,
     "end_time": "2020-10-25T11:10:19.877743",
     "exception": false,
     "start_time": "2020-10-25T11:10:19.670407",
     "status": "completed"
    },
    "tags": []
   },
   "outputs": [],
   "source": [
    "train_idx, test_idx, info = folds_with_stats[0]\n",
    "\n",
    "train = df.loc[train_idx]\n",
    "test = df.loc[test_idx]"
   ]
  },
  {
   "cell_type": "code",
   "execution_count": 72,
   "metadata": {
    "execution": {
     "iopub.execute_input": "2020-10-25T11:10:20.067913Z",
     "iopub.status.busy": "2020-10-25T11:10:20.062951Z",
     "iopub.status.idle": "2020-10-25T11:10:24.101555Z",
     "shell.execute_reply": "2020-10-25T11:10:24.102105Z"
    },
    "papermill": {
     "duration": 4.13628,
     "end_time": "2020-10-25T11:10:24.102260",
     "exception": false,
     "start_time": "2020-10-25T11:10:19.965980",
     "status": "completed"
    },
    "tags": []
   },
   "outputs": [
    {
     "data": {
      "text/plain": [
       "<151600x59599 sparse matrix of type '<class 'numpy.int32'>'\n",
       "\twith 1515946 stored elements in COOrdinate format>"
      ]
     },
     "execution_count": 72,
     "metadata": {},
     "output_type": "execute_result"
    }
   ],
   "source": [
    "train_mat, train_mat_weights = dataset.build_interactions(df_to_tuple_iterator(train[['user_id', 'item_id']]))\n",
    "train_mat"
   ]
  },
  {
   "cell_type": "code",
   "execution_count": 73,
   "metadata": {
    "execution": {
     "iopub.execute_input": "2020-10-25T11:10:24.338104Z",
     "iopub.status.busy": "2020-10-25T11:10:24.337418Z",
     "iopub.status.idle": "2020-10-25T11:10:24.341477Z",
     "shell.execute_reply": "2020-10-25T11:10:24.341835Z"
    },
    "papermill": {
     "duration": 0.120106,
     "end_time": "2020-10-25T11:10:24.341932",
     "exception": false,
     "start_time": "2020-10-25T11:10:24.221826",
     "status": "completed"
    },
    "tags": []
   },
   "outputs": [
    {
     "data": {
      "text/plain": [
       "<151600x59599 sparse matrix of type '<class 'numpy.float32'>'\n",
       "\twith 1515946 stored elements in COOrdinate format>"
      ]
     },
     "execution_count": 73,
     "metadata": {},
     "output_type": "execute_result"
    }
   ],
   "source": [
    "train_mat_weights"
   ]
  },
  {
   "cell_type": "code",
   "execution_count": 74,
   "metadata": {
    "execution": {
     "iopub.execute_input": "2020-10-25T11:10:24.530269Z",
     "iopub.status.busy": "2020-10-25T11:10:24.529505Z",
     "iopub.status.idle": "2020-10-25T11:10:25.959530Z",
     "shell.execute_reply": "2020-10-25T11:10:25.959109Z"
    },
    "papermill": {
     "duration": 1.528051,
     "end_time": "2020-10-25T11:10:25.959614",
     "exception": false,
     "start_time": "2020-10-25T11:10:24.431563",
     "status": "completed"
    },
    "tags": []
   },
   "outputs": [
    {
     "data": {
      "text/html": [
       "<div>\n",
       "<style scoped>\n",
       "    .dataframe tbody tr th:only-of-type {\n",
       "        vertical-align: middle;\n",
       "    }\n",
       "\n",
       "    .dataframe tbody tr th {\n",
       "        vertical-align: top;\n",
       "    }\n",
       "\n",
       "    .dataframe thead th {\n",
       "        text-align: right;\n",
       "    }\n",
       "</style>\n",
       "<table border=\"1\" class=\"dataframe\">\n",
       "  <thead>\n",
       "    <tr style=\"text-align: right;\">\n",
       "      <th></th>\n",
       "      <th>user_id</th>\n",
       "      <th>age</th>\n",
       "      <th>sex</th>\n",
       "      <th>features</th>\n",
       "    </tr>\n",
       "  </thead>\n",
       "  <tbody>\n",
       "    <tr>\n",
       "      <th>0</th>\n",
       "      <td>1</td>\n",
       "      <td>45_54</td>\n",
       "      <td>nan</td>\n",
       "      <td>[45_54, nan]</td>\n",
       "    </tr>\n",
       "    <tr>\n",
       "      <th>1</th>\n",
       "      <td>2</td>\n",
       "      <td>18_24</td>\n",
       "      <td>0.0</td>\n",
       "      <td>[18_24, 0.0]</td>\n",
       "    </tr>\n",
       "    <tr>\n",
       "      <th>2</th>\n",
       "      <td>3</td>\n",
       "      <td>65_inf</td>\n",
       "      <td>0.0</td>\n",
       "      <td>[65_inf, 0.0]</td>\n",
       "    </tr>\n",
       "    <tr>\n",
       "      <th>3</th>\n",
       "      <td>4</td>\n",
       "      <td>18_24</td>\n",
       "      <td>0.0</td>\n",
       "      <td>[18_24, 0.0]</td>\n",
       "    </tr>\n",
       "    <tr>\n",
       "      <th>4</th>\n",
       "      <td>5</td>\n",
       "      <td>35_44</td>\n",
       "      <td>0.0</td>\n",
       "      <td>[35_44, 0.0]</td>\n",
       "    </tr>\n",
       "  </tbody>\n",
       "</table>\n",
       "</div>"
      ],
      "text/plain": [
       "   user_id     age  sex       features\n",
       "0        1   45_54  nan   [45_54, nan]\n",
       "1        2   18_24  0.0   [18_24, 0.0]\n",
       "2        3  65_inf  0.0  [65_inf, 0.0]\n",
       "3        4   18_24  0.0   [18_24, 0.0]\n",
       "4        5   35_44  0.0   [35_44, 0.0]"
      ]
     },
     "execution_count": 74,
     "metadata": {},
     "output_type": "execute_result"
    }
   ],
   "source": [
    "df_users['features'] = df_users[['age', 'sex']].astype(str).apply(lambda x: list(x), axis=1)\n",
    "df_users.head()"
   ]
  },
  {
   "cell_type": "code",
   "execution_count": 75,
   "metadata": {
    "execution": {
     "iopub.execute_input": "2020-10-25T11:10:26.145131Z",
     "iopub.status.busy": "2020-10-25T11:10:26.144452Z",
     "iopub.status.idle": "2020-10-25T11:10:26.895912Z",
     "shell.execute_reply": "2020-10-25T11:10:26.895441Z"
    },
    "papermill": {
     "duration": 0.84797,
     "end_time": "2020-10-25T11:10:26.895993",
     "exception": false,
     "start_time": "2020-10-25T11:10:26.048023",
     "status": "completed"
    },
    "tags": []
   },
   "outputs": [
    {
     "data": {
      "text/plain": [
       "<151600x151610 sparse matrix of type '<class 'numpy.float32'>'\n",
       "\twith 422954 stored elements in Compressed Sparse Row format>"
      ]
     },
     "execution_count": 75,
     "metadata": {},
     "output_type": "execute_result"
    }
   ],
   "source": [
    "known_users_filter = df_users['user_id'].isin(df['user_id'].unique())\n",
    "train_user_features = dataset.build_user_features(\n",
    "    df_to_tuple_list_iterator(\n",
    "        df_users.loc[known_users_filter, ['user_id', 'features']]\n",
    "    )\n",
    ")\n",
    "train_user_features"
   ]
  },
  {
   "cell_type": "code",
   "execution_count": 76,
   "metadata": {
    "execution": {
     "iopub.execute_input": "2020-10-25T11:10:27.098827Z",
     "iopub.status.busy": "2020-10-25T11:10:27.087147Z",
     "iopub.status.idle": "2020-10-25T11:10:27.110456Z",
     "shell.execute_reply": "2020-10-25T11:10:27.110963Z"
    },
    "papermill": {
     "duration": 0.123985,
     "end_time": "2020-10-25T11:10:27.111097",
     "exception": false,
     "start_time": "2020-10-25T11:10:26.987112",
     "status": "completed"
    },
    "tags": []
   },
   "outputs": [
    {
     "data": {
      "text/html": [
       "<div>\n",
       "<style scoped>\n",
       "    .dataframe tbody tr th:only-of-type {\n",
       "        vertical-align: middle;\n",
       "    }\n",
       "\n",
       "    .dataframe tbody tr th {\n",
       "        vertical-align: top;\n",
       "    }\n",
       "\n",
       "    .dataframe thead th {\n",
       "        text-align: right;\n",
       "    }\n",
       "</style>\n",
       "<table border=\"1\" class=\"dataframe\">\n",
       "  <thead>\n",
       "    <tr style=\"text-align: right;\">\n",
       "      <th></th>\n",
       "      <th>id</th>\n",
       "      <th>title</th>\n",
       "      <th>genres</th>\n",
       "      <th>authors</th>\n",
       "      <th>year</th>\n",
       "      <th>features</th>\n",
       "    </tr>\n",
       "  </thead>\n",
       "  <tbody>\n",
       "    <tr>\n",
       "      <th>0</th>\n",
       "      <td>128115</td>\n",
       "      <td>ворон-челобитчик</td>\n",
       "      <td>Зарубежные детские книги,Сказки,Зарубежная кла...</td>\n",
       "      <td>Михаил Салтыков-Щедрин</td>\n",
       "      <td>1886</td>\n",
       "      <td>[Зарубежные детские книги, Сказки, Зарубежная ...</td>\n",
       "    </tr>\n",
       "    <tr>\n",
       "      <th>1</th>\n",
       "      <td>210979</td>\n",
       "      <td>скрипка ротшильда</td>\n",
       "      <td>Классическая проза,Литература 19 века,Русская ...</td>\n",
       "      <td>Антон Чехов</td>\n",
       "      <td>1894</td>\n",
       "      <td>[Классическая проза, Литература 19 века, Русск...</td>\n",
       "    </tr>\n",
       "    <tr>\n",
       "      <th>2</th>\n",
       "      <td>95632</td>\n",
       "      <td>испорченные дети</td>\n",
       "      <td>Зарубежная классика,Классическая проза,Литерат...</td>\n",
       "      <td>Михаил Салтыков-Щедрин</td>\n",
       "      <td>1869</td>\n",
       "      <td>[Зарубежная классика, Классическая проза, Лите...</td>\n",
       "    </tr>\n",
       "    <tr>\n",
       "      <th>3</th>\n",
       "      <td>247906</td>\n",
       "      <td>странный человек</td>\n",
       "      <td>Пьесы и драматургия,Литература 19 века</td>\n",
       "      <td>Михаил Лермонтов</td>\n",
       "      <td>1831</td>\n",
       "      <td>[Пьесы и драматургия, Литература 19 века]</td>\n",
       "    </tr>\n",
       "    <tr>\n",
       "      <th>4</th>\n",
       "      <td>294280</td>\n",
       "      <td>господа ташкентцы</td>\n",
       "      <td>Зарубежная классика,Классическая проза,Литерат...</td>\n",
       "      <td>Михаил Салтыков-Щедрин</td>\n",
       "      <td>1873</td>\n",
       "      <td>[Зарубежная классика, Классическая проза, Лите...</td>\n",
       "    </tr>\n",
       "  </tbody>\n",
       "</table>\n",
       "</div>"
      ],
      "text/plain": [
       "       id              title  \\\n",
       "0  128115   ворон-челобитчик   \n",
       "1  210979  скрипка ротшильда   \n",
       "2   95632   испорченные дети   \n",
       "3  247906   странный человек   \n",
       "4  294280  господа ташкентцы   \n",
       "\n",
       "                                              genres                 authors  \\\n",
       "0  Зарубежные детские книги,Сказки,Зарубежная кла...  Михаил Салтыков-Щедрин   \n",
       "1  Классическая проза,Литература 19 века,Русская ...             Антон Чехов   \n",
       "2  Зарубежная классика,Классическая проза,Литерат...  Михаил Салтыков-Щедрин   \n",
       "3             Пьесы и драматургия,Литература 19 века        Михаил Лермонтов   \n",
       "4  Зарубежная классика,Классическая проза,Литерат...  Михаил Салтыков-Щедрин   \n",
       "\n",
       "   year                                           features  \n",
       "0  1886  [Зарубежные детские книги, Сказки, Зарубежная ...  \n",
       "1  1894  [Классическая проза, Литература 19 века, Русск...  \n",
       "2  1869  [Зарубежная классика, Классическая проза, Лите...  \n",
       "3  1831          [Пьесы и драматургия, Литература 19 века]  \n",
       "4  1873  [Зарубежная классика, Классическая проза, Лите...  "
      ]
     },
     "execution_count": 76,
     "metadata": {},
     "output_type": "execute_result"
    }
   ],
   "source": [
    "df_items['features'] = df_items['genres'].str.split(',')\n",
    "df_items.head()"
   ]
  },
  {
   "cell_type": "code",
   "execution_count": 77,
   "metadata": {
    "execution": {
     "iopub.execute_input": "2020-10-25T11:10:27.401337Z",
     "iopub.status.busy": "2020-10-25T11:10:27.386435Z",
     "iopub.status.idle": "2020-10-25T11:10:27.409594Z",
     "shell.execute_reply": "2020-10-25T11:10:27.409206Z"
    },
    "papermill": {
     "duration": 0.161282,
     "end_time": "2020-10-25T11:10:27.409669",
     "exception": false,
     "start_time": "2020-10-25T11:10:27.248387",
     "status": "completed"
    },
    "tags": []
   },
   "outputs": [
    {
     "data": {
      "text/plain": [
       "2     20734\n",
       "1     20172\n",
       "3     12699\n",
       "4      4248\n",
       "5      1074\n",
       "6       373\n",
       "7       146\n",
       "8        74\n",
       "9        34\n",
       "10       22\n",
       "11       12\n",
       "13        6\n",
       "17        2\n",
       "12        2\n",
       "16        1\n",
       "Name: features, dtype: int64"
      ]
     },
     "execution_count": 77,
     "metadata": {},
     "output_type": "execute_result"
    }
   ],
   "source": [
    "df_items['features'].map(len).value_counts(dropna=False)"
   ]
  },
  {
   "cell_type": "code",
   "execution_count": 78,
   "metadata": {
    "execution": {
     "iopub.execute_input": "2020-10-25T11:10:27.594598Z",
     "iopub.status.busy": "2020-10-25T11:10:27.594046Z",
     "iopub.status.idle": "2020-10-25T11:10:27.937941Z",
     "shell.execute_reply": "2020-10-25T11:10:27.937429Z"
    },
    "papermill": {
     "duration": 0.438302,
     "end_time": "2020-10-25T11:10:27.938042",
     "exception": false,
     "start_time": "2020-10-25T11:10:27.499740",
     "status": "completed"
    },
    "tags": []
   },
   "outputs": [
    {
     "data": {
      "text/plain": [
       "<59599x60240 sparse matrix of type '<class 'numpy.float32'>'\n",
       "\twith 186360 stored elements in Compressed Sparse Row format>"
      ]
     },
     "execution_count": 78,
     "metadata": {},
     "output_type": "execute_result"
    }
   ],
   "source": [
    "known_items_filter = df_items['id'].isin(df['item_id'].unique())\n",
    "train_items_features = dataset.build_item_features(\n",
    "    df_to_tuple_list_iterator(\n",
    "        df_items.loc[known_items_filter, ['id', 'features']]\n",
    "    )\n",
    ")\n",
    "train_items_features"
   ]
  },
  {
   "cell_type": "code",
   "execution_count": 79,
   "metadata": {
    "execution": {
     "iopub.execute_input": "2020-10-25T11:10:28.232979Z",
     "iopub.status.busy": "2020-10-25T11:10:28.232356Z",
     "iopub.status.idle": "2020-10-25T11:10:28.235412Z",
     "shell.execute_reply": "2020-10-25T11:10:28.234966Z"
    },
    "papermill": {
     "duration": 0.161167,
     "end_time": "2020-10-25T11:10:28.235494",
     "exception": false,
     "start_time": "2020-10-25T11:10:28.074327",
     "status": "completed"
    },
    "tags": []
   },
   "outputs": [],
   "source": [
    "lfm_model = LightFM(no_components=64, learning_rate=0.05, loss='warp', max_sampled=5, random_state=23)"
   ]
  },
  {
   "cell_type": "code",
   "execution_count": 80,
   "metadata": {
    "execution": {
     "iopub.execute_input": "2020-10-25T11:10:28.445905Z",
     "iopub.status.busy": "2020-10-25T11:10:28.443918Z",
     "iopub.status.idle": "2020-10-25T11:11:32.468944Z",
     "shell.execute_reply": "2020-10-25T11:11:32.463946Z"
    },
    "papermill": {
     "duration": 64.133982,
     "end_time": "2020-10-25T11:11:32.469137",
     "exception": false,
     "start_time": "2020-10-25T11:10:28.335155",
     "status": "completed"
    },
    "tags": []
   },
   "outputs": [
    {
     "data": {
      "application/vnd.jupyter.widget-view+json": {
       "model_id": "3e7ae4bd78ec483c900168e40d404d52",
       "version_major": 2,
       "version_minor": 0
      },
      "text/plain": [
       "HBox(children=(FloatProgress(value=0.0, max=15.0), HTML(value='')))"
      ]
     },
     "metadata": {},
     "output_type": "display_data"
    },
    {
     "name": "stdout",
     "output_type": "stream",
     "text": [
      "\n"
     ]
    }
   ],
   "source": [
    "num_epochs = 15\n",
    "for _ in tqdm(range(num_epochs), total=num_epochs):\n",
    "    lfm_model.fit_partial(\n",
    "        train_mat, \n",
    "        user_features=train_user_features,\n",
    "        item_features=train_items_features,\n",
    "        num_threads=4\n",
    "    )"
   ]
  },
  {
   "cell_type": "code",
   "execution_count": 81,
   "metadata": {
    "execution": {
     "iopub.execute_input": "2020-10-25T11:11:32.675654Z",
     "iopub.status.busy": "2020-10-25T11:11:32.675163Z",
     "iopub.status.idle": "2020-10-25T11:11:32.678113Z",
     "shell.execute_reply": "2020-10-25T11:11:32.677652Z"
    },
    "papermill": {
     "duration": 0.102466,
     "end_time": "2020-10-25T11:11:32.678200",
     "exception": false,
     "start_time": "2020-10-25T11:11:32.575734",
     "status": "completed"
    },
    "tags": []
   },
   "outputs": [
    {
     "name": "stdout",
     "output_type": "stream",
     "text": [
      "Рекомендации для пользователя 139942, номер строки - 10346\n"
     ]
    }
   ],
   "source": [
    "top_N = 10\n",
    "user_id = test['user_id'].iloc[0]\n",
    "row_id = lightfm_mapping['users_mapping'][user_id]\n",
    "print(f'Рекомендации для пользователя {user_id}, номер строки - {row_id}')"
   ]
  },
  {
   "cell_type": "code",
   "execution_count": 82,
   "metadata": {
    "execution": {
     "iopub.execute_input": "2020-10-25T11:11:32.870047Z",
     "iopub.status.busy": "2020-10-25T11:11:32.869288Z",
     "iopub.status.idle": "2020-10-25T11:11:32.872821Z",
     "shell.execute_reply": "2020-10-25T11:11:32.872433Z"
    },
    "papermill": {
     "duration": 0.101895,
     "end_time": "2020-10-25T11:11:32.872903",
     "exception": false,
     "start_time": "2020-10-25T11:11:32.771008",
     "status": "completed"
    },
    "tags": []
   },
   "outputs": [
    {
     "data": {
      "text/plain": [
       "59599"
      ]
     },
     "execution_count": 82,
     "metadata": {},
     "output_type": "execute_result"
    }
   ],
   "source": [
    "all_cols = list(lightfm_mapping['items_mapping'].values())\n",
    "len(all_cols)"
   ]
  },
  {
   "cell_type": "code",
   "execution_count": 83,
   "metadata": {
    "execution": {
     "iopub.execute_input": "2020-10-25T11:11:33.073465Z",
     "iopub.status.busy": "2020-10-25T11:11:33.072859Z",
     "iopub.status.idle": "2020-10-25T11:11:33.082352Z",
     "shell.execute_reply": "2020-10-25T11:11:33.082804Z"
    },
    "papermill": {
     "duration": 0.112863,
     "end_time": "2020-10-25T11:11:33.082923",
     "exception": false,
     "start_time": "2020-10-25T11:11:32.970060",
     "status": "completed"
    },
    "tags": []
   },
   "outputs": [
    {
     "data": {
      "text/plain": [
       "(array([-177.21585083, -176.97634888, -178.6086731 , ..., -178.31565857,\n",
       "        -178.22001648, -178.75613403]),\n",
       " (59599,))"
      ]
     },
     "execution_count": 83,
     "metadata": {},
     "output_type": "execute_result"
    }
   ],
   "source": [
    "pred = lfm_model.predict(row_id, all_cols, user_features=train_user_features, item_features=train_items_features, num_threads=4)\n",
    "pred, pred.shape"
   ]
  },
  {
   "cell_type": "code",
   "execution_count": 84,
   "metadata": {
    "execution": {
     "iopub.execute_input": "2020-10-25T11:11:33.316785Z",
     "iopub.status.busy": "2020-10-25T11:11:33.316280Z",
     "iopub.status.idle": "2020-10-25T11:11:33.319999Z",
     "shell.execute_reply": "2020-10-25T11:11:33.320446Z"
    },
    "papermill": {
     "duration": 0.117036,
     "end_time": "2020-10-25T11:11:33.320566",
     "exception": false,
     "start_time": "2020-10-25T11:11:33.203530",
     "status": "completed"
    },
    "tags": []
   },
   "outputs": [
    {
     "data": {
      "text/plain": [
       "array([ 4681,  1833, 27841,  4059,  1930,  1137,  1258,  1075,  7116,\n",
       "         465])"
      ]
     },
     "execution_count": 84,
     "metadata": {},
     "output_type": "execute_result"
    }
   ],
   "source": [
    "top_cols = np.argpartition(pred, -np.arange(top_N))[-top_N:][::-1]\n",
    "top_cols"
   ]
  },
  {
   "cell_type": "code",
   "execution_count": 85,
   "metadata": {
    "execution": {
     "iopub.execute_input": "2020-10-25T11:11:33.517251Z",
     "iopub.status.busy": "2020-10-25T11:11:33.516712Z",
     "iopub.status.idle": "2020-10-25T11:11:33.519966Z",
     "shell.execute_reply": "2020-10-25T11:11:33.519437Z"
    },
    "papermill": {
     "duration": 0.102922,
     "end_time": "2020-10-25T11:11:33.520061",
     "exception": false,
     "start_time": "2020-10-25T11:11:33.417139",
     "status": "completed"
    },
    "tags": []
   },
   "outputs": [
    {
     "data": {
      "text/plain": [
       "array([-172.61430359, -173.16793823, -173.52716064, -173.54344177,\n",
       "       -173.61088562, -173.68228149, -173.69345093, -173.69593811,\n",
       "       -173.78334045, -173.79495239])"
      ]
     },
     "execution_count": 85,
     "metadata": {},
     "output_type": "execute_result"
    }
   ],
   "source": [
    "pred[top_cols]"
   ]
  },
  {
   "cell_type": "code",
   "execution_count": 86,
   "metadata": {
    "execution": {
     "iopub.execute_input": "2020-10-25T11:11:33.813614Z",
     "iopub.status.busy": "2020-10-25T11:11:33.813020Z",
     "iopub.status.idle": "2020-10-25T11:11:33.817021Z",
     "shell.execute_reply": "2020-10-25T11:11:33.816466Z"
    },
    "papermill": {
     "duration": 0.15328,
     "end_time": "2020-10-25T11:11:33.817115",
     "exception": false,
     "start_time": "2020-10-25T11:11:33.663835",
     "status": "completed"
    },
    "tags": []
   },
   "outputs": [
    {
     "data": {
      "text/plain": [
       "-172.6143035888672"
      ]
     },
     "execution_count": 86,
     "metadata": {},
     "output_type": "execute_result"
    }
   ],
   "source": [
    "np.max(pred)"
   ]
  },
  {
   "cell_type": "code",
   "execution_count": 87,
   "metadata": {
    "execution": {
     "iopub.execute_input": "2020-10-25T11:11:34.026808Z",
     "iopub.status.busy": "2020-10-25T11:11:34.026115Z",
     "iopub.status.idle": "2020-10-25T11:11:34.030122Z",
     "shell.execute_reply": "2020-10-25T11:11:34.030513Z"
    },
    "papermill": {
     "duration": 0.115639,
     "end_time": "2020-10-25T11:11:34.030622",
     "exception": false,
     "start_time": "2020-10-25T11:11:33.914983",
     "status": "completed"
    },
    "tags": []
   },
   "outputs": [
    {
     "data": {
      "text/html": [
       "<div>\n",
       "<style scoped>\n",
       "    .dataframe tbody tr th:only-of-type {\n",
       "        vertical-align: middle;\n",
       "    }\n",
       "\n",
       "    .dataframe tbody tr th {\n",
       "        vertical-align: top;\n",
       "    }\n",
       "\n",
       "    .dataframe thead th {\n",
       "        text-align: right;\n",
       "    }\n",
       "</style>\n",
       "<table border=\"1\" class=\"dataframe\">\n",
       "  <thead>\n",
       "    <tr style=\"text-align: right;\">\n",
       "      <th></th>\n",
       "      <th>col_id</th>\n",
       "      <th>item_id</th>\n",
       "      <th>title</th>\n",
       "    </tr>\n",
       "  </thead>\n",
       "  <tbody>\n",
       "    <tr>\n",
       "      <th>0</th>\n",
       "      <td>4681</td>\n",
       "      <td>99357</td>\n",
       "      <td>сила подсознания, или как изменить жизнь за 4 ...</td>\n",
       "    </tr>\n",
       "    <tr>\n",
       "      <th>1</th>\n",
       "      <td>1833</td>\n",
       "      <td>281005</td>\n",
       "      <td>богатый папа, бедный папа. роберт кийосаки (об...</td>\n",
       "    </tr>\n",
       "    <tr>\n",
       "      <th>2</th>\n",
       "      <td>27841</td>\n",
       "      <td>211217</td>\n",
       "      <td>ни сы. восточная мудрость, которая гласит: буд...</td>\n",
       "    </tr>\n",
       "    <tr>\n",
       "      <th>3</th>\n",
       "      <td>4059</td>\n",
       "      <td>90519</td>\n",
       "      <td>думай медленно… решай быстро</td>\n",
       "    </tr>\n",
       "    <tr>\n",
       "      <th>4</th>\n",
       "      <td>1930</td>\n",
       "      <td>159580</td>\n",
       "      <td>пятьдесят оттенков серого</td>\n",
       "    </tr>\n",
       "    <tr>\n",
       "      <th>5</th>\n",
       "      <td>1137</td>\n",
       "      <td>119138</td>\n",
       "      <td>одиночество в сети</td>\n",
       "    </tr>\n",
       "    <tr>\n",
       "      <th>6</th>\n",
       "      <td>1258</td>\n",
       "      <td>89152</td>\n",
       "      <td>50 правил умной дуры</td>\n",
       "    </tr>\n",
       "    <tr>\n",
       "      <th>7</th>\n",
       "      <td>1075</td>\n",
       "      <td>24551</td>\n",
       "      <td>магическая уборка. японское искусство наведени...</td>\n",
       "    </tr>\n",
       "    <tr>\n",
       "      <th>8</th>\n",
       "      <td>7116</td>\n",
       "      <td>232537</td>\n",
       "      <td>поступай как женщина, думай как мужчина. почем...</td>\n",
       "    </tr>\n",
       "    <tr>\n",
       "      <th>9</th>\n",
       "      <td>465</td>\n",
       "      <td>58803</td>\n",
       "      <td>ведьмак</td>\n",
       "    </tr>\n",
       "  </tbody>\n",
       "</table>\n",
       "</div>"
      ],
      "text/plain": [
       "   col_id  item_id                                              title\n",
       "0    4681    99357  сила подсознания, или как изменить жизнь за 4 ...\n",
       "1    1833   281005  богатый папа, бедный папа. роберт кийосаки (об...\n",
       "2   27841   211217  ни сы. восточная мудрость, которая гласит: буд...\n",
       "3    4059    90519                       думай медленно… решай быстро\n",
       "4    1930   159580                          пятьдесят оттенков серого\n",
       "5    1137   119138                                 одиночество в сети\n",
       "6    1258    89152                               50 правил умной дуры\n",
       "7    1075    24551  магическая уборка. японское искусство наведени...\n",
       "8    7116   232537  поступай как женщина, думай как мужчина. почем...\n",
       "9     465    58803                                            ведьмак"
      ]
     },
     "execution_count": 87,
     "metadata": {},
     "output_type": "execute_result"
    }
   ],
   "source": [
    "recs = pd.DataFrame({'col_id': top_cols})\n",
    "recs['item_id'] = recs['col_id'].map(lightfm_mapping['items_inv_mapping'].get)\n",
    "recs['title'] = recs['item_id'].map(item_titles.get)\n",
    "recs"
   ]
  },
  {
   "cell_type": "code",
   "execution_count": 88,
   "metadata": {
    "execution": {
     "iopub.execute_input": "2020-10-25T11:11:34.254727Z",
     "iopub.status.busy": "2020-10-25T11:11:34.254180Z",
     "iopub.status.idle": "2020-10-25T11:11:34.259508Z",
     "shell.execute_reply": "2020-10-25T11:11:34.258944Z"
    },
    "papermill": {
     "duration": 0.12296,
     "end_time": "2020-10-25T11:11:34.259625",
     "exception": false,
     "start_time": "2020-10-25T11:11:34.136665",
     "status": "completed"
    },
    "tags": []
   },
   "outputs": [],
   "source": [
    "recs = pd.DataFrame({\n",
    "    'user_id': test['user_id'].unique()\n",
    "})"
   ]
  },
  {
   "cell_type": "code",
   "execution_count": 89,
   "metadata": {
    "execution": {
     "iopub.execute_input": "2020-10-25T11:11:34.554547Z",
     "iopub.status.busy": "2020-10-25T11:11:34.553783Z",
     "iopub.status.idle": "2020-10-25T11:11:34.556872Z",
     "shell.execute_reply": "2020-10-25T11:11:34.556348Z"
    },
    "papermill": {
     "duration": 0.154205,
     "end_time": "2020-10-25T11:11:34.556966",
     "exception": false,
     "start_time": "2020-10-25T11:11:34.402761",
     "status": "completed"
    },
    "tags": []
   },
   "outputs": [],
   "source": [
    "def generate_lightfm_recs_mapper(model, item_ids, known_items, user_features, item_features, N, user_mapping, item_inv_mapping, num_threads=4):\n",
    "    def _recs_mapper(user):\n",
    "        user_id = user_mapping[user]\n",
    "        recs = model.predict(user_id, item_ids, user_features=user_features, item_features=item_features, num_threads=num_threads)\n",
    "        \n",
    "        additional_N = len(known_items[user_id]) if user_id in known_items else 0\n",
    "        total_N = N + additional_N\n",
    "        top_cols = np.argpartition(recs, -np.arange(total_N))[-total_N:][::-1]\n",
    "        \n",
    "        final_recs = [item_inv_mapping[item] for item in top_cols]\n",
    "        if additional_N > 0:\n",
    "            filter_items = known_items[user_id]\n",
    "            final_recs = [item for item in final_recs if item not in filter_items]\n",
    "        return final_recs[:N]\n",
    "    return _recs_mapper"
   ]
  },
  {
   "cell_type": "code",
   "execution_count": 90,
   "metadata": {
    "execution": {
     "iopub.execute_input": "2020-10-25T11:11:34.847755Z",
     "iopub.status.busy": "2020-10-25T11:11:34.847336Z",
     "iopub.status.idle": "2020-10-25T11:11:38.635546Z",
     "shell.execute_reply": "2020-10-25T11:11:38.635126Z"
    },
    "papermill": {
     "duration": 3.932034,
     "end_time": "2020-10-25T11:11:38.635622",
     "exception": false,
     "start_time": "2020-10-25T11:11:34.703588",
     "status": "completed"
    },
    "tags": []
   },
   "outputs": [
    {
     "data": {
      "text/plain": [
       "151589"
      ]
     },
     "execution_count": 90,
     "metadata": {},
     "output_type": "execute_result"
    }
   ],
   "source": [
    "known_items = train.groupby('user_id')['item_id'].apply(list).to_dict()\n",
    "len(known_items)"
   ]
  },
  {
   "cell_type": "code",
   "execution_count": 91,
   "metadata": {
    "execution": {
     "iopub.execute_input": "2020-10-25T11:11:38.832392Z",
     "iopub.status.busy": "2020-10-25T11:11:38.831705Z",
     "iopub.status.idle": "2020-10-25T11:11:38.835574Z",
     "shell.execute_reply": "2020-10-25T11:11:38.835953Z"
    },
    "papermill": {
     "duration": 0.104346,
     "end_time": "2020-10-25T11:11:38.836066",
     "exception": false,
     "start_time": "2020-10-25T11:11:38.731720",
     "status": "completed"
    },
    "tags": []
   },
   "outputs": [
    {
     "data": {
      "text/plain": [
       "[41856, 131164, 214579, 66545, 145067]"
      ]
     },
     "execution_count": 91,
     "metadata": {},
     "output_type": "execute_result"
    }
   ],
   "source": [
    "known_items[100]"
   ]
  },
  {
   "cell_type": "code",
   "execution_count": 92,
   "metadata": {
    "execution": {
     "iopub.execute_input": "2020-10-25T11:11:39.035086Z",
     "iopub.status.busy": "2020-10-25T11:11:39.034588Z",
     "iopub.status.idle": "2020-10-25T11:11:39.036676Z",
     "shell.execute_reply": "2020-10-25T11:11:39.036244Z"
    },
    "papermill": {
     "duration": 0.103655,
     "end_time": "2020-10-25T11:11:39.036756",
     "exception": false,
     "start_time": "2020-10-25T11:11:38.933101",
     "status": "completed"
    },
    "tags": []
   },
   "outputs": [],
   "source": [
    "mapper = generate_lightfm_recs_mapper(\n",
    "    lfm_model, \n",
    "    item_ids=all_cols, \n",
    "    known_items=known_items,\n",
    "    N=top_N,\n",
    "    user_features=train_user_features, \n",
    "    item_features=train_items_features, \n",
    "    user_mapping=lightfm_mapping['users_mapping'],\n",
    "    item_inv_mapping=lightfm_mapping['items_inv_mapping'],\n",
    "    num_threads=4\n",
    ")"
   ]
  },
  {
   "cell_type": "code",
   "execution_count": 93,
   "metadata": {
    "execution": {
     "iopub.execute_input": "2020-10-25T11:11:39.237302Z",
     "iopub.status.busy": "2020-10-25T11:11:39.236429Z",
     "iopub.status.idle": "2020-10-25T11:11:57.915317Z",
     "shell.execute_reply": "2020-10-25T11:11:57.915863Z"
    },
    "papermill": {
     "duration": 18.784305,
     "end_time": "2020-10-25T11:11:57.916013",
     "exception": false,
     "start_time": "2020-10-25T11:11:39.131708",
     "status": "completed"
    },
    "tags": []
   },
   "outputs": [
    {
     "name": "stdout",
     "output_type": "stream",
     "text": [
      "CPU times: user 1min 12s, sys: 1.29 s, total: 1min 13s\n",
      "Wall time: 18.7 s\n"
     ]
    }
   ],
   "source": [
    "%%time\n",
    "recs['item_id'] = recs['user_id'].map(mapper)"
   ]
  },
  {
   "cell_type": "code",
   "execution_count": 94,
   "metadata": {
    "execution": {
     "iopub.execute_input": "2020-10-25T11:11:58.243493Z",
     "iopub.status.busy": "2020-10-25T11:11:58.242883Z",
     "iopub.status.idle": "2020-10-25T11:11:58.247214Z",
     "shell.execute_reply": "2020-10-25T11:11:58.247559Z"
    },
    "papermill": {
     "duration": 0.161888,
     "end_time": "2020-10-25T11:11:58.247691",
     "exception": false,
     "start_time": "2020-10-25T11:11:58.085803",
     "status": "completed"
    },
    "tags": []
   },
   "outputs": [
    {
     "data": {
      "text/html": [
       "<div>\n",
       "<style scoped>\n",
       "    .dataframe tbody tr th:only-of-type {\n",
       "        vertical-align: middle;\n",
       "    }\n",
       "\n",
       "    .dataframe tbody tr th {\n",
       "        vertical-align: top;\n",
       "    }\n",
       "\n",
       "    .dataframe thead th {\n",
       "        text-align: right;\n",
       "    }\n",
       "</style>\n",
       "<table border=\"1\" class=\"dataframe\">\n",
       "  <thead>\n",
       "    <tr style=\"text-align: right;\">\n",
       "      <th></th>\n",
       "      <th>user_id</th>\n",
       "      <th>item_id</th>\n",
       "    </tr>\n",
       "  </thead>\n",
       "  <tbody>\n",
       "    <tr>\n",
       "      <th>0</th>\n",
       "      <td>139942</td>\n",
       "      <td>[99357, 281005, 211217, 90519, 159580, 119138,...</td>\n",
       "    </tr>\n",
       "    <tr>\n",
       "      <th>1</th>\n",
       "      <td>136607</td>\n",
       "      <td>[99357, 281005, 90519, 159580, 230067, 58803, ...</td>\n",
       "    </tr>\n",
       "    <tr>\n",
       "      <th>2</th>\n",
       "      <td>142287</td>\n",
       "      <td>[159580, 264997, 26963, 119138, 99357, 241026,...</td>\n",
       "    </tr>\n",
       "    <tr>\n",
       "      <th>3</th>\n",
       "      <td>114933</td>\n",
       "      <td>[121687, 109201, 143505, 39878, 241026, 251645...</td>\n",
       "    </tr>\n",
       "    <tr>\n",
       "      <th>4</th>\n",
       "      <td>32926</td>\n",
       "      <td>[99357, 316995, 90519, 270415, 281005, 28889, ...</td>\n",
       "    </tr>\n",
       "  </tbody>\n",
       "</table>\n",
       "</div>"
      ],
      "text/plain": [
       "   user_id                                            item_id\n",
       "0   139942  [99357, 281005, 211217, 90519, 159580, 119138,...\n",
       "1   136607  [99357, 281005, 90519, 159580, 230067, 58803, ...\n",
       "2   142287  [159580, 264997, 26963, 119138, 99357, 241026,...\n",
       "3   114933  [121687, 109201, 143505, 39878, 241026, 251645...\n",
       "4    32926  [99357, 316995, 90519, 270415, 281005, 28889, ..."
      ]
     },
     "execution_count": 94,
     "metadata": {},
     "output_type": "execute_result"
    }
   ],
   "source": [
    "recs.head()"
   ]
  },
  {
   "cell_type": "code",
   "execution_count": 95,
   "metadata": {
    "execution": {
     "iopub.execute_input": "2020-10-25T11:11:58.454727Z",
     "iopub.status.busy": "2020-10-25T11:11:58.454260Z",
     "iopub.status.idle": "2020-10-25T11:11:58.462457Z",
     "shell.execute_reply": "2020-10-25T11:11:58.462861Z"
    },
    "papermill": {
     "duration": 0.117136,
     "end_time": "2020-10-25T11:11:58.462963",
     "exception": false,
     "start_time": "2020-10-25T11:11:58.345827",
     "status": "completed"
    },
    "tags": []
   },
   "outputs": [],
   "source": [
    "recs = recs.explode('item_id')\n",
    "recs['rank'] = recs.groupby('user_id').cumcount() + 1"
   ]
  },
  {
   "cell_type": "code",
   "execution_count": 96,
   "metadata": {
    "execution": {
     "iopub.execute_input": "2020-10-25T11:11:58.662050Z",
     "iopub.status.busy": "2020-10-25T11:11:58.661390Z",
     "iopub.status.idle": "2020-10-25T11:11:59.016088Z",
     "shell.execute_reply": "2020-10-25T11:11:59.015618Z"
    },
    "papermill": {
     "duration": 0.45648,
     "end_time": "2020-10-25T11:11:59.016164",
     "exception": false,
     "start_time": "2020-10-25T11:11:58.559684",
     "status": "completed"
    },
    "tags": []
   },
   "outputs": [
    {
     "data": {
      "text/plain": [
       "Precision@1     0.001224\n",
       "Recall@1        0.001224\n",
       "Precision@2     0.001224\n",
       "Recall@2        0.002448\n",
       "Precision@3     0.001224\n",
       "Recall@3        0.003060\n",
       "Precision@4     0.000918\n",
       "Recall@4        0.003060\n",
       "Precision@5     0.000734\n",
       "Recall@5        0.003060\n",
       "Precision@6     0.000612\n",
       "Recall@6        0.003060\n",
       "Precision@7     0.000612\n",
       "Recall@7        0.003213\n",
       "Precision@8     0.000918\n",
       "Recall@8        0.006273\n",
       "Precision@9     0.000816\n",
       "Recall@9        0.006273\n",
       "Precision@10    0.000918\n",
       "Recall@10       0.007803\n",
       "MAP@10          0.002597\n",
       "MRR             0.002898\n",
       "dtype: float64"
      ]
     },
     "execution_count": 96,
     "metadata": {},
     "output_type": "execute_result"
    }
   ],
   "source": [
    "metrics = compute_metrics(test, recs, top_N)\n",
    "metrics"
   ]
  },
  {
   "cell_type": "markdown",
   "metadata": {
    "papermill": {
     "duration": 0.099044,
     "end_time": "2020-10-25T11:11:59.219153",
     "exception": false,
     "start_time": "2020-10-25T11:11:59.120109",
     "status": "completed"
    },
    "tags": []
   },
   "source": [
    "<a id=\"links\"></a>\n",
    "# Links\n",
    "* https://www.benfrederickson.com/distance-metrics/ - шикарная статья про разные метрики в kNN для рекомендательных систем (Item2Item, User2User)\n",
    "* https://habr.com/ru/post/486802/ - хорошая статья про разные методы (теория)\n",
    "* https://github.com/dmitryhd/lightfm - форк lightfm от ребят с Авито\n",
    "* https://habr.com/ru/company/avito/blog/439206/ - обзор применения указанного выше форка на recsys challenge 2018"
   ]
  },
  {
   "cell_type": "code",
   "execution_count": null,
   "metadata": {
    "papermill": {
     "duration": 0.098934,
     "end_time": "2020-10-25T11:11:59.416429",
     "exception": false,
     "start_time": "2020-10-25T11:11:59.317495",
     "status": "completed"
    },
    "tags": []
   },
   "outputs": [],
   "source": []
  }
 ],
 "metadata": {
  "kernelspec": {
   "display_name": "Python 3",
   "language": "python",
   "name": "python3"
  },
  "language_info": {
   "codemirror_mode": {
    "name": "ipython",
    "version": 3
   },
   "file_extension": ".py",
   "mimetype": "text/x-python",
   "name": "python",
   "nbconvert_exporter": "python",
   "pygments_lexer": "ipython3",
   "version": "3.7.6"
  },
  "papermill": {
   "duration": 355.451996,
   "end_time": "2020-10-25T11:11:59.625925",
   "environment_variables": {},
   "exception": null,
   "input_path": "__notebook__.ipynb",
   "output_path": "__notebook__.ipynb",
   "parameters": {},
   "start_time": "2020-10-25T11:06:04.173929",
   "version": "2.1.0"
  },
  "widgets": {
   "application/vnd.jupyter.widget-state+json": {
    "state": {
     "01dff12936014b78a030a6c64304bf63": {
      "model_module": "@jupyter-widgets/base",
      "model_module_version": "1.2.0",
      "model_name": "LayoutModel",
      "state": {
       "_model_module": "@jupyter-widgets/base",
       "_model_module_version": "1.2.0",
       "_model_name": "LayoutModel",
       "_view_count": null,
       "_view_module": "@jupyter-widgets/base",
       "_view_module_version": "1.2.0",
       "_view_name": "LayoutView",
       "align_content": null,
       "align_items": null,
       "align_self": null,
       "border": null,
       "bottom": null,
       "display": null,
       "flex": null,
       "flex_flow": null,
       "grid_area": null,
       "grid_auto_columns": null,
       "grid_auto_flow": null,
       "grid_auto_rows": null,
       "grid_column": null,
       "grid_gap": null,
       "grid_row": null,
       "grid_template_areas": null,
       "grid_template_columns": null,
       "grid_template_rows": null,
       "height": null,
       "justify_content": null,
       "justify_items": null,
       "left": null,
       "margin": null,
       "max_height": null,
       "max_width": null,
       "min_height": null,
       "min_width": null,
       "object_fit": null,
       "object_position": null,
       "order": null,
       "overflow": null,
       "overflow_x": null,
       "overflow_y": null,
       "padding": null,
       "right": null,
       "top": null,
       "visibility": null,
       "width": null
      }
     },
     "03546569962c4ffeb037533e5fb94fd5": {
      "model_module": "@jupyter-widgets/controls",
      "model_module_version": "1.5.0",
      "model_name": "FloatProgressModel",
      "state": {
       "_dom_classes": [],
       "_model_module": "@jupyter-widgets/controls",
       "_model_module_version": "1.5.0",
       "_model_name": "FloatProgressModel",
       "_view_count": null,
       "_view_module": "@jupyter-widgets/controls",
       "_view_module_version": "1.5.0",
       "_view_name": "ProgressView",
       "bar_style": "success",
       "description": "100%",
       "description_tooltip": null,
       "layout": "IPY_MODEL_23961e5b6f174c7d9c11650c90d6e0b9",
       "max": 59599.0,
       "min": 0.0,
       "orientation": "horizontal",
       "style": "IPY_MODEL_777de28668b94a53be5e80ba50eac1d9",
       "value": 59599.0
      }
     },
     "06eae2e8cae3420a813f4aa504f91002": {
      "model_module": "@jupyter-widgets/base",
      "model_module_version": "1.2.0",
      "model_name": "LayoutModel",
      "state": {
       "_model_module": "@jupyter-widgets/base",
       "_model_module_version": "1.2.0",
       "_model_name": "LayoutModel",
       "_view_count": null,
       "_view_module": "@jupyter-widgets/base",
       "_view_module_version": "1.2.0",
       "_view_name": "LayoutView",
       "align_content": null,
       "align_items": null,
       "align_self": null,
       "border": null,
       "bottom": null,
       "display": null,
       "flex": null,
       "flex_flow": null,
       "grid_area": null,
       "grid_auto_columns": null,
       "grid_auto_flow": null,
       "grid_auto_rows": null,
       "grid_column": null,
       "grid_gap": null,
       "grid_row": null,
       "grid_template_areas": null,
       "grid_template_columns": null,
       "grid_template_rows": null,
       "height": null,
       "justify_content": null,
       "justify_items": null,
       "left": null,
       "margin": null,
       "max_height": null,
       "max_width": null,
       "min_height": null,
       "min_width": null,
       "object_fit": null,
       "object_position": null,
       "order": null,
       "overflow": null,
       "overflow_x": null,
       "overflow_y": null,
       "padding": null,
       "right": null,
       "top": null,
       "visibility": null,
       "width": null
      }
     },
     "071de0e1993347908d3b2a94c729290b": {
      "model_module": "@jupyter-widgets/controls",
      "model_module_version": "1.5.0",
      "model_name": "FloatProgressModel",
      "state": {
       "_dom_classes": [],
       "_model_module": "@jupyter-widgets/controls",
       "_model_module_version": "1.5.0",
       "_model_name": "FloatProgressModel",
       "_view_count": null,
       "_view_module": "@jupyter-widgets/controls",
       "_view_module_version": "1.5.0",
       "_view_name": "ProgressView",
       "bar_style": "success",
       "description": "100%",
       "description_tooltip": null,
       "layout": "IPY_MODEL_5b6100e13f384e3a919df5a91a1f68ae",
       "max": 59599.0,
       "min": 0.0,
       "orientation": "horizontal",
       "style": "IPY_MODEL_6292827db69b4ab2b359bab7fd600e99",
       "value": 59599.0
      }
     },
     "07ecdf2449364e5180604b7f7e0229c4": {
      "model_module": "@jupyter-widgets/base",
      "model_module_version": "1.2.0",
      "model_name": "LayoutModel",
      "state": {
       "_model_module": "@jupyter-widgets/base",
       "_model_module_version": "1.2.0",
       "_model_name": "LayoutModel",
       "_view_count": null,
       "_view_module": "@jupyter-widgets/base",
       "_view_module_version": "1.2.0",
       "_view_name": "LayoutView",
       "align_content": null,
       "align_items": null,
       "align_self": null,
       "border": null,
       "bottom": null,
       "display": null,
       "flex": null,
       "flex_flow": null,
       "grid_area": null,
       "grid_auto_columns": null,
       "grid_auto_flow": null,
       "grid_auto_rows": null,
       "grid_column": null,
       "grid_gap": null,
       "grid_row": null,
       "grid_template_areas": null,
       "grid_template_columns": null,
       "grid_template_rows": null,
       "height": null,
       "justify_content": null,
       "justify_items": null,
       "left": null,
       "margin": null,
       "max_height": null,
       "max_width": null,
       "min_height": null,
       "min_width": null,
       "object_fit": null,
       "object_position": null,
       "order": null,
       "overflow": null,
       "overflow_x": null,
       "overflow_y": null,
       "padding": null,
       "right": null,
       "top": null,
       "visibility": null,
       "width": null
      }
     },
     "0a3b7caa2754492b97e58907a9a54abd": {
      "model_module": "@jupyter-widgets/base",
      "model_module_version": "1.2.0",
      "model_name": "LayoutModel",
      "state": {
       "_model_module": "@jupyter-widgets/base",
       "_model_module_version": "1.2.0",
       "_model_name": "LayoutModel",
       "_view_count": null,
       "_view_module": "@jupyter-widgets/base",
       "_view_module_version": "1.2.0",
       "_view_name": "LayoutView",
       "align_content": null,
       "align_items": null,
       "align_self": null,
       "border": null,
       "bottom": null,
       "display": null,
       "flex": null,
       "flex_flow": null,
       "grid_area": null,
       "grid_auto_columns": null,
       "grid_auto_flow": null,
       "grid_auto_rows": null,
       "grid_column": null,
       "grid_gap": null,
       "grid_row": null,
       "grid_template_areas": null,
       "grid_template_columns": null,
       "grid_template_rows": null,
       "height": null,
       "justify_content": null,
       "justify_items": null,
       "left": null,
       "margin": null,
       "max_height": null,
       "max_width": null,
       "min_height": null,
       "min_width": null,
       "object_fit": null,
       "object_position": null,
       "order": null,
       "overflow": null,
       "overflow_x": null,
       "overflow_y": null,
       "padding": null,
       "right": null,
       "top": null,
       "visibility": null,
       "width": null
      }
     },
     "0b532d78e26543b8907845b3df0177dc": {
      "model_module": "@jupyter-widgets/controls",
      "model_module_version": "1.5.0",
      "model_name": "DescriptionStyleModel",
      "state": {
       "_model_module": "@jupyter-widgets/controls",
       "_model_module_version": "1.5.0",
       "_model_name": "DescriptionStyleModel",
       "_view_count": null,
       "_view_module": "@jupyter-widgets/base",
       "_view_module_version": "1.2.0",
       "_view_name": "StyleView",
       "description_width": ""
      }
     },
     "0f34a1de51fa442d8c34e9a8630f567d": {
      "model_module": "@jupyter-widgets/controls",
      "model_module_version": "1.5.0",
      "model_name": "FloatProgressModel",
      "state": {
       "_dom_classes": [],
       "_model_module": "@jupyter-widgets/controls",
       "_model_module_version": "1.5.0",
       "_model_name": "FloatProgressModel",
       "_view_count": null,
       "_view_module": "@jupyter-widgets/controls",
       "_view_module_version": "1.5.0",
       "_view_name": "ProgressView",
       "bar_style": "success",
       "description": "100%",
       "description_tooltip": null,
       "layout": "IPY_MODEL_c070c7cfc07e4082a6d2072781d53d60",
       "max": 59599.0,
       "min": 0.0,
       "orientation": "horizontal",
       "style": "IPY_MODEL_4c425e61ea27479b9901a534fc6483eb",
       "value": 59599.0
      }
     },
     "0ff61e219b41478a876dd22079580cb9": {
      "model_module": "@jupyter-widgets/controls",
      "model_module_version": "1.5.0",
      "model_name": "FloatProgressModel",
      "state": {
       "_dom_classes": [],
       "_model_module": "@jupyter-widgets/controls",
       "_model_module_version": "1.5.0",
       "_model_name": "FloatProgressModel",
       "_view_count": null,
       "_view_module": "@jupyter-widgets/controls",
       "_view_module_version": "1.5.0",
       "_view_name": "ProgressView",
       "bar_style": "success",
       "description": "100%",
       "description_tooltip": null,
       "layout": "IPY_MODEL_75d5fdb8b44145cba7b3610762d28f08",
       "max": 59599.0,
       "min": 0.0,
       "orientation": "horizontal",
       "style": "IPY_MODEL_ebce9bfde6c04f4e8e45e47f277740c6",
       "value": 59599.0
      }
     },
     "10725e9cde6d409d820a79d7f6c8b002": {
      "model_module": "@jupyter-widgets/controls",
      "model_module_version": "1.5.0",
      "model_name": "HBoxModel",
      "state": {
       "_dom_classes": [],
       "_model_module": "@jupyter-widgets/controls",
       "_model_module_version": "1.5.0",
       "_model_name": "HBoxModel",
       "_view_count": null,
       "_view_module": "@jupyter-widgets/controls",
       "_view_module_version": "1.5.0",
       "_view_name": "HBoxView",
       "box_style": "",
       "children": [
        "IPY_MODEL_d7ac07a2113946738c2d798694d44e73",
        "IPY_MODEL_8b0128ebf80745ee8fc094b4ca349c00"
       ],
       "layout": "IPY_MODEL_64ef720872474434ac34a021e3988373"
      }
     },
     "10c47fdddbdb4f4581914e17e2a920b1": {
      "model_module": "@jupyter-widgets/controls",
      "model_module_version": "1.5.0",
      "model_name": "ProgressStyleModel",
      "state": {
       "_model_module": "@jupyter-widgets/controls",
       "_model_module_version": "1.5.0",
       "_model_name": "ProgressStyleModel",
       "_view_count": null,
       "_view_module": "@jupyter-widgets/base",
       "_view_module_version": "1.2.0",
       "_view_name": "StyleView",
       "bar_color": null,
       "description_width": "initial"
      }
     },
     "1221dc9df55542b5b29757122170e5e8": {
      "model_module": "@jupyter-widgets/base",
      "model_module_version": "1.2.0",
      "model_name": "LayoutModel",
      "state": {
       "_model_module": "@jupyter-widgets/base",
       "_model_module_version": "1.2.0",
       "_model_name": "LayoutModel",
       "_view_count": null,
       "_view_module": "@jupyter-widgets/base",
       "_view_module_version": "1.2.0",
       "_view_name": "LayoutView",
       "align_content": null,
       "align_items": null,
       "align_self": null,
       "border": null,
       "bottom": null,
       "display": null,
       "flex": null,
       "flex_flow": null,
       "grid_area": null,
       "grid_auto_columns": null,
       "grid_auto_flow": null,
       "grid_auto_rows": null,
       "grid_column": null,
       "grid_gap": null,
       "grid_row": null,
       "grid_template_areas": null,
       "grid_template_columns": null,
       "grid_template_rows": null,
       "height": null,
       "justify_content": null,
       "justify_items": null,
       "left": null,
       "margin": null,
       "max_height": null,
       "max_width": null,
       "min_height": null,
       "min_width": null,
       "object_fit": null,
       "object_position": null,
       "order": null,
       "overflow": null,
       "overflow_x": null,
       "overflow_y": null,
       "padding": null,
       "right": null,
       "top": null,
       "visibility": null,
       "width": null
      }
     },
     "136973dbbee2417fa109c64d31d45d37": {
      "model_module": "@jupyter-widgets/controls",
      "model_module_version": "1.5.0",
      "model_name": "HTMLModel",
      "state": {
       "_dom_classes": [],
       "_model_module": "@jupyter-widgets/controls",
       "_model_module_version": "1.5.0",
       "_model_name": "HTMLModel",
       "_view_count": null,
       "_view_module": "@jupyter-widgets/controls",
       "_view_module_version": "1.5.0",
       "_view_name": "HTMLView",
       "description": "",
       "description_tooltip": null,
       "layout": "IPY_MODEL_6ff9f1bf83394221b2d2edddb74eaf32",
       "placeholder": "​",
       "style": "IPY_MODEL_8c331ba9de2d46d083395ce272827fe1",
       "value": " 59599/59599 [00:01&lt;00:00, 55190.53it/s]"
      }
     },
     "15e608637d8249f18ea1d585936c3a49": {
      "model_module": "@jupyter-widgets/controls",
      "model_module_version": "1.5.0",
      "model_name": "DescriptionStyleModel",
      "state": {
       "_model_module": "@jupyter-widgets/controls",
       "_model_module_version": "1.5.0",
       "_model_name": "DescriptionStyleModel",
       "_view_count": null,
       "_view_module": "@jupyter-widgets/base",
       "_view_module_version": "1.2.0",
       "_view_name": "StyleView",
       "description_width": ""
      }
     },
     "17698ed3692c4aa0860ccff438d8d1d1": {
      "model_module": "@jupyter-widgets/base",
      "model_module_version": "1.2.0",
      "model_name": "LayoutModel",
      "state": {
       "_model_module": "@jupyter-widgets/base",
       "_model_module_version": "1.2.0",
       "_model_name": "LayoutModel",
       "_view_count": null,
       "_view_module": "@jupyter-widgets/base",
       "_view_module_version": "1.2.0",
       "_view_name": "LayoutView",
       "align_content": null,
       "align_items": null,
       "align_self": null,
       "border": null,
       "bottom": null,
       "display": null,
       "flex": null,
       "flex_flow": null,
       "grid_area": null,
       "grid_auto_columns": null,
       "grid_auto_flow": null,
       "grid_auto_rows": null,
       "grid_column": null,
       "grid_gap": null,
       "grid_row": null,
       "grid_template_areas": null,
       "grid_template_columns": null,
       "grid_template_rows": null,
       "height": null,
       "justify_content": null,
       "justify_items": null,
       "left": null,
       "margin": null,
       "max_height": null,
       "max_width": null,
       "min_height": null,
       "min_width": null,
       "object_fit": null,
       "object_position": null,
       "order": null,
       "overflow": null,
       "overflow_x": null,
       "overflow_y": null,
       "padding": null,
       "right": null,
       "top": null,
       "visibility": null,
       "width": null
      }
     },
     "1b80de265e5a44f1af8dda63218a1752": {
      "model_module": "@jupyter-widgets/controls",
      "model_module_version": "1.5.0",
      "model_name": "DescriptionStyleModel",
      "state": {
       "_model_module": "@jupyter-widgets/controls",
       "_model_module_version": "1.5.0",
       "_model_name": "DescriptionStyleModel",
       "_view_count": null,
       "_view_module": "@jupyter-widgets/base",
       "_view_module_version": "1.2.0",
       "_view_name": "StyleView",
       "description_width": ""
      }
     },
     "2011e25b741c47908ae180e20b3da915": {
      "model_module": "@jupyter-widgets/controls",
      "model_module_version": "1.5.0",
      "model_name": "HTMLModel",
      "state": {
       "_dom_classes": [],
       "_model_module": "@jupyter-widgets/controls",
       "_model_module_version": "1.5.0",
       "_model_name": "HTMLModel",
       "_view_count": null,
       "_view_module": "@jupyter-widgets/controls",
       "_view_module_version": "1.5.0",
       "_view_name": "HTMLView",
       "description": "",
       "description_tooltip": null,
       "layout": "IPY_MODEL_bc06dd54f7b144619bf21cb08bb93f1c",
       "placeholder": "​",
       "style": "IPY_MODEL_bfccdda826f04bfa8c429942eeb0aa6f",
       "value": " 15/15 [01:06&lt;00:00,  4.45s/it]"
      }
     },
     "217b5dec50164c5f9d55a37422a1c03e": {
      "model_module": "@jupyter-widgets/controls",
      "model_module_version": "1.5.0",
      "model_name": "HTMLModel",
      "state": {
       "_dom_classes": [],
       "_model_module": "@jupyter-widgets/controls",
       "_model_module_version": "1.5.0",
       "_model_name": "HTMLModel",
       "_view_count": null,
       "_view_module": "@jupyter-widgets/controls",
       "_view_module_version": "1.5.0",
       "_view_name": "HTMLView",
       "description": "",
       "description_tooltip": null,
       "layout": "IPY_MODEL_611fe39af1114fc1949a55c9b29d6283",
       "placeholder": "​",
       "style": "IPY_MODEL_0b532d78e26543b8907845b3df0177dc",
       "value": " 30/30 [00:14&lt;00:00,  2.01it/s]"
      }
     },
     "23961e5b6f174c7d9c11650c90d6e0b9": {
      "model_module": "@jupyter-widgets/base",
      "model_module_version": "1.2.0",
      "model_name": "LayoutModel",
      "state": {
       "_model_module": "@jupyter-widgets/base",
       "_model_module_version": "1.2.0",
       "_model_name": "LayoutModel",
       "_view_count": null,
       "_view_module": "@jupyter-widgets/base",
       "_view_module_version": "1.2.0",
       "_view_name": "LayoutView",
       "align_content": null,
       "align_items": null,
       "align_self": null,
       "border": null,
       "bottom": null,
       "display": null,
       "flex": null,
       "flex_flow": null,
       "grid_area": null,
       "grid_auto_columns": null,
       "grid_auto_flow": null,
       "grid_auto_rows": null,
       "grid_column": null,
       "grid_gap": null,
       "grid_row": null,
       "grid_template_areas": null,
       "grid_template_columns": null,
       "grid_template_rows": null,
       "height": null,
       "justify_content": null,
       "justify_items": null,
       "left": null,
       "margin": null,
       "max_height": null,
       "max_width": null,
       "min_height": null,
       "min_width": null,
       "object_fit": null,
       "object_position": null,
       "order": null,
       "overflow": null,
       "overflow_x": null,
       "overflow_y": null,
       "padding": null,
       "right": null,
       "top": null,
       "visibility": null,
       "width": null
      }
     },
     "23e13145375648c6b8bf687427347987": {
      "model_module": "@jupyter-widgets/base",
      "model_module_version": "1.2.0",
      "model_name": "LayoutModel",
      "state": {
       "_model_module": "@jupyter-widgets/base",
       "_model_module_version": "1.2.0",
       "_model_name": "LayoutModel",
       "_view_count": null,
       "_view_module": "@jupyter-widgets/base",
       "_view_module_version": "1.2.0",
       "_view_name": "LayoutView",
       "align_content": null,
       "align_items": null,
       "align_self": null,
       "border": null,
       "bottom": null,
       "display": null,
       "flex": null,
       "flex_flow": null,
       "grid_area": null,
       "grid_auto_columns": null,
       "grid_auto_flow": null,
       "grid_auto_rows": null,
       "grid_column": null,
       "grid_gap": null,
       "grid_row": null,
       "grid_template_areas": null,
       "grid_template_columns": null,
       "grid_template_rows": null,
       "height": null,
       "justify_content": null,
       "justify_items": null,
       "left": null,
       "margin": null,
       "max_height": null,
       "max_width": null,
       "min_height": null,
       "min_width": null,
       "object_fit": null,
       "object_position": null,
       "order": null,
       "overflow": null,
       "overflow_x": null,
       "overflow_y": null,
       "padding": null,
       "right": null,
       "top": null,
       "visibility": null,
       "width": null
      }
     },
     "24bf2f45e8564abb8d6a17c8eb294946": {
      "model_module": "@jupyter-widgets/controls",
      "model_module_version": "1.5.0",
      "model_name": "DescriptionStyleModel",
      "state": {
       "_model_module": "@jupyter-widgets/controls",
       "_model_module_version": "1.5.0",
       "_model_name": "DescriptionStyleModel",
       "_view_count": null,
       "_view_module": "@jupyter-widgets/base",
       "_view_module_version": "1.2.0",
       "_view_name": "StyleView",
       "description_width": ""
      }
     },
     "26c5f53f0fb045c1b0a0e9cfd77e6ffa": {
      "model_module": "@jupyter-widgets/controls",
      "model_module_version": "1.5.0",
      "model_name": "HTMLModel",
      "state": {
       "_dom_classes": [],
       "_model_module": "@jupyter-widgets/controls",
       "_model_module_version": "1.5.0",
       "_model_name": "HTMLModel",
       "_view_count": null,
       "_view_module": "@jupyter-widgets/controls",
       "_view_module_version": "1.5.0",
       "_view_name": "HTMLView",
       "description": "",
       "description_tooltip": null,
       "layout": "IPY_MODEL_43b174f9d2694d21aaea89dfc3bd3cc2",
       "placeholder": "​",
       "style": "IPY_MODEL_767ec2f03beb41d6b43911d3cdb7f431",
       "value": " 30/30 [00:13&lt;00:00,  2.17it/s]"
      }
     },
     "2802b239f6c44ae787cc9372ec5f816f": {
      "model_module": "@jupyter-widgets/base",
      "model_module_version": "1.2.0",
      "model_name": "LayoutModel",
      "state": {
       "_model_module": "@jupyter-widgets/base",
       "_model_module_version": "1.2.0",
       "_model_name": "LayoutModel",
       "_view_count": null,
       "_view_module": "@jupyter-widgets/base",
       "_view_module_version": "1.2.0",
       "_view_name": "LayoutView",
       "align_content": null,
       "align_items": null,
       "align_self": null,
       "border": null,
       "bottom": null,
       "display": null,
       "flex": null,
       "flex_flow": null,
       "grid_area": null,
       "grid_auto_columns": null,
       "grid_auto_flow": null,
       "grid_auto_rows": null,
       "grid_column": null,
       "grid_gap": null,
       "grid_row": null,
       "grid_template_areas": null,
       "grid_template_columns": null,
       "grid_template_rows": null,
       "height": null,
       "justify_content": null,
       "justify_items": null,
       "left": null,
       "margin": null,
       "max_height": null,
       "max_width": null,
       "min_height": null,
       "min_width": null,
       "object_fit": null,
       "object_position": null,
       "order": null,
       "overflow": null,
       "overflow_x": null,
       "overflow_y": null,
       "padding": null,
       "right": null,
       "top": null,
       "visibility": null,
       "width": null
      }
     },
     "28d3c426e8e846bb9091418158d16e5d": {
      "model_module": "@jupyter-widgets/controls",
      "model_module_version": "1.5.0",
      "model_name": "FloatProgressModel",
      "state": {
       "_dom_classes": [],
       "_model_module": "@jupyter-widgets/controls",
       "_model_module_version": "1.5.0",
       "_model_name": "FloatProgressModel",
       "_view_count": null,
       "_view_module": "@jupyter-widgets/controls",
       "_view_module_version": "1.5.0",
       "_view_name": "ProgressView",
       "bar_style": "success",
       "description": "100%",
       "description_tooltip": null,
       "layout": "IPY_MODEL_f0391d8d3e9c4360963db07fd41ada25",
       "max": 59599.0,
       "min": 0.0,
       "orientation": "horizontal",
       "style": "IPY_MODEL_c6ba2437f907488498009a0d2281b119",
       "value": 59599.0
      }
     },
     "326f3df0008b4d1eb21ec3d3a9faa604": {
      "model_module": "@jupyter-widgets/base",
      "model_module_version": "1.2.0",
      "model_name": "LayoutModel",
      "state": {
       "_model_module": "@jupyter-widgets/base",
       "_model_module_version": "1.2.0",
       "_model_name": "LayoutModel",
       "_view_count": null,
       "_view_module": "@jupyter-widgets/base",
       "_view_module_version": "1.2.0",
       "_view_name": "LayoutView",
       "align_content": null,
       "align_items": null,
       "align_self": null,
       "border": null,
       "bottom": null,
       "display": null,
       "flex": null,
       "flex_flow": null,
       "grid_area": null,
       "grid_auto_columns": null,
       "grid_auto_flow": null,
       "grid_auto_rows": null,
       "grid_column": null,
       "grid_gap": null,
       "grid_row": null,
       "grid_template_areas": null,
       "grid_template_columns": null,
       "grid_template_rows": null,
       "height": null,
       "justify_content": null,
       "justify_items": null,
       "left": null,
       "margin": null,
       "max_height": null,
       "max_width": null,
       "min_height": null,
       "min_width": null,
       "object_fit": null,
       "object_position": null,
       "order": null,
       "overflow": null,
       "overflow_x": null,
       "overflow_y": null,
       "padding": null,
       "right": null,
       "top": null,
       "visibility": null,
       "width": null
      }
     },
     "34bb7cff21e3481985186d371e71fb4e": {
      "model_module": "@jupyter-widgets/base",
      "model_module_version": "1.2.0",
      "model_name": "LayoutModel",
      "state": {
       "_model_module": "@jupyter-widgets/base",
       "_model_module_version": "1.2.0",
       "_model_name": "LayoutModel",
       "_view_count": null,
       "_view_module": "@jupyter-widgets/base",
       "_view_module_version": "1.2.0",
       "_view_name": "LayoutView",
       "align_content": null,
       "align_items": null,
       "align_self": null,
       "border": null,
       "bottom": null,
       "display": null,
       "flex": null,
       "flex_flow": null,
       "grid_area": null,
       "grid_auto_columns": null,
       "grid_auto_flow": null,
       "grid_auto_rows": null,
       "grid_column": null,
       "grid_gap": null,
       "grid_row": null,
       "grid_template_areas": null,
       "grid_template_columns": null,
       "grid_template_rows": null,
       "height": null,
       "justify_content": null,
       "justify_items": null,
       "left": null,
       "margin": null,
       "max_height": null,
       "max_width": null,
       "min_height": null,
       "min_width": null,
       "object_fit": null,
       "object_position": null,
       "order": null,
       "overflow": null,
       "overflow_x": null,
       "overflow_y": null,
       "padding": null,
       "right": null,
       "top": null,
       "visibility": null,
       "width": null
      }
     },
     "34cfa1f86a014b9887c23902db0ca80d": {
      "model_module": "@jupyter-widgets/controls",
      "model_module_version": "1.5.0",
      "model_name": "HBoxModel",
      "state": {
       "_dom_classes": [],
       "_model_module": "@jupyter-widgets/controls",
       "_model_module_version": "1.5.0",
       "_model_name": "HBoxModel",
       "_view_count": null,
       "_view_module": "@jupyter-widgets/controls",
       "_view_module_version": "1.5.0",
       "_view_name": "HBoxView",
       "box_style": "",
       "children": [
        "IPY_MODEL_8cc884a11afa4a7088ea8ba25964c92b",
        "IPY_MODEL_89bc32d1872e4816ab4bba1c1e5c7f7e"
       ],
       "layout": "IPY_MODEL_9dacf1847c6844329de7b98cba7cff86"
      }
     },
     "37b4eb808bf74508ba7f55a6db57a7c8": {
      "model_module": "@jupyter-widgets/controls",
      "model_module_version": "1.5.0",
      "model_name": "HBoxModel",
      "state": {
       "_dom_classes": [],
       "_model_module": "@jupyter-widgets/controls",
       "_model_module_version": "1.5.0",
       "_model_name": "HBoxModel",
       "_view_count": null,
       "_view_module": "@jupyter-widgets/controls",
       "_view_module_version": "1.5.0",
       "_view_name": "HBoxView",
       "box_style": "",
       "children": [
        "IPY_MODEL_f96e215af9e04e8da1d96fc20dea4a68",
        "IPY_MODEL_4b57561d68984b6494e1f7b2dea5c86b"
       ],
       "layout": "IPY_MODEL_3d85df200c2542a8a1d81488c2f61f74"
      }
     },
     "3d85df200c2542a8a1d81488c2f61f74": {
      "model_module": "@jupyter-widgets/base",
      "model_module_version": "1.2.0",
      "model_name": "LayoutModel",
      "state": {
       "_model_module": "@jupyter-widgets/base",
       "_model_module_version": "1.2.0",
       "_model_name": "LayoutModel",
       "_view_count": null,
       "_view_module": "@jupyter-widgets/base",
       "_view_module_version": "1.2.0",
       "_view_name": "LayoutView",
       "align_content": null,
       "align_items": null,
       "align_self": null,
       "border": null,
       "bottom": null,
       "display": null,
       "flex": null,
       "flex_flow": null,
       "grid_area": null,
       "grid_auto_columns": null,
       "grid_auto_flow": null,
       "grid_auto_rows": null,
       "grid_column": null,
       "grid_gap": null,
       "grid_row": null,
       "grid_template_areas": null,
       "grid_template_columns": null,
       "grid_template_rows": null,
       "height": null,
       "justify_content": null,
       "justify_items": null,
       "left": null,
       "margin": null,
       "max_height": null,
       "max_width": null,
       "min_height": null,
       "min_width": null,
       "object_fit": null,
       "object_position": null,
       "order": null,
       "overflow": null,
       "overflow_x": null,
       "overflow_y": null,
       "padding": null,
       "right": null,
       "top": null,
       "visibility": null,
       "width": null
      }
     },
     "3e7ae4bd78ec483c900168e40d404d52": {
      "model_module": "@jupyter-widgets/controls",
      "model_module_version": "1.5.0",
      "model_name": "HBoxModel",
      "state": {
       "_dom_classes": [],
       "_model_module": "@jupyter-widgets/controls",
       "_model_module_version": "1.5.0",
       "_model_name": "HBoxModel",
       "_view_count": null,
       "_view_module": "@jupyter-widgets/controls",
       "_view_module_version": "1.5.0",
       "_view_name": "HBoxView",
       "box_style": "",
       "children": [
        "IPY_MODEL_a22ef3e3f2dc4994b85efee2239d6179",
        "IPY_MODEL_2011e25b741c47908ae180e20b3da915"
       ],
       "layout": "IPY_MODEL_01dff12936014b78a030a6c64304bf63"
      }
     },
     "3fa7c9752f0343ba80284784b186a826": {
      "model_module": "@jupyter-widgets/base",
      "model_module_version": "1.2.0",
      "model_name": "LayoutModel",
      "state": {
       "_model_module": "@jupyter-widgets/base",
       "_model_module_version": "1.2.0",
       "_model_name": "LayoutModel",
       "_view_count": null,
       "_view_module": "@jupyter-widgets/base",
       "_view_module_version": "1.2.0",
       "_view_name": "LayoutView",
       "align_content": null,
       "align_items": null,
       "align_self": null,
       "border": null,
       "bottom": null,
       "display": null,
       "flex": null,
       "flex_flow": null,
       "grid_area": null,
       "grid_auto_columns": null,
       "grid_auto_flow": null,
       "grid_auto_rows": null,
       "grid_column": null,
       "grid_gap": null,
       "grid_row": null,
       "grid_template_areas": null,
       "grid_template_columns": null,
       "grid_template_rows": null,
       "height": null,
       "justify_content": null,
       "justify_items": null,
       "left": null,
       "margin": null,
       "max_height": null,
       "max_width": null,
       "min_height": null,
       "min_width": null,
       "object_fit": null,
       "object_position": null,
       "order": null,
       "overflow": null,
       "overflow_x": null,
       "overflow_y": null,
       "padding": null,
       "right": null,
       "top": null,
       "visibility": null,
       "width": null
      }
     },
     "405a47176f024f67a37a60e65e1c4aae": {
      "model_module": "@jupyter-widgets/controls",
      "model_module_version": "1.5.0",
      "model_name": "ProgressStyleModel",
      "state": {
       "_model_module": "@jupyter-widgets/controls",
       "_model_module_version": "1.5.0",
       "_model_name": "ProgressStyleModel",
       "_view_count": null,
       "_view_module": "@jupyter-widgets/base",
       "_view_module_version": "1.2.0",
       "_view_name": "StyleView",
       "bar_color": null,
       "description_width": "initial"
      }
     },
     "40ac030e9d4740abb79e2ccf10427569": {
      "model_module": "@jupyter-widgets/base",
      "model_module_version": "1.2.0",
      "model_name": "LayoutModel",
      "state": {
       "_model_module": "@jupyter-widgets/base",
       "_model_module_version": "1.2.0",
       "_model_name": "LayoutModel",
       "_view_count": null,
       "_view_module": "@jupyter-widgets/base",
       "_view_module_version": "1.2.0",
       "_view_name": "LayoutView",
       "align_content": null,
       "align_items": null,
       "align_self": null,
       "border": null,
       "bottom": null,
       "display": null,
       "flex": null,
       "flex_flow": null,
       "grid_area": null,
       "grid_auto_columns": null,
       "grid_auto_flow": null,
       "grid_auto_rows": null,
       "grid_column": null,
       "grid_gap": null,
       "grid_row": null,
       "grid_template_areas": null,
       "grid_template_columns": null,
       "grid_template_rows": null,
       "height": null,
       "justify_content": null,
       "justify_items": null,
       "left": null,
       "margin": null,
       "max_height": null,
       "max_width": null,
       "min_height": null,
       "min_width": null,
       "object_fit": null,
       "object_position": null,
       "order": null,
       "overflow": null,
       "overflow_x": null,
       "overflow_y": null,
       "padding": null,
       "right": null,
       "top": null,
       "visibility": null,
       "width": null
      }
     },
     "41d4293057574e4a88564cff287eeed2": {
      "model_module": "@jupyter-widgets/base",
      "model_module_version": "1.2.0",
      "model_name": "LayoutModel",
      "state": {
       "_model_module": "@jupyter-widgets/base",
       "_model_module_version": "1.2.0",
       "_model_name": "LayoutModel",
       "_view_count": null,
       "_view_module": "@jupyter-widgets/base",
       "_view_module_version": "1.2.0",
       "_view_name": "LayoutView",
       "align_content": null,
       "align_items": null,
       "align_self": null,
       "border": null,
       "bottom": null,
       "display": null,
       "flex": null,
       "flex_flow": null,
       "grid_area": null,
       "grid_auto_columns": null,
       "grid_auto_flow": null,
       "grid_auto_rows": null,
       "grid_column": null,
       "grid_gap": null,
       "grid_row": null,
       "grid_template_areas": null,
       "grid_template_columns": null,
       "grid_template_rows": null,
       "height": null,
       "justify_content": null,
       "justify_items": null,
       "left": null,
       "margin": null,
       "max_height": null,
       "max_width": null,
       "min_height": null,
       "min_width": null,
       "object_fit": null,
       "object_position": null,
       "order": null,
       "overflow": null,
       "overflow_x": null,
       "overflow_y": null,
       "padding": null,
       "right": null,
       "top": null,
       "visibility": null,
       "width": null
      }
     },
     "43b174f9d2694d21aaea89dfc3bd3cc2": {
      "model_module": "@jupyter-widgets/base",
      "model_module_version": "1.2.0",
      "model_name": "LayoutModel",
      "state": {
       "_model_module": "@jupyter-widgets/base",
       "_model_module_version": "1.2.0",
       "_model_name": "LayoutModel",
       "_view_count": null,
       "_view_module": "@jupyter-widgets/base",
       "_view_module_version": "1.2.0",
       "_view_name": "LayoutView",
       "align_content": null,
       "align_items": null,
       "align_self": null,
       "border": null,
       "bottom": null,
       "display": null,
       "flex": null,
       "flex_flow": null,
       "grid_area": null,
       "grid_auto_columns": null,
       "grid_auto_flow": null,
       "grid_auto_rows": null,
       "grid_column": null,
       "grid_gap": null,
       "grid_row": null,
       "grid_template_areas": null,
       "grid_template_columns": null,
       "grid_template_rows": null,
       "height": null,
       "justify_content": null,
       "justify_items": null,
       "left": null,
       "margin": null,
       "max_height": null,
       "max_width": null,
       "min_height": null,
       "min_width": null,
       "object_fit": null,
       "object_position": null,
       "order": null,
       "overflow": null,
       "overflow_x": null,
       "overflow_y": null,
       "padding": null,
       "right": null,
       "top": null,
       "visibility": null,
       "width": null
      }
     },
     "476b1832c7cc4723a94feb558c1a27d4": {
      "model_module": "@jupyter-widgets/base",
      "model_module_version": "1.2.0",
      "model_name": "LayoutModel",
      "state": {
       "_model_module": "@jupyter-widgets/base",
       "_model_module_version": "1.2.0",
       "_model_name": "LayoutModel",
       "_view_count": null,
       "_view_module": "@jupyter-widgets/base",
       "_view_module_version": "1.2.0",
       "_view_name": "LayoutView",
       "align_content": null,
       "align_items": null,
       "align_self": null,
       "border": null,
       "bottom": null,
       "display": null,
       "flex": null,
       "flex_flow": null,
       "grid_area": null,
       "grid_auto_columns": null,
       "grid_auto_flow": null,
       "grid_auto_rows": null,
       "grid_column": null,
       "grid_gap": null,
       "grid_row": null,
       "grid_template_areas": null,
       "grid_template_columns": null,
       "grid_template_rows": null,
       "height": null,
       "justify_content": null,
       "justify_items": null,
       "left": null,
       "margin": null,
       "max_height": null,
       "max_width": null,
       "min_height": null,
       "min_width": null,
       "object_fit": null,
       "object_position": null,
       "order": null,
       "overflow": null,
       "overflow_x": null,
       "overflow_y": null,
       "padding": null,
       "right": null,
       "top": null,
       "visibility": null,
       "width": null
      }
     },
     "486a024e7e5c4773a7424433a5350fb4": {
      "model_module": "@jupyter-widgets/base",
      "model_module_version": "1.2.0",
      "model_name": "LayoutModel",
      "state": {
       "_model_module": "@jupyter-widgets/base",
       "_model_module_version": "1.2.0",
       "_model_name": "LayoutModel",
       "_view_count": null,
       "_view_module": "@jupyter-widgets/base",
       "_view_module_version": "1.2.0",
       "_view_name": "LayoutView",
       "align_content": null,
       "align_items": null,
       "align_self": null,
       "border": null,
       "bottom": null,
       "display": null,
       "flex": null,
       "flex_flow": null,
       "grid_area": null,
       "grid_auto_columns": null,
       "grid_auto_flow": null,
       "grid_auto_rows": null,
       "grid_column": null,
       "grid_gap": null,
       "grid_row": null,
       "grid_template_areas": null,
       "grid_template_columns": null,
       "grid_template_rows": null,
       "height": null,
       "justify_content": null,
       "justify_items": null,
       "left": null,
       "margin": null,
       "max_height": null,
       "max_width": null,
       "min_height": null,
       "min_width": null,
       "object_fit": null,
       "object_position": null,
       "order": null,
       "overflow": null,
       "overflow_x": null,
       "overflow_y": null,
       "padding": null,
       "right": null,
       "top": null,
       "visibility": null,
       "width": null
      }
     },
     "4b1cbf29244f4bff9e7cc5e9f5956d2d": {
      "model_module": "@jupyter-widgets/base",
      "model_module_version": "1.2.0",
      "model_name": "LayoutModel",
      "state": {
       "_model_module": "@jupyter-widgets/base",
       "_model_module_version": "1.2.0",
       "_model_name": "LayoutModel",
       "_view_count": null,
       "_view_module": "@jupyter-widgets/base",
       "_view_module_version": "1.2.0",
       "_view_name": "LayoutView",
       "align_content": null,
       "align_items": null,
       "align_self": null,
       "border": null,
       "bottom": null,
       "display": null,
       "flex": null,
       "flex_flow": null,
       "grid_area": null,
       "grid_auto_columns": null,
       "grid_auto_flow": null,
       "grid_auto_rows": null,
       "grid_column": null,
       "grid_gap": null,
       "grid_row": null,
       "grid_template_areas": null,
       "grid_template_columns": null,
       "grid_template_rows": null,
       "height": null,
       "justify_content": null,
       "justify_items": null,
       "left": null,
       "margin": null,
       "max_height": null,
       "max_width": null,
       "min_height": null,
       "min_width": null,
       "object_fit": null,
       "object_position": null,
       "order": null,
       "overflow": null,
       "overflow_x": null,
       "overflow_y": null,
       "padding": null,
       "right": null,
       "top": null,
       "visibility": null,
       "width": null
      }
     },
     "4b57561d68984b6494e1f7b2dea5c86b": {
      "model_module": "@jupyter-widgets/controls",
      "model_module_version": "1.5.0",
      "model_name": "HTMLModel",
      "state": {
       "_dom_classes": [],
       "_model_module": "@jupyter-widgets/controls",
       "_model_module_version": "1.5.0",
       "_model_name": "HTMLModel",
       "_view_count": null,
       "_view_module": "@jupyter-widgets/controls",
       "_view_module_version": "1.5.0",
       "_view_name": "HTMLView",
       "description": "",
       "description_tooltip": null,
       "layout": "IPY_MODEL_34bb7cff21e3481985186d371e71fb4e",
       "placeholder": "​",
       "style": "IPY_MODEL_f531fbe83a124d7c925d0d0ea6bb9366",
       "value": " 59599/59599 [00:00&lt;00:00, 65110.73it/s]"
      }
     },
     "4be580384d2249d7b6bc0b68ab2dcbf4": {
      "model_module": "@jupyter-widgets/controls",
      "model_module_version": "1.5.0",
      "model_name": "DescriptionStyleModel",
      "state": {
       "_model_module": "@jupyter-widgets/controls",
       "_model_module_version": "1.5.0",
       "_model_name": "DescriptionStyleModel",
       "_view_count": null,
       "_view_module": "@jupyter-widgets/base",
       "_view_module_version": "1.2.0",
       "_view_name": "StyleView",
       "description_width": ""
      }
     },
     "4c425e61ea27479b9901a534fc6483eb": {
      "model_module": "@jupyter-widgets/controls",
      "model_module_version": "1.5.0",
      "model_name": "ProgressStyleModel",
      "state": {
       "_model_module": "@jupyter-widgets/controls",
       "_model_module_version": "1.5.0",
       "_model_name": "ProgressStyleModel",
       "_view_count": null,
       "_view_module": "@jupyter-widgets/base",
       "_view_module_version": "1.2.0",
       "_view_name": "StyleView",
       "bar_color": null,
       "description_width": "initial"
      }
     },
     "4f44390f104143cfa532d46bd78404bd": {
      "model_module": "@jupyter-widgets/base",
      "model_module_version": "1.2.0",
      "model_name": "LayoutModel",
      "state": {
       "_model_module": "@jupyter-widgets/base",
       "_model_module_version": "1.2.0",
       "_model_name": "LayoutModel",
       "_view_count": null,
       "_view_module": "@jupyter-widgets/base",
       "_view_module_version": "1.2.0",
       "_view_name": "LayoutView",
       "align_content": null,
       "align_items": null,
       "align_self": null,
       "border": null,
       "bottom": null,
       "display": null,
       "flex": null,
       "flex_flow": null,
       "grid_area": null,
       "grid_auto_columns": null,
       "grid_auto_flow": null,
       "grid_auto_rows": null,
       "grid_column": null,
       "grid_gap": null,
       "grid_row": null,
       "grid_template_areas": null,
       "grid_template_columns": null,
       "grid_template_rows": null,
       "height": null,
       "justify_content": null,
       "justify_items": null,
       "left": null,
       "margin": null,
       "max_height": null,
       "max_width": null,
       "min_height": null,
       "min_width": null,
       "object_fit": null,
       "object_position": null,
       "order": null,
       "overflow": null,
       "overflow_x": null,
       "overflow_y": null,
       "padding": null,
       "right": null,
       "top": null,
       "visibility": null,
       "width": null
      }
     },
     "55bd83d848f5457ca47e6330bf72c9fb": {
      "model_module": "@jupyter-widgets/controls",
      "model_module_version": "1.5.0",
      "model_name": "HTMLModel",
      "state": {
       "_dom_classes": [],
       "_model_module": "@jupyter-widgets/controls",
       "_model_module_version": "1.5.0",
       "_model_name": "HTMLModel",
       "_view_count": null,
       "_view_module": "@jupyter-widgets/controls",
       "_view_module_version": "1.5.0",
       "_view_name": "HTMLView",
       "description": "",
       "description_tooltip": null,
       "layout": "IPY_MODEL_85411df0414b4c12bcc30b8ab51de15a",
       "placeholder": "​",
       "style": "IPY_MODEL_aefe5766530b49819c2ebb7cb8819952",
       "value": " 59599/59599 [00:01&lt;00:00, 51726.51it/s]"
      }
     },
     "56e7b06f792f40398800173cdbb28ffa": {
      "model_module": "@jupyter-widgets/base",
      "model_module_version": "1.2.0",
      "model_name": "LayoutModel",
      "state": {
       "_model_module": "@jupyter-widgets/base",
       "_model_module_version": "1.2.0",
       "_model_name": "LayoutModel",
       "_view_count": null,
       "_view_module": "@jupyter-widgets/base",
       "_view_module_version": "1.2.0",
       "_view_name": "LayoutView",
       "align_content": null,
       "align_items": null,
       "align_self": null,
       "border": null,
       "bottom": null,
       "display": null,
       "flex": null,
       "flex_flow": null,
       "grid_area": null,
       "grid_auto_columns": null,
       "grid_auto_flow": null,
       "grid_auto_rows": null,
       "grid_column": null,
       "grid_gap": null,
       "grid_row": null,
       "grid_template_areas": null,
       "grid_template_columns": null,
       "grid_template_rows": null,
       "height": null,
       "justify_content": null,
       "justify_items": null,
       "left": null,
       "margin": null,
       "max_height": null,
       "max_width": null,
       "min_height": null,
       "min_width": null,
       "object_fit": null,
       "object_position": null,
       "order": null,
       "overflow": null,
       "overflow_x": null,
       "overflow_y": null,
       "padding": null,
       "right": null,
       "top": null,
       "visibility": null,
       "width": null
      }
     },
     "5783c0687a3b4b70b11a67b229bdef2e": {
      "model_module": "@jupyter-widgets/controls",
      "model_module_version": "1.5.0",
      "model_name": "FloatProgressModel",
      "state": {
       "_dom_classes": [],
       "_model_module": "@jupyter-widgets/controls",
       "_model_module_version": "1.5.0",
       "_model_name": "FloatProgressModel",
       "_view_count": null,
       "_view_module": "@jupyter-widgets/controls",
       "_view_module_version": "1.5.0",
       "_view_name": "ProgressView",
       "bar_style": "success",
       "description": "100%",
       "description_tooltip": null,
       "layout": "IPY_MODEL_476b1832c7cc4723a94feb558c1a27d4",
       "max": 30.0,
       "min": 0.0,
       "orientation": "horizontal",
       "style": "IPY_MODEL_90a7bad187674188ae8ad52e7191938f",
       "value": 30.0
      }
     },
     "5abfd0c9efb44dd2a64aae52e98719e4": {
      "model_module": "@jupyter-widgets/base",
      "model_module_version": "1.2.0",
      "model_name": "LayoutModel",
      "state": {
       "_model_module": "@jupyter-widgets/base",
       "_model_module_version": "1.2.0",
       "_model_name": "LayoutModel",
       "_view_count": null,
       "_view_module": "@jupyter-widgets/base",
       "_view_module_version": "1.2.0",
       "_view_name": "LayoutView",
       "align_content": null,
       "align_items": null,
       "align_self": null,
       "border": null,
       "bottom": null,
       "display": null,
       "flex": null,
       "flex_flow": null,
       "grid_area": null,
       "grid_auto_columns": null,
       "grid_auto_flow": null,
       "grid_auto_rows": null,
       "grid_column": null,
       "grid_gap": null,
       "grid_row": null,
       "grid_template_areas": null,
       "grid_template_columns": null,
       "grid_template_rows": null,
       "height": null,
       "justify_content": null,
       "justify_items": null,
       "left": null,
       "margin": null,
       "max_height": null,
       "max_width": null,
       "min_height": null,
       "min_width": null,
       "object_fit": null,
       "object_position": null,
       "order": null,
       "overflow": null,
       "overflow_x": null,
       "overflow_y": null,
       "padding": null,
       "right": null,
       "top": null,
       "visibility": null,
       "width": null
      }
     },
     "5b6100e13f384e3a919df5a91a1f68ae": {
      "model_module": "@jupyter-widgets/base",
      "model_module_version": "1.2.0",
      "model_name": "LayoutModel",
      "state": {
       "_model_module": "@jupyter-widgets/base",
       "_model_module_version": "1.2.0",
       "_model_name": "LayoutModel",
       "_view_count": null,
       "_view_module": "@jupyter-widgets/base",
       "_view_module_version": "1.2.0",
       "_view_name": "LayoutView",
       "align_content": null,
       "align_items": null,
       "align_self": null,
       "border": null,
       "bottom": null,
       "display": null,
       "flex": null,
       "flex_flow": null,
       "grid_area": null,
       "grid_auto_columns": null,
       "grid_auto_flow": null,
       "grid_auto_rows": null,
       "grid_column": null,
       "grid_gap": null,
       "grid_row": null,
       "grid_template_areas": null,
       "grid_template_columns": null,
       "grid_template_rows": null,
       "height": null,
       "justify_content": null,
       "justify_items": null,
       "left": null,
       "margin": null,
       "max_height": null,
       "max_width": null,
       "min_height": null,
       "min_width": null,
       "object_fit": null,
       "object_position": null,
       "order": null,
       "overflow": null,
       "overflow_x": null,
       "overflow_y": null,
       "padding": null,
       "right": null,
       "top": null,
       "visibility": null,
       "width": null
      }
     },
     "611fe39af1114fc1949a55c9b29d6283": {
      "model_module": "@jupyter-widgets/base",
      "model_module_version": "1.2.0",
      "model_name": "LayoutModel",
      "state": {
       "_model_module": "@jupyter-widgets/base",
       "_model_module_version": "1.2.0",
       "_model_name": "LayoutModel",
       "_view_count": null,
       "_view_module": "@jupyter-widgets/base",
       "_view_module_version": "1.2.0",
       "_view_name": "LayoutView",
       "align_content": null,
       "align_items": null,
       "align_self": null,
       "border": null,
       "bottom": null,
       "display": null,
       "flex": null,
       "flex_flow": null,
       "grid_area": null,
       "grid_auto_columns": null,
       "grid_auto_flow": null,
       "grid_auto_rows": null,
       "grid_column": null,
       "grid_gap": null,
       "grid_row": null,
       "grid_template_areas": null,
       "grid_template_columns": null,
       "grid_template_rows": null,
       "height": null,
       "justify_content": null,
       "justify_items": null,
       "left": null,
       "margin": null,
       "max_height": null,
       "max_width": null,
       "min_height": null,
       "min_width": null,
       "object_fit": null,
       "object_position": null,
       "order": null,
       "overflow": null,
       "overflow_x": null,
       "overflow_y": null,
       "padding": null,
       "right": null,
       "top": null,
       "visibility": null,
       "width": null
      }
     },
     "61dd3a1bb9d949ea870ef93b3e6ea79a": {
      "model_module": "@jupyter-widgets/controls",
      "model_module_version": "1.5.0",
      "model_name": "HTMLModel",
      "state": {
       "_dom_classes": [],
       "_model_module": "@jupyter-widgets/controls",
       "_model_module_version": "1.5.0",
       "_model_name": "HTMLModel",
       "_view_count": null,
       "_view_module": "@jupyter-widgets/controls",
       "_view_module_version": "1.5.0",
       "_view_name": "HTMLView",
       "description": "",
       "description_tooltip": null,
       "layout": "IPY_MODEL_cc8031a182204048ade10fc39e76881d",
       "placeholder": "​",
       "style": "IPY_MODEL_24bf2f45e8564abb8d6a17c8eb294946",
       "value": " 59599/59599 [00:00&lt;00:00, 64240.28it/s]"
      }
     },
     "6292827db69b4ab2b359bab7fd600e99": {
      "model_module": "@jupyter-widgets/controls",
      "model_module_version": "1.5.0",
      "model_name": "ProgressStyleModel",
      "state": {
       "_model_module": "@jupyter-widgets/controls",
       "_model_module_version": "1.5.0",
       "_model_name": "ProgressStyleModel",
       "_view_count": null,
       "_view_module": "@jupyter-widgets/base",
       "_view_module_version": "1.2.0",
       "_view_name": "StyleView",
       "bar_color": null,
       "description_width": "initial"
      }
     },
     "62cb613e3aa34ed4994207570a3b726d": {
      "model_module": "@jupyter-widgets/base",
      "model_module_version": "1.2.0",
      "model_name": "LayoutModel",
      "state": {
       "_model_module": "@jupyter-widgets/base",
       "_model_module_version": "1.2.0",
       "_model_name": "LayoutModel",
       "_view_count": null,
       "_view_module": "@jupyter-widgets/base",
       "_view_module_version": "1.2.0",
       "_view_name": "LayoutView",
       "align_content": null,
       "align_items": null,
       "align_self": null,
       "border": null,
       "bottom": null,
       "display": null,
       "flex": null,
       "flex_flow": null,
       "grid_area": null,
       "grid_auto_columns": null,
       "grid_auto_flow": null,
       "grid_auto_rows": null,
       "grid_column": null,
       "grid_gap": null,
       "grid_row": null,
       "grid_template_areas": null,
       "grid_template_columns": null,
       "grid_template_rows": null,
       "height": null,
       "justify_content": null,
       "justify_items": null,
       "left": null,
       "margin": null,
       "max_height": null,
       "max_width": null,
       "min_height": null,
       "min_width": null,
       "object_fit": null,
       "object_position": null,
       "order": null,
       "overflow": null,
       "overflow_x": null,
       "overflow_y": null,
       "padding": null,
       "right": null,
       "top": null,
       "visibility": null,
       "width": null
      }
     },
     "64ef720872474434ac34a021e3988373": {
      "model_module": "@jupyter-widgets/base",
      "model_module_version": "1.2.0",
      "model_name": "LayoutModel",
      "state": {
       "_model_module": "@jupyter-widgets/base",
       "_model_module_version": "1.2.0",
       "_model_name": "LayoutModel",
       "_view_count": null,
       "_view_module": "@jupyter-widgets/base",
       "_view_module_version": "1.2.0",
       "_view_name": "LayoutView",
       "align_content": null,
       "align_items": null,
       "align_self": null,
       "border": null,
       "bottom": null,
       "display": null,
       "flex": null,
       "flex_flow": null,
       "grid_area": null,
       "grid_auto_columns": null,
       "grid_auto_flow": null,
       "grid_auto_rows": null,
       "grid_column": null,
       "grid_gap": null,
       "grid_row": null,
       "grid_template_areas": null,
       "grid_template_columns": null,
       "grid_template_rows": null,
       "height": null,
       "justify_content": null,
       "justify_items": null,
       "left": null,
       "margin": null,
       "max_height": null,
       "max_width": null,
       "min_height": null,
       "min_width": null,
       "object_fit": null,
       "object_position": null,
       "order": null,
       "overflow": null,
       "overflow_x": null,
       "overflow_y": null,
       "padding": null,
       "right": null,
       "top": null,
       "visibility": null,
       "width": null
      }
     },
     "6666746eef02427593d855756c8d544c": {
      "model_module": "@jupyter-widgets/controls",
      "model_module_version": "1.5.0",
      "model_name": "HBoxModel",
      "state": {
       "_dom_classes": [],
       "_model_module": "@jupyter-widgets/controls",
       "_model_module_version": "1.5.0",
       "_model_name": "HBoxModel",
       "_view_count": null,
       "_view_module": "@jupyter-widgets/controls",
       "_view_module_version": "1.5.0",
       "_view_name": "HBoxView",
       "box_style": "",
       "children": [
        "IPY_MODEL_7301d44a3a354b879856063ffd8c4c0d",
        "IPY_MODEL_61dd3a1bb9d949ea870ef93b3e6ea79a"
       ],
       "layout": "IPY_MODEL_2802b239f6c44ae787cc9372ec5f816f"
      }
     },
     "6690878c7bad42dfbb86f9ef7f66d0df": {
      "model_module": "@jupyter-widgets/controls",
      "model_module_version": "1.5.0",
      "model_name": "FloatProgressModel",
      "state": {
       "_dom_classes": [],
       "_model_module": "@jupyter-widgets/controls",
       "_model_module_version": "1.5.0",
       "_model_name": "FloatProgressModel",
       "_view_count": null,
       "_view_module": "@jupyter-widgets/controls",
       "_view_module_version": "1.5.0",
       "_view_name": "ProgressView",
       "bar_style": "success",
       "description": "100%",
       "description_tooltip": null,
       "layout": "IPY_MODEL_486a024e7e5c4773a7424433a5350fb4",
       "max": 30.0,
       "min": 0.0,
       "orientation": "horizontal",
       "style": "IPY_MODEL_9e49338cbb734471b0e6d810f828d395",
       "value": 30.0
      }
     },
     "678b90f63bd047789c952b2ec34f3290": {
      "model_module": "@jupyter-widgets/controls",
      "model_module_version": "1.5.0",
      "model_name": "HBoxModel",
      "state": {
       "_dom_classes": [],
       "_model_module": "@jupyter-widgets/controls",
       "_model_module_version": "1.5.0",
       "_model_name": "HBoxModel",
       "_view_count": null,
       "_view_module": "@jupyter-widgets/controls",
       "_view_module_version": "1.5.0",
       "_view_name": "HBoxView",
       "box_style": "",
       "children": [
        "IPY_MODEL_28d3c426e8e846bb9091418158d16e5d",
        "IPY_MODEL_d366aaf520824691b1a1e2958ecc8592"
       ],
       "layout": "IPY_MODEL_41d4293057574e4a88564cff287eeed2"
      }
     },
     "6ff9f1bf83394221b2d2edddb74eaf32": {
      "model_module": "@jupyter-widgets/base",
      "model_module_version": "1.2.0",
      "model_name": "LayoutModel",
      "state": {
       "_model_module": "@jupyter-widgets/base",
       "_model_module_version": "1.2.0",
       "_model_name": "LayoutModel",
       "_view_count": null,
       "_view_module": "@jupyter-widgets/base",
       "_view_module_version": "1.2.0",
       "_view_name": "LayoutView",
       "align_content": null,
       "align_items": null,
       "align_self": null,
       "border": null,
       "bottom": null,
       "display": null,
       "flex": null,
       "flex_flow": null,
       "grid_area": null,
       "grid_auto_columns": null,
       "grid_auto_flow": null,
       "grid_auto_rows": null,
       "grid_column": null,
       "grid_gap": null,
       "grid_row": null,
       "grid_template_areas": null,
       "grid_template_columns": null,
       "grid_template_rows": null,
       "height": null,
       "justify_content": null,
       "justify_items": null,
       "left": null,
       "margin": null,
       "max_height": null,
       "max_width": null,
       "min_height": null,
       "min_width": null,
       "object_fit": null,
       "object_position": null,
       "order": null,
       "overflow": null,
       "overflow_x": null,
       "overflow_y": null,
       "padding": null,
       "right": null,
       "top": null,
       "visibility": null,
       "width": null
      }
     },
     "7118098c88f143e28f9f30ef6673102f": {
      "model_module": "@jupyter-widgets/controls",
      "model_module_version": "1.5.0",
      "model_name": "ProgressStyleModel",
      "state": {
       "_model_module": "@jupyter-widgets/controls",
       "_model_module_version": "1.5.0",
       "_model_name": "ProgressStyleModel",
       "_view_count": null,
       "_view_module": "@jupyter-widgets/base",
       "_view_module_version": "1.2.0",
       "_view_name": "StyleView",
       "bar_color": null,
       "description_width": "initial"
      }
     },
     "7301d44a3a354b879856063ffd8c4c0d": {
      "model_module": "@jupyter-widgets/controls",
      "model_module_version": "1.5.0",
      "model_name": "FloatProgressModel",
      "state": {
       "_dom_classes": [],
       "_model_module": "@jupyter-widgets/controls",
       "_model_module_version": "1.5.0",
       "_model_name": "FloatProgressModel",
       "_view_count": null,
       "_view_module": "@jupyter-widgets/controls",
       "_view_module_version": "1.5.0",
       "_view_name": "ProgressView",
       "bar_style": "success",
       "description": "100%",
       "description_tooltip": null,
       "layout": "IPY_MODEL_996efbbff2eb446db7750828298bbb02",
       "max": 59599.0,
       "min": 0.0,
       "orientation": "horizontal",
       "style": "IPY_MODEL_76827b817494418391e7ad3c4867dfa1",
       "value": 59599.0
      }
     },
     "75d5fdb8b44145cba7b3610762d28f08": {
      "model_module": "@jupyter-widgets/base",
      "model_module_version": "1.2.0",
      "model_name": "LayoutModel",
      "state": {
       "_model_module": "@jupyter-widgets/base",
       "_model_module_version": "1.2.0",
       "_model_name": "LayoutModel",
       "_view_count": null,
       "_view_module": "@jupyter-widgets/base",
       "_view_module_version": "1.2.0",
       "_view_name": "LayoutView",
       "align_content": null,
       "align_items": null,
       "align_self": null,
       "border": null,
       "bottom": null,
       "display": null,
       "flex": null,
       "flex_flow": null,
       "grid_area": null,
       "grid_auto_columns": null,
       "grid_auto_flow": null,
       "grid_auto_rows": null,
       "grid_column": null,
       "grid_gap": null,
       "grid_row": null,
       "grid_template_areas": null,
       "grid_template_columns": null,
       "grid_template_rows": null,
       "height": null,
       "justify_content": null,
       "justify_items": null,
       "left": null,
       "margin": null,
       "max_height": null,
       "max_width": null,
       "min_height": null,
       "min_width": null,
       "object_fit": null,
       "object_position": null,
       "order": null,
       "overflow": null,
       "overflow_x": null,
       "overflow_y": null,
       "padding": null,
       "right": null,
       "top": null,
       "visibility": null,
       "width": null
      }
     },
     "75deddb353794acb9a8583cfd5fae6e0": {
      "model_module": "@jupyter-widgets/base",
      "model_module_version": "1.2.0",
      "model_name": "LayoutModel",
      "state": {
       "_model_module": "@jupyter-widgets/base",
       "_model_module_version": "1.2.0",
       "_model_name": "LayoutModel",
       "_view_count": null,
       "_view_module": "@jupyter-widgets/base",
       "_view_module_version": "1.2.0",
       "_view_name": "LayoutView",
       "align_content": null,
       "align_items": null,
       "align_self": null,
       "border": null,
       "bottom": null,
       "display": null,
       "flex": null,
       "flex_flow": null,
       "grid_area": null,
       "grid_auto_columns": null,
       "grid_auto_flow": null,
       "grid_auto_rows": null,
       "grid_column": null,
       "grid_gap": null,
       "grid_row": null,
       "grid_template_areas": null,
       "grid_template_columns": null,
       "grid_template_rows": null,
       "height": null,
       "justify_content": null,
       "justify_items": null,
       "left": null,
       "margin": null,
       "max_height": null,
       "max_width": null,
       "min_height": null,
       "min_width": null,
       "object_fit": null,
       "object_position": null,
       "order": null,
       "overflow": null,
       "overflow_x": null,
       "overflow_y": null,
       "padding": null,
       "right": null,
       "top": null,
       "visibility": null,
       "width": null
      }
     },
     "767ec2f03beb41d6b43911d3cdb7f431": {
      "model_module": "@jupyter-widgets/controls",
      "model_module_version": "1.5.0",
      "model_name": "DescriptionStyleModel",
      "state": {
       "_model_module": "@jupyter-widgets/controls",
       "_model_module_version": "1.5.0",
       "_model_name": "DescriptionStyleModel",
       "_view_count": null,
       "_view_module": "@jupyter-widgets/base",
       "_view_module_version": "1.2.0",
       "_view_name": "StyleView",
       "description_width": ""
      }
     },
     "76827b817494418391e7ad3c4867dfa1": {
      "model_module": "@jupyter-widgets/controls",
      "model_module_version": "1.5.0",
      "model_name": "ProgressStyleModel",
      "state": {
       "_model_module": "@jupyter-widgets/controls",
       "_model_module_version": "1.5.0",
       "_model_name": "ProgressStyleModel",
       "_view_count": null,
       "_view_module": "@jupyter-widgets/base",
       "_view_module_version": "1.2.0",
       "_view_name": "StyleView",
       "bar_color": null,
       "description_width": "initial"
      }
     },
     "76a36814b98f4c09be05043c0c7224ca": {
      "model_module": "@jupyter-widgets/controls",
      "model_module_version": "1.5.0",
      "model_name": "DescriptionStyleModel",
      "state": {
       "_model_module": "@jupyter-widgets/controls",
       "_model_module_version": "1.5.0",
       "_model_name": "DescriptionStyleModel",
       "_view_count": null,
       "_view_module": "@jupyter-widgets/base",
       "_view_module_version": "1.2.0",
       "_view_name": "StyleView",
       "description_width": ""
      }
     },
     "777de28668b94a53be5e80ba50eac1d9": {
      "model_module": "@jupyter-widgets/controls",
      "model_module_version": "1.5.0",
      "model_name": "ProgressStyleModel",
      "state": {
       "_model_module": "@jupyter-widgets/controls",
       "_model_module_version": "1.5.0",
       "_model_name": "ProgressStyleModel",
       "_view_count": null,
       "_view_module": "@jupyter-widgets/base",
       "_view_module_version": "1.2.0",
       "_view_name": "StyleView",
       "bar_color": null,
       "description_width": "initial"
      }
     },
     "834d0afedccb434398abc50f66d93980": {
      "model_module": "@jupyter-widgets/controls",
      "model_module_version": "1.5.0",
      "model_name": "HBoxModel",
      "state": {
       "_dom_classes": [],
       "_model_module": "@jupyter-widgets/controls",
       "_model_module_version": "1.5.0",
       "_model_name": "HBoxModel",
       "_view_count": null,
       "_view_module": "@jupyter-widgets/controls",
       "_view_module_version": "1.5.0",
       "_view_name": "HBoxView",
       "box_style": "",
       "children": [
        "IPY_MODEL_03546569962c4ffeb037533e5fb94fd5",
        "IPY_MODEL_55bd83d848f5457ca47e6330bf72c9fb"
       ],
       "layout": "IPY_MODEL_17698ed3692c4aa0860ccff438d8d1d1"
      }
     },
     "85411df0414b4c12bcc30b8ab51de15a": {
      "model_module": "@jupyter-widgets/base",
      "model_module_version": "1.2.0",
      "model_name": "LayoutModel",
      "state": {
       "_model_module": "@jupyter-widgets/base",
       "_model_module_version": "1.2.0",
       "_model_name": "LayoutModel",
       "_view_count": null,
       "_view_module": "@jupyter-widgets/base",
       "_view_module_version": "1.2.0",
       "_view_name": "LayoutView",
       "align_content": null,
       "align_items": null,
       "align_self": null,
       "border": null,
       "bottom": null,
       "display": null,
       "flex": null,
       "flex_flow": null,
       "grid_area": null,
       "grid_auto_columns": null,
       "grid_auto_flow": null,
       "grid_auto_rows": null,
       "grid_column": null,
       "grid_gap": null,
       "grid_row": null,
       "grid_template_areas": null,
       "grid_template_columns": null,
       "grid_template_rows": null,
       "height": null,
       "justify_content": null,
       "justify_items": null,
       "left": null,
       "margin": null,
       "max_height": null,
       "max_width": null,
       "min_height": null,
       "min_width": null,
       "object_fit": null,
       "object_position": null,
       "order": null,
       "overflow": null,
       "overflow_x": null,
       "overflow_y": null,
       "padding": null,
       "right": null,
       "top": null,
       "visibility": null,
       "width": null
      }
     },
     "86416dcef94d40b180335884994517ea": {
      "model_module": "@jupyter-widgets/controls",
      "model_module_version": "1.5.0",
      "model_name": "FloatProgressModel",
      "state": {
       "_dom_classes": [],
       "_model_module": "@jupyter-widgets/controls",
       "_model_module_version": "1.5.0",
       "_model_name": "FloatProgressModel",
       "_view_count": null,
       "_view_module": "@jupyter-widgets/controls",
       "_view_module_version": "1.5.0",
       "_view_name": "ProgressView",
       "bar_style": "success",
       "description": "100%",
       "description_tooltip": null,
       "layout": "IPY_MODEL_06eae2e8cae3420a813f4aa504f91002",
       "max": 30.0,
       "min": 0.0,
       "orientation": "horizontal",
       "style": "IPY_MODEL_405a47176f024f67a37a60e65e1c4aae",
       "value": 30.0
      }
     },
     "880abb84922440d38dc8e8676fa90850": {
      "model_module": "@jupyter-widgets/controls",
      "model_module_version": "1.5.0",
      "model_name": "HTMLModel",
      "state": {
       "_dom_classes": [],
       "_model_module": "@jupyter-widgets/controls",
       "_model_module_version": "1.5.0",
       "_model_name": "HTMLModel",
       "_view_count": null,
       "_view_module": "@jupyter-widgets/controls",
       "_view_module_version": "1.5.0",
       "_view_name": "HTMLView",
       "description": "",
       "description_tooltip": null,
       "layout": "IPY_MODEL_aeed7a20a4ca47caa0d9e54ec93b0fb0",
       "placeholder": "​",
       "style": "IPY_MODEL_76a36814b98f4c09be05043c0c7224ca",
       "value": " 30/30 [00:15&lt;00:00,  1.98it/s]"
      }
     },
     "89bc32d1872e4816ab4bba1c1e5c7f7e": {
      "model_module": "@jupyter-widgets/controls",
      "model_module_version": "1.5.0",
      "model_name": "HTMLModel",
      "state": {
       "_dom_classes": [],
       "_model_module": "@jupyter-widgets/controls",
       "_model_module_version": "1.5.0",
       "_model_name": "HTMLModel",
       "_view_count": null,
       "_view_module": "@jupyter-widgets/controls",
       "_view_module_version": "1.5.0",
       "_view_name": "HTMLView",
       "description": "",
       "description_tooltip": null,
       "layout": "IPY_MODEL_75deddb353794acb9a8583cfd5fae6e0",
       "placeholder": "​",
       "style": "IPY_MODEL_a796229d6a964dd59e8102d1fb8aa820",
       "value": " 30/30 [00:14&lt;00:00,  2.06it/s]"
      }
     },
     "8b0128ebf80745ee8fc094b4ca349c00": {
      "model_module": "@jupyter-widgets/controls",
      "model_module_version": "1.5.0",
      "model_name": "HTMLModel",
      "state": {
       "_dom_classes": [],
       "_model_module": "@jupyter-widgets/controls",
       "_model_module_version": "1.5.0",
       "_model_name": "HTMLModel",
       "_view_count": null,
       "_view_module": "@jupyter-widgets/controls",
       "_view_module_version": "1.5.0",
       "_view_name": "HTMLView",
       "description": "",
       "description_tooltip": null,
       "layout": "IPY_MODEL_5abfd0c9efb44dd2a64aae52e98719e4",
       "placeholder": "​",
       "style": "IPY_MODEL_d18d3839e9e640ebbefc9c2c59373aa3",
       "value": " 30/30 [00:14&lt;00:00,  2.07it/s]"
      }
     },
     "8c331ba9de2d46d083395ce272827fe1": {
      "model_module": "@jupyter-widgets/controls",
      "model_module_version": "1.5.0",
      "model_name": "DescriptionStyleModel",
      "state": {
       "_model_module": "@jupyter-widgets/controls",
       "_model_module_version": "1.5.0",
       "_model_name": "DescriptionStyleModel",
       "_view_count": null,
       "_view_module": "@jupyter-widgets/base",
       "_view_module_version": "1.2.0",
       "_view_name": "StyleView",
       "description_width": ""
      }
     },
     "8cb64aa43063435a933f8e8b721b5853": {
      "model_module": "@jupyter-widgets/controls",
      "model_module_version": "1.5.0",
      "model_name": "HBoxModel",
      "state": {
       "_dom_classes": [],
       "_model_module": "@jupyter-widgets/controls",
       "_model_module_version": "1.5.0",
       "_model_name": "HBoxModel",
       "_view_count": null,
       "_view_module": "@jupyter-widgets/controls",
       "_view_module_version": "1.5.0",
       "_view_name": "HBoxView",
       "box_style": "",
       "children": [
        "IPY_MODEL_dad9f72cec784da0bb07e42b8af65f81",
        "IPY_MODEL_9395ada424764da0a48e3f3b422f2db9"
       ],
       "layout": "IPY_MODEL_23e13145375648c6b8bf687427347987"
      }
     },
     "8cc884a11afa4a7088ea8ba25964c92b": {
      "model_module": "@jupyter-widgets/controls",
      "model_module_version": "1.5.0",
      "model_name": "FloatProgressModel",
      "state": {
       "_dom_classes": [],
       "_model_module": "@jupyter-widgets/controls",
       "_model_module_version": "1.5.0",
       "_model_name": "FloatProgressModel",
       "_view_count": null,
       "_view_module": "@jupyter-widgets/controls",
       "_view_module_version": "1.5.0",
       "_view_name": "ProgressView",
       "bar_style": "success",
       "description": "100%",
       "description_tooltip": null,
       "layout": "IPY_MODEL_3fa7c9752f0343ba80284784b186a826",
       "max": 30.0,
       "min": 0.0,
       "orientation": "horizontal",
       "style": "IPY_MODEL_e3f22d7da7cc4a13aa5ce1e91e67d215",
       "value": 30.0
      }
     },
     "90a7bad187674188ae8ad52e7191938f": {
      "model_module": "@jupyter-widgets/controls",
      "model_module_version": "1.5.0",
      "model_name": "ProgressStyleModel",
      "state": {
       "_model_module": "@jupyter-widgets/controls",
       "_model_module_version": "1.5.0",
       "_model_name": "ProgressStyleModel",
       "_view_count": null,
       "_view_module": "@jupyter-widgets/base",
       "_view_module_version": "1.2.0",
       "_view_name": "StyleView",
       "bar_color": null,
       "description_width": "initial"
      }
     },
     "90aae4a9644048cc87467379f039cd2b": {
      "model_module": "@jupyter-widgets/controls",
      "model_module_version": "1.5.0",
      "model_name": "ProgressStyleModel",
      "state": {
       "_model_module": "@jupyter-widgets/controls",
       "_model_module_version": "1.5.0",
       "_model_name": "ProgressStyleModel",
       "_view_count": null,
       "_view_module": "@jupyter-widgets/base",
       "_view_module_version": "1.2.0",
       "_view_name": "StyleView",
       "bar_color": null,
       "description_width": "initial"
      }
     },
     "91fd360b05ec4e0ea7f3195203e0e607": {
      "model_module": "@jupyter-widgets/base",
      "model_module_version": "1.2.0",
      "model_name": "LayoutModel",
      "state": {
       "_model_module": "@jupyter-widgets/base",
       "_model_module_version": "1.2.0",
       "_model_name": "LayoutModel",
       "_view_count": null,
       "_view_module": "@jupyter-widgets/base",
       "_view_module_version": "1.2.0",
       "_view_name": "LayoutView",
       "align_content": null,
       "align_items": null,
       "align_self": null,
       "border": null,
       "bottom": null,
       "display": null,
       "flex": null,
       "flex_flow": null,
       "grid_area": null,
       "grid_auto_columns": null,
       "grid_auto_flow": null,
       "grid_auto_rows": null,
       "grid_column": null,
       "grid_gap": null,
       "grid_row": null,
       "grid_template_areas": null,
       "grid_template_columns": null,
       "grid_template_rows": null,
       "height": null,
       "justify_content": null,
       "justify_items": null,
       "left": null,
       "margin": null,
       "max_height": null,
       "max_width": null,
       "min_height": null,
       "min_width": null,
       "object_fit": null,
       "object_position": null,
       "order": null,
       "overflow": null,
       "overflow_x": null,
       "overflow_y": null,
       "padding": null,
       "right": null,
       "top": null,
       "visibility": null,
       "width": null
      }
     },
     "9395ada424764da0a48e3f3b422f2db9": {
      "model_module": "@jupyter-widgets/controls",
      "model_module_version": "1.5.0",
      "model_name": "HTMLModel",
      "state": {
       "_dom_classes": [],
       "_model_module": "@jupyter-widgets/controls",
       "_model_module_version": "1.5.0",
       "_model_name": "HTMLModel",
       "_view_count": null,
       "_view_module": "@jupyter-widgets/controls",
       "_view_module_version": "1.5.0",
       "_view_name": "HTMLView",
       "description": "",
       "description_tooltip": null,
       "layout": "IPY_MODEL_f97b41b95d0b4826b6f3e5b64dd6fad3",
       "placeholder": "​",
       "style": "IPY_MODEL_ebf59fc948ad474cafeab75c3c41c8ad",
       "value": " 59599/59599 [00:01&lt;00:00, 45576.91it/s]"
      }
     },
     "96a6c9de7a4348a8b1d5767b5d00c6e2": {
      "model_module": "@jupyter-widgets/controls",
      "model_module_version": "1.5.0",
      "model_name": "HBoxModel",
      "state": {
       "_dom_classes": [],
       "_model_module": "@jupyter-widgets/controls",
       "_model_module_version": "1.5.0",
       "_model_name": "HBoxModel",
       "_view_count": null,
       "_view_module": "@jupyter-widgets/controls",
       "_view_module_version": "1.5.0",
       "_view_name": "HBoxView",
       "box_style": "",
       "children": [
        "IPY_MODEL_86416dcef94d40b180335884994517ea",
        "IPY_MODEL_880abb84922440d38dc8e8676fa90850"
       ],
       "layout": "IPY_MODEL_f8a0ea1a9412401ead82044e3428f011"
      }
     },
     "996efbbff2eb446db7750828298bbb02": {
      "model_module": "@jupyter-widgets/base",
      "model_module_version": "1.2.0",
      "model_name": "LayoutModel",
      "state": {
       "_model_module": "@jupyter-widgets/base",
       "_model_module_version": "1.2.0",
       "_model_name": "LayoutModel",
       "_view_count": null,
       "_view_module": "@jupyter-widgets/base",
       "_view_module_version": "1.2.0",
       "_view_name": "LayoutView",
       "align_content": null,
       "align_items": null,
       "align_self": null,
       "border": null,
       "bottom": null,
       "display": null,
       "flex": null,
       "flex_flow": null,
       "grid_area": null,
       "grid_auto_columns": null,
       "grid_auto_flow": null,
       "grid_auto_rows": null,
       "grid_column": null,
       "grid_gap": null,
       "grid_row": null,
       "grid_template_areas": null,
       "grid_template_columns": null,
       "grid_template_rows": null,
       "height": null,
       "justify_content": null,
       "justify_items": null,
       "left": null,
       "margin": null,
       "max_height": null,
       "max_width": null,
       "min_height": null,
       "min_width": null,
       "object_fit": null,
       "object_position": null,
       "order": null,
       "overflow": null,
       "overflow_x": null,
       "overflow_y": null,
       "padding": null,
       "right": null,
       "top": null,
       "visibility": null,
       "width": null
      }
     },
     "99ad6a3062cc493db8eec49a6534b49e": {
      "model_module": "@jupyter-widgets/base",
      "model_module_version": "1.2.0",
      "model_name": "LayoutModel",
      "state": {
       "_model_module": "@jupyter-widgets/base",
       "_model_module_version": "1.2.0",
       "_model_name": "LayoutModel",
       "_view_count": null,
       "_view_module": "@jupyter-widgets/base",
       "_view_module_version": "1.2.0",
       "_view_name": "LayoutView",
       "align_content": null,
       "align_items": null,
       "align_self": null,
       "border": null,
       "bottom": null,
       "display": null,
       "flex": null,
       "flex_flow": null,
       "grid_area": null,
       "grid_auto_columns": null,
       "grid_auto_flow": null,
       "grid_auto_rows": null,
       "grid_column": null,
       "grid_gap": null,
       "grid_row": null,
       "grid_template_areas": null,
       "grid_template_columns": null,
       "grid_template_rows": null,
       "height": null,
       "justify_content": null,
       "justify_items": null,
       "left": null,
       "margin": null,
       "max_height": null,
       "max_width": null,
       "min_height": null,
       "min_width": null,
       "object_fit": null,
       "object_position": null,
       "order": null,
       "overflow": null,
       "overflow_x": null,
       "overflow_y": null,
       "padding": null,
       "right": null,
       "top": null,
       "visibility": null,
       "width": null
      }
     },
     "9c9f70f8f6024712a68cd23b32a5cf5d": {
      "model_module": "@jupyter-widgets/base",
      "model_module_version": "1.2.0",
      "model_name": "LayoutModel",
      "state": {
       "_model_module": "@jupyter-widgets/base",
       "_model_module_version": "1.2.0",
       "_model_name": "LayoutModel",
       "_view_count": null,
       "_view_module": "@jupyter-widgets/base",
       "_view_module_version": "1.2.0",
       "_view_name": "LayoutView",
       "align_content": null,
       "align_items": null,
       "align_self": null,
       "border": null,
       "bottom": null,
       "display": null,
       "flex": null,
       "flex_flow": null,
       "grid_area": null,
       "grid_auto_columns": null,
       "grid_auto_flow": null,
       "grid_auto_rows": null,
       "grid_column": null,
       "grid_gap": null,
       "grid_row": null,
       "grid_template_areas": null,
       "grid_template_columns": null,
       "grid_template_rows": null,
       "height": null,
       "justify_content": null,
       "justify_items": null,
       "left": null,
       "margin": null,
       "max_height": null,
       "max_width": null,
       "min_height": null,
       "min_width": null,
       "object_fit": null,
       "object_position": null,
       "order": null,
       "overflow": null,
       "overflow_x": null,
       "overflow_y": null,
       "padding": null,
       "right": null,
       "top": null,
       "visibility": null,
       "width": null
      }
     },
     "9d6ecebde6b24c75a551e8cf56d6d35b": {
      "model_module": "@jupyter-widgets/controls",
      "model_module_version": "1.5.0",
      "model_name": "FloatProgressModel",
      "state": {
       "_dom_classes": [],
       "_model_module": "@jupyter-widgets/controls",
       "_model_module_version": "1.5.0",
       "_model_name": "FloatProgressModel",
       "_view_count": null,
       "_view_module": "@jupyter-widgets/controls",
       "_view_module_version": "1.5.0",
       "_view_name": "ProgressView",
       "bar_style": "success",
       "description": "100%",
       "description_tooltip": null,
       "layout": "IPY_MODEL_c788d2869a144c96a414b308d3083cf5",
       "max": 30.0,
       "min": 0.0,
       "orientation": "horizontal",
       "style": "IPY_MODEL_10c47fdddbdb4f4581914e17e2a920b1",
       "value": 30.0
      }
     },
     "9dacf1847c6844329de7b98cba7cff86": {
      "model_module": "@jupyter-widgets/base",
      "model_module_version": "1.2.0",
      "model_name": "LayoutModel",
      "state": {
       "_model_module": "@jupyter-widgets/base",
       "_model_module_version": "1.2.0",
       "_model_name": "LayoutModel",
       "_view_count": null,
       "_view_module": "@jupyter-widgets/base",
       "_view_module_version": "1.2.0",
       "_view_name": "LayoutView",
       "align_content": null,
       "align_items": null,
       "align_self": null,
       "border": null,
       "bottom": null,
       "display": null,
       "flex": null,
       "flex_flow": null,
       "grid_area": null,
       "grid_auto_columns": null,
       "grid_auto_flow": null,
       "grid_auto_rows": null,
       "grid_column": null,
       "grid_gap": null,
       "grid_row": null,
       "grid_template_areas": null,
       "grid_template_columns": null,
       "grid_template_rows": null,
       "height": null,
       "justify_content": null,
       "justify_items": null,
       "left": null,
       "margin": null,
       "max_height": null,
       "max_width": null,
       "min_height": null,
       "min_width": null,
       "object_fit": null,
       "object_position": null,
       "order": null,
       "overflow": null,
       "overflow_x": null,
       "overflow_y": null,
       "padding": null,
       "right": null,
       "top": null,
       "visibility": null,
       "width": null
      }
     },
     "9e49338cbb734471b0e6d810f828d395": {
      "model_module": "@jupyter-widgets/controls",
      "model_module_version": "1.5.0",
      "model_name": "ProgressStyleModel",
      "state": {
       "_model_module": "@jupyter-widgets/controls",
       "_model_module_version": "1.5.0",
       "_model_name": "ProgressStyleModel",
       "_view_count": null,
       "_view_module": "@jupyter-widgets/base",
       "_view_module_version": "1.2.0",
       "_view_name": "StyleView",
       "bar_color": null,
       "description_width": "initial"
      }
     },
     "9ef48cb1c8834747bfd98cb47c2c8d52": {
      "model_module": "@jupyter-widgets/controls",
      "model_module_version": "1.5.0",
      "model_name": "HBoxModel",
      "state": {
       "_dom_classes": [],
       "_model_module": "@jupyter-widgets/controls",
       "_model_module_version": "1.5.0",
       "_model_name": "HBoxModel",
       "_view_count": null,
       "_view_module": "@jupyter-widgets/controls",
       "_view_module_version": "1.5.0",
       "_view_name": "HBoxView",
       "box_style": "",
       "children": [
        "IPY_MODEL_071de0e1993347908d3b2a94c729290b",
        "IPY_MODEL_136973dbbee2417fa109c64d31d45d37"
       ],
       "layout": "IPY_MODEL_ffe5273f0eea4975806629d55e9154d1"
      }
     },
     "a22ef3e3f2dc4994b85efee2239d6179": {
      "model_module": "@jupyter-widgets/controls",
      "model_module_version": "1.5.0",
      "model_name": "FloatProgressModel",
      "state": {
       "_dom_classes": [],
       "_model_module": "@jupyter-widgets/controls",
       "_model_module_version": "1.5.0",
       "_model_name": "FloatProgressModel",
       "_view_count": null,
       "_view_module": "@jupyter-widgets/controls",
       "_view_module_version": "1.5.0",
       "_view_name": "ProgressView",
       "bar_style": "success",
       "description": "100%",
       "description_tooltip": null,
       "layout": "IPY_MODEL_62cb613e3aa34ed4994207570a3b726d",
       "max": 15.0,
       "min": 0.0,
       "orientation": "horizontal",
       "style": "IPY_MODEL_7118098c88f143e28f9f30ef6673102f",
       "value": 15.0
      }
     },
     "a469564b53054070a23f6d7756f9b71c": {
      "model_module": "@jupyter-widgets/controls",
      "model_module_version": "1.5.0",
      "model_name": "DescriptionStyleModel",
      "state": {
       "_model_module": "@jupyter-widgets/controls",
       "_model_module_version": "1.5.0",
       "_model_name": "DescriptionStyleModel",
       "_view_count": null,
       "_view_module": "@jupyter-widgets/base",
       "_view_module_version": "1.2.0",
       "_view_name": "StyleView",
       "description_width": ""
      }
     },
     "a796229d6a964dd59e8102d1fb8aa820": {
      "model_module": "@jupyter-widgets/controls",
      "model_module_version": "1.5.0",
      "model_name": "DescriptionStyleModel",
      "state": {
       "_model_module": "@jupyter-widgets/controls",
       "_model_module_version": "1.5.0",
       "_model_name": "DescriptionStyleModel",
       "_view_count": null,
       "_view_module": "@jupyter-widgets/base",
       "_view_module_version": "1.2.0",
       "_view_name": "StyleView",
       "description_width": ""
      }
     },
     "a7cb595f194c49858da04ea7dd9c784c": {
      "model_module": "@jupyter-widgets/base",
      "model_module_version": "1.2.0",
      "model_name": "LayoutModel",
      "state": {
       "_model_module": "@jupyter-widgets/base",
       "_model_module_version": "1.2.0",
       "_model_name": "LayoutModel",
       "_view_count": null,
       "_view_module": "@jupyter-widgets/base",
       "_view_module_version": "1.2.0",
       "_view_name": "LayoutView",
       "align_content": null,
       "align_items": null,
       "align_self": null,
       "border": null,
       "bottom": null,
       "display": null,
       "flex": null,
       "flex_flow": null,
       "grid_area": null,
       "grid_auto_columns": null,
       "grid_auto_flow": null,
       "grid_auto_rows": null,
       "grid_column": null,
       "grid_gap": null,
       "grid_row": null,
       "grid_template_areas": null,
       "grid_template_columns": null,
       "grid_template_rows": null,
       "height": null,
       "justify_content": null,
       "justify_items": null,
       "left": null,
       "margin": null,
       "max_height": null,
       "max_width": null,
       "min_height": null,
       "min_width": null,
       "object_fit": null,
       "object_position": null,
       "order": null,
       "overflow": null,
       "overflow_x": null,
       "overflow_y": null,
       "padding": null,
       "right": null,
       "top": null,
       "visibility": null,
       "width": null
      }
     },
     "abc266ed203a4d47a01e96a95d95abd0": {
      "model_module": "@jupyter-widgets/controls",
      "model_module_version": "1.5.0",
      "model_name": "HTMLModel",
      "state": {
       "_dom_classes": [],
       "_model_module": "@jupyter-widgets/controls",
       "_model_module_version": "1.5.0",
       "_model_name": "HTMLModel",
       "_view_count": null,
       "_view_module": "@jupyter-widgets/controls",
       "_view_module_version": "1.5.0",
       "_view_name": "HTMLView",
       "description": "",
       "description_tooltip": null,
       "layout": "IPY_MODEL_ed78085982cb4fd296c5e4598daf6d67",
       "placeholder": "​",
       "style": "IPY_MODEL_15e608637d8249f18ea1d585936c3a49",
       "value": " 30/30 [00:14&lt;00:00,  2.09it/s]"
      }
     },
     "ac797407a4274310b22e70ec7f23ca7b": {
      "model_module": "@jupyter-widgets/base",
      "model_module_version": "1.2.0",
      "model_name": "LayoutModel",
      "state": {
       "_model_module": "@jupyter-widgets/base",
       "_model_module_version": "1.2.0",
       "_model_name": "LayoutModel",
       "_view_count": null,
       "_view_module": "@jupyter-widgets/base",
       "_view_module_version": "1.2.0",
       "_view_name": "LayoutView",
       "align_content": null,
       "align_items": null,
       "align_self": null,
       "border": null,
       "bottom": null,
       "display": null,
       "flex": null,
       "flex_flow": null,
       "grid_area": null,
       "grid_auto_columns": null,
       "grid_auto_flow": null,
       "grid_auto_rows": null,
       "grid_column": null,
       "grid_gap": null,
       "grid_row": null,
       "grid_template_areas": null,
       "grid_template_columns": null,
       "grid_template_rows": null,
       "height": null,
       "justify_content": null,
       "justify_items": null,
       "left": null,
       "margin": null,
       "max_height": null,
       "max_width": null,
       "min_height": null,
       "min_width": null,
       "object_fit": null,
       "object_position": null,
       "order": null,
       "overflow": null,
       "overflow_x": null,
       "overflow_y": null,
       "padding": null,
       "right": null,
       "top": null,
       "visibility": null,
       "width": null
      }
     },
     "aeed7a20a4ca47caa0d9e54ec93b0fb0": {
      "model_module": "@jupyter-widgets/base",
      "model_module_version": "1.2.0",
      "model_name": "LayoutModel",
      "state": {
       "_model_module": "@jupyter-widgets/base",
       "_model_module_version": "1.2.0",
       "_model_name": "LayoutModel",
       "_view_count": null,
       "_view_module": "@jupyter-widgets/base",
       "_view_module_version": "1.2.0",
       "_view_name": "LayoutView",
       "align_content": null,
       "align_items": null,
       "align_self": null,
       "border": null,
       "bottom": null,
       "display": null,
       "flex": null,
       "flex_flow": null,
       "grid_area": null,
       "grid_auto_columns": null,
       "grid_auto_flow": null,
       "grid_auto_rows": null,
       "grid_column": null,
       "grid_gap": null,
       "grid_row": null,
       "grid_template_areas": null,
       "grid_template_columns": null,
       "grid_template_rows": null,
       "height": null,
       "justify_content": null,
       "justify_items": null,
       "left": null,
       "margin": null,
       "max_height": null,
       "max_width": null,
       "min_height": null,
       "min_width": null,
       "object_fit": null,
       "object_position": null,
       "order": null,
       "overflow": null,
       "overflow_x": null,
       "overflow_y": null,
       "padding": null,
       "right": null,
       "top": null,
       "visibility": null,
       "width": null
      }
     },
     "aefe5766530b49819c2ebb7cb8819952": {
      "model_module": "@jupyter-widgets/controls",
      "model_module_version": "1.5.0",
      "model_name": "DescriptionStyleModel",
      "state": {
       "_model_module": "@jupyter-widgets/controls",
       "_model_module_version": "1.5.0",
       "_model_name": "DescriptionStyleModel",
       "_view_count": null,
       "_view_module": "@jupyter-widgets/base",
       "_view_module_version": "1.2.0",
       "_view_name": "StyleView",
       "description_width": ""
      }
     },
     "b22ed375c71e49bcb16f0711b907bff7": {
      "model_module": "@jupyter-widgets/controls",
      "model_module_version": "1.5.0",
      "model_name": "ProgressStyleModel",
      "state": {
       "_model_module": "@jupyter-widgets/controls",
       "_model_module_version": "1.5.0",
       "_model_name": "ProgressStyleModel",
       "_view_count": null,
       "_view_module": "@jupyter-widgets/base",
       "_view_module_version": "1.2.0",
       "_view_name": "StyleView",
       "bar_color": null,
       "description_width": "initial"
      }
     },
     "b5cb469fcfb6478c897e796e8171032e": {
      "model_module": "@jupyter-widgets/controls",
      "model_module_version": "1.5.0",
      "model_name": "ProgressStyleModel",
      "state": {
       "_model_module": "@jupyter-widgets/controls",
       "_model_module_version": "1.5.0",
       "_model_name": "ProgressStyleModel",
       "_view_count": null,
       "_view_module": "@jupyter-widgets/base",
       "_view_module_version": "1.2.0",
       "_view_name": "StyleView",
       "bar_color": null,
       "description_width": "initial"
      }
     },
     "bc06dd54f7b144619bf21cb08bb93f1c": {
      "model_module": "@jupyter-widgets/base",
      "model_module_version": "1.2.0",
      "model_name": "LayoutModel",
      "state": {
       "_model_module": "@jupyter-widgets/base",
       "_model_module_version": "1.2.0",
       "_model_name": "LayoutModel",
       "_view_count": null,
       "_view_module": "@jupyter-widgets/base",
       "_view_module_version": "1.2.0",
       "_view_name": "LayoutView",
       "align_content": null,
       "align_items": null,
       "align_self": null,
       "border": null,
       "bottom": null,
       "display": null,
       "flex": null,
       "flex_flow": null,
       "grid_area": null,
       "grid_auto_columns": null,
       "grid_auto_flow": null,
       "grid_auto_rows": null,
       "grid_column": null,
       "grid_gap": null,
       "grid_row": null,
       "grid_template_areas": null,
       "grid_template_columns": null,
       "grid_template_rows": null,
       "height": null,
       "justify_content": null,
       "justify_items": null,
       "left": null,
       "margin": null,
       "max_height": null,
       "max_width": null,
       "min_height": null,
       "min_width": null,
       "object_fit": null,
       "object_position": null,
       "order": null,
       "overflow": null,
       "overflow_x": null,
       "overflow_y": null,
       "padding": null,
       "right": null,
       "top": null,
       "visibility": null,
       "width": null
      }
     },
     "bfccdda826f04bfa8c429942eeb0aa6f": {
      "model_module": "@jupyter-widgets/controls",
      "model_module_version": "1.5.0",
      "model_name": "DescriptionStyleModel",
      "state": {
       "_model_module": "@jupyter-widgets/controls",
       "_model_module_version": "1.5.0",
       "_model_name": "DescriptionStyleModel",
       "_view_count": null,
       "_view_module": "@jupyter-widgets/base",
       "_view_module_version": "1.2.0",
       "_view_name": "StyleView",
       "description_width": ""
      }
     },
     "c070c7cfc07e4082a6d2072781d53d60": {
      "model_module": "@jupyter-widgets/base",
      "model_module_version": "1.2.0",
      "model_name": "LayoutModel",
      "state": {
       "_model_module": "@jupyter-widgets/base",
       "_model_module_version": "1.2.0",
       "_model_name": "LayoutModel",
       "_view_count": null,
       "_view_module": "@jupyter-widgets/base",
       "_view_module_version": "1.2.0",
       "_view_name": "LayoutView",
       "align_content": null,
       "align_items": null,
       "align_self": null,
       "border": null,
       "bottom": null,
       "display": null,
       "flex": null,
       "flex_flow": null,
       "grid_area": null,
       "grid_auto_columns": null,
       "grid_auto_flow": null,
       "grid_auto_rows": null,
       "grid_column": null,
       "grid_gap": null,
       "grid_row": null,
       "grid_template_areas": null,
       "grid_template_columns": null,
       "grid_template_rows": null,
       "height": null,
       "justify_content": null,
       "justify_items": null,
       "left": null,
       "margin": null,
       "max_height": null,
       "max_width": null,
       "min_height": null,
       "min_width": null,
       "object_fit": null,
       "object_position": null,
       "order": null,
       "overflow": null,
       "overflow_x": null,
       "overflow_y": null,
       "padding": null,
       "right": null,
       "top": null,
       "visibility": null,
       "width": null
      }
     },
     "c63ab4201ced4b5b91f5c9b09aad54b2": {
      "model_module": "@jupyter-widgets/controls",
      "model_module_version": "1.5.0",
      "model_name": "HBoxModel",
      "state": {
       "_dom_classes": [],
       "_model_module": "@jupyter-widgets/controls",
       "_model_module_version": "1.5.0",
       "_model_name": "HBoxModel",
       "_view_count": null,
       "_view_module": "@jupyter-widgets/controls",
       "_view_module_version": "1.5.0",
       "_view_name": "HBoxView",
       "box_style": "",
       "children": [
        "IPY_MODEL_0ff61e219b41478a876dd22079580cb9",
        "IPY_MODEL_cc05b03e7ee5495ca154e04ff0d24f30"
       ],
       "layout": "IPY_MODEL_a7cb595f194c49858da04ea7dd9c784c"
      }
     },
     "c6ba2437f907488498009a0d2281b119": {
      "model_module": "@jupyter-widgets/controls",
      "model_module_version": "1.5.0",
      "model_name": "ProgressStyleModel",
      "state": {
       "_model_module": "@jupyter-widgets/controls",
       "_model_module_version": "1.5.0",
       "_model_name": "ProgressStyleModel",
       "_view_count": null,
       "_view_module": "@jupyter-widgets/base",
       "_view_module_version": "1.2.0",
       "_view_name": "StyleView",
       "bar_color": null,
       "description_width": "initial"
      }
     },
     "c788d2869a144c96a414b308d3083cf5": {
      "model_module": "@jupyter-widgets/base",
      "model_module_version": "1.2.0",
      "model_name": "LayoutModel",
      "state": {
       "_model_module": "@jupyter-widgets/base",
       "_model_module_version": "1.2.0",
       "_model_name": "LayoutModel",
       "_view_count": null,
       "_view_module": "@jupyter-widgets/base",
       "_view_module_version": "1.2.0",
       "_view_name": "LayoutView",
       "align_content": null,
       "align_items": null,
       "align_self": null,
       "border": null,
       "bottom": null,
       "display": null,
       "flex": null,
       "flex_flow": null,
       "grid_area": null,
       "grid_auto_columns": null,
       "grid_auto_flow": null,
       "grid_auto_rows": null,
       "grid_column": null,
       "grid_gap": null,
       "grid_row": null,
       "grid_template_areas": null,
       "grid_template_columns": null,
       "grid_template_rows": null,
       "height": null,
       "justify_content": null,
       "justify_items": null,
       "left": null,
       "margin": null,
       "max_height": null,
       "max_width": null,
       "min_height": null,
       "min_width": null,
       "object_fit": null,
       "object_position": null,
       "order": null,
       "overflow": null,
       "overflow_x": null,
       "overflow_y": null,
       "padding": null,
       "right": null,
       "top": null,
       "visibility": null,
       "width": null
      }
     },
     "cc05b03e7ee5495ca154e04ff0d24f30": {
      "model_module": "@jupyter-widgets/controls",
      "model_module_version": "1.5.0",
      "model_name": "HTMLModel",
      "state": {
       "_dom_classes": [],
       "_model_module": "@jupyter-widgets/controls",
       "_model_module_version": "1.5.0",
       "_model_name": "HTMLModel",
       "_view_count": null,
       "_view_module": "@jupyter-widgets/controls",
       "_view_module_version": "1.5.0",
       "_view_name": "HTMLView",
       "description": "",
       "description_tooltip": null,
       "layout": "IPY_MODEL_f807d26a0c3a48dea70d41908c0824a2",
       "placeholder": "​",
       "style": "IPY_MODEL_fc466004e4f6408381593692288630de",
       "value": " 59599/59599 [00:01&lt;00:00, 52560.58it/s]"
      }
     },
     "cc8031a182204048ade10fc39e76881d": {
      "model_module": "@jupyter-widgets/base",
      "model_module_version": "1.2.0",
      "model_name": "LayoutModel",
      "state": {
       "_model_module": "@jupyter-widgets/base",
       "_model_module_version": "1.2.0",
       "_model_name": "LayoutModel",
       "_view_count": null,
       "_view_module": "@jupyter-widgets/base",
       "_view_module_version": "1.2.0",
       "_view_name": "LayoutView",
       "align_content": null,
       "align_items": null,
       "align_self": null,
       "border": null,
       "bottom": null,
       "display": null,
       "flex": null,
       "flex_flow": null,
       "grid_area": null,
       "grid_auto_columns": null,
       "grid_auto_flow": null,
       "grid_auto_rows": null,
       "grid_column": null,
       "grid_gap": null,
       "grid_row": null,
       "grid_template_areas": null,
       "grid_template_columns": null,
       "grid_template_rows": null,
       "height": null,
       "justify_content": null,
       "justify_items": null,
       "left": null,
       "margin": null,
       "max_height": null,
       "max_width": null,
       "min_height": null,
       "min_width": null,
       "object_fit": null,
       "object_position": null,
       "order": null,
       "overflow": null,
       "overflow_x": null,
       "overflow_y": null,
       "padding": null,
       "right": null,
       "top": null,
       "visibility": null,
       "width": null
      }
     },
     "cdd9da1db66b44c0bbd6a063e8a50408": {
      "model_module": "@jupyter-widgets/controls",
      "model_module_version": "1.5.0",
      "model_name": "HBoxModel",
      "state": {
       "_dom_classes": [],
       "_model_module": "@jupyter-widgets/controls",
       "_model_module_version": "1.5.0",
       "_model_name": "HBoxModel",
       "_view_count": null,
       "_view_module": "@jupyter-widgets/controls",
       "_view_module_version": "1.5.0",
       "_view_name": "HBoxView",
       "box_style": "",
       "children": [
        "IPY_MODEL_0f34a1de51fa442d8c34e9a8630f567d",
        "IPY_MODEL_d31cb94bdc524f469f5ea85b69ac04db"
       ],
       "layout": "IPY_MODEL_07ecdf2449364e5180604b7f7e0229c4"
      }
     },
     "d18d3839e9e640ebbefc9c2c59373aa3": {
      "model_module": "@jupyter-widgets/controls",
      "model_module_version": "1.5.0",
      "model_name": "DescriptionStyleModel",
      "state": {
       "_model_module": "@jupyter-widgets/controls",
       "_model_module_version": "1.5.0",
       "_model_name": "DescriptionStyleModel",
       "_view_count": null,
       "_view_module": "@jupyter-widgets/base",
       "_view_module_version": "1.2.0",
       "_view_name": "StyleView",
       "description_width": ""
      }
     },
     "d2d7e9889fe7403c8680ca3fc19b4770": {
      "model_module": "@jupyter-widgets/controls",
      "model_module_version": "1.5.0",
      "model_name": "HBoxModel",
      "state": {
       "_dom_classes": [],
       "_model_module": "@jupyter-widgets/controls",
       "_model_module_version": "1.5.0",
       "_model_name": "HBoxModel",
       "_view_count": null,
       "_view_module": "@jupyter-widgets/controls",
       "_view_module_version": "1.5.0",
       "_view_name": "HBoxView",
       "box_style": "",
       "children": [
        "IPY_MODEL_e70220406a784c4f88ccc229a4408c38",
        "IPY_MODEL_217b5dec50164c5f9d55a37422a1c03e"
       ],
       "layout": "IPY_MODEL_40ac030e9d4740abb79e2ccf10427569"
      }
     },
     "d31cb94bdc524f469f5ea85b69ac04db": {
      "model_module": "@jupyter-widgets/controls",
      "model_module_version": "1.5.0",
      "model_name": "HTMLModel",
      "state": {
       "_dom_classes": [],
       "_model_module": "@jupyter-widgets/controls",
       "_model_module_version": "1.5.0",
       "_model_name": "HTMLModel",
       "_view_count": null,
       "_view_module": "@jupyter-widgets/controls",
       "_view_module_version": "1.5.0",
       "_view_name": "HTMLView",
       "description": "",
       "description_tooltip": null,
       "layout": "IPY_MODEL_1221dc9df55542b5b29757122170e5e8",
       "placeholder": "​",
       "style": "IPY_MODEL_1b80de265e5a44f1af8dda63218a1752",
       "value": " 59599/59599 [00:00&lt;00:00, 63078.34it/s]"
      }
     },
     "d366aaf520824691b1a1e2958ecc8592": {
      "model_module": "@jupyter-widgets/controls",
      "model_module_version": "1.5.0",
      "model_name": "HTMLModel",
      "state": {
       "_dom_classes": [],
       "_model_module": "@jupyter-widgets/controls",
       "_model_module_version": "1.5.0",
       "_model_name": "HTMLModel",
       "_view_count": null,
       "_view_module": "@jupyter-widgets/controls",
       "_view_module_version": "1.5.0",
       "_view_name": "HTMLView",
       "description": "",
       "description_tooltip": null,
       "layout": "IPY_MODEL_4f44390f104143cfa532d46bd78404bd",
       "placeholder": "​",
       "style": "IPY_MODEL_a469564b53054070a23f6d7756f9b71c",
       "value": " 59599/59599 [00:02&lt;00:00, 22803.72it/s]"
      }
     },
     "d7ac07a2113946738c2d798694d44e73": {
      "model_module": "@jupyter-widgets/controls",
      "model_module_version": "1.5.0",
      "model_name": "FloatProgressModel",
      "state": {
       "_dom_classes": [],
       "_model_module": "@jupyter-widgets/controls",
       "_model_module_version": "1.5.0",
       "_model_name": "FloatProgressModel",
       "_view_count": null,
       "_view_module": "@jupyter-widgets/controls",
       "_view_module_version": "1.5.0",
       "_view_name": "ProgressView",
       "bar_style": "success",
       "description": "100%",
       "description_tooltip": null,
       "layout": "IPY_MODEL_91fd360b05ec4e0ea7f3195203e0e607",
       "max": 30.0,
       "min": 0.0,
       "orientation": "horizontal",
       "style": "IPY_MODEL_90aae4a9644048cc87467379f039cd2b",
       "value": 30.0
      }
     },
     "dad9f72cec784da0bb07e42b8af65f81": {
      "model_module": "@jupyter-widgets/controls",
      "model_module_version": "1.5.0",
      "model_name": "FloatProgressModel",
      "state": {
       "_dom_classes": [],
       "_model_module": "@jupyter-widgets/controls",
       "_model_module_version": "1.5.0",
       "_model_name": "FloatProgressModel",
       "_view_count": null,
       "_view_module": "@jupyter-widgets/controls",
       "_view_module_version": "1.5.0",
       "_view_name": "ProgressView",
       "bar_style": "success",
       "description": "100%",
       "description_tooltip": null,
       "layout": "IPY_MODEL_326f3df0008b4d1eb21ec3d3a9faa604",
       "max": 59599.0,
       "min": 0.0,
       "orientation": "horizontal",
       "style": "IPY_MODEL_b22ed375c71e49bcb16f0711b907bff7",
       "value": 59599.0
      }
     },
     "e3f22d7da7cc4a13aa5ce1e91e67d215": {
      "model_module": "@jupyter-widgets/controls",
      "model_module_version": "1.5.0",
      "model_name": "ProgressStyleModel",
      "state": {
       "_model_module": "@jupyter-widgets/controls",
       "_model_module_version": "1.5.0",
       "_model_name": "ProgressStyleModel",
       "_view_count": null,
       "_view_module": "@jupyter-widgets/base",
       "_view_module_version": "1.2.0",
       "_view_name": "StyleView",
       "bar_color": null,
       "description_width": "initial"
      }
     },
     "e70220406a784c4f88ccc229a4408c38": {
      "model_module": "@jupyter-widgets/controls",
      "model_module_version": "1.5.0",
      "model_name": "FloatProgressModel",
      "state": {
       "_dom_classes": [],
       "_model_module": "@jupyter-widgets/controls",
       "_model_module_version": "1.5.0",
       "_model_name": "FloatProgressModel",
       "_view_count": null,
       "_view_module": "@jupyter-widgets/controls",
       "_view_module_version": "1.5.0",
       "_view_name": "ProgressView",
       "bar_style": "success",
       "description": "100%",
       "description_tooltip": null,
       "layout": "IPY_MODEL_ac797407a4274310b22e70ec7f23ca7b",
       "max": 30.0,
       "min": 0.0,
       "orientation": "horizontal",
       "style": "IPY_MODEL_b5cb469fcfb6478c897e796e8171032e",
       "value": 30.0
      }
     },
     "ebce9bfde6c04f4e8e45e47f277740c6": {
      "model_module": "@jupyter-widgets/controls",
      "model_module_version": "1.5.0",
      "model_name": "ProgressStyleModel",
      "state": {
       "_model_module": "@jupyter-widgets/controls",
       "_model_module_version": "1.5.0",
       "_model_name": "ProgressStyleModel",
       "_view_count": null,
       "_view_module": "@jupyter-widgets/base",
       "_view_module_version": "1.2.0",
       "_view_name": "StyleView",
       "bar_color": null,
       "description_width": "initial"
      }
     },
     "ebf59fc948ad474cafeab75c3c41c8ad": {
      "model_module": "@jupyter-widgets/controls",
      "model_module_version": "1.5.0",
      "model_name": "DescriptionStyleModel",
      "state": {
       "_model_module": "@jupyter-widgets/controls",
       "_model_module_version": "1.5.0",
       "_model_name": "DescriptionStyleModel",
       "_view_count": null,
       "_view_module": "@jupyter-widgets/base",
       "_view_module_version": "1.2.0",
       "_view_name": "StyleView",
       "description_width": ""
      }
     },
     "ed78085982cb4fd296c5e4598daf6d67": {
      "model_module": "@jupyter-widgets/base",
      "model_module_version": "1.2.0",
      "model_name": "LayoutModel",
      "state": {
       "_model_module": "@jupyter-widgets/base",
       "_model_module_version": "1.2.0",
       "_model_name": "LayoutModel",
       "_view_count": null,
       "_view_module": "@jupyter-widgets/base",
       "_view_module_version": "1.2.0",
       "_view_name": "LayoutView",
       "align_content": null,
       "align_items": null,
       "align_self": null,
       "border": null,
       "bottom": null,
       "display": null,
       "flex": null,
       "flex_flow": null,
       "grid_area": null,
       "grid_auto_columns": null,
       "grid_auto_flow": null,
       "grid_auto_rows": null,
       "grid_column": null,
       "grid_gap": null,
       "grid_row": null,
       "grid_template_areas": null,
       "grid_template_columns": null,
       "grid_template_rows": null,
       "height": null,
       "justify_content": null,
       "justify_items": null,
       "left": null,
       "margin": null,
       "max_height": null,
       "max_width": null,
       "min_height": null,
       "min_width": null,
       "object_fit": null,
       "object_position": null,
       "order": null,
       "overflow": null,
       "overflow_x": null,
       "overflow_y": null,
       "padding": null,
       "right": null,
       "top": null,
       "visibility": null,
       "width": null
      }
     },
     "ed9ad9c22d434119a5c9ac771ba2c2a8": {
      "model_module": "@jupyter-widgets/controls",
      "model_module_version": "1.5.0",
      "model_name": "HBoxModel",
      "state": {
       "_dom_classes": [],
       "_model_module": "@jupyter-widgets/controls",
       "_model_module_version": "1.5.0",
       "_model_name": "HBoxModel",
       "_view_count": null,
       "_view_module": "@jupyter-widgets/controls",
       "_view_module_version": "1.5.0",
       "_view_name": "HBoxView",
       "box_style": "",
       "children": [
        "IPY_MODEL_5783c0687a3b4b70b11a67b229bdef2e",
        "IPY_MODEL_abc266ed203a4d47a01e96a95d95abd0"
       ],
       "layout": "IPY_MODEL_56e7b06f792f40398800173cdbb28ffa"
      }
     },
     "f0391d8d3e9c4360963db07fd41ada25": {
      "model_module": "@jupyter-widgets/base",
      "model_module_version": "1.2.0",
      "model_name": "LayoutModel",
      "state": {
       "_model_module": "@jupyter-widgets/base",
       "_model_module_version": "1.2.0",
       "_model_name": "LayoutModel",
       "_view_count": null,
       "_view_module": "@jupyter-widgets/base",
       "_view_module_version": "1.2.0",
       "_view_name": "LayoutView",
       "align_content": null,
       "align_items": null,
       "align_self": null,
       "border": null,
       "bottom": null,
       "display": null,
       "flex": null,
       "flex_flow": null,
       "grid_area": null,
       "grid_auto_columns": null,
       "grid_auto_flow": null,
       "grid_auto_rows": null,
       "grid_column": null,
       "grid_gap": null,
       "grid_row": null,
       "grid_template_areas": null,
       "grid_template_columns": null,
       "grid_template_rows": null,
       "height": null,
       "justify_content": null,
       "justify_items": null,
       "left": null,
       "margin": null,
       "max_height": null,
       "max_width": null,
       "min_height": null,
       "min_width": null,
       "object_fit": null,
       "object_position": null,
       "order": null,
       "overflow": null,
       "overflow_x": null,
       "overflow_y": null,
       "padding": null,
       "right": null,
       "top": null,
       "visibility": null,
       "width": null
      }
     },
     "f0ecce0f45b744b6afc862f396f61d92": {
      "model_module": "@jupyter-widgets/controls",
      "model_module_version": "1.5.0",
      "model_name": "HTMLModel",
      "state": {
       "_dom_classes": [],
       "_model_module": "@jupyter-widgets/controls",
       "_model_module_version": "1.5.0",
       "_model_name": "HTMLModel",
       "_view_count": null,
       "_view_module": "@jupyter-widgets/controls",
       "_view_module_version": "1.5.0",
       "_view_name": "HTMLView",
       "description": "",
       "description_tooltip": null,
       "layout": "IPY_MODEL_9c9f70f8f6024712a68cd23b32a5cf5d",
       "placeholder": "​",
       "style": "IPY_MODEL_4be580384d2249d7b6bc0b68ab2dcbf4",
       "value": " 30/30 [00:14&lt;00:00,  2.08it/s]"
      }
     },
     "f531fbe83a124d7c925d0d0ea6bb9366": {
      "model_module": "@jupyter-widgets/controls",
      "model_module_version": "1.5.0",
      "model_name": "DescriptionStyleModel",
      "state": {
       "_model_module": "@jupyter-widgets/controls",
       "_model_module_version": "1.5.0",
       "_model_name": "DescriptionStyleModel",
       "_view_count": null,
       "_view_module": "@jupyter-widgets/base",
       "_view_module_version": "1.2.0",
       "_view_name": "StyleView",
       "description_width": ""
      }
     },
     "f5c389dc9b254d0d8ba35d4a0ef3277d": {
      "model_module": "@jupyter-widgets/controls",
      "model_module_version": "1.5.0",
      "model_name": "ProgressStyleModel",
      "state": {
       "_model_module": "@jupyter-widgets/controls",
       "_model_module_version": "1.5.0",
       "_model_name": "ProgressStyleModel",
       "_view_count": null,
       "_view_module": "@jupyter-widgets/base",
       "_view_module_version": "1.2.0",
       "_view_name": "StyleView",
       "bar_color": null,
       "description_width": "initial"
      }
     },
     "f6237172a1fd4597a4dcdee29c720b5a": {
      "model_module": "@jupyter-widgets/controls",
      "model_module_version": "1.5.0",
      "model_name": "HBoxModel",
      "state": {
       "_dom_classes": [],
       "_model_module": "@jupyter-widgets/controls",
       "_model_module_version": "1.5.0",
       "_model_name": "HBoxModel",
       "_view_count": null,
       "_view_module": "@jupyter-widgets/controls",
       "_view_module_version": "1.5.0",
       "_view_name": "HBoxView",
       "box_style": "",
       "children": [
        "IPY_MODEL_9d6ecebde6b24c75a551e8cf56d6d35b",
        "IPY_MODEL_26c5f53f0fb045c1b0a0e9cfd77e6ffa"
       ],
       "layout": "IPY_MODEL_99ad6a3062cc493db8eec49a6534b49e"
      }
     },
     "f7b537086f8445e38696f3386062e2c9": {
      "model_module": "@jupyter-widgets/controls",
      "model_module_version": "1.5.0",
      "model_name": "HBoxModel",
      "state": {
       "_dom_classes": [],
       "_model_module": "@jupyter-widgets/controls",
       "_model_module_version": "1.5.0",
       "_model_name": "HBoxModel",
       "_view_count": null,
       "_view_module": "@jupyter-widgets/controls",
       "_view_module_version": "1.5.0",
       "_view_name": "HBoxView",
       "box_style": "",
       "children": [
        "IPY_MODEL_6690878c7bad42dfbb86f9ef7f66d0df",
        "IPY_MODEL_f0ecce0f45b744b6afc862f396f61d92"
       ],
       "layout": "IPY_MODEL_0a3b7caa2754492b97e58907a9a54abd"
      }
     },
     "f807d26a0c3a48dea70d41908c0824a2": {
      "model_module": "@jupyter-widgets/base",
      "model_module_version": "1.2.0",
      "model_name": "LayoutModel",
      "state": {
       "_model_module": "@jupyter-widgets/base",
       "_model_module_version": "1.2.0",
       "_model_name": "LayoutModel",
       "_view_count": null,
       "_view_module": "@jupyter-widgets/base",
       "_view_module_version": "1.2.0",
       "_view_name": "LayoutView",
       "align_content": null,
       "align_items": null,
       "align_self": null,
       "border": null,
       "bottom": null,
       "display": null,
       "flex": null,
       "flex_flow": null,
       "grid_area": null,
       "grid_auto_columns": null,
       "grid_auto_flow": null,
       "grid_auto_rows": null,
       "grid_column": null,
       "grid_gap": null,
       "grid_row": null,
       "grid_template_areas": null,
       "grid_template_columns": null,
       "grid_template_rows": null,
       "height": null,
       "justify_content": null,
       "justify_items": null,
       "left": null,
       "margin": null,
       "max_height": null,
       "max_width": null,
       "min_height": null,
       "min_width": null,
       "object_fit": null,
       "object_position": null,
       "order": null,
       "overflow": null,
       "overflow_x": null,
       "overflow_y": null,
       "padding": null,
       "right": null,
       "top": null,
       "visibility": null,
       "width": null
      }
     },
     "f8a0ea1a9412401ead82044e3428f011": {
      "model_module": "@jupyter-widgets/base",
      "model_module_version": "1.2.0",
      "model_name": "LayoutModel",
      "state": {
       "_model_module": "@jupyter-widgets/base",
       "_model_module_version": "1.2.0",
       "_model_name": "LayoutModel",
       "_view_count": null,
       "_view_module": "@jupyter-widgets/base",
       "_view_module_version": "1.2.0",
       "_view_name": "LayoutView",
       "align_content": null,
       "align_items": null,
       "align_self": null,
       "border": null,
       "bottom": null,
       "display": null,
       "flex": null,
       "flex_flow": null,
       "grid_area": null,
       "grid_auto_columns": null,
       "grid_auto_flow": null,
       "grid_auto_rows": null,
       "grid_column": null,
       "grid_gap": null,
       "grid_row": null,
       "grid_template_areas": null,
       "grid_template_columns": null,
       "grid_template_rows": null,
       "height": null,
       "justify_content": null,
       "justify_items": null,
       "left": null,
       "margin": null,
       "max_height": null,
       "max_width": null,
       "min_height": null,
       "min_width": null,
       "object_fit": null,
       "object_position": null,
       "order": null,
       "overflow": null,
       "overflow_x": null,
       "overflow_y": null,
       "padding": null,
       "right": null,
       "top": null,
       "visibility": null,
       "width": null
      }
     },
     "f96e215af9e04e8da1d96fc20dea4a68": {
      "model_module": "@jupyter-widgets/controls",
      "model_module_version": "1.5.0",
      "model_name": "FloatProgressModel",
      "state": {
       "_dom_classes": [],
       "_model_module": "@jupyter-widgets/controls",
       "_model_module_version": "1.5.0",
       "_model_name": "FloatProgressModel",
       "_view_count": null,
       "_view_module": "@jupyter-widgets/controls",
       "_view_module_version": "1.5.0",
       "_view_name": "ProgressView",
       "bar_style": "success",
       "description": "100%",
       "description_tooltip": null,
       "layout": "IPY_MODEL_4b1cbf29244f4bff9e7cc5e9f5956d2d",
       "max": 59599.0,
       "min": 0.0,
       "orientation": "horizontal",
       "style": "IPY_MODEL_f5c389dc9b254d0d8ba35d4a0ef3277d",
       "value": 59599.0
      }
     },
     "f97b41b95d0b4826b6f3e5b64dd6fad3": {
      "model_module": "@jupyter-widgets/base",
      "model_module_version": "1.2.0",
      "model_name": "LayoutModel",
      "state": {
       "_model_module": "@jupyter-widgets/base",
       "_model_module_version": "1.2.0",
       "_model_name": "LayoutModel",
       "_view_count": null,
       "_view_module": "@jupyter-widgets/base",
       "_view_module_version": "1.2.0",
       "_view_name": "LayoutView",
       "align_content": null,
       "align_items": null,
       "align_self": null,
       "border": null,
       "bottom": null,
       "display": null,
       "flex": null,
       "flex_flow": null,
       "grid_area": null,
       "grid_auto_columns": null,
       "grid_auto_flow": null,
       "grid_auto_rows": null,
       "grid_column": null,
       "grid_gap": null,
       "grid_row": null,
       "grid_template_areas": null,
       "grid_template_columns": null,
       "grid_template_rows": null,
       "height": null,
       "justify_content": null,
       "justify_items": null,
       "left": null,
       "margin": null,
       "max_height": null,
       "max_width": null,
       "min_height": null,
       "min_width": null,
       "object_fit": null,
       "object_position": null,
       "order": null,
       "overflow": null,
       "overflow_x": null,
       "overflow_y": null,
       "padding": null,
       "right": null,
       "top": null,
       "visibility": null,
       "width": null
      }
     },
     "fc466004e4f6408381593692288630de": {
      "model_module": "@jupyter-widgets/controls",
      "model_module_version": "1.5.0",
      "model_name": "DescriptionStyleModel",
      "state": {
       "_model_module": "@jupyter-widgets/controls",
       "_model_module_version": "1.5.0",
       "_model_name": "DescriptionStyleModel",
       "_view_count": null,
       "_view_module": "@jupyter-widgets/base",
       "_view_module_version": "1.2.0",
       "_view_name": "StyleView",
       "description_width": ""
      }
     },
     "ffe5273f0eea4975806629d55e9154d1": {
      "model_module": "@jupyter-widgets/base",
      "model_module_version": "1.2.0",
      "model_name": "LayoutModel",
      "state": {
       "_model_module": "@jupyter-widgets/base",
       "_model_module_version": "1.2.0",
       "_model_name": "LayoutModel",
       "_view_count": null,
       "_view_module": "@jupyter-widgets/base",
       "_view_module_version": "1.2.0",
       "_view_name": "LayoutView",
       "align_content": null,
       "align_items": null,
       "align_self": null,
       "border": null,
       "bottom": null,
       "display": null,
       "flex": null,
       "flex_flow": null,
       "grid_area": null,
       "grid_auto_columns": null,
       "grid_auto_flow": null,
       "grid_auto_rows": null,
       "grid_column": null,
       "grid_gap": null,
       "grid_row": null,
       "grid_template_areas": null,
       "grid_template_columns": null,
       "grid_template_rows": null,
       "height": null,
       "justify_content": null,
       "justify_items": null,
       "left": null,
       "margin": null,
       "max_height": null,
       "max_width": null,
       "min_height": null,
       "min_width": null,
       "object_fit": null,
       "object_position": null,
       "order": null,
       "overflow": null,
       "overflow_x": null,
       "overflow_y": null,
       "padding": null,
       "right": null,
       "top": null,
       "visibility": null,
       "width": null
      }
     }
    },
    "version_major": 2,
    "version_minor": 0
   }
  }
 },
 "nbformat": 4,
 "nbformat_minor": 4
}
