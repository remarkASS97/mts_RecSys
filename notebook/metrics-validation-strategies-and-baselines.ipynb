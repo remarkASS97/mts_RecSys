{
 "cells": [
  {
   "cell_type": "markdown",
   "metadata": {
    "papermill": {
     "duration": 0.043203,
     "end_time": "2020-10-25T07:01:24.222229",
     "exception": false,
     "start_time": "2020-10-25T07:01:24.179026",
     "status": "completed"
    },
    "tags": []
   },
   "source": [
    "# Metrics, validation strategies and baselines\n",
    "\n",
    "В данном jupyter notebook рассматриваются примеры того, какие схемы валидации и метрики используются в рекомендательных системах.\n",
    "Также построим простые модели (бейзлайны) на данных МТС Библиотеки. \n",
    "\n",
    "* [Preprocessing](#preprocessing)\n",
    "* [General remarks](#general-remarks)\n",
    "* [Metrics](#metrics)\n",
    "    * [Regression](#regression)\n",
    "    * [Classification](#classification)\n",
    "    * [Ranking](#ranking)\n",
    "* [Validation strategies](#validation)\n",
    "* [Baselines](#baselines)"
   ]
  },
  {
   "cell_type": "code",
   "execution_count": 1,
   "metadata": {
    "_cell_guid": "b1076dfc-b9ad-4769-8c92-a6c4dae69d19",
    "_kg_hide-input": true,
    "_uuid": "8f2839f25d086af736a60e9eeb907d3b93b6e0e5",
    "execution": {
     "iopub.execute_input": "2020-10-25T07:01:24.311769Z",
     "iopub.status.busy": "2020-10-25T07:01:24.311271Z",
     "iopub.status.idle": "2020-10-25T07:01:24.329979Z",
     "shell.execute_reply": "2020-10-25T07:01:24.329585Z"
    },
    "papermill": {
     "duration": 0.066139,
     "end_time": "2020-10-25T07:01:24.330062",
     "exception": false,
     "start_time": "2020-10-25T07:01:24.263923",
     "status": "completed"
    },
    "tags": []
   },
   "outputs": [
    {
     "name": "stdout",
     "output_type": "stream",
     "text": [
      "Dataset:\n",
      "/kaggle/input/mts-library/items.csv\n",
      "/kaggle/input/mts-library/interactions.csv\n",
      "/kaggle/input/mts-library/users.csv\n"
     ]
    }
   ],
   "source": [
    "import os\n",
    "import numpy as np \n",
    "import pandas as pd \n",
    "from itertools import islice, cycle\n",
    "from more_itertools import pairwise\n",
    "\n",
    "print('Dataset:')\n",
    "for dirname, _, filenames in os.walk('/kaggle/input'):\n",
    "    for filename in filenames:\n",
    "        print(os.path.join(dirname, filename))"
   ]
  },
  {
   "cell_type": "markdown",
   "metadata": {
    "papermill": {
     "duration": 0.041416,
     "end_time": "2020-10-25T07:01:24.414765",
     "exception": false,
     "start_time": "2020-10-25T07:01:24.373349",
     "status": "completed"
    },
    "tags": []
   },
   "source": [
    "<a id=\"preprocessing\"></a>\n",
    "# Preprocessing\n",
    "\n",
    "Загрузим наши данные, теперь уже с фичами, и применим знания из [pandas-scipy-for-recsys](https://www.kaggle.com/sharthz23/pandas-scipy-for-recsys)"
   ]
  },
  {
   "cell_type": "code",
   "execution_count": 2,
   "metadata": {
    "execution": {
     "iopub.execute_input": "2020-10-25T07:01:24.502698Z",
     "iopub.status.busy": "2020-10-25T07:01:24.502203Z",
     "iopub.status.idle": "2020-10-25T07:01:26.303449Z",
     "shell.execute_reply": "2020-10-25T07:01:26.302965Z"
    },
    "papermill": {
     "duration": 1.846902,
     "end_time": "2020-10-25T07:01:26.303534",
     "exception": false,
     "start_time": "2020-10-25T07:01:24.456632",
     "status": "completed"
    },
    "tags": []
   },
   "outputs": [],
   "source": [
    "df = pd.read_csv('../input/mts-library/interactions.csv')\n",
    "df_users = pd.read_csv('../input/mts-library/users.csv')\n",
    "df_items = pd.read_csv('../input/mts-library/items.csv')"
   ]
  },
  {
   "cell_type": "markdown",
   "metadata": {
    "papermill": {
     "duration": 0.041838,
     "end_time": "2020-10-25T07:01:26.387310",
     "exception": false,
     "start_time": "2020-10-25T07:01:26.345472",
     "status": "completed"
    },
    "tags": []
   },
   "source": [
    "## Interactions"
   ]
  },
  {
   "cell_type": "code",
   "execution_count": 3,
   "metadata": {
    "execution": {
     "iopub.execute_input": "2020-10-25T07:01:26.479504Z",
     "iopub.status.busy": "2020-10-25T07:01:26.478848Z",
     "iopub.status.idle": "2020-10-25T07:01:26.559537Z",
     "shell.execute_reply": "2020-10-25T07:01:26.559037Z"
    },
    "papermill": {
     "duration": 0.13052,
     "end_time": "2020-10-25T07:01:26.559652",
     "exception": false,
     "start_time": "2020-10-25T07:01:26.429132",
     "status": "completed"
    },
    "tags": []
   },
   "outputs": [
    {
     "name": "stdout",
     "output_type": "stream",
     "text": [
      "<class 'pandas.core.frame.DataFrame'>\n",
      "RangeIndex: 1533078 entries, 0 to 1533077\n",
      "Data columns (total 5 columns):\n",
      " #   Column      Non-Null Count    Dtype  \n",
      "---  ------      --------------    -----  \n",
      " 0   user_id     1533078 non-null  int64  \n",
      " 1   item_id     1533078 non-null  int64  \n",
      " 2   progress    1533078 non-null  int64  \n",
      " 3   rating      285356 non-null   float64\n",
      " 4   start_date  1533078 non-null  object \n",
      "dtypes: float64(1), int64(3), object(1)\n",
      "memory usage: 58.5+ MB\n"
     ]
    }
   ],
   "source": [
    "df.info()"
   ]
  },
  {
   "cell_type": "code",
   "execution_count": 4,
   "metadata": {
    "execution": {
     "iopub.execute_input": "2020-10-25T07:01:26.708337Z",
     "iopub.status.busy": "2020-10-25T07:01:26.671273Z",
     "iopub.status.idle": "2020-10-25T07:01:26.838257Z",
     "shell.execute_reply": "2020-10-25T07:01:26.837627Z"
    },
    "papermill": {
     "duration": 0.234188,
     "end_time": "2020-10-25T07:01:26.838362",
     "exception": false,
     "start_time": "2020-10-25T07:01:26.604174",
     "status": "completed"
    },
    "tags": []
   },
   "outputs": [],
   "source": [
    "df['start_date'] = pd.to_datetime(df['start_date'])"
   ]
  },
  {
   "cell_type": "code",
   "execution_count": 5,
   "metadata": {
    "execution": {
     "iopub.execute_input": "2020-10-25T07:01:26.970348Z",
     "iopub.status.busy": "2020-10-25T07:01:26.969725Z",
     "iopub.status.idle": "2020-10-25T07:01:27.172699Z",
     "shell.execute_reply": "2020-10-25T07:01:27.173213Z"
    },
    "papermill": {
     "duration": 0.271513,
     "end_time": "2020-10-25T07:01:27.173329",
     "exception": false,
     "start_time": "2020-10-25T07:01:26.901816",
     "status": "completed"
    },
    "tags": []
   },
   "outputs": [],
   "source": [
    "duplicates = df.duplicated(subset=['user_id', 'item_id'], keep=False)\n",
    "df_duplicates = df[duplicates].sort_values(by=['user_id', 'start_date'])\n",
    "df = df[~duplicates]"
   ]
  },
  {
   "cell_type": "code",
   "execution_count": 6,
   "metadata": {
    "execution": {
     "iopub.execute_input": "2020-10-25T07:01:27.277365Z",
     "iopub.status.busy": "2020-10-25T07:01:27.267738Z",
     "iopub.status.idle": "2020-10-25T07:01:27.292405Z",
     "shell.execute_reply": "2020-10-25T07:01:27.291920Z"
    },
    "papermill": {
     "duration": 0.075589,
     "end_time": "2020-10-25T07:01:27.292494",
     "exception": false,
     "start_time": "2020-10-25T07:01:27.216905",
     "status": "completed"
    },
    "tags": []
   },
   "outputs": [],
   "source": [
    "df_duplicates = df_duplicates.groupby(['user_id', 'item_id']).agg({\n",
    "    'progress': 'max',\n",
    "    'rating': 'max',\n",
    "    'start_date': 'min'\n",
    "})\n",
    "df = df.append(df_duplicates.reset_index(), ignore_index=True)"
   ]
  },
  {
   "cell_type": "code",
   "execution_count": 7,
   "metadata": {
    "execution": {
     "iopub.execute_input": "2020-10-25T07:01:27.383476Z",
     "iopub.status.busy": "2020-10-25T07:01:27.382901Z",
     "iopub.status.idle": "2020-10-25T07:01:27.404000Z",
     "shell.execute_reply": "2020-10-25T07:01:27.403495Z"
    },
    "papermill": {
     "duration": 0.068752,
     "end_time": "2020-10-25T07:01:27.404093",
     "exception": false,
     "start_time": "2020-10-25T07:01:27.335341",
     "status": "completed"
    },
    "tags": []
   },
   "outputs": [],
   "source": [
    "df['progress'] = df['progress'].astype(np.int8)\n",
    "df['rating'] = df['rating'].astype(pd.SparseDtype(np.float32, np.nan))"
   ]
  },
  {
   "cell_type": "code",
   "execution_count": 8,
   "metadata": {
    "execution": {
     "iopub.execute_input": "2020-10-25T07:01:27.493228Z",
     "iopub.status.busy": "2020-10-25T07:01:27.492615Z",
     "iopub.status.idle": "2020-10-25T07:01:27.510337Z",
     "shell.execute_reply": "2020-10-25T07:01:27.509840Z"
    },
    "papermill": {
     "duration": 0.063423,
     "end_time": "2020-10-25T07:01:27.510439",
     "exception": false,
     "start_time": "2020-10-25T07:01:27.447016",
     "status": "completed"
    },
    "tags": []
   },
   "outputs": [
    {
     "name": "stdout",
     "output_type": "stream",
     "text": [
      "<class 'pandas.core.frame.DataFrame'>\n",
      "RangeIndex: 1532998 entries, 0 to 1532997\n",
      "Data columns (total 5 columns):\n",
      " #   Column      Non-Null Count    Dtype               \n",
      "---  ------      --------------    -----               \n",
      " 0   user_id     1532998 non-null  int64               \n",
      " 1   item_id     1532998 non-null  int64               \n",
      " 2   progress    1532998 non-null  int8                \n",
      " 3   rating      285355 non-null   Sparse[float32, nan]\n",
      " 4   start_date  1532998 non-null  datetime64[ns]      \n",
      "dtypes: Sparse[float32, nan](1), datetime64[ns](1), int64(2), int8(1)\n",
      "memory usage: 38.7 MB\n"
     ]
    }
   ],
   "source": [
    "df.info()"
   ]
  },
  {
   "cell_type": "code",
   "execution_count": 9,
   "metadata": {
    "execution": {
     "iopub.execute_input": "2020-10-25T07:01:27.603793Z",
     "iopub.status.busy": "2020-10-25T07:01:27.603211Z",
     "iopub.status.idle": "2020-10-25T07:01:27.916266Z",
     "shell.execute_reply": "2020-10-25T07:01:27.915773Z"
    },
    "papermill": {
     "duration": 0.360664,
     "end_time": "2020-10-25T07:01:27.916352",
     "exception": false,
     "start_time": "2020-10-25T07:01:27.555688",
     "status": "completed"
    },
    "tags": []
   },
   "outputs": [],
   "source": [
    "df.to_pickle('interactions_preprocessed.pickle')"
   ]
  },
  {
   "cell_type": "code",
   "execution_count": 10,
   "metadata": {
    "execution": {
     "iopub.execute_input": "2020-10-25T07:01:28.006607Z",
     "iopub.status.busy": "2020-10-25T07:01:28.006087Z",
     "iopub.status.idle": "2020-10-25T07:01:28.274410Z",
     "shell.execute_reply": "2020-10-25T07:01:28.274012Z"
    },
    "papermill": {
     "duration": 0.315093,
     "end_time": "2020-10-25T07:01:28.274497",
     "exception": false,
     "start_time": "2020-10-25T07:01:27.959404",
     "status": "completed"
    },
    "tags": []
   },
   "outputs": [
    {
     "name": "stdout",
     "output_type": "stream",
     "text": [
      "total 39M\r\n",
      "drwxr-xr-x 2 root root 4.0K Oct 25 07:01 .\r\n",
      "drwxr-xr-x 6 root root 4.0K Oct 25 07:01 ..\r\n",
      "---------- 1 root root 267K Oct 25 07:01 __notebook__.ipynb\r\n",
      "-rw-r--r-- 1 root root  39M Oct 25 07:01 interactions_preprocessed.pickle\r\n"
     ]
    }
   ],
   "source": [
    "!ls -lah"
   ]
  },
  {
   "cell_type": "markdown",
   "metadata": {
    "papermill": {
     "duration": 0.043237,
     "end_time": "2020-10-25T07:01:28.361510",
     "exception": false,
     "start_time": "2020-10-25T07:01:28.318273",
     "status": "completed"
    },
    "tags": []
   },
   "source": [
    "## Users"
   ]
  },
  {
   "cell_type": "code",
   "execution_count": 11,
   "metadata": {
    "execution": {
     "iopub.execute_input": "2020-10-25T07:01:28.462016Z",
     "iopub.status.busy": "2020-10-25T07:01:28.461508Z",
     "iopub.status.idle": "2020-10-25T07:01:28.469003Z",
     "shell.execute_reply": "2020-10-25T07:01:28.468521Z"
    },
    "papermill": {
     "duration": 0.063916,
     "end_time": "2020-10-25T07:01:28.469084",
     "exception": false,
     "start_time": "2020-10-25T07:01:28.405168",
     "status": "completed"
    },
    "tags": []
   },
   "outputs": [
    {
     "data": {
      "text/html": [
       "<div>\n",
       "<style scoped>\n",
       "    .dataframe tbody tr th:only-of-type {\n",
       "        vertical-align: middle;\n",
       "    }\n",
       "\n",
       "    .dataframe tbody tr th {\n",
       "        vertical-align: top;\n",
       "    }\n",
       "\n",
       "    .dataframe thead th {\n",
       "        text-align: right;\n",
       "    }\n",
       "</style>\n",
       "<table border=\"1\" class=\"dataframe\">\n",
       "  <thead>\n",
       "    <tr style=\"text-align: right;\">\n",
       "      <th></th>\n",
       "      <th>user_id</th>\n",
       "      <th>age</th>\n",
       "      <th>sex</th>\n",
       "    </tr>\n",
       "  </thead>\n",
       "  <tbody>\n",
       "    <tr>\n",
       "      <th>0</th>\n",
       "      <td>1</td>\n",
       "      <td>45_54</td>\n",
       "      <td>NaN</td>\n",
       "    </tr>\n",
       "    <tr>\n",
       "      <th>1</th>\n",
       "      <td>2</td>\n",
       "      <td>18_24</td>\n",
       "      <td>0.0</td>\n",
       "    </tr>\n",
       "    <tr>\n",
       "      <th>2</th>\n",
       "      <td>3</td>\n",
       "      <td>65_inf</td>\n",
       "      <td>0.0</td>\n",
       "    </tr>\n",
       "    <tr>\n",
       "      <th>3</th>\n",
       "      <td>4</td>\n",
       "      <td>18_24</td>\n",
       "      <td>0.0</td>\n",
       "    </tr>\n",
       "    <tr>\n",
       "      <th>4</th>\n",
       "      <td>5</td>\n",
       "      <td>35_44</td>\n",
       "      <td>0.0</td>\n",
       "    </tr>\n",
       "  </tbody>\n",
       "</table>\n",
       "</div>"
      ],
      "text/plain": [
       "   user_id     age  sex\n",
       "0        1   45_54  NaN\n",
       "1        2   18_24  0.0\n",
       "2        3  65_inf  0.0\n",
       "3        4   18_24  0.0\n",
       "4        5   35_44  0.0"
      ]
     },
     "execution_count": 11,
     "metadata": {},
     "output_type": "execute_result"
    }
   ],
   "source": [
    "df_users.head()"
   ]
  },
  {
   "cell_type": "code",
   "execution_count": 12,
   "metadata": {
    "execution": {
     "iopub.execute_input": "2020-10-25T07:01:28.566670Z",
     "iopub.status.busy": "2020-10-25T07:01:28.561205Z",
     "iopub.status.idle": "2020-10-25T07:01:28.576216Z",
     "shell.execute_reply": "2020-10-25T07:01:28.575468Z"
    },
    "papermill": {
     "duration": 0.063391,
     "end_time": "2020-10-25T07:01:28.576340",
     "exception": false,
     "start_time": "2020-10-25T07:01:28.512949",
     "status": "completed"
    },
    "tags": []
   },
   "outputs": [
    {
     "name": "stdout",
     "output_type": "stream",
     "text": [
      "<class 'pandas.core.frame.DataFrame'>\n",
      "RangeIndex: 142888 entries, 0 to 142887\n",
      "Data columns (total 3 columns):\n",
      " #   Column   Non-Null Count   Dtype  \n",
      "---  ------   --------------   -----  \n",
      " 0   user_id  142888 non-null  int64  \n",
      " 1   age      142742 non-null  object \n",
      " 2   sex      136626 non-null  float64\n",
      "dtypes: float64(1), int64(1), object(1)\n",
      "memory usage: 3.3+ MB\n"
     ]
    }
   ],
   "source": [
    "df_users.info()"
   ]
  },
  {
   "cell_type": "code",
   "execution_count": 13,
   "metadata": {
    "execution": {
     "iopub.execute_input": "2020-10-25T07:01:28.714236Z",
     "iopub.status.busy": "2020-10-25T07:01:28.713752Z",
     "iopub.status.idle": "2020-10-25T07:01:28.726714Z",
     "shell.execute_reply": "2020-10-25T07:01:28.727064Z"
    },
    "papermill": {
     "duration": 0.082995,
     "end_time": "2020-10-25T07:01:28.727181",
     "exception": false,
     "start_time": "2020-10-25T07:01:28.644186",
     "status": "completed"
    },
    "tags": []
   },
   "outputs": [
    {
     "data": {
      "text/plain": [
       "user_id    142888\n",
       "age             6\n",
       "sex             2\n",
       "dtype: int64"
      ]
     },
     "execution_count": 13,
     "metadata": {},
     "output_type": "execute_result"
    }
   ],
   "source": [
    "df_users.nunique()"
   ]
  },
  {
   "cell_type": "code",
   "execution_count": 14,
   "metadata": {
    "execution": {
     "iopub.execute_input": "2020-10-25T07:01:28.827686Z",
     "iopub.status.busy": "2020-10-25T07:01:28.827030Z",
     "iopub.status.idle": "2020-10-25T07:01:28.832853Z",
     "shell.execute_reply": "2020-10-25T07:01:28.833210Z"
    },
    "papermill": {
     "duration": 0.06104,
     "end_time": "2020-10-25T07:01:28.833328",
     "exception": false,
     "start_time": "2020-10-25T07:01:28.772288",
     "status": "completed"
    },
    "tags": []
   },
   "outputs": [],
   "source": [
    "df_users['age'] = df_users['age'].astype('category')\n",
    "df_users['sex'] = df_users['sex'].astype(pd.SparseDtype(np.float32, np.nan))"
   ]
  },
  {
   "cell_type": "code",
   "execution_count": 15,
   "metadata": {
    "execution": {
     "iopub.execute_input": "2020-10-25T07:01:28.927981Z",
     "iopub.status.busy": "2020-10-25T07:01:28.927493Z",
     "iopub.status.idle": "2020-10-25T07:01:28.935378Z",
     "shell.execute_reply": "2020-10-25T07:01:28.935750Z"
    },
    "papermill": {
     "duration": 0.058086,
     "end_time": "2020-10-25T07:01:28.935861",
     "exception": false,
     "start_time": "2020-10-25T07:01:28.877775",
     "status": "completed"
    },
    "tags": []
   },
   "outputs": [
    {
     "name": "stdout",
     "output_type": "stream",
     "text": [
      "<class 'pandas.core.frame.DataFrame'>\n",
      "RangeIndex: 142888 entries, 0 to 142887\n",
      "Data columns (total 3 columns):\n",
      " #   Column   Non-Null Count   Dtype               \n",
      "---  ------   --------------   -----               \n",
      " 0   user_id  142888 non-null  int64               \n",
      " 1   age      142742 non-null  category            \n",
      " 2   sex      136626 non-null  Sparse[float32, nan]\n",
      "dtypes: Sparse[float32, nan](1), category(1), int64(1)\n",
      "memory usage: 2.3 MB\n"
     ]
    }
   ],
   "source": [
    "df_users.info()"
   ]
  },
  {
   "cell_type": "code",
   "execution_count": 16,
   "metadata": {
    "execution": {
     "iopub.execute_input": "2020-10-25T07:01:29.031949Z",
     "iopub.status.busy": "2020-10-25T07:01:29.031464Z",
     "iopub.status.idle": "2020-10-25T07:01:29.097921Z",
     "shell.execute_reply": "2020-10-25T07:01:29.098512Z"
    },
    "papermill": {
     "duration": 0.117454,
     "end_time": "2020-10-25T07:01:29.098682",
     "exception": false,
     "start_time": "2020-10-25T07:01:28.981228",
     "status": "completed"
    },
    "tags": []
   },
   "outputs": [
    {
     "name": "stdout",
     "output_type": "stream",
     "text": [
      "Кол-во пользователей - 158811\n",
      "Кол-во пользователей c взаимодействиями и фичами - 135677 (85.43%)\n",
      "Кол-во пользователей только c взаимодействиями - 15923 (10.03%)\n",
      "Кол-во пользователей только c фичами - 7211 (4.54%)\n"
     ]
    }
   ],
   "source": [
    "interaction_users = df['user_id'].unique()\n",
    "\n",
    "common_users = len(np.intersect1d(interaction_users, df_users['user_id']))\n",
    "users_only_in_interaction = len(np.setdiff1d(interaction_users, df_users['user_id']))\n",
    "users_only_features = len(np.setdiff1d(df_users['user_id'], interaction_users))\n",
    "total_users = common_users + users_only_in_interaction + users_only_features\n",
    "print(f'Кол-во пользователей - {total_users}')\n",
    "print(f'Кол-во пользователей c взаимодействиями и фичами - {common_users} ({common_users / total_users * 100:.2f}%)')\n",
    "print(f'Кол-во пользователей только c взаимодействиями - {users_only_in_interaction} ({users_only_in_interaction / total_users * 100:.2f}%)')\n",
    "print(f'Кол-во пользователей только c фичами - {users_only_features} ({users_only_features / total_users * 100:.2f}%)')"
   ]
  },
  {
   "cell_type": "code",
   "execution_count": 17,
   "metadata": {
    "execution": {
     "iopub.execute_input": "2020-10-25T07:01:29.238531Z",
     "iopub.status.busy": "2020-10-25T07:01:29.238073Z",
     "iopub.status.idle": "2020-10-25T07:01:29.241998Z",
     "shell.execute_reply": "2020-10-25T07:01:29.241527Z"
    },
    "papermill": {
     "duration": 0.075135,
     "end_time": "2020-10-25T07:01:29.242070",
     "exception": false,
     "start_time": "2020-10-25T07:01:29.166935",
     "status": "completed"
    },
    "tags": []
   },
   "outputs": [],
   "source": [
    "df_users.to_pickle('users_preprocessed.pickle')"
   ]
  },
  {
   "cell_type": "code",
   "execution_count": 18,
   "metadata": {
    "execution": {
     "iopub.execute_input": "2020-10-25T07:01:29.340782Z",
     "iopub.status.busy": "2020-10-25T07:01:29.340308Z",
     "iopub.status.idle": "2020-10-25T07:01:29.595716Z",
     "shell.execute_reply": "2020-10-25T07:01:29.596082Z"
    },
    "papermill": {
     "duration": 0.308601,
     "end_time": "2020-10-25T07:01:29.596202",
     "exception": false,
     "start_time": "2020-10-25T07:01:29.287601",
     "status": "completed"
    },
    "tags": []
   },
   "outputs": [
    {
     "name": "stdout",
     "output_type": "stream",
     "text": [
      "total 42M\r\n",
      "drwxr-xr-x 2 root root 4.0K Oct 25 07:01 .\r\n",
      "drwxr-xr-x 6 root root 4.0K Oct 25 07:01 ..\r\n",
      "---------- 1 root root 274K Oct 25 07:01 __notebook__.ipynb\r\n",
      "-rw-r--r-- 1 root root  39M Oct 25 07:01 interactions_preprocessed.pickle\r\n",
      "-rw-r--r-- 1 root root 2.3M Oct 25 07:01 users_preprocessed.pickle\r\n"
     ]
    }
   ],
   "source": [
    "!ls -lah"
   ]
  },
  {
   "cell_type": "markdown",
   "metadata": {
    "papermill": {
     "duration": 0.045709,
     "end_time": "2020-10-25T07:01:29.687985",
     "exception": false,
     "start_time": "2020-10-25T07:01:29.642276",
     "status": "completed"
    },
    "tags": []
   },
   "source": [
    "## Items"
   ]
  },
  {
   "cell_type": "code",
   "execution_count": 19,
   "metadata": {
    "execution": {
     "iopub.execute_input": "2020-10-25T07:01:29.792201Z",
     "iopub.status.busy": "2020-10-25T07:01:29.791531Z",
     "iopub.status.idle": "2020-10-25T07:01:29.796042Z",
     "shell.execute_reply": "2020-10-25T07:01:29.795660Z"
    },
    "papermill": {
     "duration": 0.062105,
     "end_time": "2020-10-25T07:01:29.796123",
     "exception": false,
     "start_time": "2020-10-25T07:01:29.734018",
     "status": "completed"
    },
    "tags": []
   },
   "outputs": [
    {
     "data": {
      "text/html": [
       "<div>\n",
       "<style scoped>\n",
       "    .dataframe tbody tr th:only-of-type {\n",
       "        vertical-align: middle;\n",
       "    }\n",
       "\n",
       "    .dataframe tbody tr th {\n",
       "        vertical-align: top;\n",
       "    }\n",
       "\n",
       "    .dataframe thead th {\n",
       "        text-align: right;\n",
       "    }\n",
       "</style>\n",
       "<table border=\"1\" class=\"dataframe\">\n",
       "  <thead>\n",
       "    <tr style=\"text-align: right;\">\n",
       "      <th></th>\n",
       "      <th>id</th>\n",
       "      <th>title</th>\n",
       "      <th>genres</th>\n",
       "      <th>authors</th>\n",
       "      <th>year</th>\n",
       "    </tr>\n",
       "  </thead>\n",
       "  <tbody>\n",
       "    <tr>\n",
       "      <th>0</th>\n",
       "      <td>128115</td>\n",
       "      <td>Ворон-челобитчик</td>\n",
       "      <td>Зарубежные детские книги,Сказки,Зарубежная кла...</td>\n",
       "      <td>Михаил Салтыков-Щедрин</td>\n",
       "      <td>1886</td>\n",
       "    </tr>\n",
       "    <tr>\n",
       "      <th>1</th>\n",
       "      <td>210979</td>\n",
       "      <td>Скрипка Ротшильда</td>\n",
       "      <td>Классическая проза,Литература 19 века,Русская ...</td>\n",
       "      <td>Антон Чехов</td>\n",
       "      <td>1894</td>\n",
       "    </tr>\n",
       "    <tr>\n",
       "      <th>2</th>\n",
       "      <td>95632</td>\n",
       "      <td>Испорченные дети</td>\n",
       "      <td>Зарубежная классика,Классическая проза,Литерат...</td>\n",
       "      <td>Михаил Салтыков-Щедрин</td>\n",
       "      <td>1869</td>\n",
       "    </tr>\n",
       "    <tr>\n",
       "      <th>3</th>\n",
       "      <td>247906</td>\n",
       "      <td>Странный человек</td>\n",
       "      <td>Пьесы и драматургия,Литература 19 века</td>\n",
       "      <td>Михаил Лермонтов</td>\n",
       "      <td>1831</td>\n",
       "    </tr>\n",
       "    <tr>\n",
       "      <th>4</th>\n",
       "      <td>294280</td>\n",
       "      <td>Господа ташкентцы</td>\n",
       "      <td>Зарубежная классика,Классическая проза,Литерат...</td>\n",
       "      <td>Михаил Салтыков-Щедрин</td>\n",
       "      <td>1873</td>\n",
       "    </tr>\n",
       "  </tbody>\n",
       "</table>\n",
       "</div>"
      ],
      "text/plain": [
       "       id              title  \\\n",
       "0  128115   Ворон-челобитчик   \n",
       "1  210979  Скрипка Ротшильда   \n",
       "2   95632   Испорченные дети   \n",
       "3  247906   Странный человек   \n",
       "4  294280  Господа ташкентцы   \n",
       "\n",
       "                                              genres                 authors  \\\n",
       "0  Зарубежные детские книги,Сказки,Зарубежная кла...  Михаил Салтыков-Щедрин   \n",
       "1  Классическая проза,Литература 19 века,Русская ...             Антон Чехов   \n",
       "2  Зарубежная классика,Классическая проза,Литерат...  Михаил Салтыков-Щедрин   \n",
       "3             Пьесы и драматургия,Литература 19 века        Михаил Лермонтов   \n",
       "4  Зарубежная классика,Классическая проза,Литерат...  Михаил Салтыков-Щедрин   \n",
       "\n",
       "   year  \n",
       "0  1886  \n",
       "1  1894  \n",
       "2  1869  \n",
       "3  1831  \n",
       "4  1873  "
      ]
     },
     "execution_count": 19,
     "metadata": {},
     "output_type": "execute_result"
    }
   ],
   "source": [
    "df_items.head()"
   ]
  },
  {
   "cell_type": "code",
   "execution_count": 20,
   "metadata": {
    "execution": {
     "iopub.execute_input": "2020-10-25T07:01:29.907235Z",
     "iopub.status.busy": "2020-10-25T07:01:29.906807Z",
     "iopub.status.idle": "2020-10-25T07:01:29.915710Z",
     "shell.execute_reply": "2020-10-25T07:01:29.916065Z"
    },
    "papermill": {
     "duration": 0.07248,
     "end_time": "2020-10-25T07:01:29.916158",
     "exception": false,
     "start_time": "2020-10-25T07:01:29.843678",
     "status": "completed"
    },
    "tags": []
   },
   "outputs": [
    {
     "name": "stdout",
     "output_type": "stream",
     "text": [
      "<class 'pandas.core.frame.DataFrame'>\n",
      "RangeIndex: 59599 entries, 0 to 59598\n",
      "Data columns (total 5 columns):\n",
      " #   Column   Non-Null Count  Dtype \n",
      "---  ------   --------------  ----- \n",
      " 0   id       59599 non-null  int64 \n",
      " 1   title    59599 non-null  object\n",
      " 2   genres   59568 non-null  object\n",
      " 3   authors  52714 non-null  object\n",
      " 4   year     46720 non-null  object\n",
      "dtypes: int64(1), object(4)\n",
      "memory usage: 2.3+ MB\n"
     ]
    }
   ],
   "source": [
    "df_items.info(memory_usage='full')"
   ]
  },
  {
   "cell_type": "code",
   "execution_count": 21,
   "metadata": {
    "execution": {
     "iopub.execute_input": "2020-10-25T07:01:30.015570Z",
     "iopub.status.busy": "2020-10-25T07:01:30.014955Z",
     "iopub.status.idle": "2020-10-25T07:01:30.018355Z",
     "shell.execute_reply": "2020-10-25T07:01:30.018002Z"
    },
    "papermill": {
     "duration": 0.055695,
     "end_time": "2020-10-25T07:01:30.018427",
     "exception": false,
     "start_time": "2020-10-25T07:01:29.962732",
     "status": "completed"
    },
    "tags": []
   },
   "outputs": [],
   "source": [
    "def num_bytes_format(num_bytes, float_prec=4):\n",
    "    units = ['bytes', 'Kb', 'Mb', 'Gb', 'Tb', 'Pb', 'Eb']\n",
    "    for unit in units[:-1]:\n",
    "        if abs(num_bytes) < 1000:\n",
    "            return f'{num_bytes:.{float_prec}f} {unit}'\n",
    "        num_bytes /= 1000\n",
    "    return f'{num_bytes:.4f} {units[-1]}'"
   ]
  },
  {
   "cell_type": "code",
   "execution_count": 22,
   "metadata": {
    "execution": {
     "iopub.execute_input": "2020-10-25T07:01:30.164111Z",
     "iopub.status.busy": "2020-10-25T07:01:30.152801Z",
     "iopub.status.idle": "2020-10-25T07:01:30.171255Z",
     "shell.execute_reply": "2020-10-25T07:01:30.170695Z"
    },
    "papermill": {
     "duration": 0.106094,
     "end_time": "2020-10-25T07:01:30.171365",
     "exception": false,
     "start_time": "2020-10-25T07:01:30.065271",
     "status": "completed"
    },
    "tags": []
   },
   "outputs": [
    {
     "data": {
      "text/plain": [
       "'28.1660 Mb'"
      ]
     },
     "execution_count": 22,
     "metadata": {},
     "output_type": "execute_result"
    }
   ],
   "source": [
    "num_bytes = df_items.memory_usage(deep=True).sum()\n",
    "num_bytes_format(num_bytes)"
   ]
  },
  {
   "cell_type": "code",
   "execution_count": 23,
   "metadata": {
    "execution": {
     "iopub.execute_input": "2020-10-25T07:01:30.315197Z",
     "iopub.status.busy": "2020-10-25T07:01:30.314753Z",
     "iopub.status.idle": "2020-10-25T07:01:30.363958Z",
     "shell.execute_reply": "2020-10-25T07:01:30.363547Z"
    },
    "papermill": {
     "duration": 0.122153,
     "end_time": "2020-10-25T07:01:30.364039",
     "exception": false,
     "start_time": "2020-10-25T07:01:30.241886",
     "status": "completed"
    },
    "tags": []
   },
   "outputs": [
    {
     "data": {
      "text/plain": [
       "id         59599\n",
       "title      57358\n",
       "genres     10769\n",
       "authors    17265\n",
       "year        1053\n",
       "dtype: int64"
      ]
     },
     "execution_count": 23,
     "metadata": {},
     "output_type": "execute_result"
    }
   ],
   "source": [
    "df_items.nunique()"
   ]
  },
  {
   "cell_type": "markdown",
   "metadata": {
    "papermill": {
     "duration": 0.056087,
     "end_time": "2020-10-25T07:01:30.467880",
     "exception": false,
     "start_time": "2020-10-25T07:01:30.411793",
     "status": "completed"
    },
    "tags": []
   },
   "source": [
    "Почему колонка `year` типа `object`, а не `int`?"
   ]
  },
  {
   "cell_type": "code",
   "execution_count": 24,
   "metadata": {
    "_kg_hide-input": true,
    "_kg_hide-output": true,
    "execution": {
     "iopub.execute_input": "2020-10-25T07:01:30.590338Z",
     "iopub.status.busy": "2020-10-25T07:01:30.589652Z",
     "iopub.status.idle": "2020-10-25T07:01:30.594712Z",
     "shell.execute_reply": "2020-10-25T07:01:30.595140Z"
    },
    "papermill": {
     "duration": 0.066889,
     "end_time": "2020-10-25T07:01:30.595252",
     "exception": false,
     "start_time": "2020-10-25T07:01:30.528363",
     "status": "completed"
    },
    "tags": []
   },
   "outputs": [
    {
     "data": {
      "text/plain": [
       "1962,1970                       1\n",
       "1947, 1957, 1958, 1969, 2005    1\n",
       "1930, 1925                      1\n",
       "1805                            1\n",
       "1608,1623                       1\n",
       "1000                            1\n",
       "до 1837 г.                      1\n",
       "1670                            1\n",
       "2001, 2005, 2008, 2015, 2017    1\n",
       "1999-2017                       1\n",
       "2000,2019                       1\n",
       "1895–1900                       1\n",
       "1945-1946                       1\n",
       "2003, 2004, 2007                1\n",
       "1350                            1\n",
       "1931, 1929, 1942                1\n",
       "1914-1919                       1\n",
       "1936, 1947                      1\n",
       "1968, 1979                      1\n",
       "1852-1856                       1\n",
       "1887,1902                       1\n",
       "1977, 1995                      1\n",
       "2014–2019                       1\n",
       "450–399 г. до н.э.              1\n",
       "1932-1936                       1\n",
       "Name: year, dtype: int64"
      ]
     },
     "execution_count": 24,
     "metadata": {},
     "output_type": "execute_result"
    }
   ],
   "source": [
    "df_items['year'].value_counts().tail(25)"
   ]
  },
  {
   "cell_type": "code",
   "execution_count": 25,
   "metadata": {
    "_kg_hide-input": true,
    "_kg_hide-output": true,
    "execution": {
     "iopub.execute_input": "2020-10-25T07:01:30.703085Z",
     "iopub.status.busy": "2020-10-25T07:01:30.701076Z",
     "iopub.status.idle": "2020-10-25T07:01:30.706206Z",
     "shell.execute_reply": "2020-10-25T07:01:30.706620Z"
    },
    "papermill": {
     "duration": 0.06276,
     "end_time": "2020-10-25T07:01:30.706732",
     "exception": false,
     "start_time": "2020-10-25T07:01:30.643972",
     "status": "completed"
    },
    "tags": []
   },
   "outputs": [
    {
     "data": {
      "text/html": [
       "<div>\n",
       "<style scoped>\n",
       "    .dataframe tbody tr th:only-of-type {\n",
       "        vertical-align: middle;\n",
       "    }\n",
       "\n",
       "    .dataframe tbody tr th {\n",
       "        vertical-align: top;\n",
       "    }\n",
       "\n",
       "    .dataframe thead th {\n",
       "        text-align: right;\n",
       "    }\n",
       "</style>\n",
       "<table border=\"1\" class=\"dataframe\">\n",
       "  <thead>\n",
       "    <tr style=\"text-align: right;\">\n",
       "      <th></th>\n",
       "      <th>id</th>\n",
       "      <th>title</th>\n",
       "      <th>genres</th>\n",
       "      <th>authors</th>\n",
       "      <th>year</th>\n",
       "    </tr>\n",
       "  </thead>\n",
       "  <tbody>\n",
       "    <tr>\n",
       "      <th>44131</th>\n",
       "      <td>273885</td>\n",
       "      <td>«Мальчик, который рисовал кошек» и другие исто...</td>\n",
       "      <td>Ужасы,Мистика,Зарубежная классика,Литература 1...</td>\n",
       "      <td>Лафкадио Хирн</td>\n",
       "      <td>1898, 1897, 1901</td>\n",
       "    </tr>\n",
       "  </tbody>\n",
       "</table>\n",
       "</div>"
      ],
      "text/plain": [
       "           id                                              title  \\\n",
       "44131  273885  «Мальчик, который рисовал кошек» и другие исто...   \n",
       "\n",
       "                                                  genres        authors  \\\n",
       "44131  Ужасы,Мистика,Зарубежная классика,Литература 1...  Лафкадио Хирн   \n",
       "\n",
       "                   year  \n",
       "44131  1898, 1897, 1901  "
      ]
     },
     "execution_count": 25,
     "metadata": {},
     "output_type": "execute_result"
    }
   ],
   "source": [
    "df_items[df_items['year'] == '1898, 1897, 1901']"
   ]
  },
  {
   "cell_type": "code",
   "execution_count": 26,
   "metadata": {
    "execution": {
     "iopub.execute_input": "2020-10-25T07:01:30.822033Z",
     "iopub.status.busy": "2020-10-25T07:01:30.821359Z",
     "iopub.status.idle": "2020-10-25T07:01:30.854092Z",
     "shell.execute_reply": "2020-10-25T07:01:30.854544Z"
    },
    "papermill": {
     "duration": 0.098748,
     "end_time": "2020-10-25T07:01:30.854674",
     "exception": false,
     "start_time": "2020-10-25T07:01:30.755926",
     "status": "completed"
    },
    "tags": []
   },
   "outputs": [],
   "source": [
    "for col in ['genres', 'authors', 'year']:\n",
    "    df_items[col] = df_items[col].astype('category')"
   ]
  },
  {
   "cell_type": "code",
   "execution_count": 27,
   "metadata": {
    "execution": {
     "iopub.execute_input": "2020-10-25T07:01:30.959619Z",
     "iopub.status.busy": "2020-10-25T07:01:30.958987Z",
     "iopub.status.idle": "2020-10-25T07:01:31.089427Z",
     "shell.execute_reply": "2020-10-25T07:01:31.089861Z"
    },
    "papermill": {
     "duration": 0.186716,
     "end_time": "2020-10-25T07:01:31.089973",
     "exception": false,
     "start_time": "2020-10-25T07:01:30.903257",
     "status": "completed"
    },
    "tags": []
   },
   "outputs": [
    {
     "name": "stdout",
     "output_type": "stream",
     "text": [
      "<class 'pandas.core.frame.DataFrame'>\n",
      "RangeIndex: 59599 entries, 0 to 59598\n",
      "Data columns (total 5 columns):\n",
      " #   Column   Non-Null Count  Dtype   \n",
      "---  ------   --------------  -----   \n",
      " 0   id       59599 non-null  int64   \n",
      " 1   title    59599 non-null  object  \n",
      " 2   genres   59568 non-null  category\n",
      " 3   authors  52714 non-null  category\n",
      " 4   year     46720 non-null  category\n",
      "dtypes: category(3), int64(1), object(1)\n",
      "memory usage: 2.4+ MB\n"
     ]
    }
   ],
   "source": [
    "df_items.info(memory_usage='full')"
   ]
  },
  {
   "cell_type": "code",
   "execution_count": 28,
   "metadata": {
    "execution": {
     "iopub.execute_input": "2020-10-25T07:01:31.205246Z",
     "iopub.status.busy": "2020-10-25T07:01:31.204739Z",
     "iopub.status.idle": "2020-10-25T07:01:31.211110Z",
     "shell.execute_reply": "2020-10-25T07:01:31.210716Z"
    },
    "papermill": {
     "duration": 0.07175,
     "end_time": "2020-10-25T07:01:31.211197",
     "exception": false,
     "start_time": "2020-10-25T07:01:31.139447",
     "status": "completed"
    },
    "tags": []
   },
   "outputs": [
    {
     "data": {
      "text/plain": [
       "'17.9177 Mb'"
      ]
     },
     "execution_count": 28,
     "metadata": {},
     "output_type": "execute_result"
    }
   ],
   "source": [
    "num_bytes = df_items.memory_usage(deep=True).sum()\n",
    "num_bytes_format(num_bytes)"
   ]
  },
  {
   "cell_type": "code",
   "execution_count": 29,
   "metadata": {
    "execution": {
     "iopub.execute_input": "2020-10-25T07:01:31.315608Z",
     "iopub.status.busy": "2020-10-25T07:01:31.315111Z",
     "iopub.status.idle": "2020-10-25T07:01:31.360875Z",
     "shell.execute_reply": "2020-10-25T07:01:31.360337Z"
    },
    "papermill": {
     "duration": 0.099999,
     "end_time": "2020-10-25T07:01:31.360979",
     "exception": false,
     "start_time": "2020-10-25T07:01:31.260980",
     "status": "completed"
    },
    "tags": []
   },
   "outputs": [
    {
     "name": "stdout",
     "output_type": "stream",
     "text": [
      "Кол-во книг - 59599\n",
      "Кол-во книг c взаимодействиями и фичами - 59599 (100.00%)\n",
      "Кол-во книг только c взаимодействиями - 0 (0.00%)\n",
      "Кол-во книг только c фичами - 0 (0.00%)\n"
     ]
    }
   ],
   "source": [
    "interaction_items = df['item_id'].unique()\n",
    "\n",
    "common_items = len(np.intersect1d(interaction_items, df_items['id']))\n",
    "items_only_in_interaction = len(np.setdiff1d(interaction_items, df_items['id']))\n",
    "items_only_features = len(np.setdiff1d(df_items['id'], interaction_items))\n",
    "total_items = common_items + items_only_in_interaction + items_only_features\n",
    "print(f'Кол-во книг - {total_items}')\n",
    "print(f'Кол-во книг c взаимодействиями и фичами - {common_items} ({common_items / total_items * 100:.2f}%)')\n",
    "print(f'Кол-во книг только c взаимодействиями - {items_only_in_interaction} ({items_only_in_interaction / total_items * 100:.2f}%)')\n",
    "print(f'Кол-во книг только c фичами - {items_only_features} ({items_only_features / total_items * 100:.2f}%)')"
   ]
  },
  {
   "cell_type": "code",
   "execution_count": 30,
   "metadata": {
    "execution": {
     "iopub.execute_input": "2020-10-25T07:01:31.534431Z",
     "iopub.status.busy": "2020-10-25T07:01:31.519614Z",
     "iopub.status.idle": "2020-10-25T07:01:31.541479Z",
     "shell.execute_reply": "2020-10-25T07:01:31.541082Z"
    },
    "papermill": {
     "duration": 0.097763,
     "end_time": "2020-10-25T07:01:31.541591",
     "exception": false,
     "start_time": "2020-10-25T07:01:31.443828",
     "status": "completed"
    },
    "tags": []
   },
   "outputs": [],
   "source": [
    "df_items.to_pickle('items_preprocessed.pickle')"
   ]
  },
  {
   "cell_type": "code",
   "execution_count": 31,
   "metadata": {
    "execution": {
     "iopub.execute_input": "2020-10-25T07:01:31.649801Z",
     "iopub.status.busy": "2020-10-25T07:01:31.649157Z",
     "iopub.status.idle": "2020-10-25T07:01:31.906155Z",
     "shell.execute_reply": "2020-10-25T07:01:31.905512Z"
    },
    "papermill": {
     "duration": 0.313527,
     "end_time": "2020-10-25T07:01:31.906255",
     "exception": false,
     "start_time": "2020-10-25T07:01:31.592728",
     "status": "completed"
    },
    "tags": []
   },
   "outputs": [
    {
     "name": "stdout",
     "output_type": "stream",
     "text": [
      "total 48M\r\n",
      "drwxr-xr-x 2 root root 4.0K Oct 25 07:01 .\r\n",
      "drwxr-xr-x 6 root root 4.0K Oct 25 07:01 ..\r\n",
      "---------- 1 root root 288K Oct 25 07:01 __notebook__.ipynb\r\n",
      "-rw-r--r-- 1 root root  39M Oct 25 07:01 interactions_preprocessed.pickle\r\n",
      "-rw-r--r-- 1 root root 6.0M Oct 25 07:01 items_preprocessed.pickle\r\n",
      "-rw-r--r-- 1 root root 2.3M Oct 25 07:01 users_preprocessed.pickle\r\n"
     ]
    }
   ],
   "source": [
    "!ls -lah"
   ]
  },
  {
   "cell_type": "markdown",
   "metadata": {
    "papermill": {
     "duration": 0.07379,
     "end_time": "2020-10-25T07:01:32.053692",
     "exception": false,
     "start_time": "2020-10-25T07:01:31.979902",
     "status": "completed"
    },
    "tags": []
   },
   "source": [
    "<a id=\"general-marks\"></a>\n",
    "# General marks\n",
    "\n",
    "Основная цель валидации - оценить качество модели перед внедрением в \"продакшен\" или сабмитом в соревновании. Отсюда вытекает одно из самых важных требование к процессу валидации - *схема должна максимально точно воспроизводить условия, в которых модель будет использоваться.* Это касается как продакшена, так и соревнований, причем не только в рекомендательных системах, а в любой задаче машинного обучения. **Правильная валидация - ключ к успеху** :)\n",
    "\n",
    "Ключевые вопросы, на которые надо ответить:\n",
    "* Что хотим от модели?\n",
    "    * Предсказанное значение для пары пользователь-объект (рейтинг или вероятность)\n",
    "    * Ранжирование объектов для пользователя (топ фильмов)\n",
    "* Как будет использоваться модель? \n",
    "    * Рекомендации будут считаться батчами раз в период (1 раз в день)\n",
    "    * Онлайн-рекомендации\n",
    "    * Связь бизнес-метрик с оффлайн-метриками\n",
    "* Какие технические ограничения?\n",
    "    * По времени построения как системы в целом, так и отдельных рекомендаций (чем меньше \"железа\", тем проще должна быть модель)\n",
    "    * Какие данные будут доступны в онлайн-режиме\n",
    "* Как есть особенности у задачи?\n",
    "    * Рекомендуем ли для пользователя объекты, с которым он уже взаимодействовал (для фильмов или книг - скорее всего нет, для продуктового ритейла - может быть и да)\n",
    "    * Cold-start - как много появится пользователей или объектов, для которых не известная история по взаимодействиям\n",
    "    * Как много взаимодействий по пользователям есть в данных"
   ]
  },
  {
   "cell_type": "markdown",
   "metadata": {
    "papermill": {
     "duration": 0.074639,
     "end_time": "2020-10-25T07:01:32.202307",
     "exception": false,
     "start_time": "2020-10-25T07:01:32.127668",
     "status": "completed"
    },
    "tags": []
   },
   "source": [
    "<a id=\"metrics\"></a>\n",
    "# Metrics\n",
    "\n",
    "Как это водится в машинном обучении, для подсчета метрик нам нужно два массива: правильный ответы и предсказанные ответы.\n",
    "И если в классическом машинном обучении это действительно два массива, то в рекомендательных системах нам нужна структура, которая в качевстве ключа или индекса будет содержать пары пользователь-объект.\n",
    "\n",
    "В качестве такой структуры вполне подойдет уже известный pandas.DataFrame. \n",
    "Правильные метки (true) мы можем представить в виде dataframe со следующими столбцами:\n",
    "* user_id - ID пользователя\n",
    "* item_id - ID объекта\n",
    "* value - оценка взаимодействия (опционально, может и не быть, если мы, например, за взаимодействие берем просто клик или факт покупки)\n",
    "\n",
    "Соответственно, рекомендации/предсказания (recs) в следующем:\n",
    "* user_id - ID пользователя\n",
    "* item_id - ID объекта\n",
    "* value - предсказанная оценка взаимодействия \n",
    "    * Численная оценка, например рейтинг\n",
    "    * Позиция, если мы ранжируем контент\n",
    "    \n",
    "Для подсчета метрик мы можем объединить эти два датафрема по `(user_id, item_id)`. В качестве метода объединения можно использовать методы join/merge из pandas.DataFrame."
   ]
  },
  {
   "attachments": {
    "image.png": {
     "image/png": "[encoded data removed]"
    }
   },
   "cell_type": "markdown",
   "metadata": {
    "papermill": {
     "duration": 0.073886,
     "end_time": "2020-10-25T07:01:32.351237",
     "exception": false,
     "start_time": "2020-10-25T07:01:32.277351",
     "status": "completed"
    },
    "tags": []
   },
   "source": [
    "<a id=\"regression\"></a>\n",
    "## Regression\n",
    "\n",
    "Эти метрики оценивают качество предсказанных численных оценок. Примеры метрик:\n",
    "* Mean Squared Error - среднеквадратичная ошибка\n",
    "* Root Mean Squared Error - корень из среднеквадратичной ошибки\n",
    "* Mean Absolute Error - средний ошибка по модулю\n",
    "![image.png](attachment:image.png)\n",
    "Эти метрики показываются, как хорошо модель \"восстанавливает\" какие-то численные оценки, но не то, насколько хороши рекомендации"
   ]
  },
  {
   "cell_type": "code",
   "execution_count": 32,
   "metadata": {
    "execution": {
     "iopub.execute_input": "2020-10-25T07:01:32.510139Z",
     "iopub.status.busy": "2020-10-25T07:01:32.509621Z",
     "iopub.status.idle": "2020-10-25T07:01:32.513474Z",
     "shell.execute_reply": "2020-10-25T07:01:32.512892Z"
    },
    "papermill": {
     "duration": 0.08789,
     "end_time": "2020-10-25T07:01:32.513593",
     "exception": false,
     "start_time": "2020-10-25T07:01:32.425703",
     "status": "completed"
    },
    "tags": []
   },
   "outputs": [
    {
     "data": {
      "text/html": [
       "<div>\n",
       "<style scoped>\n",
       "    .dataframe tbody tr th:only-of-type {\n",
       "        vertical-align: middle;\n",
       "    }\n",
       "\n",
       "    .dataframe tbody tr th {\n",
       "        vertical-align: top;\n",
       "    }\n",
       "\n",
       "    .dataframe thead th {\n",
       "        text-align: right;\n",
       "    }\n",
       "</style>\n",
       "<table border=\"1\" class=\"dataframe\">\n",
       "  <thead>\n",
       "    <tr style=\"text-align: right;\">\n",
       "      <th></th>\n",
       "      <th>user_id</th>\n",
       "      <th>item_id</th>\n",
       "      <th>value</th>\n",
       "    </tr>\n",
       "  </thead>\n",
       "  <tbody>\n",
       "    <tr>\n",
       "      <th>0</th>\n",
       "      <td>Аня</td>\n",
       "      <td>Мастер и Маргарита</td>\n",
       "      <td>4</td>\n",
       "    </tr>\n",
       "    <tr>\n",
       "      <th>1</th>\n",
       "      <td>Боря</td>\n",
       "      <td>451° по Фаренгейту</td>\n",
       "      <td>5</td>\n",
       "    </tr>\n",
       "    <tr>\n",
       "      <th>2</th>\n",
       "      <td>Вася</td>\n",
       "      <td>Зеленая миля</td>\n",
       "      <td>3</td>\n",
       "    </tr>\n",
       "    <tr>\n",
       "      <th>3</th>\n",
       "      <td>Вася</td>\n",
       "      <td>Рита Хейуорт и спасение из Шоушенка</td>\n",
       "      <td>5</td>\n",
       "    </tr>\n",
       "  </tbody>\n",
       "</table>\n",
       "</div>"
      ],
      "text/plain": [
       "  user_id                              item_id  value\n",
       "0     Аня                   Мастер и Маргарита      4\n",
       "1    Боря                   451° по Фаренгейту      5\n",
       "2    Вася                         Зеленая миля      3\n",
       "3    Вася  Рита Хейуорт и спасение из Шоушенка      5"
      ]
     },
     "execution_count": 32,
     "metadata": {},
     "output_type": "execute_result"
    }
   ],
   "source": [
    "df_true = pd.DataFrame({\n",
    "    'user_id': ['Аня',                'Боря',               'Вася',         'Вася'],\n",
    "    'item_id': ['Мастер и Маргарита', '451° по Фаренгейту', 'Зеленая миля', 'Рита Хейуорт и спасение из Шоушенка'],\n",
    "    'value':   [4,                    5,                    3,            5]\n",
    "})\n",
    "df_true"
   ]
  },
  {
   "cell_type": "code",
   "execution_count": 33,
   "metadata": {
    "execution": {
     "iopub.execute_input": "2020-10-25T07:01:32.673135Z",
     "iopub.status.busy": "2020-10-25T07:01:32.672456Z",
     "iopub.status.idle": "2020-10-25T07:01:32.676594Z",
     "shell.execute_reply": "2020-10-25T07:01:32.676082Z"
    },
    "papermill": {
     "duration": 0.088198,
     "end_time": "2020-10-25T07:01:32.676703",
     "exception": false,
     "start_time": "2020-10-25T07:01:32.588505",
     "status": "completed"
    },
    "tags": []
   },
   "outputs": [
    {
     "data": {
      "text/html": [
       "<div>\n",
       "<style scoped>\n",
       "    .dataframe tbody tr th:only-of-type {\n",
       "        vertical-align: middle;\n",
       "    }\n",
       "\n",
       "    .dataframe tbody tr th {\n",
       "        vertical-align: top;\n",
       "    }\n",
       "\n",
       "    .dataframe thead th {\n",
       "        text-align: right;\n",
       "    }\n",
       "</style>\n",
       "<table border=\"1\" class=\"dataframe\">\n",
       "  <thead>\n",
       "    <tr style=\"text-align: right;\">\n",
       "      <th></th>\n",
       "      <th>user_id</th>\n",
       "      <th>item_id</th>\n",
       "      <th>value</th>\n",
       "    </tr>\n",
       "  </thead>\n",
       "  <tbody>\n",
       "    <tr>\n",
       "      <th>0</th>\n",
       "      <td>Аня</td>\n",
       "      <td>Мастер и Маргарита</td>\n",
       "      <td>3.28</td>\n",
       "    </tr>\n",
       "    <tr>\n",
       "      <th>1</th>\n",
       "      <td>Боря</td>\n",
       "      <td>451° по Фаренгейту</td>\n",
       "      <td>3.50</td>\n",
       "    </tr>\n",
       "    <tr>\n",
       "      <th>2</th>\n",
       "      <td>Вася</td>\n",
       "      <td>Зеленая миля</td>\n",
       "      <td>4.06</td>\n",
       "    </tr>\n",
       "    <tr>\n",
       "      <th>3</th>\n",
       "      <td>Вася</td>\n",
       "      <td>Рита Хейуорт и спасение из Шоушенка</td>\n",
       "      <td>4.73</td>\n",
       "    </tr>\n",
       "  </tbody>\n",
       "</table>\n",
       "</div>"
      ],
      "text/plain": [
       "  user_id                              item_id  value\n",
       "0     Аня                   Мастер и Маргарита   3.28\n",
       "1    Боря                   451° по Фаренгейту   3.50\n",
       "2    Вася                         Зеленая миля   4.06\n",
       "3    Вася  Рита Хейуорт и спасение из Шоушенка   4.73"
      ]
     },
     "execution_count": 33,
     "metadata": {},
     "output_type": "execute_result"
    }
   ],
   "source": [
    "df_recs = pd.DataFrame({\n",
    "    'user_id': ['Аня',                'Боря',               'Вася',         'Вася'],\n",
    "    'item_id': ['Мастер и Маргарита', '451° по Фаренгейту', 'Зеленая миля', 'Рита Хейуорт и спасение из Шоушенка'],\n",
    "    'value':   [3.28,                 3.5,                  4.06,           4.73]\n",
    "})\n",
    "df_recs"
   ]
  },
  {
   "cell_type": "code",
   "execution_count": 34,
   "metadata": {
    "execution": {
     "iopub.execute_input": "2020-10-25T07:01:32.841878Z",
     "iopub.status.busy": "2020-10-25T07:01:32.834765Z",
     "iopub.status.idle": "2020-10-25T07:01:32.845472Z",
     "shell.execute_reply": "2020-10-25T07:01:32.845099Z"
    },
    "papermill": {
     "duration": 0.094034,
     "end_time": "2020-10-25T07:01:32.845577",
     "exception": false,
     "start_time": "2020-10-25T07:01:32.751543",
     "status": "completed"
    },
    "tags": []
   },
   "outputs": [
    {
     "data": {
      "text/html": [
       "<div>\n",
       "<style scoped>\n",
       "    .dataframe tbody tr th:only-of-type {\n",
       "        vertical-align: middle;\n",
       "    }\n",
       "\n",
       "    .dataframe tbody tr th {\n",
       "        vertical-align: top;\n",
       "    }\n",
       "\n",
       "    .dataframe thead th {\n",
       "        text-align: right;\n",
       "    }\n",
       "</style>\n",
       "<table border=\"1\" class=\"dataframe\">\n",
       "  <thead>\n",
       "    <tr style=\"text-align: right;\">\n",
       "      <th></th>\n",
       "      <th></th>\n",
       "      <th>value_true</th>\n",
       "      <th>value_recs</th>\n",
       "    </tr>\n",
       "    <tr>\n",
       "      <th>user_id</th>\n",
       "      <th>item_id</th>\n",
       "      <th></th>\n",
       "      <th></th>\n",
       "    </tr>\n",
       "  </thead>\n",
       "  <tbody>\n",
       "    <tr>\n",
       "      <th>Аня</th>\n",
       "      <th>Мастер и Маргарита</th>\n",
       "      <td>4</td>\n",
       "      <td>3.28</td>\n",
       "    </tr>\n",
       "    <tr>\n",
       "      <th>Боря</th>\n",
       "      <th>451° по Фаренгейту</th>\n",
       "      <td>5</td>\n",
       "      <td>3.50</td>\n",
       "    </tr>\n",
       "    <tr>\n",
       "      <th rowspan=\"2\" valign=\"top\">Вася</th>\n",
       "      <th>Зеленая миля</th>\n",
       "      <td>3</td>\n",
       "      <td>4.06</td>\n",
       "    </tr>\n",
       "    <tr>\n",
       "      <th>Рита Хейуорт и спасение из Шоушенка</th>\n",
       "      <td>5</td>\n",
       "      <td>4.73</td>\n",
       "    </tr>\n",
       "  </tbody>\n",
       "</table>\n",
       "</div>"
      ],
      "text/plain": [
       "                                             value_true  value_recs\n",
       "user_id item_id                                                    \n",
       "Аня     Мастер и Маргарита                            4        3.28\n",
       "Боря    451° по Фаренгейту                            5        3.50\n",
       "Вася    Зеленая миля                                  3        4.06\n",
       "        Рита Хейуорт и спасение из Шоушенка           5        4.73"
      ]
     },
     "execution_count": 34,
     "metadata": {},
     "output_type": "execute_result"
    }
   ],
   "source": [
    "df_true = df_true.set_index(['user_id', 'item_id'])\n",
    "df_recs = df_recs.set_index(['user_id', 'item_id'])\n",
    "\n",
    "df_merged = df_true.join(df_recs, how='left', lsuffix='_true', rsuffix='_recs')\n",
    "df_merged"
   ]
  },
  {
   "cell_type": "code",
   "execution_count": 35,
   "metadata": {
    "execution": {
     "iopub.execute_input": "2020-10-25T07:01:32.953437Z",
     "iopub.status.busy": "2020-10-25T07:01:32.952993Z",
     "iopub.status.idle": "2020-10-25T07:01:32.984010Z",
     "shell.execute_reply": "2020-10-25T07:01:32.983568Z"
    },
    "papermill": {
     "duration": 0.086728,
     "end_time": "2020-10-25T07:01:32.984086",
     "exception": false,
     "start_time": "2020-10-25T07:01:32.897358",
     "status": "completed"
    },
    "tags": []
   },
   "outputs": [
    {
     "data": {
      "text/html": [
       "<div>\n",
       "<style scoped>\n",
       "    .dataframe tbody tr th:only-of-type {\n",
       "        vertical-align: middle;\n",
       "    }\n",
       "\n",
       "    .dataframe tbody tr th {\n",
       "        vertical-align: top;\n",
       "    }\n",
       "\n",
       "    .dataframe thead th {\n",
       "        text-align: right;\n",
       "    }\n",
       "</style>\n",
       "<table border=\"1\" class=\"dataframe\">\n",
       "  <thead>\n",
       "    <tr style=\"text-align: right;\">\n",
       "      <th></th>\n",
       "      <th></th>\n",
       "      <th>value_true</th>\n",
       "      <th>value_recs</th>\n",
       "      <th>MAE</th>\n",
       "      <th>MSE</th>\n",
       "    </tr>\n",
       "    <tr>\n",
       "      <th>user_id</th>\n",
       "      <th>item_id</th>\n",
       "      <th></th>\n",
       "      <th></th>\n",
       "      <th></th>\n",
       "      <th></th>\n",
       "    </tr>\n",
       "  </thead>\n",
       "  <tbody>\n",
       "    <tr>\n",
       "      <th>Аня</th>\n",
       "      <th>Мастер и Маргарита</th>\n",
       "      <td>4</td>\n",
       "      <td>3.28</td>\n",
       "      <td>0.72</td>\n",
       "      <td>0.5184</td>\n",
       "    </tr>\n",
       "    <tr>\n",
       "      <th>Боря</th>\n",
       "      <th>451° по Фаренгейту</th>\n",
       "      <td>5</td>\n",
       "      <td>3.50</td>\n",
       "      <td>1.50</td>\n",
       "      <td>2.2500</td>\n",
       "    </tr>\n",
       "    <tr>\n",
       "      <th rowspan=\"2\" valign=\"top\">Вася</th>\n",
       "      <th>Зеленая миля</th>\n",
       "      <td>3</td>\n",
       "      <td>4.06</td>\n",
       "      <td>1.06</td>\n",
       "      <td>1.1236</td>\n",
       "    </tr>\n",
       "    <tr>\n",
       "      <th>Рита Хейуорт и спасение из Шоушенка</th>\n",
       "      <td>5</td>\n",
       "      <td>4.73</td>\n",
       "      <td>0.27</td>\n",
       "      <td>0.0729</td>\n",
       "    </tr>\n",
       "  </tbody>\n",
       "</table>\n",
       "</div>"
      ],
      "text/plain": [
       "                                             value_true  value_recs   MAE  \\\n",
       "user_id item_id                                                             \n",
       "Аня     Мастер и Маргарита                            4        3.28  0.72   \n",
       "Боря    451° по Фаренгейту                            5        3.50  1.50   \n",
       "Вася    Зеленая миля                                  3        4.06  1.06   \n",
       "        Рита Хейуорт и спасение из Шоушенка           5        4.73  0.27   \n",
       "\n",
       "                                                MSE  \n",
       "user_id item_id                                      \n",
       "Аня     Мастер и Маргарита                   0.5184  \n",
       "Боря    451° по Фаренгейту                   2.2500  \n",
       "Вася    Зеленая миля                         1.1236  \n",
       "        Рита Хейуорт и спасение из Шоушенка  0.0729  "
      ]
     },
     "execution_count": 35,
     "metadata": {},
     "output_type": "execute_result"
    }
   ],
   "source": [
    "df_merged['MAE'] = (df_merged['value_true'] - df_merged['value_recs']).abs()\n",
    "df_merged['MSE'] = (df_merged['value_true'] - df_merged['value_recs']) ** 2\n",
    "df_merged"
   ]
  },
  {
   "cell_type": "code",
   "execution_count": 36,
   "metadata": {
    "execution": {
     "iopub.execute_input": "2020-10-25T07:01:33.093381Z",
     "iopub.status.busy": "2020-10-25T07:01:33.092914Z",
     "iopub.status.idle": "2020-10-25T07:01:33.096132Z",
     "shell.execute_reply": "2020-10-25T07:01:33.095721Z"
    },
    "papermill": {
     "duration": 0.060839,
     "end_time": "2020-10-25T07:01:33.096215",
     "exception": false,
     "start_time": "2020-10-25T07:01:33.035376",
     "status": "completed"
    },
    "tags": []
   },
   "outputs": [
    {
     "name": "stdout",
     "output_type": "stream",
     "text": [
      "MAE  - 0.8875\n",
      "MSE  - 0.9912\n",
      "RMSE - 0.9956\n"
     ]
    }
   ],
   "source": [
    "print(f\"MAE  - {df_merged['MAE'].mean():.4f}\")\n",
    "print(f\"MSE  - {df_merged['MSE'].mean():.4f}\")\n",
    "print(f\"RMSE - {np.sqrt(df_merged['MSE'].mean()):.4f}\")"
   ]
  },
  {
   "attachments": {
    "image.png": {
     "image/png": "[encoded data removed]"
    }
   },
   "cell_type": "markdown",
   "metadata": {
    "papermill": {
     "duration": 0.053121,
     "end_time": "2020-10-25T07:01:33.202272",
     "exception": false,
     "start_time": "2020-10-25T07:01:33.149151",
     "status": "completed"
    },
    "tags": []
   },
   "source": [
    "<a id=\"classification\"></a>\n",
    "## Classification\n",
    "\n",
    "Эти метрики оценивают качество топ-N рекомендаций. В рекомендательные системы напрямую перекочевали из методов оценки качества бинарной классификации.\n",
    "Все считается на основе 4 базовых случаев:\n",
    "* True positive  (TP) - модель рекомендовала объект, с которым пользователь провзаимодействовал\n",
    "* False positive (FP) - модель рекомендовала объект, с которым пользователь не провзаимодействовал\n",
    "* True negative  (TN) - модель не рекомендовала объект, с которым пользователь не провзаимодействовал\n",
    "* False negative (FN) - модель не рекомендовала объект, с которым пользователь провзаимодействовал\n",
    "\n",
    "Что из этого всего важней? В первую очередь это True positive. Мы хотим строить наиболее релевантные рекомендации для пользователя. \n",
    "Во вторую очередь это False negative, опять же потому, что мы не хотим, чтобы модель \"теряла\" релевантные рекомендации.\n",
    "\n",
    "А что с FP и TN? На самом деле, эти величины не показательны. Они обычно очень больше, так как пользователи взаимодействуют с очень малым количество объектов относительно общего числа объектов.\n",
    "И практика показывает, что этими значениями можно пренебречь.\n",
    "\n",
    "Для измерения доли TP и FN применяются следующие метрики:\n",
    "* **Precision@K** - доля релевантных рекомендаций среди всех рекомендаций\n",
    "    * Формула - `TP / (TP + FP)`\n",
    "    * Можно заметить, что под positives мы понимаем рекомендованные объекты, то есть наш топ-К, значит `TP + FP = K`\n",
    "    * Итоговая формула - `TP / K`\n",
    "    * Считаем по каждому пользователю и для некторых К\n",
    "    * Усредняем по всем пользователя\n",
    "* **Recall@K** - доля релевантных рекомендаций среди всех релевантных объектов\n",
    "    * Формула - `TP / (TP + FN)`\n",
    "    * `TP + FN` это количество известных релевантых объектов для пользователя\n",
    "    * Считаем по каждому пользователю и для некторых К\n",
    "    * Усредняем по всем пользователя\n",
    "\n",
    "Это основные метрики, но на основе TP, FP, TN, FN можно посчитать все что угодно :)\n",
    "![image.png](attachment:image.png)\n",
    "Источник - [confusion matrix](https://en.wikipedia.org/wiki/Confusion_matrix)"
   ]
  },
  {
   "cell_type": "code",
   "execution_count": 37,
   "metadata": {
    "execution": {
     "iopub.execute_input": "2020-10-25T07:01:33.315632Z",
     "iopub.status.busy": "2020-10-25T07:01:33.315088Z",
     "iopub.status.idle": "2020-10-25T07:01:33.319291Z",
     "shell.execute_reply": "2020-10-25T07:01:33.318872Z"
    },
    "papermill": {
     "duration": 0.064616,
     "end_time": "2020-10-25T07:01:33.319368",
     "exception": false,
     "start_time": "2020-10-25T07:01:33.254752",
     "status": "completed"
    },
    "tags": []
   },
   "outputs": [
    {
     "data": {
      "text/html": [
       "<div>\n",
       "<style scoped>\n",
       "    .dataframe tbody tr th:only-of-type {\n",
       "        vertical-align: middle;\n",
       "    }\n",
       "\n",
       "    .dataframe tbody tr th {\n",
       "        vertical-align: top;\n",
       "    }\n",
       "\n",
       "    .dataframe thead th {\n",
       "        text-align: right;\n",
       "    }\n",
       "</style>\n",
       "<table border=\"1\" class=\"dataframe\">\n",
       "  <thead>\n",
       "    <tr style=\"text-align: right;\">\n",
       "      <th></th>\n",
       "      <th>user_id</th>\n",
       "      <th>item_id</th>\n",
       "    </tr>\n",
       "  </thead>\n",
       "  <tbody>\n",
       "    <tr>\n",
       "      <th>0</th>\n",
       "      <td>Аня</td>\n",
       "      <td>Мастер и Маргарита</td>\n",
       "    </tr>\n",
       "    <tr>\n",
       "      <th>1</th>\n",
       "      <td>Боря</td>\n",
       "      <td>451° по Фаренгейту</td>\n",
       "    </tr>\n",
       "    <tr>\n",
       "      <th>2</th>\n",
       "      <td>Вася</td>\n",
       "      <td>Зеленая миля</td>\n",
       "    </tr>\n",
       "    <tr>\n",
       "      <th>3</th>\n",
       "      <td>Вася</td>\n",
       "      <td>Рита Хейуорт и спасение из Шоушенка</td>\n",
       "    </tr>\n",
       "  </tbody>\n",
       "</table>\n",
       "</div>"
      ],
      "text/plain": [
       "  user_id                              item_id\n",
       "0     Аня                   Мастер и Маргарита\n",
       "1    Боря                   451° по Фаренгейту\n",
       "2    Вася                         Зеленая миля\n",
       "3    Вася  Рита Хейуорт и спасение из Шоушенка"
      ]
     },
     "execution_count": 37,
     "metadata": {},
     "output_type": "execute_result"
    }
   ],
   "source": [
    "df_true = pd.DataFrame({\n",
    "    'user_id': ['Аня',                'Боря',               'Вася',         'Вася'],\n",
    "    'item_id': ['Мастер и Маргарита', '451° по Фаренгейту', 'Зеленая миля', 'Рита Хейуорт и спасение из Шоушенка'],\n",
    "})\n",
    "df_true"
   ]
  },
  {
   "cell_type": "code",
   "execution_count": 38,
   "metadata": {
    "execution": {
     "iopub.execute_input": "2020-10-25T07:01:33.441422Z",
     "iopub.status.busy": "2020-10-25T07:01:33.440289Z",
     "iopub.status.idle": "2020-10-25T07:01:33.444449Z",
     "shell.execute_reply": "2020-10-25T07:01:33.443852Z"
    },
    "papermill": {
     "duration": 0.073047,
     "end_time": "2020-10-25T07:01:33.444568",
     "exception": false,
     "start_time": "2020-10-25T07:01:33.371521",
     "status": "completed"
    },
    "tags": []
   },
   "outputs": [
    {
     "data": {
      "text/html": [
       "<div>\n",
       "<style scoped>\n",
       "    .dataframe tbody tr th:only-of-type {\n",
       "        vertical-align: middle;\n",
       "    }\n",
       "\n",
       "    .dataframe tbody tr th {\n",
       "        vertical-align: top;\n",
       "    }\n",
       "\n",
       "    .dataframe thead th {\n",
       "        text-align: right;\n",
       "    }\n",
       "</style>\n",
       "<table border=\"1\" class=\"dataframe\">\n",
       "  <thead>\n",
       "    <tr style=\"text-align: right;\">\n",
       "      <th></th>\n",
       "      <th>user_id</th>\n",
       "      <th>item_id</th>\n",
       "      <th>rank</th>\n",
       "    </tr>\n",
       "  </thead>\n",
       "  <tbody>\n",
       "    <tr>\n",
       "      <th>0</th>\n",
       "      <td>Аня</td>\n",
       "      <td>Отверженные</td>\n",
       "      <td>1</td>\n",
       "    </tr>\n",
       "    <tr>\n",
       "      <th>1</th>\n",
       "      <td>Аня</td>\n",
       "      <td>Двенадцать стульев</td>\n",
       "      <td>2</td>\n",
       "    </tr>\n",
       "    <tr>\n",
       "      <th>2</th>\n",
       "      <td>Аня</td>\n",
       "      <td>Герои нашего времени</td>\n",
       "      <td>3</td>\n",
       "    </tr>\n",
       "    <tr>\n",
       "      <th>3</th>\n",
       "      <td>Боря</td>\n",
       "      <td>451° по Фаренгейту</td>\n",
       "      <td>1</td>\n",
       "    </tr>\n",
       "    <tr>\n",
       "      <th>4</th>\n",
       "      <td>Боря</td>\n",
       "      <td>1984</td>\n",
       "      <td>2</td>\n",
       "    </tr>\n",
       "    <tr>\n",
       "      <th>5</th>\n",
       "      <td>Боря</td>\n",
       "      <td>О дивный новый мир</td>\n",
       "      <td>3</td>\n",
       "    </tr>\n",
       "    <tr>\n",
       "      <th>6</th>\n",
       "      <td>Вася</td>\n",
       "      <td>Десять негритят</td>\n",
       "      <td>1</td>\n",
       "    </tr>\n",
       "    <tr>\n",
       "      <th>7</th>\n",
       "      <td>Вася</td>\n",
       "      <td>Искра жизни</td>\n",
       "      <td>2</td>\n",
       "    </tr>\n",
       "    <tr>\n",
       "      <th>8</th>\n",
       "      <td>Вася</td>\n",
       "      <td>Зеленая миля</td>\n",
       "      <td>3</td>\n",
       "    </tr>\n",
       "  </tbody>\n",
       "</table>\n",
       "</div>"
      ],
      "text/plain": [
       "  user_id               item_id  rank\n",
       "0     Аня           Отверженные     1\n",
       "1     Аня    Двенадцать стульев     2\n",
       "2     Аня  Герои нашего времени     3\n",
       "3    Боря    451° по Фаренгейту     1\n",
       "4    Боря                  1984     2\n",
       "5    Боря    О дивный новый мир     3\n",
       "6    Вася       Десять негритят     1\n",
       "7    Вася           Искра жизни     2\n",
       "8    Вася          Зеленая миля     3"
      ]
     },
     "execution_count": 38,
     "metadata": {},
     "output_type": "execute_result"
    }
   ],
   "source": [
    "df_recs = pd.DataFrame({\n",
    "    'user_id': [\n",
    "        'Аня', 'Аня', 'Аня', \n",
    "        'Боря', 'Боря', 'Боря', \n",
    "        'Вася', 'Вася', 'Вася',\n",
    "    ],\n",
    "    'item_id': [\n",
    "        'Отверженные', 'Двенадцать стульев', 'Герои нашего времени', \n",
    "        '451° по Фаренгейту', '1984', 'О дивный новый мир',\n",
    "        'Десять негритят', 'Искра жизни', 'Зеленая миля', \n",
    "    ],\n",
    "    'rank': [\n",
    "        1, 2, 3,\n",
    "        1, 2, 3,\n",
    "        1, 2, 3,\n",
    "    ]\n",
    "})\n",
    "df_recs"
   ]
  },
  {
   "cell_type": "code",
   "execution_count": 39,
   "metadata": {
    "execution": {
     "iopub.execute_input": "2020-10-25T07:01:33.609216Z",
     "iopub.status.busy": "2020-10-25T07:01:33.608366Z",
     "iopub.status.idle": "2020-10-25T07:01:33.620020Z",
     "shell.execute_reply": "2020-10-25T07:01:33.619633Z"
    },
    "papermill": {
     "duration": 0.095975,
     "end_time": "2020-10-25T07:01:33.620106",
     "exception": false,
     "start_time": "2020-10-25T07:01:33.524131",
     "status": "completed"
    },
    "tags": []
   },
   "outputs": [
    {
     "data": {
      "text/html": [
       "<div>\n",
       "<style scoped>\n",
       "    .dataframe tbody tr th:only-of-type {\n",
       "        vertical-align: middle;\n",
       "    }\n",
       "\n",
       "    .dataframe tbody tr th {\n",
       "        vertical-align: top;\n",
       "    }\n",
       "\n",
       "    .dataframe thead th {\n",
       "        text-align: right;\n",
       "    }\n",
       "</style>\n",
       "<table border=\"1\" class=\"dataframe\">\n",
       "  <thead>\n",
       "    <tr style=\"text-align: right;\">\n",
       "      <th></th>\n",
       "      <th></th>\n",
       "      <th>rank</th>\n",
       "    </tr>\n",
       "    <tr>\n",
       "      <th>user_id</th>\n",
       "      <th>item_id</th>\n",
       "      <th></th>\n",
       "    </tr>\n",
       "  </thead>\n",
       "  <tbody>\n",
       "    <tr>\n",
       "      <th>Аня</th>\n",
       "      <th>Мастер и Маргарита</th>\n",
       "      <td>NaN</td>\n",
       "    </tr>\n",
       "    <tr>\n",
       "      <th>Боря</th>\n",
       "      <th>451° по Фаренгейту</th>\n",
       "      <td>1.0</td>\n",
       "    </tr>\n",
       "    <tr>\n",
       "      <th rowspan=\"2\" valign=\"top\">Вася</th>\n",
       "      <th>Зеленая миля</th>\n",
       "      <td>3.0</td>\n",
       "    </tr>\n",
       "    <tr>\n",
       "      <th>Рита Хейуорт и спасение из Шоушенка</th>\n",
       "      <td>NaN</td>\n",
       "    </tr>\n",
       "  </tbody>\n",
       "</table>\n",
       "</div>"
      ],
      "text/plain": [
       "                                             rank\n",
       "user_id item_id                                  \n",
       "Аня     Мастер и Маргарита                    NaN\n",
       "Боря    451° по Фаренгейту                    1.0\n",
       "Вася    Зеленая миля                          3.0\n",
       "        Рита Хейуорт и спасение из Шоушенка   NaN"
      ]
     },
     "execution_count": 39,
     "metadata": {},
     "output_type": "execute_result"
    }
   ],
   "source": [
    "df_merged = df_true.set_index(['user_id', 'item_id']).join(df_recs.set_index(['user_id', 'item_id']), how='left')\n",
    "df_merged"
   ]
  },
  {
   "cell_type": "markdown",
   "metadata": {
    "papermill": {
     "duration": 0.053247,
     "end_time": "2020-10-25T07:01:33.727067",
     "exception": false,
     "start_time": "2020-10-25T07:01:33.673820",
     "status": "completed"
    },
    "tags": []
   },
   "source": [
    "Вначале посчитаем метрик для топ-2 (т.е. К = 2). Алгоритм следующий:\n",
    "* Релевантные объекты, которые не были рекомендованы игнорируем (NaN)\n",
    "* Определяем, какие релеватные рекомендации попали в топ-2 (hit)\n",
    "    * True positive для каждого пользователя\n",
    "* Делим TP на K  \n",
    "* Считаем Precision@K для каждого пользователя как сумму его TP/K\n",
    "* Все Precision@K усредняем"
   ]
  },
  {
   "cell_type": "code",
   "execution_count": 40,
   "metadata": {
    "execution": {
     "iopub.execute_input": "2020-10-25T07:01:33.843805Z",
     "iopub.status.busy": "2020-10-25T07:01:33.843251Z",
     "iopub.status.idle": "2020-10-25T07:01:33.847116Z",
     "shell.execute_reply": "2020-10-25T07:01:33.847465Z"
    },
    "papermill": {
     "duration": 0.066567,
     "end_time": "2020-10-25T07:01:33.847597",
     "exception": false,
     "start_time": "2020-10-25T07:01:33.781030",
     "status": "completed"
    },
    "tags": []
   },
   "outputs": [
    {
     "data": {
      "text/html": [
       "<div>\n",
       "<style scoped>\n",
       "    .dataframe tbody tr th:only-of-type {\n",
       "        vertical-align: middle;\n",
       "    }\n",
       "\n",
       "    .dataframe tbody tr th {\n",
       "        vertical-align: top;\n",
       "    }\n",
       "\n",
       "    .dataframe thead th {\n",
       "        text-align: right;\n",
       "    }\n",
       "</style>\n",
       "<table border=\"1\" class=\"dataframe\">\n",
       "  <thead>\n",
       "    <tr style=\"text-align: right;\">\n",
       "      <th></th>\n",
       "      <th></th>\n",
       "      <th>rank</th>\n",
       "      <th>hit@2</th>\n",
       "    </tr>\n",
       "    <tr>\n",
       "      <th>user_id</th>\n",
       "      <th>item_id</th>\n",
       "      <th></th>\n",
       "      <th></th>\n",
       "    </tr>\n",
       "  </thead>\n",
       "  <tbody>\n",
       "    <tr>\n",
       "      <th>Аня</th>\n",
       "      <th>Мастер и Маргарита</th>\n",
       "      <td>NaN</td>\n",
       "      <td>False</td>\n",
       "    </tr>\n",
       "    <tr>\n",
       "      <th>Боря</th>\n",
       "      <th>451° по Фаренгейту</th>\n",
       "      <td>1.0</td>\n",
       "      <td>True</td>\n",
       "    </tr>\n",
       "    <tr>\n",
       "      <th rowspan=\"2\" valign=\"top\">Вася</th>\n",
       "      <th>Зеленая миля</th>\n",
       "      <td>3.0</td>\n",
       "      <td>False</td>\n",
       "    </tr>\n",
       "    <tr>\n",
       "      <th>Рита Хейуорт и спасение из Шоушенка</th>\n",
       "      <td>NaN</td>\n",
       "      <td>False</td>\n",
       "    </tr>\n",
       "  </tbody>\n",
       "</table>\n",
       "</div>"
      ],
      "text/plain": [
       "                                             rank  hit@2\n",
       "user_id item_id                                         \n",
       "Аня     Мастер и Маргарита                    NaN  False\n",
       "Боря    451° по Фаренгейту                    1.0   True\n",
       "Вася    Зеленая миля                          3.0  False\n",
       "        Рита Хейуорт и спасение из Шоушенка   NaN  False"
      ]
     },
     "execution_count": 40,
     "metadata": {},
     "output_type": "execute_result"
    }
   ],
   "source": [
    "df_merged['hit@2'] = df_merged['rank'] <= 2\n",
    "df_merged"
   ]
  },
  {
   "cell_type": "code",
   "execution_count": 41,
   "metadata": {
    "execution": {
     "iopub.execute_input": "2020-10-25T07:01:33.967016Z",
     "iopub.status.busy": "2020-10-25T07:01:33.966365Z",
     "iopub.status.idle": "2020-10-25T07:01:33.970804Z",
     "shell.execute_reply": "2020-10-25T07:01:33.970395Z"
    },
    "papermill": {
     "duration": 0.068245,
     "end_time": "2020-10-25T07:01:33.970884",
     "exception": false,
     "start_time": "2020-10-25T07:01:33.902639",
     "status": "completed"
    },
    "tags": []
   },
   "outputs": [
    {
     "data": {
      "text/html": [
       "<div>\n",
       "<style scoped>\n",
       "    .dataframe tbody tr th:only-of-type {\n",
       "        vertical-align: middle;\n",
       "    }\n",
       "\n",
       "    .dataframe tbody tr th {\n",
       "        vertical-align: top;\n",
       "    }\n",
       "\n",
       "    .dataframe thead th {\n",
       "        text-align: right;\n",
       "    }\n",
       "</style>\n",
       "<table border=\"1\" class=\"dataframe\">\n",
       "  <thead>\n",
       "    <tr style=\"text-align: right;\">\n",
       "      <th></th>\n",
       "      <th></th>\n",
       "      <th>rank</th>\n",
       "      <th>hit@2</th>\n",
       "      <th>hit@2/2</th>\n",
       "    </tr>\n",
       "    <tr>\n",
       "      <th>user_id</th>\n",
       "      <th>item_id</th>\n",
       "      <th></th>\n",
       "      <th></th>\n",
       "      <th></th>\n",
       "    </tr>\n",
       "  </thead>\n",
       "  <tbody>\n",
       "    <tr>\n",
       "      <th>Аня</th>\n",
       "      <th>Мастер и Маргарита</th>\n",
       "      <td>NaN</td>\n",
       "      <td>False</td>\n",
       "      <td>0.0</td>\n",
       "    </tr>\n",
       "    <tr>\n",
       "      <th>Боря</th>\n",
       "      <th>451° по Фаренгейту</th>\n",
       "      <td>1.0</td>\n",
       "      <td>True</td>\n",
       "      <td>0.5</td>\n",
       "    </tr>\n",
       "    <tr>\n",
       "      <th rowspan=\"2\" valign=\"top\">Вася</th>\n",
       "      <th>Зеленая миля</th>\n",
       "      <td>3.0</td>\n",
       "      <td>False</td>\n",
       "      <td>0.0</td>\n",
       "    </tr>\n",
       "    <tr>\n",
       "      <th>Рита Хейуорт и спасение из Шоушенка</th>\n",
       "      <td>NaN</td>\n",
       "      <td>False</td>\n",
       "      <td>0.0</td>\n",
       "    </tr>\n",
       "  </tbody>\n",
       "</table>\n",
       "</div>"
      ],
      "text/plain": [
       "                                             rank  hit@2  hit@2/2\n",
       "user_id item_id                                                  \n",
       "Аня     Мастер и Маргарита                    NaN  False      0.0\n",
       "Боря    451° по Фаренгейту                    1.0   True      0.5\n",
       "Вася    Зеленая миля                          3.0  False      0.0\n",
       "        Рита Хейуорт и спасение из Шоушенка   NaN  False      0.0"
      ]
     },
     "execution_count": 41,
     "metadata": {},
     "output_type": "execute_result"
    }
   ],
   "source": [
    "df_merged['hit@2/2'] = df_merged['hit@2'] / 2\n",
    "df_merged"
   ]
  },
  {
   "cell_type": "code",
   "execution_count": 42,
   "metadata": {
    "execution": {
     "iopub.execute_input": "2020-10-25T07:01:34.086868Z",
     "iopub.status.busy": "2020-10-25T07:01:34.084325Z",
     "iopub.status.idle": "2020-10-25T07:01:34.090846Z",
     "shell.execute_reply": "2020-10-25T07:01:34.090461Z"
    },
    "papermill": {
     "duration": 0.065512,
     "end_time": "2020-10-25T07:01:34.090919",
     "exception": false,
     "start_time": "2020-10-25T07:01:34.025407",
     "status": "completed"
    },
    "tags": []
   },
   "outputs": [
    {
     "data": {
      "text/plain": [
       "user_id\n",
       "Аня     0.0\n",
       "Боря    0.5\n",
       "Вася    0.0\n",
       "Name: hit@2/2, dtype: float64"
      ]
     },
     "execution_count": 42,
     "metadata": {},
     "output_type": "execute_result"
    }
   ],
   "source": [
    "df_prec2 = df_merged.groupby(level=0)['hit@2/2'].sum()\n",
    "df_prec2"
   ]
  },
  {
   "cell_type": "code",
   "execution_count": 43,
   "metadata": {
    "execution": {
     "iopub.execute_input": "2020-10-25T07:01:34.205999Z",
     "iopub.status.busy": "2020-10-25T07:01:34.205482Z",
     "iopub.status.idle": "2020-10-25T07:01:34.208918Z",
     "shell.execute_reply": "2020-10-25T07:01:34.208190Z"
    },
    "papermill": {
     "duration": 0.062033,
     "end_time": "2020-10-25T07:01:34.209011",
     "exception": false,
     "start_time": "2020-10-25T07:01:34.146978",
     "status": "completed"
    },
    "tags": []
   },
   "outputs": [
    {
     "name": "stdout",
     "output_type": "stream",
     "text": [
      "Precision@2 - 0.16666666666666666\n"
     ]
    }
   ],
   "source": [
    "print(f'Precision@2 - {df_prec2.mean()}')"
   ]
  },
  {
   "cell_type": "markdown",
   "metadata": {
    "papermill": {
     "duration": 0.055822,
     "end_time": "2020-10-25T07:01:34.321013",
     "exception": false,
     "start_time": "2020-10-25T07:01:34.265191",
     "status": "completed"
    },
    "tags": []
   },
   "source": [
    "Но вообще шаг с группировкой по пользователям для Precision@K не нужен"
   ]
  },
  {
   "cell_type": "code",
   "execution_count": 44,
   "metadata": {
    "execution": {
     "iopub.execute_input": "2020-10-25T07:01:34.437354Z",
     "iopub.status.busy": "2020-10-25T07:01:34.436919Z",
     "iopub.status.idle": "2020-10-25T07:01:34.441856Z",
     "shell.execute_reply": "2020-10-25T07:01:34.441450Z"
    },
    "papermill": {
     "duration": 0.06525,
     "end_time": "2020-10-25T07:01:34.441936",
     "exception": false,
     "start_time": "2020-10-25T07:01:34.376686",
     "status": "completed"
    },
    "tags": []
   },
   "outputs": [
    {
     "data": {
      "text/plain": [
       "0.16666666666666666"
      ]
     },
     "execution_count": 44,
     "metadata": {},
     "output_type": "execute_result"
    }
   ],
   "source": [
    "df_merged['hit@2/2'].sum() / df_merged.index.get_level_values('user_id').nunique()"
   ]
  },
  {
   "cell_type": "code",
   "execution_count": 45,
   "metadata": {
    "execution": {
     "iopub.execute_input": "2020-10-25T07:01:34.561662Z",
     "iopub.status.busy": "2020-10-25T07:01:34.561054Z",
     "iopub.status.idle": "2020-10-25T07:01:34.565133Z",
     "shell.execute_reply": "2020-10-25T07:01:34.564758Z"
    },
    "papermill": {
     "duration": 0.067176,
     "end_time": "2020-10-25T07:01:34.565217",
     "exception": false,
     "start_time": "2020-10-25T07:01:34.498041",
     "status": "completed"
    },
    "tags": []
   },
   "outputs": [
    {
     "name": "stdout",
     "output_type": "stream",
     "text": [
      "Precision@1 = 0.3333\n",
      "Precision@2 = 0.1667\n",
      "Precision@3 = 0.2222\n"
     ]
    }
   ],
   "source": [
    "users_count = df_merged.index.get_level_values('user_id').nunique()\n",
    "for k in [1, 2, 3]:\n",
    "    hit_k = f'hit@{k}'\n",
    "    df_merged[hit_k] = df_merged['rank'] <= k\n",
    "    print(f'Precision@{k} = {(df_merged[hit_k] / k).sum() / users_count:.4f}')"
   ]
  },
  {
   "cell_type": "markdown",
   "metadata": {
    "papermill": {
     "duration": 0.055435,
     "end_time": "2020-10-25T07:01:34.676746",
     "exception": false,
     "start_time": "2020-10-25T07:01:34.621311",
     "status": "completed"
    },
    "tags": []
   },
   "source": [
    "C Recall@K похожая история, нам также нужно получить hit@K, но делить уже будем на количество релевантных объектов у пользователя"
   ]
  },
  {
   "cell_type": "code",
   "execution_count": 46,
   "metadata": {
    "execution": {
     "iopub.execute_input": "2020-10-25T07:01:34.801238Z",
     "iopub.status.busy": "2020-10-25T07:01:34.797893Z",
     "iopub.status.idle": "2020-10-25T07:01:34.809675Z",
     "shell.execute_reply": "2020-10-25T07:01:34.809150Z"
    },
    "papermill": {
     "duration": 0.07698,
     "end_time": "2020-10-25T07:01:34.809780",
     "exception": false,
     "start_time": "2020-10-25T07:01:34.732800",
     "status": "completed"
    },
    "tags": []
   },
   "outputs": [
    {
     "data": {
      "text/html": [
       "<div>\n",
       "<style scoped>\n",
       "    .dataframe tbody tr th:only-of-type {\n",
       "        vertical-align: middle;\n",
       "    }\n",
       "\n",
       "    .dataframe tbody tr th {\n",
       "        vertical-align: top;\n",
       "    }\n",
       "\n",
       "    .dataframe thead th {\n",
       "        text-align: right;\n",
       "    }\n",
       "</style>\n",
       "<table border=\"1\" class=\"dataframe\">\n",
       "  <thead>\n",
       "    <tr style=\"text-align: right;\">\n",
       "      <th></th>\n",
       "      <th></th>\n",
       "      <th>rank</th>\n",
       "      <th>hit@2</th>\n",
       "      <th>hit@2/2</th>\n",
       "      <th>hit@1</th>\n",
       "      <th>hit@3</th>\n",
       "      <th>users_item_count</th>\n",
       "    </tr>\n",
       "    <tr>\n",
       "      <th>user_id</th>\n",
       "      <th>item_id</th>\n",
       "      <th></th>\n",
       "      <th></th>\n",
       "      <th></th>\n",
       "      <th></th>\n",
       "      <th></th>\n",
       "      <th></th>\n",
       "    </tr>\n",
       "  </thead>\n",
       "  <tbody>\n",
       "    <tr>\n",
       "      <th>Аня</th>\n",
       "      <th>Мастер и Маргарита</th>\n",
       "      <td>NaN</td>\n",
       "      <td>False</td>\n",
       "      <td>0.0</td>\n",
       "      <td>False</td>\n",
       "      <td>False</td>\n",
       "      <td>1.0</td>\n",
       "    </tr>\n",
       "    <tr>\n",
       "      <th>Боря</th>\n",
       "      <th>451° по Фаренгейту</th>\n",
       "      <td>1.0</td>\n",
       "      <td>True</td>\n",
       "      <td>0.5</td>\n",
       "      <td>True</td>\n",
       "      <td>True</td>\n",
       "      <td>1.0</td>\n",
       "    </tr>\n",
       "    <tr>\n",
       "      <th rowspan=\"2\" valign=\"top\">Вася</th>\n",
       "      <th>Зеленая миля</th>\n",
       "      <td>3.0</td>\n",
       "      <td>False</td>\n",
       "      <td>0.0</td>\n",
       "      <td>False</td>\n",
       "      <td>True</td>\n",
       "      <td>2.0</td>\n",
       "    </tr>\n",
       "    <tr>\n",
       "      <th>Рита Хейуорт и спасение из Шоушенка</th>\n",
       "      <td>NaN</td>\n",
       "      <td>False</td>\n",
       "      <td>0.0</td>\n",
       "      <td>False</td>\n",
       "      <td>False</td>\n",
       "      <td>2.0</td>\n",
       "    </tr>\n",
       "  </tbody>\n",
       "</table>\n",
       "</div>"
      ],
      "text/plain": [
       "                                             rank  hit@2  hit@2/2  hit@1  \\\n",
       "user_id item_id                                                            \n",
       "Аня     Мастер и Маргарита                    NaN  False      0.0  False   \n",
       "Боря    451° по Фаренгейту                    1.0   True      0.5   True   \n",
       "Вася    Зеленая миля                          3.0  False      0.0  False   \n",
       "        Рита Хейуорт и спасение из Шоушенка   NaN  False      0.0  False   \n",
       "\n",
       "                                             hit@3  users_item_count  \n",
       "user_id item_id                                                       \n",
       "Аня     Мастер и Маргарита                   False               1.0  \n",
       "Боря    451° по Фаренгейту                    True               1.0  \n",
       "Вася    Зеленая миля                          True               2.0  \n",
       "        Рита Хейуорт и спасение из Шоушенка  False               2.0  "
      ]
     },
     "execution_count": 46,
     "metadata": {},
     "output_type": "execute_result"
    }
   ],
   "source": [
    "df_merged['users_item_count'] = df_merged.groupby(level='user_id')['rank'].transform(np.size)\n",
    "df_merged"
   ]
  },
  {
   "cell_type": "code",
   "execution_count": 47,
   "metadata": {
    "execution": {
     "iopub.execute_input": "2020-10-25T07:01:34.982311Z",
     "iopub.status.busy": "2020-10-25T07:01:34.981516Z",
     "iopub.status.idle": "2020-10-25T07:01:34.986051Z",
     "shell.execute_reply": "2020-10-25T07:01:34.985369Z"
    },
    "papermill": {
     "duration": 0.093442,
     "end_time": "2020-10-25T07:01:34.986130",
     "exception": false,
     "start_time": "2020-10-25T07:01:34.892688",
     "status": "completed"
    },
    "tags": []
   },
   "outputs": [
    {
     "name": "stdout",
     "output_type": "stream",
     "text": [
      "Recall@1 = 0.3333\n",
      "Recall@2 = 0.3333\n",
      "Recall@3 = 0.5000\n"
     ]
    }
   ],
   "source": [
    "for k in [1, 2, 3]:\n",
    "    hit_k = f'hit@{k}'\n",
    "    # Уже посчитано\n",
    "    # df_merged[hit_k] = df_merged['rank'] <= k  \n",
    "    print(f\"Recall@{k} = {(df_merged[hit_k] / df_merged['users_item_count']).sum() / users_count:.4f}\")"
   ]
  },
  {
   "cell_type": "markdown",
   "metadata": {
    "papermill": {
     "duration": 0.06083,
     "end_time": "2020-10-25T07:01:35.103283",
     "exception": false,
     "start_time": "2020-10-25T07:01:35.042453",
     "status": "completed"
    },
    "tags": []
   },
   "source": [
    "Precision@K и Recall@K неплохие метрики, чтобы оценить качество рекомендаций, но они учитывают только \"попадания\" (hits, true positives). \n",
    "Но на самом деле нам важно насколько высоко по позициям находятся эти самые попадания. \n",
    "\n",
    "Простой пример, пусть две модели рекомендаций для одного пользователя получили такие hit@3 на тесте:\n",
    "* model1 - 1, 0, 0, 1\n",
    "* model2 - 1, 0, 1, 0\n",
    "\n",
    "Precision@4 для них будет одинаковый - 0.5, хотя model2 немного лучше, так как 2-ое попадание находится выше, чем у model1"
   ]
  },
  {
   "cell_type": "markdown",
   "metadata": {
    "papermill": {
     "duration": 0.057714,
     "end_time": "2020-10-25T07:01:35.228222",
     "exception": false,
     "start_time": "2020-10-25T07:01:35.170508",
     "status": "completed"
    },
    "tags": []
   },
   "source": [
    "<a id=\"ranking\"></a>\n",
    "## Ranking\n",
    "\n",
    "Эти метрики оценивают качество топ-N рекомендаций c учетом рангов/позиций. Основная идея - оценить \"попадания\" с весом, зависящим от позиции (обычно это обратная пропорциальная зависимость, то есть чем больше позиция, тем меньше вес).\n",
    "Основные метрики следующие:"
   ]
  },
  {
   "attachments": {
    "image.png": {
     "image/png": "[encoded data removed]"
    }
   },
   "cell_type": "markdown",
   "metadata": {
    "papermill": {
     "duration": 0.085373,
     "end_time": "2020-10-25T07:01:35.393915",
     "exception": false,
     "start_time": "2020-10-25T07:01:35.308542",
     "status": "completed"
    },
    "tags": []
   },
   "source": [
    "**Mean Reciprocal Rank**\n",
    "![image.png](attachment:image.png)\n",
    "Где Q - это query или наш пользователь, а rank_i - позиция первой релевантной рекомендации"
   ]
  },
  {
   "attachments": {
    "image.png": {
     "image/png": "[encoded data removed]"
    }
   },
   "cell_type": "markdown",
   "metadata": {
    "papermill": {
     "duration": 0.084688,
     "end_time": "2020-10-25T07:01:35.564684",
     "exception": false,
     "start_time": "2020-10-25T07:01:35.479996",
     "status": "completed"
    },
    "tags": []
   },
   "source": [
    "![image.png](attachment:image.png)"
   ]
  },
  {
   "attachments": {
    "image.png": {
     "image/png": "[encoded data removed]"
    }
   },
   "cell_type": "markdown",
   "metadata": {
    "papermill": {
     "duration": 0.0837,
     "end_time": "2020-10-25T07:01:35.734890",
     "exception": false,
     "start_time": "2020-10-25T07:01:35.651190",
     "status": "completed"
    },
    "tags": []
   },
   "source": [
    "**Mean Average Precision**\n",
    "![image.png](attachment:image.png)\n",
    "То есть MAP - это усреднение AveragePrecision по всем пользователям. \n",
    "А AveragePrecision в свою очередь, это средний Precision@K по релевантным объектам одного пользователя"
   ]
  },
  {
   "cell_type": "code",
   "execution_count": 48,
   "metadata": {
    "execution": {
     "iopub.execute_input": "2020-10-25T07:01:35.911189Z",
     "iopub.status.busy": "2020-10-25T07:01:35.910604Z",
     "iopub.status.idle": "2020-10-25T07:01:35.914670Z",
     "shell.execute_reply": "2020-10-25T07:01:35.914245Z"
    },
    "papermill": {
     "duration": 0.096329,
     "end_time": "2020-10-25T07:01:35.914751",
     "exception": false,
     "start_time": "2020-10-25T07:01:35.818422",
     "status": "completed"
    },
    "tags": []
   },
   "outputs": [
    {
     "data": {
      "text/html": [
       "<div>\n",
       "<style scoped>\n",
       "    .dataframe tbody tr th:only-of-type {\n",
       "        vertical-align: middle;\n",
       "    }\n",
       "\n",
       "    .dataframe tbody tr th {\n",
       "        vertical-align: top;\n",
       "    }\n",
       "\n",
       "    .dataframe thead th {\n",
       "        text-align: right;\n",
       "    }\n",
       "</style>\n",
       "<table border=\"1\" class=\"dataframe\">\n",
       "  <thead>\n",
       "    <tr style=\"text-align: right;\">\n",
       "      <th></th>\n",
       "      <th>user_id</th>\n",
       "      <th>item_id</th>\n",
       "    </tr>\n",
       "  </thead>\n",
       "  <tbody>\n",
       "    <tr>\n",
       "      <th>0</th>\n",
       "      <td>Аня</td>\n",
       "      <td>Мастер и Маргарита</td>\n",
       "    </tr>\n",
       "    <tr>\n",
       "      <th>1</th>\n",
       "      <td>Боря</td>\n",
       "      <td>451° по Фаренгейту</td>\n",
       "    </tr>\n",
       "    <tr>\n",
       "      <th>2</th>\n",
       "      <td>Вася</td>\n",
       "      <td>Зеленая миля</td>\n",
       "    </tr>\n",
       "    <tr>\n",
       "      <th>3</th>\n",
       "      <td>Вася</td>\n",
       "      <td>Рита Хейуорт и спасение из Шоушенка</td>\n",
       "    </tr>\n",
       "  </tbody>\n",
       "</table>\n",
       "</div>"
      ],
      "text/plain": [
       "  user_id                              item_id\n",
       "0     Аня                   Мастер и Маргарита\n",
       "1    Боря                   451° по Фаренгейту\n",
       "2    Вася                         Зеленая миля\n",
       "3    Вася  Рита Хейуорт и спасение из Шоушенка"
      ]
     },
     "execution_count": 48,
     "metadata": {},
     "output_type": "execute_result"
    }
   ],
   "source": [
    "df_true = pd.DataFrame({\n",
    "    'user_id': ['Аня',                'Боря',               'Вася',         'Вася'],\n",
    "    'item_id': ['Мастер и Маргарита', '451° по Фаренгейту', 'Зеленая миля', 'Рита Хейуорт и спасение из Шоушенка'],\n",
    "})\n",
    "df_true "
   ]
  },
  {
   "cell_type": "code",
   "execution_count": 49,
   "metadata": {
    "execution": {
     "iopub.execute_input": "2020-10-25T07:01:36.042735Z",
     "iopub.status.busy": "2020-10-25T07:01:36.042181Z",
     "iopub.status.idle": "2020-10-25T07:01:36.047187Z",
     "shell.execute_reply": "2020-10-25T07:01:36.046799Z"
    },
    "papermill": {
     "duration": 0.075551,
     "end_time": "2020-10-25T07:01:36.047275",
     "exception": false,
     "start_time": "2020-10-25T07:01:35.971724",
     "status": "completed"
    },
    "tags": []
   },
   "outputs": [
    {
     "data": {
      "text/html": [
       "<div>\n",
       "<style scoped>\n",
       "    .dataframe tbody tr th:only-of-type {\n",
       "        vertical-align: middle;\n",
       "    }\n",
       "\n",
       "    .dataframe tbody tr th {\n",
       "        vertical-align: top;\n",
       "    }\n",
       "\n",
       "    .dataframe thead th {\n",
       "        text-align: right;\n",
       "    }\n",
       "</style>\n",
       "<table border=\"1\" class=\"dataframe\">\n",
       "  <thead>\n",
       "    <tr style=\"text-align: right;\">\n",
       "      <th></th>\n",
       "      <th>user_id</th>\n",
       "      <th>item_id</th>\n",
       "      <th>rank</th>\n",
       "    </tr>\n",
       "  </thead>\n",
       "  <tbody>\n",
       "    <tr>\n",
       "      <th>0</th>\n",
       "      <td>Аня</td>\n",
       "      <td>Отверженные</td>\n",
       "      <td>1</td>\n",
       "    </tr>\n",
       "    <tr>\n",
       "      <th>1</th>\n",
       "      <td>Аня</td>\n",
       "      <td>Двенадцать стульев</td>\n",
       "      <td>2</td>\n",
       "    </tr>\n",
       "    <tr>\n",
       "      <th>2</th>\n",
       "      <td>Аня</td>\n",
       "      <td>Герои нашего времени</td>\n",
       "      <td>3</td>\n",
       "    </tr>\n",
       "    <tr>\n",
       "      <th>3</th>\n",
       "      <td>Боря</td>\n",
       "      <td>451° по Фаренгейту</td>\n",
       "      <td>1</td>\n",
       "    </tr>\n",
       "    <tr>\n",
       "      <th>4</th>\n",
       "      <td>Боря</td>\n",
       "      <td>1984</td>\n",
       "      <td>2</td>\n",
       "    </tr>\n",
       "    <tr>\n",
       "      <th>5</th>\n",
       "      <td>Боря</td>\n",
       "      <td>О дивный новый мир</td>\n",
       "      <td>3</td>\n",
       "    </tr>\n",
       "    <tr>\n",
       "      <th>6</th>\n",
       "      <td>Вася</td>\n",
       "      <td>Десять негритят</td>\n",
       "      <td>1</td>\n",
       "    </tr>\n",
       "    <tr>\n",
       "      <th>7</th>\n",
       "      <td>Вася</td>\n",
       "      <td>Рита Хейуорт и спасение из Шоушенка</td>\n",
       "      <td>2</td>\n",
       "    </tr>\n",
       "    <tr>\n",
       "      <th>8</th>\n",
       "      <td>Вася</td>\n",
       "      <td>Зеленая миля</td>\n",
       "      <td>3</td>\n",
       "    </tr>\n",
       "  </tbody>\n",
       "</table>\n",
       "</div>"
      ],
      "text/plain": [
       "  user_id                              item_id  rank\n",
       "0     Аня                          Отверженные     1\n",
       "1     Аня                   Двенадцать стульев     2\n",
       "2     Аня                 Герои нашего времени     3\n",
       "3    Боря                   451° по Фаренгейту     1\n",
       "4    Боря                                 1984     2\n",
       "5    Боря                   О дивный новый мир     3\n",
       "6    Вася                      Десять негритят     1\n",
       "7    Вася  Рита Хейуорт и спасение из Шоушенка     2\n",
       "8    Вася                         Зеленая миля     3"
      ]
     },
     "execution_count": 49,
     "metadata": {},
     "output_type": "execute_result"
    }
   ],
   "source": [
    "df_recs = pd.DataFrame({\n",
    "    'user_id': [\n",
    "        'Аня', 'Аня', 'Аня', \n",
    "        'Боря', 'Боря', 'Боря', \n",
    "        'Вася', 'Вася', 'Вася',\n",
    "    ],\n",
    "    'item_id': [\n",
    "        'Отверженные', 'Двенадцать стульев', 'Герои нашего времени', \n",
    "        '451° по Фаренгейту', '1984', 'О дивный новый мир',\n",
    "        'Десять негритят', 'Рита Хейуорт и спасение из Шоушенка', 'Зеленая миля', \n",
    "    ],\n",
    "    'rank': [\n",
    "        1, 2, 3,\n",
    "        1, 2, 3,\n",
    "        1, 2, 3,\n",
    "    ]\n",
    "})\n",
    "df_recs"
   ]
  },
  {
   "cell_type": "code",
   "execution_count": 50,
   "metadata": {
    "execution": {
     "iopub.execute_input": "2020-10-25T07:01:36.171336Z",
     "iopub.status.busy": "2020-10-25T07:01:36.168196Z",
     "iopub.status.idle": "2020-10-25T07:01:36.181545Z",
     "shell.execute_reply": "2020-10-25T07:01:36.181036Z"
    },
    "papermill": {
     "duration": 0.076571,
     "end_time": "2020-10-25T07:01:36.181664",
     "exception": false,
     "start_time": "2020-10-25T07:01:36.105093",
     "status": "completed"
    },
    "tags": []
   },
   "outputs": [
    {
     "data": {
      "text/html": [
       "<div>\n",
       "<style scoped>\n",
       "    .dataframe tbody tr th:only-of-type {\n",
       "        vertical-align: middle;\n",
       "    }\n",
       "\n",
       "    .dataframe tbody tr th {\n",
       "        vertical-align: top;\n",
       "    }\n",
       "\n",
       "    .dataframe thead th {\n",
       "        text-align: right;\n",
       "    }\n",
       "</style>\n",
       "<table border=\"1\" class=\"dataframe\">\n",
       "  <thead>\n",
       "    <tr style=\"text-align: right;\">\n",
       "      <th></th>\n",
       "      <th></th>\n",
       "      <th>rank</th>\n",
       "    </tr>\n",
       "    <tr>\n",
       "      <th>user_id</th>\n",
       "      <th>item_id</th>\n",
       "      <th></th>\n",
       "    </tr>\n",
       "  </thead>\n",
       "  <tbody>\n",
       "    <tr>\n",
       "      <th>Аня</th>\n",
       "      <th>Мастер и Маргарита</th>\n",
       "      <td>NaN</td>\n",
       "    </tr>\n",
       "    <tr>\n",
       "      <th>Боря</th>\n",
       "      <th>451° по Фаренгейту</th>\n",
       "      <td>1.0</td>\n",
       "    </tr>\n",
       "    <tr>\n",
       "      <th rowspan=\"2\" valign=\"top\">Вася</th>\n",
       "      <th>Рита Хейуорт и спасение из Шоушенка</th>\n",
       "      <td>2.0</td>\n",
       "    </tr>\n",
       "    <tr>\n",
       "      <th>Зеленая миля</th>\n",
       "      <td>3.0</td>\n",
       "    </tr>\n",
       "  </tbody>\n",
       "</table>\n",
       "</div>"
      ],
      "text/plain": [
       "                                             rank\n",
       "user_id item_id                                  \n",
       "Аня     Мастер и Маргарита                    NaN\n",
       "Боря    451° по Фаренгейту                    1.0\n",
       "Вася    Рита Хейуорт и спасение из Шоушенка   2.0\n",
       "        Зеленая миля                          3.0"
      ]
     },
     "execution_count": 50,
     "metadata": {},
     "output_type": "execute_result"
    }
   ],
   "source": [
    "df_merged = df_true.set_index(['user_id', 'item_id']).join(df_recs.set_index(['user_id', 'item_id']), how='left')\n",
    "df_merged = df_merged.sort_values(by=['user_id', 'rank'])\n",
    "df_merged"
   ]
  },
  {
   "cell_type": "code",
   "execution_count": 51,
   "metadata": {
    "execution": {
     "iopub.execute_input": "2020-10-25T07:01:36.363546Z",
     "iopub.status.busy": "2020-10-25T07:01:36.363016Z",
     "iopub.status.idle": "2020-10-25T07:01:36.366454Z",
     "shell.execute_reply": "2020-10-25T07:01:36.366082Z"
    },
    "papermill": {
     "duration": 0.098085,
     "end_time": "2020-10-25T07:01:36.366531",
     "exception": false,
     "start_time": "2020-10-25T07:01:36.268446",
     "status": "completed"
    },
    "tags": []
   },
   "outputs": [
    {
     "data": {
      "text/html": [
       "<div>\n",
       "<style scoped>\n",
       "    .dataframe tbody tr th:only-of-type {\n",
       "        vertical-align: middle;\n",
       "    }\n",
       "\n",
       "    .dataframe tbody tr th {\n",
       "        vertical-align: top;\n",
       "    }\n",
       "\n",
       "    .dataframe thead th {\n",
       "        text-align: right;\n",
       "    }\n",
       "</style>\n",
       "<table border=\"1\" class=\"dataframe\">\n",
       "  <thead>\n",
       "    <tr style=\"text-align: right;\">\n",
       "      <th></th>\n",
       "      <th></th>\n",
       "      <th>rank</th>\n",
       "      <th>reciprocal_rank</th>\n",
       "    </tr>\n",
       "    <tr>\n",
       "      <th>user_id</th>\n",
       "      <th>item_id</th>\n",
       "      <th></th>\n",
       "      <th></th>\n",
       "    </tr>\n",
       "  </thead>\n",
       "  <tbody>\n",
       "    <tr>\n",
       "      <th>Аня</th>\n",
       "      <th>Мастер и Маргарита</th>\n",
       "      <td>NaN</td>\n",
       "      <td>NaN</td>\n",
       "    </tr>\n",
       "    <tr>\n",
       "      <th>Боря</th>\n",
       "      <th>451° по Фаренгейту</th>\n",
       "      <td>1.0</td>\n",
       "      <td>1.000000</td>\n",
       "    </tr>\n",
       "    <tr>\n",
       "      <th rowspan=\"2\" valign=\"top\">Вася</th>\n",
       "      <th>Рита Хейуорт и спасение из Шоушенка</th>\n",
       "      <td>2.0</td>\n",
       "      <td>0.500000</td>\n",
       "    </tr>\n",
       "    <tr>\n",
       "      <th>Зеленая миля</th>\n",
       "      <td>3.0</td>\n",
       "      <td>0.333333</td>\n",
       "    </tr>\n",
       "  </tbody>\n",
       "</table>\n",
       "</div>"
      ],
      "text/plain": [
       "                                             rank  reciprocal_rank\n",
       "user_id item_id                                                   \n",
       "Аня     Мастер и Маргарита                    NaN              NaN\n",
       "Боря    451° по Фаренгейту                    1.0         1.000000\n",
       "Вася    Рита Хейуорт и спасение из Шоушенка   2.0         0.500000\n",
       "        Зеленая миля                          3.0         0.333333"
      ]
     },
     "execution_count": 51,
     "metadata": {},
     "output_type": "execute_result"
    }
   ],
   "source": [
    "df_merged['reciprocal_rank'] = 1 / df_merged['rank']\n",
    "df_merged"
   ]
  },
  {
   "cell_type": "code",
   "execution_count": 52,
   "metadata": {
    "execution": {
     "iopub.execute_input": "2020-10-25T07:01:36.492026Z",
     "iopub.status.busy": "2020-10-25T07:01:36.491342Z",
     "iopub.status.idle": "2020-10-25T07:01:36.494082Z",
     "shell.execute_reply": "2020-10-25T07:01:36.494602Z"
    },
    "papermill": {
     "duration": 0.070078,
     "end_time": "2020-10-25T07:01:36.494727",
     "exception": false,
     "start_time": "2020-10-25T07:01:36.424649",
     "status": "completed"
    },
    "tags": []
   },
   "outputs": [
    {
     "data": {
      "text/plain": [
       "user_id\n",
       "Аня     NaN\n",
       "Боря    1.0\n",
       "Вася    0.5\n",
       "Name: reciprocal_rank, dtype: float64"
      ]
     },
     "execution_count": 52,
     "metadata": {},
     "output_type": "execute_result"
    }
   ],
   "source": [
    "mrr = df_merged.groupby(level='user_id')['reciprocal_rank'].max()\n",
    "mrr"
   ]
  },
  {
   "cell_type": "code",
   "execution_count": 53,
   "metadata": {
    "execution": {
     "iopub.execute_input": "2020-10-25T07:01:36.676729Z",
     "iopub.status.busy": "2020-10-25T07:01:36.676094Z",
     "iopub.status.idle": "2020-10-25T07:01:36.680019Z",
     "shell.execute_reply": "2020-10-25T07:01:36.679657Z"
    },
    "papermill": {
     "duration": 0.09757,
     "end_time": "2020-10-25T07:01:36.680097",
     "exception": false,
     "start_time": "2020-10-25T07:01:36.582527",
     "status": "completed"
    },
    "tags": []
   },
   "outputs": [
    {
     "name": "stdout",
     "output_type": "stream",
     "text": [
      "MRR = 0.5\n"
     ]
    }
   ],
   "source": [
    "print(f\"MRR = {mrr.fillna(0).mean()}\")"
   ]
  },
  {
   "cell_type": "code",
   "execution_count": 54,
   "metadata": {
    "execution": {
     "iopub.execute_input": "2020-10-25T07:01:36.815699Z",
     "iopub.status.busy": "2020-10-25T07:01:36.815059Z",
     "iopub.status.idle": "2020-10-25T07:01:36.818973Z",
     "shell.execute_reply": "2020-10-25T07:01:36.818605Z"
    },
    "papermill": {
     "duration": 0.079281,
     "end_time": "2020-10-25T07:01:36.819056",
     "exception": false,
     "start_time": "2020-10-25T07:01:36.739775",
     "status": "completed"
    },
    "tags": []
   },
   "outputs": [
    {
     "data": {
      "text/html": [
       "<div>\n",
       "<style scoped>\n",
       "    .dataframe tbody tr th:only-of-type {\n",
       "        vertical-align: middle;\n",
       "    }\n",
       "\n",
       "    .dataframe tbody tr th {\n",
       "        vertical-align: top;\n",
       "    }\n",
       "\n",
       "    .dataframe thead th {\n",
       "        text-align: right;\n",
       "    }\n",
       "</style>\n",
       "<table border=\"1\" class=\"dataframe\">\n",
       "  <thead>\n",
       "    <tr style=\"text-align: right;\">\n",
       "      <th></th>\n",
       "      <th></th>\n",
       "      <th>rank</th>\n",
       "      <th>reciprocal_rank</th>\n",
       "      <th>cumulative_rank</th>\n",
       "      <th>users_item_count</th>\n",
       "    </tr>\n",
       "    <tr>\n",
       "      <th>user_id</th>\n",
       "      <th>item_id</th>\n",
       "      <th></th>\n",
       "      <th></th>\n",
       "      <th></th>\n",
       "      <th></th>\n",
       "    </tr>\n",
       "  </thead>\n",
       "  <tbody>\n",
       "    <tr>\n",
       "      <th>Аня</th>\n",
       "      <th>Мастер и Маргарита</th>\n",
       "      <td>NaN</td>\n",
       "      <td>NaN</td>\n",
       "      <td>NaN</td>\n",
       "      <td>1.0</td>\n",
       "    </tr>\n",
       "    <tr>\n",
       "      <th>Боря</th>\n",
       "      <th>451° по Фаренгейту</th>\n",
       "      <td>1.0</td>\n",
       "      <td>1.000000</td>\n",
       "      <td>1.000000</td>\n",
       "      <td>1.0</td>\n",
       "    </tr>\n",
       "    <tr>\n",
       "      <th rowspan=\"2\" valign=\"top\">Вася</th>\n",
       "      <th>Рита Хейуорт и спасение из Шоушенка</th>\n",
       "      <td>2.0</td>\n",
       "      <td>0.500000</td>\n",
       "      <td>0.500000</td>\n",
       "      <td>2.0</td>\n",
       "    </tr>\n",
       "    <tr>\n",
       "      <th>Зеленая миля</th>\n",
       "      <td>3.0</td>\n",
       "      <td>0.333333</td>\n",
       "      <td>0.666667</td>\n",
       "      <td>2.0</td>\n",
       "    </tr>\n",
       "  </tbody>\n",
       "</table>\n",
       "</div>"
      ],
      "text/plain": [
       "                                             rank  reciprocal_rank  \\\n",
       "user_id item_id                                                      \n",
       "Аня     Мастер и Маргарита                    NaN              NaN   \n",
       "Боря    451° по Фаренгейту                    1.0         1.000000   \n",
       "Вася    Рита Хейуорт и спасение из Шоушенка   2.0         0.500000   \n",
       "        Зеленая миля                          3.0         0.333333   \n",
       "\n",
       "                                             cumulative_rank  users_item_count  \n",
       "user_id item_id                                                                 \n",
       "Аня     Мастер и Маргарита                               NaN               1.0  \n",
       "Боря    451° по Фаренгейту                          1.000000               1.0  \n",
       "Вася    Рита Хейуорт и спасение из Шоушенка         0.500000               2.0  \n",
       "        Зеленая миля                                0.666667               2.0  "
      ]
     },
     "execution_count": 54,
     "metadata": {},
     "output_type": "execute_result"
    }
   ],
   "source": [
    "df_merged['cumulative_rank'] = df_merged.groupby(level='user_id').cumcount() + 1\n",
    "df_merged['cumulative_rank'] = df_merged['cumulative_rank'] / df_merged['rank']\n",
    "df_merged['users_item_count'] = df_merged.groupby(level='user_id')['rank'].transform(np.size)\n",
    "df_merged"
   ]
  },
  {
   "cell_type": "code",
   "execution_count": 55,
   "metadata": {
    "execution": {
     "iopub.execute_input": "2020-10-25T07:01:36.945088Z",
     "iopub.status.busy": "2020-10-25T07:01:36.944594Z",
     "iopub.status.idle": "2020-10-25T07:01:36.948371Z",
     "shell.execute_reply": "2020-10-25T07:01:36.947762Z"
    },
    "papermill": {
     "duration": 0.068976,
     "end_time": "2020-10-25T07:01:36.948485",
     "exception": false,
     "start_time": "2020-10-25T07:01:36.879509",
     "status": "completed"
    },
    "tags": []
   },
   "outputs": [
    {
     "name": "stdout",
     "output_type": "stream",
     "text": [
      "MAP@3 = 0.5277777777777778\n"
     ]
    }
   ],
   "source": [
    "users_count = df_merged.index.get_level_values('user_id').nunique()\n",
    "map3 = (df_merged[\"cumulative_rank\"] / df_merged[\"users_item_count\"]).sum() / users_count\n",
    "print(f\"MAP@3 = {map3}\")"
   ]
  },
  {
   "cell_type": "markdown",
   "metadata": {
    "papermill": {
     "duration": 0.089352,
     "end_time": "2020-10-25T07:01:37.128044",
     "exception": false,
     "start_time": "2020-10-25T07:01:37.038692",
     "status": "completed"
    },
    "tags": []
   },
   "source": [
    "<a id=\"validation\"></a>\n",
    "# Validation\n",
    "\n",
    "Для получения train/test (или train/validation/test) глобально есть два подхода:\n",
    "* Случайное разбиение\n",
    "    * По всем взаимодействиям\n",
    "    * По пользователю или объекту\n",
    "* Разбиение по времени\n",
    "\n",
    "## Случайное разбиение\n",
    "\n",
    "Обычно применяется схема Leave-one-out или Leave-P-out. Идея проста, давайте для одного (Leave-one-out) или нескольких (Leave-P-out) пользователей, для которых есть больше 2 взаимодействий, оставим одно взаимодействие в качестве теста.\n",
    "На практике такой метод редко применяется по двум причинам:\n",
    "* Дорогостоящая схема проверки, на боевых данных такое считаться будет долго\n",
    "* Часто в данных присутствует временная зависимость\n",
    "\n",
    "Реализовать можно через pandas.DataFrame.sample"
   ]
  },
  {
   "cell_type": "markdown",
   "metadata": {
    "papermill": {
     "duration": 0.088559,
     "end_time": "2020-10-25T07:01:37.304960",
     "exception": false,
     "start_time": "2020-10-25T07:01:37.216401",
     "status": "completed"
    },
    "tags": []
   },
   "source": [
    "## Разбиение по времени\n",
    "\n",
    "Чаще всего встречается на практике. Обычно выбирается размер test по времени и период дат для разделения на train/test.\n",
    "\n",
    "Например: test - 1 день, период для тестирования 7 дней.\n",
    "\n",
    "Для наших данных по МТС Библиотеке выбрем 7 последних дней и будем тестировать на них последовательно."
   ]
  },
  {
   "cell_type": "code",
   "execution_count": 56,
   "metadata": {
    "execution": {
     "iopub.execute_input": "2020-10-25T07:01:37.485951Z",
     "iopub.status.busy": "2020-10-25T07:01:37.485456Z",
     "iopub.status.idle": "2020-10-25T07:01:37.494260Z",
     "shell.execute_reply": "2020-10-25T07:01:37.493824Z"
    },
    "papermill": {
     "duration": 0.100276,
     "end_time": "2020-10-25T07:01:37.494332",
     "exception": false,
     "start_time": "2020-10-25T07:01:37.394056",
     "status": "completed"
    },
    "tags": []
   },
   "outputs": [
    {
     "data": {
      "text/plain": [
       "array(['2019-12-25T00:00:00.000000000', '2019-12-26T00:00:00.000000000',\n",
       "       '2019-12-27T00:00:00.000000000', '2019-12-28T00:00:00.000000000',\n",
       "       '2019-12-29T00:00:00.000000000', '2019-12-30T00:00:00.000000000',\n",
       "       '2019-12-31T00:00:00.000000000'], dtype='datetime64[ns]')"
      ]
     },
     "execution_count": 56,
     "metadata": {},
     "output_type": "execute_result"
    }
   ],
   "source": [
    "test_dates = df['start_date'].unique()[-7:]\n",
    "test_dates"
   ]
  },
  {
   "cell_type": "markdown",
   "metadata": {
    "papermill": {
     "duration": 0.059547,
     "end_time": "2020-10-25T07:01:37.613739",
     "exception": false,
     "start_time": "2020-10-25T07:01:37.554192",
     "status": "completed"
    },
    "tags": []
   },
   "source": [
    "Соберем из этих дат последовательные пары. Первая дата будет использоваться для ограничения на train, и обе даты будут использоваться для получения test"
   ]
  },
  {
   "cell_type": "code",
   "execution_count": 57,
   "metadata": {
    "execution": {
     "iopub.execute_input": "2020-10-25T07:01:37.740394Z",
     "iopub.status.busy": "2020-10-25T07:01:37.739692Z",
     "iopub.status.idle": "2020-10-25T07:01:37.743448Z",
     "shell.execute_reply": "2020-10-25T07:01:37.742950Z"
    },
    "papermill": {
     "duration": 0.068444,
     "end_time": "2020-10-25T07:01:37.743541",
     "exception": false,
     "start_time": "2020-10-25T07:01:37.675097",
     "status": "completed"
    },
    "tags": []
   },
   "outputs": [
    {
     "data": {
      "text/plain": [
       "[(numpy.datetime64('2019-12-25T00:00:00.000000000'),\n",
       "  numpy.datetime64('2019-12-26T00:00:00.000000000')),\n",
       " (numpy.datetime64('2019-12-26T00:00:00.000000000'),\n",
       "  numpy.datetime64('2019-12-27T00:00:00.000000000')),\n",
       " (numpy.datetime64('2019-12-27T00:00:00.000000000'),\n",
       "  numpy.datetime64('2019-12-28T00:00:00.000000000')),\n",
       " (numpy.datetime64('2019-12-28T00:00:00.000000000'),\n",
       "  numpy.datetime64('2019-12-29T00:00:00.000000000')),\n",
       " (numpy.datetime64('2019-12-29T00:00:00.000000000'),\n",
       "  numpy.datetime64('2019-12-30T00:00:00.000000000')),\n",
       " (numpy.datetime64('2019-12-30T00:00:00.000000000'),\n",
       "  numpy.datetime64('2019-12-31T00:00:00.000000000'))]"
      ]
     },
     "execution_count": 57,
     "metadata": {},
     "output_type": "execute_result"
    }
   ],
   "source": [
    "test_dates = list(pairwise(test_dates))\n",
    "test_dates"
   ]
  },
  {
   "cell_type": "code",
   "execution_count": 58,
   "metadata": {
    "execution": {
     "iopub.execute_input": "2020-10-25T07:01:37.874696Z",
     "iopub.status.busy": "2020-10-25T07:01:37.874145Z",
     "iopub.status.idle": "2020-10-25T07:01:38.005035Z",
     "shell.execute_reply": "2020-10-25T07:01:38.004588Z"
    },
    "papermill": {
     "duration": 0.198858,
     "end_time": "2020-10-25T07:01:38.005114",
     "exception": false,
     "start_time": "2020-10-25T07:01:37.806256",
     "status": "completed"
    },
    "tags": []
   },
   "outputs": [
    {
     "data": {
      "text/plain": [
       "((numpy.datetime64('2019-12-25T00:00:00.000000000'),\n",
       "  numpy.datetime64('2019-12-26T00:00:00.000000000')),\n",
       " (1517994, 5),\n",
       " (2114, 5))"
      ]
     },
     "execution_count": 58,
     "metadata": {},
     "output_type": "execute_result"
    }
   ],
   "source": [
    "split_dates = test_dates[0]\n",
    "train = df[df['start_date'] < split_dates[0]]\n",
    "test = df[(df['start_date'] >= split_dates[0]) & (df['start_date'] < split_dates[1])]\n",
    "test = test[(test['rating'] >= 4) | (test['rating'].isnull())]\n",
    "split_dates, train.shape, test.shape"
   ]
  },
  {
   "cell_type": "markdown",
   "metadata": {
    "papermill": {
     "duration": 0.06165,
     "end_time": "2020-10-25T07:01:38.128054",
     "exception": false,
     "start_time": "2020-10-25T07:01:38.066404",
     "status": "completed"
    },
    "tags": []
   },
   "source": [
    "<a id=\"baselines\"></a>\n",
    "# Baselines\n",
    "\n",
    "Самым популярным бейзлайном является просто построение популярного :)\n",
    "Гиперпараметром такой модели может быть например окно, за которое мы считаем популярное.\n",
    "\n",
    "Модель можно расширять засчет учета фичей, чтобы считать популярное в рамках каких-то групп.\n",
    "\n",
    "Но на самом деле бейзлайны в первую очередь зависят от типа данных. В некоторых случаях это могут быть простые модели (или даже бизнес-правила), которые просто учитывают контекст задачи."
   ]
  },
  {
   "cell_type": "code",
   "execution_count": 59,
   "metadata": {
    "execution": {
     "iopub.execute_input": "2020-10-25T07:01:38.261174Z",
     "iopub.status.busy": "2020-10-25T07:01:38.258147Z",
     "iopub.status.idle": "2020-10-25T07:01:38.263894Z",
     "shell.execute_reply": "2020-10-25T07:01:38.264252Z"
    },
    "papermill": {
     "duration": 0.075302,
     "end_time": "2020-10-25T07:01:38.264379",
     "exception": false,
     "start_time": "2020-10-25T07:01:38.189077",
     "status": "completed"
    },
    "tags": []
   },
   "outputs": [],
   "source": [
    "class PopularRecommender():\n",
    "    def __init__(self, max_K=100, days=30, item_column='item_id', dt_column='date'):\n",
    "        self.max_K = max_K\n",
    "        self.days = days\n",
    "        self.item_column = item_column\n",
    "        self.dt_column = dt_column\n",
    "        self.recommendations = []\n",
    "        \n",
    "    def fit(self, df, ):\n",
    "        min_date = df[self.dt_column].max().normalize() - pd.DateOffset(days=self.days)\n",
    "        self.recommendations = df.loc[df[self.dt_column] > min_date, self.item_column].value_counts().head(self.max_K).index.values\n",
    "    \n",
    "    def recommend(self, users=None, N=10):\n",
    "        recs = self.recommendations[:N]\n",
    "        if users is None:\n",
    "            return recs\n",
    "        else:\n",
    "            return list(islice(cycle([recs]), len(users)))"
   ]
  },
  {
   "cell_type": "code",
   "execution_count": 60,
   "metadata": {
    "execution": {
     "iopub.execute_input": "2020-10-25T07:01:38.392856Z",
     "iopub.status.busy": "2020-10-25T07:01:38.392226Z",
     "iopub.status.idle": "2020-10-25T07:01:38.406919Z",
     "shell.execute_reply": "2020-10-25T07:01:38.406249Z"
    },
    "papermill": {
     "duration": 0.079976,
     "end_time": "2020-10-25T07:01:38.407044",
     "exception": false,
     "start_time": "2020-10-25T07:01:38.327068",
     "status": "completed"
    },
    "tags": []
   },
   "outputs": [],
   "source": [
    "pop_model = PopularRecommender(days=7, dt_column='start_date')\n",
    "pop_model.fit(train)"
   ]
  },
  {
   "cell_type": "code",
   "execution_count": 61,
   "metadata": {
    "execution": {
     "iopub.execute_input": "2020-10-25T07:01:38.595681Z",
     "iopub.status.busy": "2020-10-25T07:01:38.595156Z",
     "iopub.status.idle": "2020-10-25T07:01:38.598899Z",
     "shell.execute_reply": "2020-10-25T07:01:38.598469Z"
    },
    "papermill": {
     "duration": 0.097791,
     "end_time": "2020-10-25T07:01:38.598996",
     "exception": false,
     "start_time": "2020-10-25T07:01:38.501205",
     "status": "completed"
    },
    "tags": []
   },
   "outputs": [
    {
     "data": {
      "text/plain": [
       "array([235407, 230067,  35265, 281005, 147734, 208935, 285394,  96052,\n",
       "        62715, 151190])"
      ]
     },
     "execution_count": 61,
     "metadata": {},
     "output_type": "execute_result"
    }
   ],
   "source": [
    "top10_recs = pop_model.recommend()\n",
    "top10_recs"
   ]
  },
  {
   "cell_type": "code",
   "execution_count": 62,
   "metadata": {
    "execution": {
     "iopub.execute_input": "2020-10-25T07:01:38.749015Z",
     "iopub.status.busy": "2020-10-25T07:01:38.748308Z",
     "iopub.status.idle": "2020-10-25T07:01:38.752068Z",
     "shell.execute_reply": "2020-10-25T07:01:38.751168Z"
    },
    "papermill": {
     "duration": 0.090992,
     "end_time": "2020-10-25T07:01:38.752166",
     "exception": false,
     "start_time": "2020-10-25T07:01:38.661174",
     "status": "completed"
    },
    "tags": []
   },
   "outputs": [
    {
     "data": {
      "text/plain": [
       "'Ворон-челобитчик'"
      ]
     },
     "execution_count": 62,
     "metadata": {},
     "output_type": "execute_result"
    }
   ],
   "source": [
    "item_titles = pd.Series(df_items['title'].values, index=df_items['id']).to_dict()\n",
    "item_titles[128115]"
   ]
  },
  {
   "cell_type": "code",
   "execution_count": 63,
   "metadata": {
    "execution": {
     "iopub.execute_input": "2020-10-25T07:01:38.940643Z",
     "iopub.status.busy": "2020-10-25T07:01:38.939941Z",
     "iopub.status.idle": "2020-10-25T07:01:38.944367Z",
     "shell.execute_reply": "2020-10-25T07:01:38.943748Z"
    },
    "papermill": {
     "duration": 0.100478,
     "end_time": "2020-10-25T07:01:38.944469",
     "exception": false,
     "start_time": "2020-10-25T07:01:38.843991",
     "status": "completed"
    },
    "tags": []
   },
   "outputs": [
    {
     "data": {
      "text/plain": [
       "['Пикник на обочине',\n",
       " 'Кавказский пленник',\n",
       " 'Записки юного врача',\n",
       " 'Богатый папа, бедный папа. Роберт Кийосаки (обзор)',\n",
       " 'Москва и москвичи',\n",
       " 'Понедельник начинается в субботу',\n",
       " 'Хитрость',\n",
       " 'Сказка о попе и о работнике его Балде',\n",
       " 'Лорд, который влюбился. Тайный жених',\n",
       " 'История государства Российского. Том 2. От Великого князя Святополка до Великого князя Мстислава Изяславовича']"
      ]
     },
     "execution_count": 63,
     "metadata": {},
     "output_type": "execute_result"
    }
   ],
   "source": [
    "list(map(item_titles.get, top10_recs))"
   ]
  },
  {
   "cell_type": "code",
   "execution_count": 64,
   "metadata": {
    "execution": {
     "iopub.execute_input": "2020-10-25T07:01:39.135259Z",
     "iopub.status.busy": "2020-10-25T07:01:39.134419Z",
     "iopub.status.idle": "2020-10-25T07:01:39.145139Z",
     "shell.execute_reply": "2020-10-25T07:01:39.144732Z"
    },
    "papermill": {
     "duration": 0.107891,
     "end_time": "2020-10-25T07:01:39.145220",
     "exception": false,
     "start_time": "2020-10-25T07:01:39.037329",
     "status": "completed"
    },
    "tags": []
   },
   "outputs": [
    {
     "data": {
      "text/html": [
       "<div>\n",
       "<style scoped>\n",
       "    .dataframe tbody tr th:only-of-type {\n",
       "        vertical-align: middle;\n",
       "    }\n",
       "\n",
       "    .dataframe tbody tr th {\n",
       "        vertical-align: top;\n",
       "    }\n",
       "\n",
       "    .dataframe thead th {\n",
       "        text-align: right;\n",
       "    }\n",
       "</style>\n",
       "<table border=\"1\" class=\"dataframe\">\n",
       "  <thead>\n",
       "    <tr style=\"text-align: right;\">\n",
       "      <th></th>\n",
       "      <th>user_id</th>\n",
       "      <th>item_id</th>\n",
       "    </tr>\n",
       "  </thead>\n",
       "  <tbody>\n",
       "    <tr>\n",
       "      <th>0</th>\n",
       "      <td>38753</td>\n",
       "      <td>[235407, 230067, 35265, 281005, 147734, 208935...</td>\n",
       "    </tr>\n",
       "    <tr>\n",
       "      <th>1</th>\n",
       "      <td>101642</td>\n",
       "      <td>[235407, 230067, 35265, 281005, 147734, 208935...</td>\n",
       "    </tr>\n",
       "    <tr>\n",
       "      <th>2</th>\n",
       "      <td>13548</td>\n",
       "      <td>[235407, 230067, 35265, 281005, 147734, 208935...</td>\n",
       "    </tr>\n",
       "    <tr>\n",
       "      <th>3</th>\n",
       "      <td>130425</td>\n",
       "      <td>[235407, 230067, 35265, 281005, 147734, 208935...</td>\n",
       "    </tr>\n",
       "    <tr>\n",
       "      <th>4</th>\n",
       "      <td>93986</td>\n",
       "      <td>[235407, 230067, 35265, 281005, 147734, 208935...</td>\n",
       "    </tr>\n",
       "  </tbody>\n",
       "</table>\n",
       "</div>"
      ],
      "text/plain": [
       "   user_id                                            item_id\n",
       "0    38753  [235407, 230067, 35265, 281005, 147734, 208935...\n",
       "1   101642  [235407, 230067, 35265, 281005, 147734, 208935...\n",
       "2    13548  [235407, 230067, 35265, 281005, 147734, 208935...\n",
       "3   130425  [235407, 230067, 35265, 281005, 147734, 208935...\n",
       "4    93986  [235407, 230067, 35265, 281005, 147734, 208935..."
      ]
     },
     "execution_count": 64,
     "metadata": {},
     "output_type": "execute_result"
    }
   ],
   "source": [
    "recs = pd.DataFrame({'user_id': test['user_id'].unique()})\n",
    "top_N = 10\n",
    "recs['item_id'] = pop_model.recommend(recs['user_id'], N=top_N)\n",
    "recs.head()"
   ]
  },
  {
   "cell_type": "code",
   "execution_count": 65,
   "metadata": {
    "execution": {
     "iopub.execute_input": "2020-10-25T07:01:39.289633Z",
     "iopub.status.busy": "2020-10-25T07:01:39.284587Z",
     "iopub.status.idle": "2020-10-25T07:01:39.299629Z",
     "shell.execute_reply": "2020-10-25T07:01:39.299207Z"
    },
    "papermill": {
     "duration": 0.09095,
     "end_time": "2020-10-25T07:01:39.299707",
     "exception": false,
     "start_time": "2020-10-25T07:01:39.208757",
     "status": "completed"
    },
    "tags": []
   },
   "outputs": [
    {
     "data": {
      "text/html": [
       "<div>\n",
       "<style scoped>\n",
       "    .dataframe tbody tr th:only-of-type {\n",
       "        vertical-align: middle;\n",
       "    }\n",
       "\n",
       "    .dataframe tbody tr th {\n",
       "        vertical-align: top;\n",
       "    }\n",
       "\n",
       "    .dataframe thead th {\n",
       "        text-align: right;\n",
       "    }\n",
       "</style>\n",
       "<table border=\"1\" class=\"dataframe\">\n",
       "  <thead>\n",
       "    <tr style=\"text-align: right;\">\n",
       "      <th></th>\n",
       "      <th>user_id</th>\n",
       "      <th>item_id</th>\n",
       "    </tr>\n",
       "  </thead>\n",
       "  <tbody>\n",
       "    <tr>\n",
       "      <th>0</th>\n",
       "      <td>38753</td>\n",
       "      <td>235407</td>\n",
       "    </tr>\n",
       "    <tr>\n",
       "      <th>0</th>\n",
       "      <td>38753</td>\n",
       "      <td>230067</td>\n",
       "    </tr>\n",
       "    <tr>\n",
       "      <th>0</th>\n",
       "      <td>38753</td>\n",
       "      <td>35265</td>\n",
       "    </tr>\n",
       "    <tr>\n",
       "      <th>0</th>\n",
       "      <td>38753</td>\n",
       "      <td>281005</td>\n",
       "    </tr>\n",
       "    <tr>\n",
       "      <th>0</th>\n",
       "      <td>38753</td>\n",
       "      <td>147734</td>\n",
       "    </tr>\n",
       "    <tr>\n",
       "      <th>0</th>\n",
       "      <td>38753</td>\n",
       "      <td>208935</td>\n",
       "    </tr>\n",
       "    <tr>\n",
       "      <th>0</th>\n",
       "      <td>38753</td>\n",
       "      <td>285394</td>\n",
       "    </tr>\n",
       "    <tr>\n",
       "      <th>0</th>\n",
       "      <td>38753</td>\n",
       "      <td>96052</td>\n",
       "    </tr>\n",
       "    <tr>\n",
       "      <th>0</th>\n",
       "      <td>38753</td>\n",
       "      <td>62715</td>\n",
       "    </tr>\n",
       "    <tr>\n",
       "      <th>0</th>\n",
       "      <td>38753</td>\n",
       "      <td>151190</td>\n",
       "    </tr>\n",
       "    <tr>\n",
       "      <th>1</th>\n",
       "      <td>101642</td>\n",
       "      <td>235407</td>\n",
       "    </tr>\n",
       "    <tr>\n",
       "      <th>1</th>\n",
       "      <td>101642</td>\n",
       "      <td>230067</td>\n",
       "    </tr>\n",
       "  </tbody>\n",
       "</table>\n",
       "</div>"
      ],
      "text/plain": [
       "   user_id item_id\n",
       "0    38753  235407\n",
       "0    38753  230067\n",
       "0    38753   35265\n",
       "0    38753  281005\n",
       "0    38753  147734\n",
       "0    38753  208935\n",
       "0    38753  285394\n",
       "0    38753   96052\n",
       "0    38753   62715\n",
       "0    38753  151190\n",
       "1   101642  235407\n",
       "1   101642  230067"
      ]
     },
     "execution_count": 65,
     "metadata": {},
     "output_type": "execute_result"
    }
   ],
   "source": [
    "recs = recs.explode('item_id')\n",
    "recs.head(top_N + 2)"
   ]
  },
  {
   "cell_type": "code",
   "execution_count": 66,
   "metadata": {
    "execution": {
     "iopub.execute_input": "2020-10-25T07:01:39.435140Z",
     "iopub.status.busy": "2020-10-25T07:01:39.434494Z",
     "iopub.status.idle": "2020-10-25T07:01:39.446829Z",
     "shell.execute_reply": "2020-10-25T07:01:39.447183Z"
    },
    "papermill": {
     "duration": 0.083453,
     "end_time": "2020-10-25T07:01:39.447299",
     "exception": false,
     "start_time": "2020-10-25T07:01:39.363846",
     "status": "completed"
    },
    "tags": []
   },
   "outputs": [
    {
     "data": {
      "text/html": [
       "<div>\n",
       "<style scoped>\n",
       "    .dataframe tbody tr th:only-of-type {\n",
       "        vertical-align: middle;\n",
       "    }\n",
       "\n",
       "    .dataframe tbody tr th {\n",
       "        vertical-align: top;\n",
       "    }\n",
       "\n",
       "    .dataframe thead th {\n",
       "        text-align: right;\n",
       "    }\n",
       "</style>\n",
       "<table border=\"1\" class=\"dataframe\">\n",
       "  <thead>\n",
       "    <tr style=\"text-align: right;\">\n",
       "      <th></th>\n",
       "      <th>user_id</th>\n",
       "      <th>item_id</th>\n",
       "      <th>rank</th>\n",
       "    </tr>\n",
       "  </thead>\n",
       "  <tbody>\n",
       "    <tr>\n",
       "      <th>0</th>\n",
       "      <td>38753</td>\n",
       "      <td>235407</td>\n",
       "      <td>1</td>\n",
       "    </tr>\n",
       "    <tr>\n",
       "      <th>0</th>\n",
       "      <td>38753</td>\n",
       "      <td>230067</td>\n",
       "      <td>2</td>\n",
       "    </tr>\n",
       "    <tr>\n",
       "      <th>0</th>\n",
       "      <td>38753</td>\n",
       "      <td>35265</td>\n",
       "      <td>3</td>\n",
       "    </tr>\n",
       "    <tr>\n",
       "      <th>0</th>\n",
       "      <td>38753</td>\n",
       "      <td>281005</td>\n",
       "      <td>4</td>\n",
       "    </tr>\n",
       "    <tr>\n",
       "      <th>0</th>\n",
       "      <td>38753</td>\n",
       "      <td>147734</td>\n",
       "      <td>5</td>\n",
       "    </tr>\n",
       "    <tr>\n",
       "      <th>0</th>\n",
       "      <td>38753</td>\n",
       "      <td>208935</td>\n",
       "      <td>6</td>\n",
       "    </tr>\n",
       "    <tr>\n",
       "      <th>0</th>\n",
       "      <td>38753</td>\n",
       "      <td>285394</td>\n",
       "      <td>7</td>\n",
       "    </tr>\n",
       "    <tr>\n",
       "      <th>0</th>\n",
       "      <td>38753</td>\n",
       "      <td>96052</td>\n",
       "      <td>8</td>\n",
       "    </tr>\n",
       "    <tr>\n",
       "      <th>0</th>\n",
       "      <td>38753</td>\n",
       "      <td>62715</td>\n",
       "      <td>9</td>\n",
       "    </tr>\n",
       "    <tr>\n",
       "      <th>0</th>\n",
       "      <td>38753</td>\n",
       "      <td>151190</td>\n",
       "      <td>10</td>\n",
       "    </tr>\n",
       "    <tr>\n",
       "      <th>1</th>\n",
       "      <td>101642</td>\n",
       "      <td>235407</td>\n",
       "      <td>1</td>\n",
       "    </tr>\n",
       "    <tr>\n",
       "      <th>1</th>\n",
       "      <td>101642</td>\n",
       "      <td>230067</td>\n",
       "      <td>2</td>\n",
       "    </tr>\n",
       "  </tbody>\n",
       "</table>\n",
       "</div>"
      ],
      "text/plain": [
       "   user_id item_id  rank\n",
       "0    38753  235407     1\n",
       "0    38753  230067     2\n",
       "0    38753   35265     3\n",
       "0    38753  281005     4\n",
       "0    38753  147734     5\n",
       "0    38753  208935     6\n",
       "0    38753  285394     7\n",
       "0    38753   96052     8\n",
       "0    38753   62715     9\n",
       "0    38753  151190    10\n",
       "1   101642  235407     1\n",
       "1   101642  230067     2"
      ]
     },
     "execution_count": 66,
     "metadata": {},
     "output_type": "execute_result"
    }
   ],
   "source": [
    "recs['rank'] = recs.groupby('user_id').cumcount() + 1\n",
    "recs.head(top_N + 2)"
   ]
  },
  {
   "cell_type": "code",
   "execution_count": 67,
   "metadata": {
    "execution": {
     "iopub.execute_input": "2020-10-25T07:01:39.582021Z",
     "iopub.status.busy": "2020-10-25T07:01:39.581407Z",
     "iopub.status.idle": "2020-10-25T07:01:39.603318Z",
     "shell.execute_reply": "2020-10-25T07:01:39.602724Z"
    },
    "papermill": {
     "duration": 0.090904,
     "end_time": "2020-10-25T07:01:39.603411",
     "exception": false,
     "start_time": "2020-10-25T07:01:39.512507",
     "status": "completed"
    },
    "tags": []
   },
   "outputs": [
    {
     "data": {
      "text/html": [
       "<div>\n",
       "<style scoped>\n",
       "    .dataframe tbody tr th:only-of-type {\n",
       "        vertical-align: middle;\n",
       "    }\n",
       "\n",
       "    .dataframe tbody tr th {\n",
       "        vertical-align: top;\n",
       "    }\n",
       "\n",
       "    .dataframe thead th {\n",
       "        text-align: right;\n",
       "    }\n",
       "</style>\n",
       "<table border=\"1\" class=\"dataframe\">\n",
       "  <thead>\n",
       "    <tr style=\"text-align: right;\">\n",
       "      <th></th>\n",
       "      <th></th>\n",
       "      <th>progress</th>\n",
       "      <th>rating</th>\n",
       "      <th>start_date</th>\n",
       "      <th>rank</th>\n",
       "    </tr>\n",
       "    <tr>\n",
       "      <th>user_id</th>\n",
       "      <th>item_id</th>\n",
       "      <th></th>\n",
       "      <th></th>\n",
       "      <th></th>\n",
       "      <th></th>\n",
       "    </tr>\n",
       "  </thead>\n",
       "  <tbody>\n",
       "    <tr>\n",
       "      <th>159294</th>\n",
       "      <th>110617</th>\n",
       "      <td>18</td>\n",
       "      <td>NaN</td>\n",
       "      <td>2019-12-25</td>\n",
       "      <td>NaN</td>\n",
       "    </tr>\n",
       "    <tr>\n",
       "      <th>159303</th>\n",
       "      <th>197759</th>\n",
       "      <td>64</td>\n",
       "      <td>NaN</td>\n",
       "      <td>2019-12-25</td>\n",
       "      <td>NaN</td>\n",
       "    </tr>\n",
       "    <tr>\n",
       "      <th>159466</th>\n",
       "      <th>124115</th>\n",
       "      <td>84</td>\n",
       "      <td>NaN</td>\n",
       "      <td>2019-12-25</td>\n",
       "      <td>NaN</td>\n",
       "    </tr>\n",
       "    <tr>\n",
       "      <th>159472</th>\n",
       "      <th>245992</th>\n",
       "      <td>78</td>\n",
       "      <td>NaN</td>\n",
       "      <td>2019-12-25</td>\n",
       "      <td>NaN</td>\n",
       "    </tr>\n",
       "    <tr>\n",
       "      <th>159511</th>\n",
       "      <th>31539</th>\n",
       "      <td>77</td>\n",
       "      <td>5.0</td>\n",
       "      <td>2019-12-25</td>\n",
       "      <td>NaN</td>\n",
       "    </tr>\n",
       "  </tbody>\n",
       "</table>\n",
       "</div>"
      ],
      "text/plain": [
       "                 progress  rating start_date  rank\n",
       "user_id item_id                                   \n",
       "159294  110617         18     NaN 2019-12-25   NaN\n",
       "159303  197759         64     NaN 2019-12-25   NaN\n",
       "159466  124115         84     NaN 2019-12-25   NaN\n",
       "159472  245992         78     NaN 2019-12-25   NaN\n",
       "159511  31539          77     5.0 2019-12-25   NaN"
      ]
     },
     "execution_count": 67,
     "metadata": {},
     "output_type": "execute_result"
    }
   ],
   "source": [
    "test_recs = test.set_index(['user_id', 'item_id']).join(recs.set_index(['user_id', 'item_id']))\n",
    "test_recs = test_recs.sort_values(by=['user_id', 'rank'])\n",
    "test_recs.tail()"
   ]
  },
  {
   "cell_type": "code",
   "execution_count": 68,
   "metadata": {
    "execution": {
     "iopub.execute_input": "2020-10-25T07:01:39.800392Z",
     "iopub.status.busy": "2020-10-25T07:01:39.799946Z",
     "iopub.status.idle": "2020-10-25T07:01:40.151862Z",
     "shell.execute_reply": "2020-10-25T07:01:40.152314Z"
    },
    "papermill": {
     "duration": 0.454239,
     "end_time": "2020-10-25T07:01:40.152438",
     "exception": false,
     "start_time": "2020-10-25T07:01:39.698199",
     "status": "completed"
    },
    "tags": []
   },
   "outputs": [
    {
     "data": {
      "text/html": [
       "<div>\n",
       "<style scoped>\n",
       "    .dataframe tbody tr th:only-of-type {\n",
       "        vertical-align: middle;\n",
       "    }\n",
       "\n",
       "    .dataframe tbody tr th {\n",
       "        vertical-align: top;\n",
       "    }\n",
       "\n",
       "    .dataframe thead th {\n",
       "        text-align: right;\n",
       "    }\n",
       "</style>\n",
       "<table border=\"1\" class=\"dataframe\">\n",
       "  <thead>\n",
       "    <tr style=\"text-align: right;\">\n",
       "      <th></th>\n",
       "      <th></th>\n",
       "      <th>progress</th>\n",
       "      <th>rating</th>\n",
       "      <th>start_date</th>\n",
       "      <th>rank</th>\n",
       "      <th>users_item_count</th>\n",
       "      <th>reciprocal_rank</th>\n",
       "      <th>cumulative_rank</th>\n",
       "    </tr>\n",
       "    <tr>\n",
       "      <th>user_id</th>\n",
       "      <th>item_id</th>\n",
       "      <th></th>\n",
       "      <th></th>\n",
       "      <th></th>\n",
       "      <th></th>\n",
       "      <th></th>\n",
       "      <th></th>\n",
       "      <th></th>\n",
       "    </tr>\n",
       "  </thead>\n",
       "  <tbody>\n",
       "    <tr>\n",
       "      <th>159294</th>\n",
       "      <th>110617</th>\n",
       "      <td>18</td>\n",
       "      <td>NaN</td>\n",
       "      <td>2019-12-25</td>\n",
       "      <td>NaN</td>\n",
       "      <td>1.0</td>\n",
       "      <td>0.0</td>\n",
       "      <td>NaN</td>\n",
       "    </tr>\n",
       "    <tr>\n",
       "      <th>159303</th>\n",
       "      <th>197759</th>\n",
       "      <td>64</td>\n",
       "      <td>NaN</td>\n",
       "      <td>2019-12-25</td>\n",
       "      <td>NaN</td>\n",
       "      <td>1.0</td>\n",
       "      <td>0.0</td>\n",
       "      <td>NaN</td>\n",
       "    </tr>\n",
       "    <tr>\n",
       "      <th>159466</th>\n",
       "      <th>124115</th>\n",
       "      <td>84</td>\n",
       "      <td>NaN</td>\n",
       "      <td>2019-12-25</td>\n",
       "      <td>NaN</td>\n",
       "      <td>1.0</td>\n",
       "      <td>0.0</td>\n",
       "      <td>NaN</td>\n",
       "    </tr>\n",
       "    <tr>\n",
       "      <th>159472</th>\n",
       "      <th>245992</th>\n",
       "      <td>78</td>\n",
       "      <td>NaN</td>\n",
       "      <td>2019-12-25</td>\n",
       "      <td>NaN</td>\n",
       "      <td>1.0</td>\n",
       "      <td>0.0</td>\n",
       "      <td>NaN</td>\n",
       "    </tr>\n",
       "    <tr>\n",
       "      <th>159511</th>\n",
       "      <th>31539</th>\n",
       "      <td>77</td>\n",
       "      <td>5.0</td>\n",
       "      <td>2019-12-25</td>\n",
       "      <td>NaN</td>\n",
       "      <td>1.0</td>\n",
       "      <td>0.0</td>\n",
       "      <td>NaN</td>\n",
       "    </tr>\n",
       "  </tbody>\n",
       "</table>\n",
       "</div>"
      ],
      "text/plain": [
       "                 progress  rating start_date  rank  users_item_count  \\\n",
       "user_id item_id                                                        \n",
       "159294  110617         18     NaN 2019-12-25   NaN               1.0   \n",
       "159303  197759         64     NaN 2019-12-25   NaN               1.0   \n",
       "159466  124115         84     NaN 2019-12-25   NaN               1.0   \n",
       "159472  245992         78     NaN 2019-12-25   NaN               1.0   \n",
       "159511  31539          77     5.0 2019-12-25   NaN               1.0   \n",
       "\n",
       "                 reciprocal_rank  cumulative_rank  \n",
       "user_id item_id                                    \n",
       "159294  110617               0.0              NaN  \n",
       "159303  197759               0.0              NaN  \n",
       "159466  124115               0.0              NaN  \n",
       "159472  245992               0.0              NaN  \n",
       "159511  31539                0.0              NaN  "
      ]
     },
     "execution_count": 68,
     "metadata": {},
     "output_type": "execute_result"
    }
   ],
   "source": [
    "test_recs['users_item_count'] = test_recs.groupby(level='user_id', sort=False)['rank'].transform(np.size)\n",
    "test_recs['reciprocal_rank'] = 1 / test_recs['rank']\n",
    "test_recs['reciprocal_rank'] = test_recs['reciprocal_rank'].fillna(0)\n",
    "test_recs['cumulative_rank'] = test_recs.groupby(level='user_id').cumcount() + 1\n",
    "test_recs['cumulative_rank'] = test_recs['cumulative_rank'] / test_recs['rank']\n",
    "test_recs.tail()"
   ]
  },
  {
   "cell_type": "code",
   "execution_count": 69,
   "metadata": {
    "execution": {
     "iopub.execute_input": "2020-10-25T07:01:40.358639Z",
     "iopub.status.busy": "2020-10-25T07:01:40.349348Z",
     "iopub.status.idle": "2020-10-25T07:01:40.363072Z",
     "shell.execute_reply": "2020-10-25T07:01:40.362574Z"
    },
    "papermill": {
     "duration": 0.114414,
     "end_time": "2020-10-25T07:01:40.363170",
     "exception": false,
     "start_time": "2020-10-25T07:01:40.248756",
     "status": "completed"
    },
    "tags": []
   },
   "outputs": [
    {
     "data": {
      "text/html": [
       "<div>\n",
       "<style scoped>\n",
       "    .dataframe tbody tr th:only-of-type {\n",
       "        vertical-align: middle;\n",
       "    }\n",
       "\n",
       "    .dataframe tbody tr th {\n",
       "        vertical-align: top;\n",
       "    }\n",
       "\n",
       "    .dataframe thead th {\n",
       "        text-align: right;\n",
       "    }\n",
       "</style>\n",
       "<table border=\"1\" class=\"dataframe\">\n",
       "  <thead>\n",
       "    <tr style=\"text-align: right;\">\n",
       "      <th></th>\n",
       "      <th></th>\n",
       "      <th>progress</th>\n",
       "      <th>rating</th>\n",
       "      <th>start_date</th>\n",
       "      <th>rank</th>\n",
       "      <th>users_item_count</th>\n",
       "      <th>reciprocal_rank</th>\n",
       "      <th>cumulative_rank</th>\n",
       "    </tr>\n",
       "    <tr>\n",
       "      <th>user_id</th>\n",
       "      <th>item_id</th>\n",
       "      <th></th>\n",
       "      <th></th>\n",
       "      <th></th>\n",
       "      <th></th>\n",
       "      <th></th>\n",
       "      <th></th>\n",
       "      <th></th>\n",
       "    </tr>\n",
       "  </thead>\n",
       "  <tbody>\n",
       "    <tr>\n",
       "      <th>474</th>\n",
       "      <th>235407</th>\n",
       "      <td>100</td>\n",
       "      <td>5.0</td>\n",
       "      <td>2019-12-25</td>\n",
       "      <td>1.0</td>\n",
       "      <td>1.0</td>\n",
       "      <td>1.000000</td>\n",
       "      <td>1.000000</td>\n",
       "    </tr>\n",
       "    <tr>\n",
       "      <th>1672</th>\n",
       "      <th>230067</th>\n",
       "      <td>12</td>\n",
       "      <td>NaN</td>\n",
       "      <td>2019-12-25</td>\n",
       "      <td>2.0</td>\n",
       "      <td>1.0</td>\n",
       "      <td>0.500000</td>\n",
       "      <td>0.500000</td>\n",
       "    </tr>\n",
       "    <tr>\n",
       "      <th>2345</th>\n",
       "      <th>208935</th>\n",
       "      <td>76</td>\n",
       "      <td>NaN</td>\n",
       "      <td>2019-12-25</td>\n",
       "      <td>6.0</td>\n",
       "      <td>1.0</td>\n",
       "      <td>0.166667</td>\n",
       "      <td>0.166667</td>\n",
       "    </tr>\n",
       "    <tr>\n",
       "      <th>9279</th>\n",
       "      <th>96052</th>\n",
       "      <td>100</td>\n",
       "      <td>NaN</td>\n",
       "      <td>2019-12-25</td>\n",
       "      <td>8.0</td>\n",
       "      <td>1.0</td>\n",
       "      <td>0.125000</td>\n",
       "      <td>0.125000</td>\n",
       "    </tr>\n",
       "    <tr>\n",
       "      <th>10260</th>\n",
       "      <th>35265</th>\n",
       "      <td>0</td>\n",
       "      <td>NaN</td>\n",
       "      <td>2019-12-25</td>\n",
       "      <td>3.0</td>\n",
       "      <td>1.0</td>\n",
       "      <td>0.333333</td>\n",
       "      <td>0.333333</td>\n",
       "    </tr>\n",
       "  </tbody>\n",
       "</table>\n",
       "</div>"
      ],
      "text/plain": [
       "                 progress  rating start_date  rank  users_item_count  \\\n",
       "user_id item_id                                                        \n",
       "474     235407        100     5.0 2019-12-25   1.0               1.0   \n",
       "1672    230067         12     NaN 2019-12-25   2.0               1.0   \n",
       "2345    208935         76     NaN 2019-12-25   6.0               1.0   \n",
       "9279    96052         100     NaN 2019-12-25   8.0               1.0   \n",
       "10260   35265           0     NaN 2019-12-25   3.0               1.0   \n",
       "\n",
       "                 reciprocal_rank  cumulative_rank  \n",
       "user_id item_id                                    \n",
       "474     235407          1.000000         1.000000  \n",
       "1672    230067          0.500000         0.500000  \n",
       "2345    208935          0.166667         0.166667  \n",
       "9279    96052           0.125000         0.125000  \n",
       "10260   35265           0.333333         0.333333  "
      ]
     },
     "execution_count": 69,
     "metadata": {},
     "output_type": "execute_result"
    }
   ],
   "source": [
    "test_recs[test_recs['rank'].notnull()].head()"
   ]
  },
  {
   "cell_type": "code",
   "execution_count": 70,
   "metadata": {
    "execution": {
     "iopub.execute_input": "2020-10-25T07:01:40.567720Z",
     "iopub.status.busy": "2020-10-25T07:01:40.564093Z",
     "iopub.status.idle": "2020-10-25T07:01:40.590293Z",
     "shell.execute_reply": "2020-10-25T07:01:40.589667Z"
    },
    "papermill": {
     "duration": 0.12977,
     "end_time": "2020-10-25T07:01:40.590397",
     "exception": false,
     "start_time": "2020-10-25T07:01:40.460627",
     "status": "completed"
    },
    "tags": []
   },
   "outputs": [
    {
     "name": "stdout",
     "output_type": "stream",
     "text": [
      "Метрик по test (2019-12-25, 2019-12-26)\n",
      "Precision@1 = 0.0091\n",
      "Recall@1 = 0.0089\n",
      "Precision@2 = 0.0071\n",
      "Recall@2 = 0.0128\n",
      "Precision@3 = 0.0067\n",
      "Recall@3 = 0.0173\n",
      "Precision@4 = 0.0053\n",
      "Recall@4 = 0.0182\n",
      "Precision@5 = 0.0047\n",
      "Recall@5 = 0.0200\n",
      "Precision@6 = 0.0046\n",
      "Recall@6 = 0.0240\n",
      "Precision@7 = 0.0046\n",
      "Recall@7 = 0.0277\n",
      "Precision@8 = 0.0042\n",
      "Recall@8 = 0.0295\n",
      "Precision@9 = 0.0038\n",
      "Recall@9 = 0.0297\n",
      "Precision@10 = 0.0037\n",
      "Recall@10 = 0.0316\n",
      "MAP@10 = 0.014664636080969606\n",
      "MRR = 0.015906783425344247\n"
     ]
    }
   ],
   "source": [
    "print(f'Метрик по test ({str(split_dates[0])[:10]}, {str(split_dates[1])[:10]})')\n",
    "users_count = test_recs.index.get_level_values('user_id').nunique()\n",
    "for k in range(1, top_N + 1):\n",
    "    hit_k = f'hit@{k}'\n",
    "    test_recs[hit_k] = test_recs['rank'] <= k\n",
    "    print(f'Precision@{k} = {(test_recs[hit_k] / k).sum() / users_count:.4f}')\n",
    "    print(f\"Recall@{k} = {(test_recs[hit_k] / test_recs['users_item_count']).sum() / users_count:.4f}\")\n",
    "\n",
    "mapN = (test_recs[\"cumulative_rank\"] / test_recs[\"users_item_count\"]).sum() / users_count\n",
    "print(f\"MAP@{top_N} = {mapN}\")\n",
    "\n",
    "mrr = test_recs.groupby(level='user_id')['reciprocal_rank'].max().mean()\n",
    "print(f\"MRR = {mrr}\")"
   ]
  },
  {
   "cell_type": "markdown",
   "metadata": {
    "papermill": {
     "duration": 0.066556,
     "end_time": "2020-10-25T07:01:40.724063",
     "exception": false,
     "start_time": "2020-10-25T07:01:40.657507",
     "status": "completed"
    },
    "tags": []
   },
   "source": [
    "### В качестве домашнего задания:\n",
    "* Попробуйте посчитать теперь метрик по всем фолдам в test_dates и оценить mean, std во времени. Стабильна ли модель во времени?\n",
    "* Постройте популярное по группам: возрастам пользователей или жанрам книг. Метрики стали лучше?"
   ]
  },
  {
   "cell_type": "code",
   "execution_count": null,
   "metadata": {
    "papermill": {
     "duration": 0.065321,
     "end_time": "2020-10-25T07:01:40.855106",
     "exception": false,
     "start_time": "2020-10-25T07:01:40.789785",
     "status": "completed"
    },
    "tags": []
   },
   "outputs": [],
   "source": []
  }
 ],
 "metadata": {
  "kernelspec": {
   "display_name": "Python 3",
   "language": "python",
   "name": "python3"
  },
  "language_info": {
   "codemirror_mode": {
    "name": "ipython",
    "version": 3
   },
   "file_extension": ".py",
   "mimetype": "text/x-python",
   "name": "python",
   "nbconvert_exporter": "python",
   "pygments_lexer": "ipython3",
   "version": "3.7.6"
  },
  "papermill": {
   "duration": 20.654014,
   "end_time": "2020-10-25T07:01:41.028757",
   "environment_variables": {},
   "exception": null,
   "input_path": "__notebook__.ipynb",
   "output_path": "__notebook__.ipynb",
   "parameters": {},
   "start_time": "2020-10-25T07:01:20.374743",
   "version": "2.1.0"
  }
 },
 "nbformat": 4,
 "nbformat_minor": 4
}
