{
 "cells": [
  {
   "cell_type": "markdown",
   "metadata": {
    "papermill": {
     "duration": 0.053328,
     "end_time": "2020-10-23T06:14:09.733878",
     "exception": false,
     "start_time": "2020-10-23T06:14:09.680550",
     "status": "completed"
    },
    "tags": []
   },
   "source": [
    "# Pandas & SciPy for RecSys datasets\n",
    "\n",
    "В данном jupyter notebook рассматриваются примеры использования библиотек pandas и scipy при работе с данным для построения рекомендательных систем.\n",
    "\n",
    "* [Preprocessing](#preprocessing)\n",
    "* [Pandas](#pandas)\n",
    "    - [СategoryDType](#categorydtype)\n",
    "    - [IntegerDType](#integerdtype)\n",
    "    - [Sparse Type](#sparse-type)\n",
    "* [SciPy.Sparse](#scipy)\n",
    "    - [Matrix types](#matrix-types)\n",
    "    - [Pandas to matrix](#pandas-to-matrix)\n",
    "* [Links](#links)"
   ]
  },
  {
   "cell_type": "code",
   "execution_count": 1,
   "metadata": {
    "_cell_guid": "b1076dfc-b9ad-4769-8c92-a6c4dae69d19",
    "_kg_hide-input": true,
    "_kg_hide-output": true,
    "_uuid": "8f2839f25d086af736a60e9eeb907d3b93b6e0e5",
    "execution": {
     "iopub.execute_input": "2020-10-23T06:14:09.844469Z",
     "iopub.status.busy": "2020-10-23T06:14:09.843402Z",
     "iopub.status.idle": "2020-10-23T06:14:10.041483Z",
     "shell.execute_reply": "2020-10-23T06:14:10.040780Z"
    },
    "papermill": {
     "duration": 0.256443,
     "end_time": "2020-10-23T06:14:10.041610",
     "exception": false,
     "start_time": "2020-10-23T06:14:09.785167",
     "status": "completed"
    },
    "tags": []
   },
   "outputs": [
    {
     "name": "stdout",
     "output_type": "stream",
     "text": [
      "/kaggle/input/mts-library/users.csv\n",
      "/kaggle/input/mts-library/items.csv\n",
      "/kaggle/input/mts-library/interactions.csv\n"
     ]
    }
   ],
   "source": [
    "import numpy as np \n",
    "import pandas as pd \n",
    "import scipy.sparse as sp\n",
    "\n",
    "import os\n",
    "for dirname, _, filenames in os.walk('/kaggle/input'):\n",
    "    for filename in filenames:\n",
    "        print(os.path.join(dirname, filename))"
   ]
  },
  {
   "cell_type": "markdown",
   "metadata": {
    "papermill": {
     "duration": 0.052148,
     "end_time": "2020-10-23T06:14:10.146735",
     "exception": false,
     "start_time": "2020-10-23T06:14:10.094587",
     "status": "completed"
    },
    "tags": []
   },
   "source": [
    "<a id=\"preprocessing\"></a>\n",
    "# Preprocessing\n",
    "\n",
    "Загрузим взаимодействия"
   ]
  },
  {
   "cell_type": "code",
   "execution_count": 2,
   "metadata": {
    "_cell_guid": "79c7e3d0-c299-4dcb-8224-4455121ee9b0",
    "_uuid": "d629ff2d2480ee46fbb7e2d37f6b5fab8052498a",
    "execution": {
     "iopub.execute_input": "2020-10-23T06:14:10.258798Z",
     "iopub.status.busy": "2020-10-23T06:14:10.258013Z",
     "iopub.status.idle": "2020-10-23T06:14:11.913463Z",
     "shell.execute_reply": "2020-10-23T06:14:11.912634Z"
    },
    "papermill": {
     "duration": 1.713445,
     "end_time": "2020-10-23T06:14:11.913604",
     "exception": false,
     "start_time": "2020-10-23T06:14:10.200159",
     "status": "completed"
    },
    "tags": []
   },
   "outputs": [
    {
     "data": {
      "text/html": [
       "<div>\n",
       "<style scoped>\n",
       "    .dataframe tbody tr th:only-of-type {\n",
       "        vertical-align: middle;\n",
       "    }\n",
       "\n",
       "    .dataframe tbody tr th {\n",
       "        vertical-align: top;\n",
       "    }\n",
       "\n",
       "    .dataframe thead th {\n",
       "        text-align: right;\n",
       "    }\n",
       "</style>\n",
       "<table border=\"1\" class=\"dataframe\">\n",
       "  <thead>\n",
       "    <tr style=\"text-align: right;\">\n",
       "      <th></th>\n",
       "      <th>user_id</th>\n",
       "      <th>item_id</th>\n",
       "      <th>progress</th>\n",
       "      <th>rating</th>\n",
       "      <th>start_date</th>\n",
       "    </tr>\n",
       "  </thead>\n",
       "  <tbody>\n",
       "    <tr>\n",
       "      <th>0</th>\n",
       "      <td>126706</td>\n",
       "      <td>14433</td>\n",
       "      <td>80</td>\n",
       "      <td>NaN</td>\n",
       "      <td>2018-01-01</td>\n",
       "    </tr>\n",
       "    <tr>\n",
       "      <th>1</th>\n",
       "      <td>127290</td>\n",
       "      <td>140952</td>\n",
       "      <td>58</td>\n",
       "      <td>NaN</td>\n",
       "      <td>2018-01-01</td>\n",
       "    </tr>\n",
       "    <tr>\n",
       "      <th>2</th>\n",
       "      <td>66991</td>\n",
       "      <td>198453</td>\n",
       "      <td>89</td>\n",
       "      <td>NaN</td>\n",
       "      <td>2018-01-01</td>\n",
       "    </tr>\n",
       "    <tr>\n",
       "      <th>3</th>\n",
       "      <td>46791</td>\n",
       "      <td>83486</td>\n",
       "      <td>23</td>\n",
       "      <td>5.0</td>\n",
       "      <td>2018-01-01</td>\n",
       "    </tr>\n",
       "    <tr>\n",
       "      <th>4</th>\n",
       "      <td>79313</td>\n",
       "      <td>188770</td>\n",
       "      <td>88</td>\n",
       "      <td>5.0</td>\n",
       "      <td>2018-01-01</td>\n",
       "    </tr>\n",
       "  </tbody>\n",
       "</table>\n",
       "</div>"
      ],
      "text/plain": [
       "   user_id  item_id  progress  rating  start_date\n",
       "0   126706    14433        80     NaN  2018-01-01\n",
       "1   127290   140952        58     NaN  2018-01-01\n",
       "2    66991   198453        89     NaN  2018-01-01\n",
       "3    46791    83486        23     5.0  2018-01-01\n",
       "4    79313   188770        88     5.0  2018-01-01"
      ]
     },
     "execution_count": 2,
     "metadata": {},
     "output_type": "execute_result"
    }
   ],
   "source": [
    "df = pd.read_csv('../input/mts-library/interactions.csv')\n",
    "df.head()"
   ]
  },
  {
   "cell_type": "code",
   "execution_count": 3,
   "metadata": {
    "execution": {
     "iopub.execute_input": "2020-10-23T06:14:12.144683Z",
     "iopub.status.busy": "2020-10-23T06:14:12.143840Z",
     "iopub.status.idle": "2020-10-23T06:14:12.396644Z",
     "shell.execute_reply": "2020-10-23T06:14:12.395619Z"
    },
    "papermill": {
     "duration": 0.430703,
     "end_time": "2020-10-23T06:14:12.396832",
     "exception": false,
     "start_time": "2020-10-23T06:14:11.966129",
     "status": "completed"
    },
    "tags": []
   },
   "outputs": [],
   "source": [
    "df['start_date'] = pd.to_datetime(df['start_date'])"
   ]
  },
  {
   "cell_type": "code",
   "execution_count": 4,
   "metadata": {
    "execution": {
     "iopub.execute_input": "2020-10-23T06:14:12.524347Z",
     "iopub.status.busy": "2020-10-23T06:14:12.523440Z",
     "iopub.status.idle": "2020-10-23T06:14:12.559467Z",
     "shell.execute_reply": "2020-10-23T06:14:12.558354Z"
    },
    "papermill": {
     "duration": 0.10113,
     "end_time": "2020-10-23T06:14:12.559661",
     "exception": false,
     "start_time": "2020-10-23T06:14:12.458531",
     "status": "completed"
    },
    "tags": []
   },
   "outputs": [
    {
     "name": "stdout",
     "output_type": "stream",
     "text": [
      "<class 'pandas.core.frame.DataFrame'>\n",
      "RangeIndex: 1533078 entries, 0 to 1533077\n",
      "Data columns (total 5 columns):\n",
      " #   Column      Non-Null Count    Dtype         \n",
      "---  ------      --------------    -----         \n",
      " 0   user_id     1533078 non-null  int64         \n",
      " 1   item_id     1533078 non-null  int64         \n",
      " 2   progress    1533078 non-null  int64         \n",
      " 3   rating      285356 non-null   float64       \n",
      " 4   start_date  1533078 non-null  datetime64[ns]\n",
      "dtypes: datetime64[ns](1), float64(1), int64(3)\n",
      "memory usage: 58.5 MB\n"
     ]
    }
   ],
   "source": [
    "df.info()"
   ]
  },
  {
   "cell_type": "markdown",
   "metadata": {
    "papermill": {
     "duration": 0.052775,
     "end_time": "2020-10-23T06:14:12.666207",
     "exception": false,
     "start_time": "2020-10-23T06:14:12.613432",
     "status": "completed"
    },
    "tags": []
   },
   "source": [
    "Проверим данные на дубликаты"
   ]
  },
  {
   "cell_type": "code",
   "execution_count": 5,
   "metadata": {
    "execution": {
     "iopub.execute_input": "2020-10-23T06:14:12.780487Z",
     "iopub.status.busy": "2020-10-23T06:14:12.779604Z",
     "iopub.status.idle": "2020-10-23T06:14:12.984946Z",
     "shell.execute_reply": "2020-10-23T06:14:12.984276Z"
    },
    "papermill": {
     "duration": 0.264963,
     "end_time": "2020-10-23T06:14:12.985087",
     "exception": false,
     "start_time": "2020-10-23T06:14:12.720124",
     "status": "completed"
    },
    "tags": []
   },
   "outputs": [
    {
     "data": {
      "text/plain": [
       "160"
      ]
     },
     "execution_count": 5,
     "metadata": {},
     "output_type": "execute_result"
    }
   ],
   "source": [
    "duplicates = df.duplicated(subset=['user_id', 'item_id'], keep=False)\n",
    "duplicates.sum()"
   ]
  },
  {
   "cell_type": "code",
   "execution_count": 6,
   "metadata": {
    "execution": {
     "iopub.execute_input": "2020-10-23T06:14:13.100546Z",
     "iopub.status.busy": "2020-10-23T06:14:13.099674Z",
     "iopub.status.idle": "2020-10-23T06:14:13.182372Z",
     "shell.execute_reply": "2020-10-23T06:14:13.183259Z"
    },
    "papermill": {
     "duration": 0.142592,
     "end_time": "2020-10-23T06:14:13.183461",
     "exception": false,
     "start_time": "2020-10-23T06:14:13.040869",
     "status": "completed"
    },
    "tags": []
   },
   "outputs": [],
   "source": [
    "df_duplicates = df[duplicates].sort_values(by=['user_id', 'start_date'])\n",
    "df = df[~duplicates]"
   ]
  },
  {
   "cell_type": "code",
   "execution_count": 7,
   "metadata": {
    "execution": {
     "iopub.execute_input": "2020-10-23T06:14:13.321138Z",
     "iopub.status.busy": "2020-10-23T06:14:13.320196Z",
     "iopub.status.idle": "2020-10-23T06:14:13.325108Z",
     "shell.execute_reply": "2020-10-23T06:14:13.324144Z"
    },
    "papermill": {
     "duration": 0.08768,
     "end_time": "2020-10-23T06:14:13.325312",
     "exception": false,
     "start_time": "2020-10-23T06:14:13.237632",
     "status": "completed"
    },
    "tags": []
   },
   "outputs": [
    {
     "name": "stdout",
     "output_type": "stream",
     "text": [
      "<class 'pandas.core.frame.DataFrame'>\n",
      "MultiIndex: 80 entries, (523, 49329) to (158041, 208145)\n",
      "Data columns (total 3 columns):\n",
      " #   Column      Non-Null Count  Dtype         \n",
      "---  ------      --------------  -----         \n",
      " 0   progress    80 non-null     int64         \n",
      " 1   rating      35 non-null     float64       \n",
      " 2   start_date  80 non-null     datetime64[ns]\n",
      "dtypes: datetime64[ns](1), float64(1), int64(1)\n",
      "memory usage: 3.4 KB\n"
     ]
    }
   ],
   "source": [
    "df_duplicates = df_duplicates.groupby(['user_id', 'item_id']).agg({\n",
    "    'progress': 'max',\n",
    "    'rating': 'max',\n",
    "    'start_date': 'min'\n",
    "})\n",
    "df_duplicates.info()"
   ]
  },
  {
   "cell_type": "code",
   "execution_count": 8,
   "metadata": {
    "execution": {
     "iopub.execute_input": "2020-10-23T06:14:13.445103Z",
     "iopub.status.busy": "2020-10-23T06:14:13.444306Z",
     "iopub.status.idle": "2020-10-23T06:14:13.507332Z",
     "shell.execute_reply": "2020-10-23T06:14:13.506525Z"
    },
    "papermill": {
     "duration": 0.125674,
     "end_time": "2020-10-23T06:14:13.507580",
     "exception": false,
     "start_time": "2020-10-23T06:14:13.381906",
     "status": "completed"
    },
    "tags": []
   },
   "outputs": [
    {
     "name": "stdout",
     "output_type": "stream",
     "text": [
      "<class 'pandas.core.frame.DataFrame'>\n",
      "RangeIndex: 1532998 entries, 0 to 1532997\n",
      "Data columns (total 5 columns):\n",
      " #   Column      Non-Null Count    Dtype         \n",
      "---  ------      --------------    -----         \n",
      " 0   user_id     1532998 non-null  int64         \n",
      " 1   item_id     1532998 non-null  int64         \n",
      " 2   progress    1532998 non-null  int64         \n",
      " 3   rating      285355 non-null   float64       \n",
      " 4   start_date  1532998 non-null  datetime64[ns]\n",
      "dtypes: datetime64[ns](1), float64(1), int64(3)\n",
      "memory usage: 58.5 MB\n"
     ]
    }
   ],
   "source": [
    "df = df.append(df_duplicates.reset_index(), ignore_index=True)\n",
    "df.info()"
   ]
  },
  {
   "cell_type": "code",
   "execution_count": 9,
   "metadata": {
    "execution": {
     "iopub.execute_input": "2020-10-23T06:14:13.623500Z",
     "iopub.status.busy": "2020-10-23T06:14:13.622325Z",
     "iopub.status.idle": "2020-10-23T06:14:13.692410Z",
     "shell.execute_reply": "2020-10-23T06:14:13.691552Z"
    },
    "papermill": {
     "duration": 0.129949,
     "end_time": "2020-10-23T06:14:13.692547",
     "exception": false,
     "start_time": "2020-10-23T06:14:13.562598",
     "status": "completed"
    },
    "tags": []
   },
   "outputs": [
    {
     "data": {
      "text/plain": [
       "user_id       151600\n",
       "item_id        59599\n",
       "progress         101\n",
       "rating             5\n",
       "start_date       730\n",
       "dtype: int64"
      ]
     },
     "execution_count": 9,
     "metadata": {},
     "output_type": "execute_result"
    }
   ],
   "source": [
    "df.nunique()"
   ]
  },
  {
   "cell_type": "markdown",
   "metadata": {
    "papermill": {
     "duration": 0.055078,
     "end_time": "2020-10-23T06:14:13.803808",
     "exception": false,
     "start_time": "2020-10-23T06:14:13.748730",
     "status": "completed"
    },
    "tags": []
   },
   "source": [
    "Как видно, у нас 1.5 миллиона строк, но уникальных значений гораздо меньше. \n",
    "Это свойство называется **низкой кардинальностью** и встречается во многих датасетах с \"взаимодействиями\". "
   ]
  },
  {
   "cell_type": "markdown",
   "metadata": {
    "papermill": {
     "duration": 0.054928,
     "end_time": "2020-10-23T06:14:13.914540",
     "exception": false,
     "start_time": "2020-10-23T06:14:13.859612",
     "status": "completed"
    },
    "tags": []
   },
   "source": [
    "<a id=\"pandas\"></a>\n",
    "# Pandas\n",
    "\n",
    "\n",
    "<a id=\"categorydtype\"></a>\n",
    "## CategoryDType\n",
    "\n",
    "[CategoryDType](https://pandas.pydata.org/pandas-docs/stable/user_guide/categorical.html) - тип в pandas, который позволяет оптимизировать потребление памяти для строковых столбцов и задать логический порядок для значений в них.\n"
   ]
  },
  {
   "cell_type": "code",
   "execution_count": 10,
   "metadata": {
    "execution": {
     "iopub.execute_input": "2020-10-23T06:14:14.038308Z",
     "iopub.status.busy": "2020-10-23T06:14:14.037337Z",
     "iopub.status.idle": "2020-10-23T06:14:14.043440Z",
     "shell.execute_reply": "2020-10-23T06:14:14.042683Z"
    },
    "papermill": {
     "duration": 0.073599,
     "end_time": "2020-10-23T06:14:14.043571",
     "exception": false,
     "start_time": "2020-10-23T06:14:13.969972",
     "status": "completed"
    },
    "tags": []
   },
   "outputs": [
    {
     "data": {
      "text/html": [
       "<div>\n",
       "<style scoped>\n",
       "    .dataframe tbody tr th:only-of-type {\n",
       "        vertical-align: middle;\n",
       "    }\n",
       "\n",
       "    .dataframe tbody tr th {\n",
       "        vertical-align: top;\n",
       "    }\n",
       "\n",
       "    .dataframe thead th {\n",
       "        text-align: right;\n",
       "    }\n",
       "</style>\n",
       "<table border=\"1\" class=\"dataframe\">\n",
       "  <thead>\n",
       "    <tr style=\"text-align: right;\">\n",
       "      <th></th>\n",
       "      <th>city</th>\n",
       "    </tr>\n",
       "  </thead>\n",
       "  <tbody>\n",
       "    <tr>\n",
       "      <th>0</th>\n",
       "      <td>Moscow</td>\n",
       "    </tr>\n",
       "    <tr>\n",
       "      <th>1</th>\n",
       "      <td>London</td>\n",
       "    </tr>\n",
       "    <tr>\n",
       "      <th>2</th>\n",
       "      <td>Tokyo</td>\n",
       "    </tr>\n",
       "    <tr>\n",
       "      <th>3</th>\n",
       "      <td>Moscow</td>\n",
       "    </tr>\n",
       "  </tbody>\n",
       "</table>\n",
       "</div>"
      ],
      "text/plain": [
       "     city\n",
       "0  Moscow\n",
       "1  London\n",
       "2   Tokyo\n",
       "3  Moscow"
      ]
     },
     "execution_count": 10,
     "metadata": {},
     "output_type": "execute_result"
    }
   ],
   "source": [
    "df_cat = pd.DataFrame({'city': ['Moscow', 'London', 'Tokyo', 'Moscow']})\n",
    "df_cat"
   ]
  },
  {
   "cell_type": "code",
   "execution_count": 11,
   "metadata": {
    "execution": {
     "iopub.execute_input": "2020-10-23T06:14:14.170913Z",
     "iopub.status.busy": "2020-10-23T06:14:14.169744Z",
     "iopub.status.idle": "2020-10-23T06:14:14.174725Z",
     "shell.execute_reply": "2020-10-23T06:14:14.173957Z"
    },
    "papermill": {
     "duration": 0.074579,
     "end_time": "2020-10-23T06:14:14.174910",
     "exception": false,
     "start_time": "2020-10-23T06:14:14.100331",
     "status": "completed"
    },
    "tags": []
   },
   "outputs": [
    {
     "data": {
      "text/html": [
       "<div>\n",
       "<style scoped>\n",
       "    .dataframe tbody tr th:only-of-type {\n",
       "        vertical-align: middle;\n",
       "    }\n",
       "\n",
       "    .dataframe tbody tr th {\n",
       "        vertical-align: top;\n",
       "    }\n",
       "\n",
       "    .dataframe thead th {\n",
       "        text-align: right;\n",
       "    }\n",
       "</style>\n",
       "<table border=\"1\" class=\"dataframe\">\n",
       "  <thead>\n",
       "    <tr style=\"text-align: right;\">\n",
       "      <th></th>\n",
       "      <th>city</th>\n",
       "    </tr>\n",
       "  </thead>\n",
       "  <tbody>\n",
       "    <tr>\n",
       "      <th>0</th>\n",
       "      <td>Moscow</td>\n",
       "    </tr>\n",
       "    <tr>\n",
       "      <th>1</th>\n",
       "      <td>London</td>\n",
       "    </tr>\n",
       "    <tr>\n",
       "      <th>2</th>\n",
       "      <td>Tokyo</td>\n",
       "    </tr>\n",
       "    <tr>\n",
       "      <th>3</th>\n",
       "      <td>Moscow</td>\n",
       "    </tr>\n",
       "  </tbody>\n",
       "</table>\n",
       "</div>"
      ],
      "text/plain": [
       "     city\n",
       "0  Moscow\n",
       "1  London\n",
       "2   Tokyo\n",
       "3  Moscow"
      ]
     },
     "execution_count": 11,
     "metadata": {},
     "output_type": "execute_result"
    }
   ],
   "source": [
    "df_cat['city'] = df_cat['city'].astype('category')\n",
    "df_cat"
   ]
  },
  {
   "cell_type": "code",
   "execution_count": 12,
   "metadata": {
    "execution": {
     "iopub.execute_input": "2020-10-23T06:14:14.301583Z",
     "iopub.status.busy": "2020-10-23T06:14:14.300435Z",
     "iopub.status.idle": "2020-10-23T06:14:14.304905Z",
     "shell.execute_reply": "2020-10-23T06:14:14.304298Z"
    },
    "papermill": {
     "duration": 0.073145,
     "end_time": "2020-10-23T06:14:14.305028",
     "exception": false,
     "start_time": "2020-10-23T06:14:14.231883",
     "status": "completed"
    },
    "tags": []
   },
   "outputs": [
    {
     "data": {
      "text/html": [
       "<div>\n",
       "<style scoped>\n",
       "    .dataframe tbody tr th:only-of-type {\n",
       "        vertical-align: middle;\n",
       "    }\n",
       "\n",
       "    .dataframe tbody tr th {\n",
       "        vertical-align: top;\n",
       "    }\n",
       "\n",
       "    .dataframe thead th {\n",
       "        text-align: right;\n",
       "    }\n",
       "</style>\n",
       "<table border=\"1\" class=\"dataframe\">\n",
       "  <thead>\n",
       "    <tr style=\"text-align: right;\">\n",
       "      <th></th>\n",
       "      <th>city</th>\n",
       "      <th>city_codes</th>\n",
       "    </tr>\n",
       "  </thead>\n",
       "  <tbody>\n",
       "    <tr>\n",
       "      <th>0</th>\n",
       "      <td>Moscow</td>\n",
       "      <td>1</td>\n",
       "    </tr>\n",
       "    <tr>\n",
       "      <th>1</th>\n",
       "      <td>London</td>\n",
       "      <td>0</td>\n",
       "    </tr>\n",
       "    <tr>\n",
       "      <th>2</th>\n",
       "      <td>Tokyo</td>\n",
       "      <td>2</td>\n",
       "    </tr>\n",
       "    <tr>\n",
       "      <th>3</th>\n",
       "      <td>Moscow</td>\n",
       "      <td>1</td>\n",
       "    </tr>\n",
       "  </tbody>\n",
       "</table>\n",
       "</div>"
      ],
      "text/plain": [
       "     city  city_codes\n",
       "0  Moscow           1\n",
       "1  London           0\n",
       "2   Tokyo           2\n",
       "3  Moscow           1"
      ]
     },
     "execution_count": 12,
     "metadata": {},
     "output_type": "execute_result"
    }
   ],
   "source": [
    "df_cat['city_codes'] = df_cat['city'].cat.codes\n",
    "df_cat"
   ]
  },
  {
   "cell_type": "code",
   "execution_count": 13,
   "metadata": {
    "execution": {
     "iopub.execute_input": "2020-10-23T06:14:14.428522Z",
     "iopub.status.busy": "2020-10-23T06:14:14.427486Z",
     "iopub.status.idle": "2020-10-23T06:14:14.431559Z",
     "shell.execute_reply": "2020-10-23T06:14:14.432169Z"
    },
    "papermill": {
     "duration": 0.069033,
     "end_time": "2020-10-23T06:14:14.432344",
     "exception": false,
     "start_time": "2020-10-23T06:14:14.363311",
     "status": "completed"
    },
    "tags": []
   },
   "outputs": [
    {
     "data": {
      "text/plain": [
       "{0: 'London', 1: 'Moscow', 2: 'Tokyo'}"
      ]
     },
     "execution_count": 13,
     "metadata": {},
     "output_type": "execute_result"
    }
   ],
   "source": [
    "mapping = dict(enumerate(df_cat['city'].cat.categories))\n",
    "mapping"
   ]
  },
  {
   "cell_type": "markdown",
   "metadata": {
    "papermill": {
     "duration": 0.058979,
     "end_time": "2020-10-23T06:14:14.549702",
     "exception": false,
     "start_time": "2020-10-23T06:14:14.490723",
     "status": "completed"
    },
    "tags": []
   },
   "source": [
    "Рассмотрим то, как такая конвертация типов может экономить память."
   ]
  },
  {
   "cell_type": "code",
   "execution_count": 14,
   "metadata": {
    "execution": {
     "iopub.execute_input": "2020-10-23T06:14:14.680214Z",
     "iopub.status.busy": "2020-10-23T06:14:14.679318Z",
     "iopub.status.idle": "2020-10-23T06:14:14.688990Z",
     "shell.execute_reply": "2020-10-23T06:14:14.688156Z"
    },
    "papermill": {
     "duration": 0.080344,
     "end_time": "2020-10-23T06:14:14.689131",
     "exception": false,
     "start_time": "2020-10-23T06:14:14.608787",
     "status": "completed"
    },
    "tags": []
   },
   "outputs": [],
   "source": [
    "df_user_item = df[['user_id', 'item_id']].copy()"
   ]
  },
  {
   "cell_type": "code",
   "execution_count": 15,
   "metadata": {
    "execution": {
     "iopub.execute_input": "2020-10-23T06:14:14.827864Z",
     "iopub.status.busy": "2020-10-23T06:14:14.826685Z",
     "iopub.status.idle": "2020-10-23T06:14:14.830407Z",
     "shell.execute_reply": "2020-10-23T06:14:14.829707Z"
    },
    "papermill": {
     "duration": 0.081118,
     "end_time": "2020-10-23T06:14:14.830566",
     "exception": false,
     "start_time": "2020-10-23T06:14:14.749448",
     "status": "completed"
    },
    "tags": []
   },
   "outputs": [],
   "source": [
    "def num_bytes_format(num_bytes, float_prec=4):\n",
    "    units = ['bytes', 'Kb', 'Mb', 'Gb', 'Tb', 'Pb', 'Eb']\n",
    "    for unit in units[:-1]:\n",
    "        if abs(num_bytes) < 1000:\n",
    "            return f'{num_bytes:.{float_prec}f} {unit}'\n",
    "        num_bytes /= 1000\n",
    "    return f'{num_bytes:.4f} {units[-1]}'"
   ]
  },
  {
   "cell_type": "code",
   "execution_count": 16,
   "metadata": {
    "execution": {
     "iopub.execute_input": "2020-10-23T06:14:14.961969Z",
     "iopub.status.busy": "2020-10-23T06:14:14.961014Z",
     "iopub.status.idle": "2020-10-23T06:14:14.966120Z",
     "shell.execute_reply": "2020-10-23T06:14:14.965422Z"
    },
    "papermill": {
     "duration": 0.074045,
     "end_time": "2020-10-23T06:14:14.966294",
     "exception": false,
     "start_time": "2020-10-23T06:14:14.892249",
     "status": "completed"
    },
    "tags": []
   },
   "outputs": [
    {
     "data": {
      "text/plain": [
       "'24.5281 Mb'"
      ]
     },
     "execution_count": 16,
     "metadata": {},
     "output_type": "execute_result"
    }
   ],
   "source": [
    "num_bytes_ints = df_user_item.memory_usage(deep=True).sum()\n",
    "num_bytes_format(num_bytes_ints)"
   ]
  },
  {
   "cell_type": "code",
   "execution_count": 17,
   "metadata": {
    "execution": {
     "iopub.execute_input": "2020-10-23T06:14:15.103526Z",
     "iopub.status.busy": "2020-10-23T06:14:15.102349Z",
     "iopub.status.idle": "2020-10-23T06:14:20.342355Z",
     "shell.execute_reply": "2020-10-23T06:14:20.341582Z"
    },
    "papermill": {
     "duration": 5.308287,
     "end_time": "2020-10-23T06:14:20.342494",
     "exception": false,
     "start_time": "2020-10-23T06:14:15.034207",
     "status": "completed"
    },
    "tags": []
   },
   "outputs": [
    {
     "data": {
      "text/plain": [
       "'191.5619 Mb'"
      ]
     },
     "execution_count": 17,
     "metadata": {},
     "output_type": "execute_result"
    }
   ],
   "source": [
    "df_user_item = df_user_item.astype('string')\n",
    "num_bytes_str = df_user_item.memory_usage(deep=True).sum()\n",
    "num_bytes_format(num_bytes_str)"
   ]
  },
  {
   "cell_type": "code",
   "execution_count": 18,
   "metadata": {
    "execution": {
     "iopub.execute_input": "2020-10-23T06:14:20.635775Z",
     "iopub.status.busy": "2020-10-23T06:14:20.634938Z",
     "iopub.status.idle": "2020-10-23T06:14:23.741213Z",
     "shell.execute_reply": "2020-10-23T06:14:23.740396Z"
    },
    "papermill": {
     "duration": 3.334014,
     "end_time": "2020-10-23T06:14:23.741379",
     "exception": false,
     "start_time": "2020-10-23T06:14:20.407365",
     "status": "completed"
    },
    "tags": []
   },
   "outputs": [
    {
     "data": {
      "text/plain": [
       "'33.3079 Mb'"
      ]
     },
     "execution_count": 18,
     "metadata": {},
     "output_type": "execute_result"
    }
   ],
   "source": [
    "df_user_item = df_user_item.astype('category')\n",
    "num_bytes_cat = df_user_item.memory_usage(deep=True).sum()\n",
    "num_bytes_format(num_bytes_cat)"
   ]
  },
  {
   "cell_type": "code",
   "execution_count": 19,
   "metadata": {
    "execution": {
     "iopub.execute_input": "2020-10-23T06:14:23.871408Z",
     "iopub.status.busy": "2020-10-23T06:14:23.870389Z",
     "iopub.status.idle": "2020-10-23T06:14:23.874152Z",
     "shell.execute_reply": "2020-10-23T06:14:23.875249Z"
    },
    "papermill": {
     "duration": 0.073464,
     "end_time": "2020-10-23T06:14:23.875485",
     "exception": false,
     "start_time": "2020-10-23T06:14:23.802021",
     "status": "completed"
    },
    "tags": []
   },
   "outputs": [
    {
     "name": "stdout",
     "output_type": "stream",
     "text": [
      "Экономия category относительно string: 82.61%\n",
      "Экономия ints относительно category: 26.36%\n"
     ]
    }
   ],
   "source": [
    "print(f'Экономия category относительно string: {(1 - num_bytes_cat / num_bytes_str) * 100:.2f}%')\n",
    "print(f'Экономия ints относительно category: {(1 - num_bytes_ints / num_bytes_cat) * 100:.2f}%')"
   ]
  },
  {
   "cell_type": "code",
   "execution_count": 20,
   "metadata": {
    "execution": {
     "iopub.execute_input": "2020-10-23T06:14:24.008900Z",
     "iopub.status.busy": "2020-10-23T06:14:24.006994Z",
     "iopub.status.idle": "2020-10-23T06:14:24.920137Z",
     "shell.execute_reply": "2020-10-23T06:14:24.919509Z"
    },
    "papermill": {
     "duration": 0.981827,
     "end_time": "2020-10-23T06:14:24.920280",
     "exception": false,
     "start_time": "2020-10-23T06:14:23.938453",
     "status": "completed"
    },
    "tags": []
   },
   "outputs": [
    {
     "data": {
      "text/plain": [
       "'21.8180 Mb'"
      ]
     },
     "execution_count": 20,
     "metadata": {},
     "output_type": "execute_result"
    }
   ],
   "source": [
    "df_user_item = df_user_item.astype(np.int64).astype('category')\n",
    "num_bytes_int_cat = df_user_item.memory_usage(deep=True).sum()\n",
    "num_bytes_format(num_bytes_int_cat)"
   ]
  },
  {
   "cell_type": "code",
   "execution_count": 21,
   "metadata": {
    "execution": {
     "iopub.execute_input": "2020-10-23T06:14:25.051424Z",
     "iopub.status.busy": "2020-10-23T06:14:25.050431Z",
     "iopub.status.idle": "2020-10-23T06:14:25.054290Z",
     "shell.execute_reply": "2020-10-23T06:14:25.054812Z"
    },
    "papermill": {
     "duration": 0.071486,
     "end_time": "2020-10-23T06:14:25.054974",
     "exception": false,
     "start_time": "2020-10-23T06:14:24.983488",
     "status": "completed"
    },
    "tags": []
   },
   "outputs": [
    {
     "name": "stdout",
     "output_type": "stream",
     "text": [
      "Экономия category on int64 относительно category on string: 34.50%\n"
     ]
    }
   ],
   "source": [
    "print(f'Экономия category on int64 относительно category on string: {(1 - num_bytes_int_cat / num_bytes_cat) * 100:.2f}%')"
   ]
  },
  {
   "cell_type": "code",
   "execution_count": 22,
   "metadata": {
    "execution": {
     "iopub.execute_input": "2020-10-23T06:14:25.186772Z",
     "iopub.status.busy": "2020-10-23T06:14:25.185647Z",
     "iopub.status.idle": "2020-10-23T06:14:25.190660Z",
     "shell.execute_reply": "2020-10-23T06:14:25.189890Z"
    },
    "papermill": {
     "duration": 0.073965,
     "end_time": "2020-10-23T06:14:25.190798",
     "exception": false,
     "start_time": "2020-10-23T06:14:25.116833",
     "status": "completed"
    },
    "tags": []
   },
   "outputs": [
    {
     "data": {
      "text/plain": [
       "dtype('int32')"
      ]
     },
     "execution_count": 22,
     "metadata": {},
     "output_type": "execute_result"
    }
   ],
   "source": [
    "df_user_item['user_id'].cat.codes.dtype"
   ]
  },
  {
   "cell_type": "markdown",
   "metadata": {
    "papermill": {
     "duration": 0.062739,
     "end_time": "2020-10-23T06:14:25.316918",
     "exception": false,
     "start_time": "2020-10-23T06:14:25.254179",
     "status": "completed"
    },
    "tags": []
   },
   "source": [
    "<a id=\"integerdtype\"></a>\n",
    "## IntegerDType\n",
    "\n",
    "[IntegerDType](https://pandas.pydata.org/pandas-docs/stable/user_guide/integer_na.html) - группа типов в pandas, который позволяет целочисленным столбцам содержать пропущенные значения. \n",
    "\n",
    "Для классического целочисленного типа есть свой \"двойник\". Отличаются только первыми заглавными буквами, например:\n",
    "* numpy.int32 - pd.Int32DType\n",
    "* numpy.uint32 - pd.UInt64DType\n",
    "\n",
    "\n",
    "Этот тип стоит использовать только для экономии памяти при хранении датафрейма или при простых операциях на ним. Большинство библиотек этот тип в данный момент не поддерживают."
   ]
  },
  {
   "cell_type": "code",
   "execution_count": 23,
   "metadata": {
    "execution": {
     "iopub.execute_input": "2020-10-23T06:14:25.449310Z",
     "iopub.status.busy": "2020-10-23T06:14:25.448361Z",
     "iopub.status.idle": "2020-10-23T06:14:25.454917Z",
     "shell.execute_reply": "2020-10-23T06:14:25.455505Z"
    },
    "papermill": {
     "duration": 0.075512,
     "end_time": "2020-10-23T06:14:25.455684",
     "exception": false,
     "start_time": "2020-10-23T06:14:25.380172",
     "status": "completed"
    },
    "tags": []
   },
   "outputs": [],
   "source": [
    "ratings = df['rating'].astype(np.float32).copy()"
   ]
  },
  {
   "cell_type": "code",
   "execution_count": 24,
   "metadata": {
    "execution": {
     "iopub.execute_input": "2020-10-23T06:14:25.589832Z",
     "iopub.status.busy": "2020-10-23T06:14:25.588661Z",
     "iopub.status.idle": "2020-10-23T06:14:25.593365Z",
     "shell.execute_reply": "2020-10-23T06:14:25.592774Z"
    },
    "papermill": {
     "duration": 0.073284,
     "end_time": "2020-10-23T06:14:25.593494",
     "exception": false,
     "start_time": "2020-10-23T06:14:25.520210",
     "status": "completed"
    },
    "tags": []
   },
   "outputs": [
    {
     "data": {
      "text/plain": [
       "'6.1321 Mb'"
      ]
     },
     "execution_count": 24,
     "metadata": {},
     "output_type": "execute_result"
    }
   ],
   "source": [
    "num_bytes_float = ratings.memory_usage(deep=True)\n",
    "num_bytes_format(num_bytes_float)"
   ]
  },
  {
   "cell_type": "code",
   "execution_count": 25,
   "metadata": {
    "execution": {
     "iopub.execute_input": "2020-10-23T06:14:25.727349Z",
     "iopub.status.busy": "2020-10-23T06:14:25.726548Z",
     "iopub.status.idle": "2020-10-23T06:14:25.746292Z",
     "shell.execute_reply": "2020-10-23T06:14:25.745655Z"
    },
    "papermill": {
     "duration": 0.089449,
     "end_time": "2020-10-23T06:14:25.746435",
     "exception": false,
     "start_time": "2020-10-23T06:14:25.656986",
     "status": "completed"
    },
    "tags": []
   },
   "outputs": [
    {
     "data": {
      "text/plain": [
       "'7.6651 Mb'"
      ]
     },
     "execution_count": 25,
     "metadata": {},
     "output_type": "execute_result"
    }
   ],
   "source": [
    "ratings = ratings.astype(pd.Int32Dtype())\n",
    "num_bytes_Int32 = ratings.memory_usage(deep=True)\n",
    "num_bytes_format(num_bytes_Int32)"
   ]
  },
  {
   "cell_type": "code",
   "execution_count": 26,
   "metadata": {
    "execution": {
     "iopub.execute_input": "2020-10-23T06:14:25.880498Z",
     "iopub.status.busy": "2020-10-23T06:14:25.879743Z",
     "iopub.status.idle": "2020-10-23T06:14:25.886524Z",
     "shell.execute_reply": "2020-10-23T06:14:25.885764Z"
    },
    "papermill": {
     "duration": 0.076247,
     "end_time": "2020-10-23T06:14:25.886648",
     "exception": false,
     "start_time": "2020-10-23T06:14:25.810401",
     "status": "completed"
    },
    "tags": []
   },
   "outputs": [
    {
     "data": {
      "text/plain": [
       "'3.0661 Mb'"
      ]
     },
     "execution_count": 26,
     "metadata": {},
     "output_type": "execute_result"
    }
   ],
   "source": [
    "ratings = ratings.astype(pd.Int8Dtype())\n",
    "num_bytes_Int8 = ratings.memory_usage(deep=True)\n",
    "num_bytes_format(num_bytes_Int8)"
   ]
  },
  {
   "cell_type": "code",
   "execution_count": 27,
   "metadata": {
    "execution": {
     "iopub.execute_input": "2020-10-23T06:14:26.031264Z",
     "iopub.status.busy": "2020-10-23T06:14:26.030313Z",
     "iopub.status.idle": "2020-10-23T06:14:26.035088Z",
     "shell.execute_reply": "2020-10-23T06:14:26.034429Z"
    },
    "papermill": {
     "duration": 0.079548,
     "end_time": "2020-10-23T06:14:26.035210",
     "exception": false,
     "start_time": "2020-10-23T06:14:25.955662",
     "status": "completed"
    },
    "tags": []
   },
   "outputs": [
    {
     "data": {
      "text/plain": [
       "0          <NA>\n",
       "1          <NA>\n",
       "2          <NA>\n",
       "3             5\n",
       "4             5\n",
       "           ... \n",
       "1532993    <NA>\n",
       "1532994    <NA>\n",
       "1532995       5\n",
       "1532996       5\n",
       "1532997       4\n",
       "Name: rating, Length: 1532998, dtype: Int8"
      ]
     },
     "execution_count": 27,
     "metadata": {},
     "output_type": "execute_result"
    }
   ],
   "source": [
    "ratings"
   ]
  },
  {
   "cell_type": "code",
   "execution_count": 28,
   "metadata": {
    "execution": {
     "iopub.execute_input": "2020-10-23T06:14:26.173869Z",
     "iopub.status.busy": "2020-10-23T06:14:26.172928Z",
     "iopub.status.idle": "2020-10-23T06:14:26.176647Z",
     "shell.execute_reply": "2020-10-23T06:14:26.177628Z"
    },
    "papermill": {
     "duration": 0.076906,
     "end_time": "2020-10-23T06:14:26.177830",
     "exception": false,
     "start_time": "2020-10-23T06:14:26.100924",
     "status": "completed"
    },
    "tags": []
   },
   "outputs": [
    {
     "name": "stdout",
     "output_type": "stream",
     "text": [
      "Экономия Int8DType относительно float64: 50.00%\n"
     ]
    }
   ],
   "source": [
    "print(f'Экономия Int8DType относительно float64: {(1 - num_bytes_Int8 / num_bytes_float) * 100:.2f}%')"
   ]
  },
  {
   "cell_type": "markdown",
   "metadata": {
    "papermill": {
     "duration": 0.065557,
     "end_time": "2020-10-23T06:14:26.310487",
     "exception": false,
     "start_time": "2020-10-23T06:14:26.244930",
     "status": "completed"
    },
    "tags": []
   },
   "source": [
    "<a id=\"sparse-type\"></a>\n",
    "## Sparse Type\n",
    "\n",
    "[Sparse Type](https://pandas.pydata.org/pandas-docs/stable/user_guide/sparse.html) - тип данных в pandas для работы с разреженными данными.\n",
    "\n",
    "Идея проста - храним только \"известные\" значения, остальное не храним и имитируем константой.\n",
    "\n",
    "Сам тип создается на основе двух значений:\n",
    "* dtype - тип сохраняемых значений\n",
    "* fill_value - константа для пропущенных значений"
   ]
  },
  {
   "cell_type": "code",
   "execution_count": 29,
   "metadata": {
    "execution": {
     "iopub.execute_input": "2020-10-23T06:14:26.499284Z",
     "iopub.status.busy": "2020-10-23T06:14:26.498474Z",
     "iopub.status.idle": "2020-10-23T06:14:26.527683Z",
     "shell.execute_reply": "2020-10-23T06:14:26.526963Z"
    },
    "papermill": {
     "duration": 0.151447,
     "end_time": "2020-10-23T06:14:26.527819",
     "exception": false,
     "start_time": "2020-10-23T06:14:26.376372",
     "status": "completed"
    },
    "tags": []
   },
   "outputs": [],
   "source": [
    "sparse_type = pd.SparseDtype(np.float32, np.nan)\n",
    "ratings = ratings.astype(np.float32).astype(sparse_type)"
   ]
  },
  {
   "cell_type": "code",
   "execution_count": 30,
   "metadata": {
    "execution": {
     "iopub.execute_input": "2020-10-23T06:14:26.666127Z",
     "iopub.status.busy": "2020-10-23T06:14:26.665149Z",
     "iopub.status.idle": "2020-10-23T06:14:26.676767Z",
     "shell.execute_reply": "2020-10-23T06:14:26.677340Z"
    },
    "papermill": {
     "duration": 0.083599,
     "end_time": "2020-10-23T06:14:26.677525",
     "exception": false,
     "start_time": "2020-10-23T06:14:26.593926",
     "status": "completed"
    },
    "tags": []
   },
   "outputs": [
    {
     "data": {
      "text/plain": [
       "0          NaN\n",
       "1          NaN\n",
       "2          NaN\n",
       "3          5.0\n",
       "4          5.0\n",
       "          ... \n",
       "1532993    NaN\n",
       "1532994    NaN\n",
       "1532995    5.0\n",
       "1532996    5.0\n",
       "1532997    4.0\n",
       "Name: rating, Length: 1532998, dtype: Sparse[float32, nan]"
      ]
     },
     "execution_count": 30,
     "metadata": {},
     "output_type": "execute_result"
    }
   ],
   "source": [
    "ratings"
   ]
  },
  {
   "cell_type": "code",
   "execution_count": 31,
   "metadata": {
    "execution": {
     "iopub.execute_input": "2020-10-23T06:14:26.818246Z",
     "iopub.status.busy": "2020-10-23T06:14:26.817319Z",
     "iopub.status.idle": "2020-10-23T06:14:26.822934Z",
     "shell.execute_reply": "2020-10-23T06:14:26.822123Z"
    },
    "papermill": {
     "duration": 0.07873,
     "end_time": "2020-10-23T06:14:26.823070",
     "exception": false,
     "start_time": "2020-10-23T06:14:26.744340",
     "status": "completed"
    },
    "tags": []
   },
   "outputs": [
    {
     "data": {
      "text/plain": [
       "'2.2830 Mb'"
      ]
     },
     "execution_count": 31,
     "metadata": {},
     "output_type": "execute_result"
    }
   ],
   "source": [
    "num_bytes_sparse = ratings.memory_usage(deep=True)\n",
    "num_bytes_format(num_bytes_sparse)"
   ]
  },
  {
   "cell_type": "code",
   "execution_count": 32,
   "metadata": {
    "execution": {
     "iopub.execute_input": "2020-10-23T06:14:26.965586Z",
     "iopub.status.busy": "2020-10-23T06:14:26.964582Z",
     "iopub.status.idle": "2020-10-23T06:14:26.968877Z",
     "shell.execute_reply": "2020-10-23T06:14:26.968248Z"
    },
    "papermill": {
     "duration": 0.078324,
     "end_time": "2020-10-23T06:14:26.969001",
     "exception": false,
     "start_time": "2020-10-23T06:14:26.890677",
     "status": "completed"
    },
    "tags": []
   },
   "outputs": [
    {
     "name": "stdout",
     "output_type": "stream",
     "text": [
      "Экономия sparse относительно Int8DType: 25.54%\n",
      "Экономия sparse относительно float32: 62.77%\n"
     ]
    }
   ],
   "source": [
    "print(f'Экономия sparse относительно Int8DType: {(1 - num_bytes_sparse / num_bytes_Int8) * 100:.2f}%')\n",
    "print(f'Экономия sparse относительно float32: {(1 - num_bytes_sparse / num_bytes_float) * 100:.2f}%')"
   ]
  },
  {
   "cell_type": "code",
   "execution_count": 33,
   "metadata": {
    "execution": {
     "iopub.execute_input": "2020-10-23T06:14:27.113523Z",
     "iopub.status.busy": "2020-10-23T06:14:27.112365Z",
     "iopub.status.idle": "2020-10-23T06:14:27.117373Z",
     "shell.execute_reply": "2020-10-23T06:14:27.116697Z"
    },
    "papermill": {
     "duration": 0.079744,
     "end_time": "2020-10-23T06:14:27.117513",
     "exception": false,
     "start_time": "2020-10-23T06:14:27.037769",
     "status": "completed"
    },
    "tags": []
   },
   "outputs": [
    {
     "data": {
      "text/plain": [
       "0.18614179535785436"
      ]
     },
     "execution_count": 33,
     "metadata": {},
     "output_type": "execute_result"
    }
   ],
   "source": [
    "ratings.sparse.density"
   ]
  },
  {
   "cell_type": "markdown",
   "metadata": {
    "papermill": {
     "duration": 0.068845,
     "end_time": "2020-10-23T06:14:27.256328",
     "exception": false,
     "start_time": "2020-10-23T06:14:27.187483",
     "status": "completed"
    },
    "tags": []
   },
   "source": [
    "<a id=\"scipy\"></a>\n",
    "# SciPy.Sparse\n",
    "\n",
    "\n",
    "<a id=\"matrix-types\"></a>\n",
    "## Matrix types\n",
    "\n",
    "[Sparse matrix](https://docs.scipy.org/doc/scipy/reference/sparse.html) - разреженная матрица, которая хранит только известные значения.\n",
    "\n",
    "Виды разреженных матриц в scipy.sparse:\n",
    "* **coo_matrix** - A sparse matrix in COOrdinate format\n",
    "* **csc_matrix** - Compressed Sparse Column matrix\n",
    "* **csr_matrix** - Compressed Sparse Row matrix\n",
    "* **bsr_matrix** - Block Sparse Row matrix\n",
    "* **dia_matrix** - Sparse matrix with DIAgonal storage\n",
    "* **dok_matrix** - Dictionary Of Keys based sparse matrix\n",
    "* **lil_matrix** - Row-based list of lists sparse matrix\n",
    "\n",
    "Их можно разделить на две группы:\n",
    "* Классы для создания матриц\n",
    "  * coo_matrix - тройки (строка, столбец, значение)\n",
    "  * dok_matrix - словарь, где ключ - кортеж из строки и столбца, а значение - это значение :)\n",
    "  * lil_matrix - список из списков, где внутренние списки - это строки\n",
    "* Классы оптимизированные под оптимальное хранение и операции над матрицами\n",
    "  * csr_matrix - сжатое построчное представление\n",
    "  * csc_matrix - сжатое представление по столбцам\n",
    "  * bsr_matrix - как csr_matrix, только хранятся \"плотные блоки\"\n",
    "  * dia_matrix - диагональное представление\n",
    "  \n",
    " \n",
    "На практике чаще всего встречаются coo_matrix, csr_matrix и csc_matrix "
   ]
  },
  {
   "cell_type": "markdown",
   "metadata": {
    "papermill": {
     "duration": 0.06895,
     "end_time": "2020-10-23T06:14:27.394357",
     "exception": false,
     "start_time": "2020-10-23T06:14:27.325407",
     "status": "completed"
    },
    "tags": []
   },
   "source": [
    "### coo_matrix\n",
    "\n"
   ]
  },
  {
   "cell_type": "code",
   "execution_count": 34,
   "metadata": {
    "execution": {
     "iopub.execute_input": "2020-10-23T06:14:27.543202Z",
     "iopub.status.busy": "2020-10-23T06:14:27.542202Z",
     "iopub.status.idle": "2020-10-23T06:14:27.547159Z",
     "shell.execute_reply": "2020-10-23T06:14:27.546547Z"
    },
    "papermill": {
     "duration": 0.084183,
     "end_time": "2020-10-23T06:14:27.547331",
     "exception": false,
     "start_time": "2020-10-23T06:14:27.463148",
     "status": "completed"
    },
    "tags": []
   },
   "outputs": [
    {
     "data": {
      "text/plain": [
       "<5x6 sparse matrix of type '<class 'numpy.float64'>'\n",
       "\twith 6 stored elements in COOrdinate format>"
      ]
     },
     "execution_count": 34,
     "metadata": {},
     "output_type": "execute_result"
    }
   ],
   "source": [
    "rows =   [1,  1, 0,  4,   2, 2]\n",
    "cols =   [0,  1, 0,  5,   3, 3]\n",
    "values = [-2, 7, 19, 1.0, 6, 8]\n",
    "\n",
    "coo = sp.coo_matrix((values, (rows, cols)))\n",
    "coo"
   ]
  },
  {
   "cell_type": "code",
   "execution_count": 35,
   "metadata": {
    "execution": {
     "iopub.execute_input": "2020-10-23T06:14:27.694164Z",
     "iopub.status.busy": "2020-10-23T06:14:27.693235Z",
     "iopub.status.idle": "2020-10-23T06:14:27.698148Z",
     "shell.execute_reply": "2020-10-23T06:14:27.697424Z"
    },
    "papermill": {
     "duration": 0.081702,
     "end_time": "2020-10-23T06:14:27.698289",
     "exception": false,
     "start_time": "2020-10-23T06:14:27.616587",
     "status": "completed"
    },
    "tags": []
   },
   "outputs": [
    {
     "data": {
      "text/plain": [
       "matrix([[19.,  0.,  0.,  0.,  0.,  0.],\n",
       "        [-2.,  7.,  0.,  0.,  0.,  0.],\n",
       "        [ 0.,  0.,  0., 14.,  0.,  0.],\n",
       "        [ 0.,  0.,  0.,  0.,  0.,  0.],\n",
       "        [ 0.,  0.,  0.,  0.,  0.,  1.]])"
      ]
     },
     "execution_count": 35,
     "metadata": {},
     "output_type": "execute_result"
    }
   ],
   "source": [
    "coo.todense()"
   ]
  },
  {
   "cell_type": "code",
   "execution_count": 36,
   "metadata": {
    "execution": {
     "iopub.execute_input": "2020-10-23T06:14:27.844789Z",
     "iopub.status.busy": "2020-10-23T06:14:27.843801Z",
     "iopub.status.idle": "2020-10-23T06:14:27.848273Z",
     "shell.execute_reply": "2020-10-23T06:14:27.848860Z"
    },
    "papermill": {
     "duration": 0.081105,
     "end_time": "2020-10-23T06:14:27.849041",
     "exception": false,
     "start_time": "2020-10-23T06:14:27.767936",
     "status": "completed"
    },
    "tags": []
   },
   "outputs": [
    {
     "data": {
      "text/plain": [
       "(array([1, 1, 0, 4, 2, 2], dtype=int32),\n",
       " array([0, 1, 0, 5, 3, 3], dtype=int32),\n",
       " array([-2.,  7., 19.,  1.,  6.,  8.]))"
      ]
     },
     "execution_count": 36,
     "metadata": {},
     "output_type": "execute_result"
    }
   ],
   "source": [
    "coo.row, coo.col, coo.data"
   ]
  },
  {
   "cell_type": "markdown",
   "metadata": {
    "papermill": {
     "duration": 0.071318,
     "end_time": "2020-10-23T06:14:27.990777",
     "exception": false,
     "start_time": "2020-10-23T06:14:27.919459",
     "status": "completed"
    },
    "tags": []
   },
   "source": [
    "### csr_matrix/csc_matrix"
   ]
  },
  {
   "cell_type": "code",
   "execution_count": 37,
   "metadata": {
    "execution": {
     "iopub.execute_input": "2020-10-23T06:14:28.138056Z",
     "iopub.status.busy": "2020-10-23T06:14:28.136873Z",
     "iopub.status.idle": "2020-10-23T06:14:28.141639Z",
     "shell.execute_reply": "2020-10-23T06:14:28.140903Z"
    },
    "papermill": {
     "duration": 0.080845,
     "end_time": "2020-10-23T06:14:28.141770",
     "exception": false,
     "start_time": "2020-10-23T06:14:28.060925",
     "status": "completed"
    },
    "tags": []
   },
   "outputs": [
    {
     "data": {
      "text/plain": [
       "<5x6 sparse matrix of type '<class 'numpy.float64'>'\n",
       "\twith 5 stored elements in Compressed Sparse Row format>"
      ]
     },
     "execution_count": 37,
     "metadata": {},
     "output_type": "execute_result"
    }
   ],
   "source": [
    "csr = coo.tocsr()\n",
    "csr"
   ]
  },
  {
   "cell_type": "code",
   "execution_count": 38,
   "metadata": {
    "execution": {
     "iopub.execute_input": "2020-10-23T06:14:28.291814Z",
     "iopub.status.busy": "2020-10-23T06:14:28.290693Z",
     "iopub.status.idle": "2020-10-23T06:14:28.294423Z",
     "shell.execute_reply": "2020-10-23T06:14:28.295015Z"
    },
    "papermill": {
     "duration": 0.082339,
     "end_time": "2020-10-23T06:14:28.295176",
     "exception": false,
     "start_time": "2020-10-23T06:14:28.212837",
     "status": "completed"
    },
    "tags": []
   },
   "outputs": [
    {
     "data": {
      "text/plain": [
       "matrix([[19.,  0.,  0.,  0.,  0.,  0.],\n",
       "        [-2.,  7.,  0.,  0.,  0.,  0.],\n",
       "        [ 0.,  0.,  0., 14.,  0.,  0.],\n",
       "        [ 0.,  0.,  0.,  0.,  0.,  0.],\n",
       "        [ 0.,  0.,  0.,  0.,  0.,  1.]])"
      ]
     },
     "execution_count": 38,
     "metadata": {},
     "output_type": "execute_result"
    }
   ],
   "source": [
    "csr.todense()"
   ]
  },
  {
   "cell_type": "code",
   "execution_count": 39,
   "metadata": {
    "execution": {
     "iopub.execute_input": "2020-10-23T06:14:28.446147Z",
     "iopub.status.busy": "2020-10-23T06:14:28.445317Z",
     "iopub.status.idle": "2020-10-23T06:14:28.450048Z",
     "shell.execute_reply": "2020-10-23T06:14:28.449292Z"
    },
    "papermill": {
     "duration": 0.083256,
     "end_time": "2020-10-23T06:14:28.450176",
     "exception": false,
     "start_time": "2020-10-23T06:14:28.366920",
     "status": "completed"
    },
    "tags": []
   },
   "outputs": [
    {
     "data": {
      "text/plain": [
       "(array([0, 1, 3, 4, 4, 5], dtype=int32),\n",
       " array([0, 0, 1, 3, 5], dtype=int32),\n",
       " array([19., -2.,  7., 14.,  1.]))"
      ]
     },
     "execution_count": 39,
     "metadata": {},
     "output_type": "execute_result"
    }
   ],
   "source": [
    "csr.indptr, csr.indices, csr.data"
   ]
  },
  {
   "cell_type": "markdown",
   "metadata": {
    "papermill": {
     "duration": 0.072888,
     "end_time": "2020-10-23T06:14:28.595520",
     "exception": false,
     "start_time": "2020-10-23T06:14:28.522632",
     "status": "completed"
    },
    "tags": []
   },
   "source": [
    "* indptr - указатели, которые рассматриваются парами. Имеют два значения:\n",
    "    * Индекс пары - номер строки \n",
    "    * Значения пары - начало и конец строки в data и indices\n",
    "* indices - номер столбца\n",
    "* data - значение\n",
    "\n",
    "Как это работает:\n",
    "* indptr -> (1, 3) -> 1-ая строка.\n",
    "* 3 - 1 = 2 -> кол-во заполненных значений\n",
    "* indices[1:3] = (0, 1) -> столбцы 2 значений\n",
    "* data[1:3] = (-2, 7) -> сами значения\n",
    "* -2 -> (1, 0)\n",
    "* 7  -> (1, 1)\n",
    "\n"
   ]
  },
  {
   "cell_type": "code",
   "execution_count": 40,
   "metadata": {
    "execution": {
     "iopub.execute_input": "2020-10-23T06:14:28.750095Z",
     "iopub.status.busy": "2020-10-23T06:14:28.749112Z",
     "iopub.status.idle": "2020-10-23T06:14:28.753096Z",
     "shell.execute_reply": "2020-10-23T06:14:28.753647Z"
    },
    "papermill": {
     "duration": 0.08617,
     "end_time": "2020-10-23T06:14:28.753807",
     "exception": false,
     "start_time": "2020-10-23T06:14:28.667637",
     "status": "completed"
    },
    "tags": []
   },
   "outputs": [
    {
     "data": {
      "text/plain": [
       "<5x6 sparse matrix of type '<class 'numpy.float64'>'\n",
       "\twith 5 stored elements in Compressed Sparse Column format>"
      ]
     },
     "execution_count": 40,
     "metadata": {},
     "output_type": "execute_result"
    }
   ],
   "source": [
    "csc = coo.tocsc()\n",
    "csc"
   ]
  },
  {
   "cell_type": "code",
   "execution_count": 41,
   "metadata": {
    "execution": {
     "iopub.execute_input": "2020-10-23T06:14:28.908250Z",
     "iopub.status.busy": "2020-10-23T06:14:28.907338Z",
     "iopub.status.idle": "2020-10-23T06:14:28.912606Z",
     "shell.execute_reply": "2020-10-23T06:14:28.911787Z"
    },
    "papermill": {
     "duration": 0.08554,
     "end_time": "2020-10-23T06:14:28.912747",
     "exception": false,
     "start_time": "2020-10-23T06:14:28.827207",
     "status": "completed"
    },
    "tags": []
   },
   "outputs": [
    {
     "data": {
      "text/plain": [
       "matrix([[19.,  0.,  0.,  0.,  0.,  0.],\n",
       "        [-2.,  7.,  0.,  0.,  0.,  0.],\n",
       "        [ 0.,  0.,  0., 14.,  0.,  0.],\n",
       "        [ 0.,  0.,  0.,  0.,  0.,  0.],\n",
       "        [ 0.,  0.,  0.,  0.,  0.,  1.]])"
      ]
     },
     "execution_count": 41,
     "metadata": {},
     "output_type": "execute_result"
    }
   ],
   "source": [
    "csc.todense()"
   ]
  },
  {
   "cell_type": "code",
   "execution_count": 42,
   "metadata": {
    "execution": {
     "iopub.execute_input": "2020-10-23T06:14:29.069883Z",
     "iopub.status.busy": "2020-10-23T06:14:29.068883Z",
     "iopub.status.idle": "2020-10-23T06:14:29.073086Z",
     "shell.execute_reply": "2020-10-23T06:14:29.073646Z"
    },
    "papermill": {
     "duration": 0.086111,
     "end_time": "2020-10-23T06:14:29.073814",
     "exception": false,
     "start_time": "2020-10-23T06:14:28.987703",
     "status": "completed"
    },
    "tags": []
   },
   "outputs": [
    {
     "data": {
      "text/plain": [
       "(array([0, 2, 3, 3, 4, 4, 5], dtype=int32),\n",
       " array([0, 1, 1, 2, 4], dtype=int32),\n",
       " array([19., -2.,  7., 14.,  1.]))"
      ]
     },
     "execution_count": 42,
     "metadata": {},
     "output_type": "execute_result"
    }
   ],
   "source": [
    "csc.indptr, csc.indices, csc.data"
   ]
  },
  {
   "cell_type": "markdown",
   "metadata": {
    "papermill": {
     "duration": 0.074934,
     "end_time": "2020-10-23T06:14:29.224323",
     "exception": false,
     "start_time": "2020-10-23T06:14:29.149389",
     "status": "completed"
    },
    "tags": []
   },
   "source": [
    "<a id=\"pandas-to-matrix\"></a>\n",
    "## Pandas to matrix\n",
    "\n",
    "Для создания разреженной матрицы из dataframe с взаимодействиям нужно вначале определить соответствия между user/item ID и номерами строк/столбцов.\n",
    "\n",
    "По сути, мы просто должны пронумеровать (начиная с 0) все уникальные ID."
   ]
  },
  {
   "cell_type": "code",
   "execution_count": 43,
   "metadata": {
    "execution": {
     "iopub.execute_input": "2020-10-23T06:14:29.384775Z",
     "iopub.status.busy": "2020-10-23T06:14:29.383908Z",
     "iopub.status.idle": "2020-10-23T06:14:29.388459Z",
     "shell.execute_reply": "2020-10-23T06:14:29.387808Z"
    },
    "papermill": {
     "duration": 0.090392,
     "end_time": "2020-10-23T06:14:29.388596",
     "exception": false,
     "start_time": "2020-10-23T06:14:29.298204",
     "status": "completed"
    },
    "tags": []
   },
   "outputs": [
    {
     "data": {
      "text/html": [
       "<div>\n",
       "<style scoped>\n",
       "    .dataframe tbody tr th:only-of-type {\n",
       "        vertical-align: middle;\n",
       "    }\n",
       "\n",
       "    .dataframe tbody tr th {\n",
       "        vertical-align: top;\n",
       "    }\n",
       "\n",
       "    .dataframe thead th {\n",
       "        text-align: right;\n",
       "    }\n",
       "</style>\n",
       "<table border=\"1\" class=\"dataframe\">\n",
       "  <thead>\n",
       "    <tr style=\"text-align: right;\">\n",
       "      <th></th>\n",
       "      <th>user_id</th>\n",
       "      <th>item_id</th>\n",
       "      <th>progress</th>\n",
       "      <th>rating</th>\n",
       "      <th>start_date</th>\n",
       "    </tr>\n",
       "  </thead>\n",
       "  <tbody>\n",
       "    <tr>\n",
       "      <th>0</th>\n",
       "      <td>126706</td>\n",
       "      <td>14433</td>\n",
       "      <td>80</td>\n",
       "      <td>NaN</td>\n",
       "      <td>2018-01-01</td>\n",
       "    </tr>\n",
       "    <tr>\n",
       "      <th>1</th>\n",
       "      <td>127290</td>\n",
       "      <td>140952</td>\n",
       "      <td>58</td>\n",
       "      <td>NaN</td>\n",
       "      <td>2018-01-01</td>\n",
       "    </tr>\n",
       "    <tr>\n",
       "      <th>2</th>\n",
       "      <td>66991</td>\n",
       "      <td>198453</td>\n",
       "      <td>89</td>\n",
       "      <td>NaN</td>\n",
       "      <td>2018-01-01</td>\n",
       "    </tr>\n",
       "    <tr>\n",
       "      <th>3</th>\n",
       "      <td>46791</td>\n",
       "      <td>83486</td>\n",
       "      <td>23</td>\n",
       "      <td>5.0</td>\n",
       "      <td>2018-01-01</td>\n",
       "    </tr>\n",
       "    <tr>\n",
       "      <th>4</th>\n",
       "      <td>79313</td>\n",
       "      <td>188770</td>\n",
       "      <td>88</td>\n",
       "      <td>5.0</td>\n",
       "      <td>2018-01-01</td>\n",
       "    </tr>\n",
       "  </tbody>\n",
       "</table>\n",
       "</div>"
      ],
      "text/plain": [
       "   user_id  item_id  progress  rating start_date\n",
       "0   126706    14433        80     NaN 2018-01-01\n",
       "1   127290   140952        58     NaN 2018-01-01\n",
       "2    66991   198453        89     NaN 2018-01-01\n",
       "3    46791    83486        23     5.0 2018-01-01\n",
       "4    79313   188770        88     5.0 2018-01-01"
      ]
     },
     "execution_count": 43,
     "metadata": {},
     "output_type": "execute_result"
    }
   ],
   "source": [
    "df.head()"
   ]
  },
  {
   "cell_type": "code",
   "execution_count": 44,
   "metadata": {
    "execution": {
     "iopub.execute_input": "2020-10-23T06:14:29.545886Z",
     "iopub.status.busy": "2020-10-23T06:14:29.544617Z",
     "iopub.status.idle": "2020-10-23T06:14:29.571308Z",
     "shell.execute_reply": "2020-10-23T06:14:29.572057Z"
    },
    "papermill": {
     "duration": 0.108603,
     "end_time": "2020-10-23T06:14:29.572213",
     "exception": false,
     "start_time": "2020-10-23T06:14:29.463610",
     "status": "completed"
    },
    "tags": []
   },
   "outputs": [
    {
     "name": "stdout",
     "output_type": "stream",
     "text": [
      "<class 'pandas.core.frame.DataFrame'>\n",
      "RangeIndex: 1532998 entries, 0 to 1532997\n",
      "Data columns (total 5 columns):\n",
      " #   Column      Non-Null Count    Dtype         \n",
      "---  ------      --------------    -----         \n",
      " 0   user_id     1532998 non-null  int64         \n",
      " 1   item_id     1532998 non-null  int64         \n",
      " 2   progress    1532998 non-null  int64         \n",
      " 3   rating      285355 non-null   float64       \n",
      " 4   start_date  1532998 non-null  datetime64[ns]\n",
      "dtypes: datetime64[ns](1), float64(1), int64(3)\n",
      "memory usage: 58.5 MB\n"
     ]
    }
   ],
   "source": [
    "df.info()"
   ]
  },
  {
   "cell_type": "code",
   "execution_count": 45,
   "metadata": {
    "execution": {
     "iopub.execute_input": "2020-10-23T06:14:29.729418Z",
     "iopub.status.busy": "2020-10-23T06:14:29.728165Z",
     "iopub.status.idle": "2020-10-23T06:14:29.794831Z",
     "shell.execute_reply": "2020-10-23T06:14:29.794016Z"
    },
    "papermill": {
     "duration": 0.14746,
     "end_time": "2020-10-23T06:14:29.794998",
     "exception": false,
     "start_time": "2020-10-23T06:14:29.647538",
     "status": "completed"
    },
    "tags": []
   },
   "outputs": [
    {
     "data": {
      "text/plain": [
       "user_id       151600\n",
       "item_id        59599\n",
       "progress         101\n",
       "rating             5\n",
       "start_date       730\n",
       "dtype: int64"
      ]
     },
     "execution_count": 45,
     "metadata": {},
     "output_type": "execute_result"
    }
   ],
   "source": [
    "df.nunique()"
   ]
  },
  {
   "cell_type": "markdown",
   "metadata": {
    "papermill": {
     "duration": 0.07752,
     "end_time": "2020-10-23T06:14:29.948456",
     "exception": false,
     "start_time": "2020-10-23T06:14:29.870936",
     "status": "completed"
    },
    "tags": []
   },
   "source": [
    "* users_mapping - конвертация ID в номер строки\n",
    "* users_inv_mapping - номер строки в ID"
   ]
  },
  {
   "cell_type": "code",
   "execution_count": 46,
   "metadata": {
    "execution": {
     "iopub.execute_input": "2020-10-23T06:14:30.111740Z",
     "iopub.status.busy": "2020-10-23T06:14:30.110838Z",
     "iopub.status.idle": "2020-10-23T06:14:30.195011Z",
     "shell.execute_reply": "2020-10-23T06:14:30.194196Z"
    },
    "papermill": {
     "duration": 0.168323,
     "end_time": "2020-10-23T06:14:30.195140",
     "exception": false,
     "start_time": "2020-10-23T06:14:30.026817",
     "status": "completed"
    },
    "tags": []
   },
   "outputs": [
    {
     "data": {
      "text/plain": [
       "151600"
      ]
     },
     "execution_count": 46,
     "metadata": {},
     "output_type": "execute_result"
    }
   ],
   "source": [
    "users_inv_mapping = dict(enumerate(df['user_id'].unique()))\n",
    "users_mapping = {v: k for k, v in users_inv_mapping.items()}\n",
    "len(users_mapping)"
   ]
  },
  {
   "cell_type": "code",
   "execution_count": 47,
   "metadata": {
    "execution": {
     "iopub.execute_input": "2020-10-23T06:14:30.357393Z",
     "iopub.status.busy": "2020-10-23T06:14:30.356013Z",
     "iopub.status.idle": "2020-10-23T06:14:30.361597Z",
     "shell.execute_reply": "2020-10-23T06:14:30.360797Z"
    },
    "papermill": {
     "duration": 0.090007,
     "end_time": "2020-10-23T06:14:30.361728",
     "exception": false,
     "start_time": "2020-10-23T06:14:30.271721",
     "status": "completed"
    },
    "tags": []
   },
   "outputs": [
    {
     "data": {
      "text/plain": [
       "(0, 126706)"
      ]
     },
     "execution_count": 47,
     "metadata": {},
     "output_type": "execute_result"
    }
   ],
   "source": [
    "users_mapping[126706], users_inv_mapping[0]"
   ]
  },
  {
   "cell_type": "code",
   "execution_count": 48,
   "metadata": {
    "execution": {
     "iopub.execute_input": "2020-10-23T06:14:30.525016Z",
     "iopub.status.busy": "2020-10-23T06:14:30.523760Z",
     "iopub.status.idle": "2020-10-23T06:14:30.574690Z",
     "shell.execute_reply": "2020-10-23T06:14:30.573877Z"
    },
    "papermill": {
     "duration": 0.135213,
     "end_time": "2020-10-23T06:14:30.574822",
     "exception": false,
     "start_time": "2020-10-23T06:14:30.439609",
     "status": "completed"
    },
    "tags": []
   },
   "outputs": [
    {
     "data": {
      "text/plain": [
       "59599"
      ]
     },
     "execution_count": 48,
     "metadata": {},
     "output_type": "execute_result"
    }
   ],
   "source": [
    "items_inv_mapping = dict(enumerate(df['item_id'].unique()))\n",
    "items_mapping = {v: k for k, v in items_inv_mapping.items()}\n",
    "len(items_mapping)"
   ]
  },
  {
   "cell_type": "code",
   "execution_count": 49,
   "metadata": {
    "execution": {
     "iopub.execute_input": "2020-10-23T06:14:30.737421Z",
     "iopub.status.busy": "2020-10-23T06:14:30.736207Z",
     "iopub.status.idle": "2020-10-23T06:14:30.741498Z",
     "shell.execute_reply": "2020-10-23T06:14:30.740808Z"
    },
    "papermill": {
     "duration": 0.08838,
     "end_time": "2020-10-23T06:14:30.741637",
     "exception": false,
     "start_time": "2020-10-23T06:14:30.653257",
     "status": "completed"
    },
    "tags": []
   },
   "outputs": [
    {
     "data": {
      "text/plain": [
       "(0, 14433)"
      ]
     },
     "execution_count": 49,
     "metadata": {},
     "output_type": "execute_result"
    }
   ],
   "source": [
    "items_mapping[14433], items_inv_mapping[0]"
   ]
  },
  {
   "cell_type": "markdown",
   "metadata": {
    "papermill": {
     "duration": 0.080362,
     "end_time": "2020-10-23T06:14:30.900826",
     "exception": false,
     "start_time": "2020-10-23T06:14:30.820464",
     "status": "completed"
    },
    "tags": []
   },
   "source": [
    "Имея данные отображения в виде словарей, мы теперь можем легко конвертировать наши столбцы user_id и item_id в массивы строк и столбцов и закинуть их в coo_matrix"
   ]
  },
  {
   "cell_type": "code",
   "execution_count": 50,
   "metadata": {
    "execution": {
     "iopub.execute_input": "2020-10-23T06:14:31.066835Z",
     "iopub.status.busy": "2020-10-23T06:14:31.066084Z",
     "iopub.status.idle": "2020-10-23T06:14:35.134289Z",
     "shell.execute_reply": "2020-10-23T06:14:35.133640Z"
    },
    "papermill": {
     "duration": 4.153254,
     "end_time": "2020-10-23T06:14:35.134429",
     "exception": false,
     "start_time": "2020-10-23T06:14:30.981175",
     "status": "completed"
    },
    "tags": []
   },
   "outputs": [
    {
     "data": {
      "text/plain": [
       "(0, 0)"
      ]
     },
     "execution_count": 50,
     "metadata": {},
     "output_type": "execute_result"
    }
   ],
   "source": [
    "rows = df['user_id'].map(users_mapping.get)\n",
    "cols = df['item_id'].map(items_mapping.get)\n",
    "\n",
    "rows.isna().sum(), cols.isna().sum()"
   ]
  },
  {
   "cell_type": "markdown",
   "metadata": {
    "papermill": {
     "duration": 0.078562,
     "end_time": "2020-10-23T06:14:35.292437",
     "exception": false,
     "start_time": "2020-10-23T06:14:35.213875",
     "status": "completed"
    },
    "tags": []
   },
   "source": [
    "Заполняем единицей (аля implicit feedback)"
   ]
  },
  {
   "cell_type": "code",
   "execution_count": 51,
   "metadata": {
    "execution": {
     "iopub.execute_input": "2020-10-23T06:14:35.457390Z",
     "iopub.status.busy": "2020-10-23T06:14:35.456608Z",
     "iopub.status.idle": "2020-10-23T06:14:35.476090Z",
     "shell.execute_reply": "2020-10-23T06:14:35.475319Z"
    },
    "papermill": {
     "duration": 0.104591,
     "end_time": "2020-10-23T06:14:35.476239",
     "exception": false,
     "start_time": "2020-10-23T06:14:35.371648",
     "status": "completed"
    },
    "tags": []
   },
   "outputs": [
    {
     "data": {
      "text/plain": [
       "<151600x59599 sparse matrix of type '<class 'numpy.int8'>'\n",
       "\twith 1532998 stored elements in COOrdinate format>"
      ]
     },
     "execution_count": 51,
     "metadata": {},
     "output_type": "execute_result"
    }
   ],
   "source": [
    "coo = sp.coo_matrix((\n",
    "    np.ones(df.shape[0], dtype=np.int8),\n",
    "    (rows, cols)\n",
    "))\n",
    "coo"
   ]
  },
  {
   "cell_type": "code",
   "execution_count": 52,
   "metadata": {
    "execution": {
     "iopub.execute_input": "2020-10-23T06:14:35.647819Z",
     "iopub.status.busy": "2020-10-23T06:14:35.646693Z",
     "iopub.status.idle": "2020-10-23T06:14:35.652097Z",
     "shell.execute_reply": "2020-10-23T06:14:35.651266Z"
    },
    "papermill": {
     "duration": 0.091826,
     "end_time": "2020-10-23T06:14:35.652251",
     "exception": false,
     "start_time": "2020-10-23T06:14:35.560425",
     "status": "completed"
    },
    "tags": []
   },
   "outputs": [
    {
     "data": {
      "text/plain": [
       "'13.7970 Mb'"
      ]
     },
     "execution_count": 52,
     "metadata": {},
     "output_type": "execute_result"
    }
   ],
   "source": [
    "num_bytes_format(coo.data.nbytes + coo.row.nbytes + coo.col.nbytes)"
   ]
  },
  {
   "cell_type": "markdown",
   "metadata": {
    "papermill": {
     "duration": 0.080805,
     "end_time": "2020-10-23T06:14:35.814411",
     "exception": false,
     "start_time": "2020-10-23T06:14:35.733606",
     "status": "completed"
    },
    "tags": []
   },
   "source": [
    "Или значением из dataframe. Придумаем страшную формулу для взвешивания каждого взаимодействия на основе оценки и проценту прочитанного."
   ]
  },
  {
   "cell_type": "code",
   "execution_count": 53,
   "metadata": {
    "execution": {
     "iopub.execute_input": "2020-10-23T06:14:35.987019Z",
     "iopub.status.busy": "2020-10-23T06:14:35.986211Z",
     "iopub.status.idle": "2020-10-23T06:14:36.047252Z",
     "shell.execute_reply": "2020-10-23T06:14:36.046537Z"
    },
    "papermill": {
     "duration": 0.151673,
     "end_time": "2020-10-23T06:14:36.047390",
     "exception": false,
     "start_time": "2020-10-23T06:14:35.895717",
     "status": "completed"
    },
    "tags": []
   },
   "outputs": [],
   "source": [
    "df['weight'] = ((df['progress'] + 1) / 101) * (2 ** df['rating'])\n",
    "df['weight'] = df['weight'].astype(np.float32)"
   ]
  },
  {
   "cell_type": "code",
   "execution_count": 54,
   "metadata": {
    "execution": {
     "iopub.execute_input": "2020-10-23T06:14:36.216512Z",
     "iopub.status.busy": "2020-10-23T06:14:36.215584Z",
     "iopub.status.idle": "2020-10-23T06:14:36.564138Z",
     "shell.execute_reply": "2020-10-23T06:14:36.564796Z"
    },
    "papermill": {
     "duration": 0.436907,
     "end_time": "2020-10-23T06:14:36.564955",
     "exception": false,
     "start_time": "2020-10-23T06:14:36.128048",
     "status": "completed"
    },
    "tags": []
   },
   "outputs": [
    {
     "data": {
      "image/png": "[encoded data removed]",
      "text/plain": [
       "<Figure size 432x288 with 1 Axes>"
      ]
     },
     "metadata": {
      "needs_background": "light"
     },
     "output_type": "display_data"
    }
   ],
   "source": [
    "ax = df['weight'].plot.hist()"
   ]
  },
  {
   "cell_type": "code",
   "execution_count": 55,
   "metadata": {
    "execution": {
     "iopub.execute_input": "2020-10-23T06:14:36.734985Z",
     "iopub.status.busy": "2020-10-23T06:14:36.733703Z",
     "iopub.status.idle": "2020-10-23T06:14:36.753659Z",
     "shell.execute_reply": "2020-10-23T06:14:36.754236Z"
    },
    "papermill": {
     "duration": 0.108021,
     "end_time": "2020-10-23T06:14:36.754407",
     "exception": false,
     "start_time": "2020-10-23T06:14:36.646386",
     "status": "completed"
    },
    "tags": []
   },
   "outputs": [
    {
     "data": {
      "text/plain": [
       "<151600x59599 sparse matrix of type '<class 'numpy.float32'>'\n",
       "\twith 1532998 stored elements in COOrdinate format>"
      ]
     },
     "execution_count": 55,
     "metadata": {},
     "output_type": "execute_result"
    }
   ],
   "source": [
    "coo = sp.coo_matrix((\n",
    "    df['weight'],\n",
    "    (rows, cols)\n",
    "))\n",
    "coo"
   ]
  },
  {
   "cell_type": "code",
   "execution_count": 56,
   "metadata": {
    "execution": {
     "iopub.execute_input": "2020-10-23T06:14:36.927258Z",
     "iopub.status.busy": "2020-10-23T06:14:36.926307Z",
     "iopub.status.idle": "2020-10-23T06:14:36.930738Z",
     "shell.execute_reply": "2020-10-23T06:14:36.930099Z"
    },
    "papermill": {
     "duration": 0.094089,
     "end_time": "2020-10-23T06:14:36.930876",
     "exception": false,
     "start_time": "2020-10-23T06:14:36.836787",
     "status": "completed"
    },
    "tags": []
   },
   "outputs": [
    {
     "data": {
      "text/plain": [
       "'18.3960 Mb'"
      ]
     },
     "execution_count": 56,
     "metadata": {},
     "output_type": "execute_result"
    }
   ],
   "source": [
    "num_bytes_format(coo.data.nbytes + coo.row.nbytes + coo.col.nbytes)"
   ]
  },
  {
   "cell_type": "markdown",
   "metadata": {
    "papermill": {
     "duration": 0.082889,
     "end_time": "2020-10-23T06:14:37.105785",
     "exception": false,
     "start_time": "2020-10-23T06:14:37.022896",
     "status": "completed"
    },
    "tags": []
   },
   "source": [
    "<a id=\"links\"></a>\n",
    "# Links\n",
    "* https://medium.com/@aakashgoel12/pandas-optimize-memory-and-speed-operation-17d8a66c8be4 - отличный гайд по эффективному использованию Pandas\n",
    "* https://matteding.github.io/2019/04/25/sparse-matrices/ - шикарные визуализации разреженных матриц\n",
    "* https://rushter.com/blog/scipy-sparse-matrices/ - еще один хороший разбор разреженных матриц"
   ]
  }
 ],
 "metadata": {
  "kernelspec": {
   "display_name": "Python 3",
   "language": "python",
   "name": "python3"
  },
  "language_info": {
   "codemirror_mode": {
    "name": "ipython",
    "version": 3
   },
   "file_extension": ".py",
   "mimetype": "text/x-python",
   "name": "python",
   "nbconvert_exporter": "python",
   "pygments_lexer": "ipython3",
   "version": "3.7.6"
  },
  "papermill": {
   "duration": 32.882932,
   "end_time": "2020-10-23T06:14:37.301089",
   "environment_variables": {},
   "exception": null,
   "input_path": "__notebook__.ipynb",
   "output_path": "__notebook__.ipynb",
   "parameters": {},
   "start_time": "2020-10-23T06:14:04.418157",
   "version": "2.1.0"
  }
 },
 "nbformat": 4,
 "nbformat_minor": 4
}
